{
  "nbformat": 4,
  "nbformat_minor": 0,
  "metadata": {
    "colab": {
      "name": "3_dataviz.ipynb",
      "provenance": [],
      "collapsed_sections": [],
      "include_colab_link": true
    },
    "kernelspec": {
      "name": "python3",
      "display_name": "Python 3"
    },
    "language_info": {
      "name": "python"
    }
  },
  "cells": [
    {
      "cell_type": "markdown",
      "metadata": {
        "id": "view-in-github",
        "colab_type": "text"
      },
      "source": [
        "<a href=\"https://colab.research.google.com/github/datactivist/scpo-data-science-bootcamp/blob/main/notebooks/3_dataviz.ipynb\" target=\"_parent\"><img src=\"https://colab.research.google.com/assets/colab-badge.svg\" alt=\"Open In Colab\"/></a>"
      ]
    },
    {
      "cell_type": "markdown",
      "metadata": {
        "id": "By5VLWuACmq-"
      },
      "source": [
        "# Data visualization"
      ]
    },
    {
      "cell_type": "markdown",
      "metadata": {
        "id": "UC3WJ5wGW7pw"
      },
      "source": [
        "In this notebook, we will see how to build some data visualizations for our OpenFoodFacts dataset."
      ]
    },
    {
      "cell_type": "markdown",
      "source": [
        "## Accessing the data"
      ],
      "metadata": {
        "id": "k4xTSk3xYud7"
      }
    },
    {
      "cell_type": "markdown",
      "source": [
        "You need two files (csv and txt) that are on the Google Drive of my Sciences Po account :\n",
        "\n",
        "* [data file (csv)](https://drive.google.com/file/d/14Pyz3Wb-FGs_9H-e7K-4Ug2X31N81Amv/view?usp=sharing),\n",
        "* [metadata file (txt)](https://drive.google.com/file/d/1EUBD1btT8k4PS073WLUqGm_UucUl4n3P/view?usp=sharing) (column types, so that pandas does not have to guess them).\n",
        "\n",
        "For **each of these 2 files**:\n",
        "1. Open the link\n",
        "2. Click on the \"Add shortcut to Drive\" button\n",
        "<center>\n",
        "<img src=\"https://github.com/datactivist/scpo-data-science-bootcamp/raw/main/notebooks/img/drive-1.png\" width=400>\n",
        "</center>\n",
        "3. In the menu, click on \"My Drive\"\n",
        "<center>\n",
        "<img src=\"https://github.com/datactivist/scpo-data-science-bootcamp/raw/main/notebooks/img/drive-2.png\" width=400>\n",
        "</center>\n",
        "4. Click on \"Add shortcut here\"\n",
        "<center>\n",
        "<img src=\"https://github.com/datactivist/scpo-data-science-bootcamp/raw/main/notebooks/img/drive-3.png\" width=400>\n",
        "</center>\n",
        "\n",
        "This will add shortcuts, in your Sciences Po (Google) drive, to the files stored on Mathieu's Sciences Po (Google) Drive."
      ],
      "metadata": {
        "id": "jMJEXJrdYqE7"
      }
    },
    {
      "cell_type": "markdown",
      "source": [
        "Then you need to authorize Colab to access files (here shortcuts) on your Drive.\n",
        "\n",
        "Execute this next cell, a pop-up will appear asking you to select your Sciences Po (Google) account, then asking you to authorize access."
      ],
      "metadata": {
        "id": "Sjrxwz9ZY5wi"
      }
    },
    {
      "cell_type": "code",
      "source": [
        "# enable Colab to access files (here shortcuts) on your Drive\n",
        "from google.colab import drive\n",
        "drive.mount('/content/drive')"
      ],
      "metadata": {
        "id": "rReAVKEuY_Cf"
      },
      "execution_count": null,
      "outputs": []
    },
    {
      "cell_type": "markdown",
      "source": [
        "The files can now be accessed from the shortcuts on your drive."
      ],
      "metadata": {
        "id": "cSDehdxCZB-r"
      }
    },
    {
      "cell_type": "markdown",
      "source": [
        "## Loading the data"
      ],
      "metadata": {
        "id": "tDRUrMYTZOD9"
      }
    },
    {
      "cell_type": "code",
      "source": [
        "# (just execute this cell)\n",
        "\n",
        "# import pandas\n",
        "import pandas as pd\n",
        "# we need this data type for ordered categoricals\n",
        "from pandas.api.types import CategoricalDtype\n",
        "# lift some limitations in column width, so more cell values are displayed in full\n",
        "pd.set_option('display.max_colwidth', 110)\n",
        "\n",
        "# dataset and data type of the columns\n",
        "OFF_FILE = 'drive/MyDrive/off_products_subset.csv'\n",
        "DTYPE_FILE = 'drive/MyDrive/dtype.txt'\n",
        "\n",
        "# custom function to load the Open Food Facts subset\n",
        "def load_off():\n",
        "  \"\"\"Load the filtered subset of OpenFoodFacts.\n",
        "  \n",
        "  Returns\n",
        "  -------\n",
        "  df : pd.DataFrame\n",
        "    (A filtered subset of the) OpenFoodFacts tabular dataset.\n",
        "  \"\"\"\n",
        "  # load the data types for the columns\n",
        "  with open(DTYPE_FILE) as f:\n",
        "    dtype = eval(f.read())\n",
        "\n",
        "  # load the dataset\n",
        "  df = pd.read_csv(OFF_FILE, sep='\\t', dtype=dtype)\n",
        "  # convert columns with datetimes\n",
        "  for col_name in ('created_datetime', 'last_modified_datetime'):\n",
        "    # ISO 8601 dates\n",
        "    df[col_name] = pd.to_datetime(df[col_name])\n",
        "  #\n",
        "  return df\n",
        "\n",
        "# load the dataset\n",
        "df = load_off()"
      ],
      "metadata": {
        "id": "4c9my9iPZP4n"
      },
      "execution_count": null,
      "outputs": []
    },
    {
      "cell_type": "markdown",
      "metadata": {
        "id": "jFEKHlDEYpWy"
      },
      "source": [
        "## Simple visualizations on OpenFoodFacts"
      ]
    },
    {
      "cell_type": "markdown",
      "metadata": {
        "id": "w74HiUGYXKE5"
      },
      "source": [
        "### Seaborn\n",
        "\n",
        "[Seaborn](https://seaborn.pydata.org/) is a data visualization library for Python.\n",
        "It provides a simpler, higher-level interface to the powerful but cumbersome library [matplotlib](https://matplotlib.org/), and enables to quickly build readable dataviz."
      ]
    },
    {
      "cell_type": "markdown",
      "metadata": {
        "id": "0qvJLBLhYHZL"
      },
      "source": [
        "We need to import the seaborn library, whose conventional alias is `sns`."
      ]
    },
    {
      "cell_type": "code",
      "metadata": {
        "id": "S8w5DMPorOp6"
      },
      "source": [
        "import seaborn as sns"
      ],
      "execution_count": null,
      "outputs": []
    },
    {
      "cell_type": "markdown",
      "metadata": {
        "id": "2-TTGl8xDxmt"
      },
      "source": [
        "## Nutri-Score"
      ]
    },
    {
      "cell_type": "markdown",
      "metadata": {
        "id": "FB1LR8ryIcMm"
      },
      "source": [
        "Nutri-Score grades are an ordered categorical variable, with 5 values ranging from A (healthy) to E (unhealthy).\n",
        "\n",
        "These grades are based on an integer score, ranging from -15 (A) to +40 (E).\n",
        "This score is computed as a sum of positive and negative points attributed based on nutritional values and ingredients, with separate scales for big categories of products."
      ]
    },
    {
      "cell_type": "markdown",
      "metadata": {
        "id": "muQ9mTGyEc5p"
      },
      "source": [
        "In this section, we will build graphs to visualize Nutri-Score grades and scores.\n",
        "\n",
        "To facilitate their reading, we will use the color palette of the Nutri-Score grades."
      ]
    },
    {
      "cell_type": "code",
      "metadata": {
        "id": "R1A4auL-D01Q"
      },
      "source": [
        "# color palette of the Nutri-Score grades\n",
        "colors_nutriscore = {\n",
        "    'a': \"#058244\",\n",
        "    'b': \"#85BD39\",\n",
        "    'c': \"#FDCD2A\",\n",
        "    'd': \"#ED831E\",\n",
        "    'e': \"#E53F1A\",\n",
        "}"
      ],
      "execution_count": null,
      "outputs": []
    },
    {
      "cell_type": "markdown",
      "metadata": {
        "id": "GOX4gVxWHCLu"
      },
      "source": [
        "### Visualizing categorical data : Nutri-Score grade"
      ]
    },
    {
      "cell_type": "markdown",
      "metadata": {
        "id": "RM4vPlrKEt8R"
      },
      "source": [
        "Seaborn enables to visualize categorical variables in a [variety of manners](https://seaborn.pydata.org/tutorial/categorical.html#plotting-with-categorical-data).\n",
        "\n",
        "These visualizations can be built by calling the high-level function `catplot` and specifying, among other arguments, the type of categorical plot we want.\n",
        "\n",
        "Let us try to answer the following vague question : \"How healthy are the products sold in supermarkets ?\".\n",
        "\n",
        "This can translate to this more precise question : \"How many products of each Nutri-Score grade does the dataset contain?\".\n",
        "\n",
        "We can answer the latter question by building a plot that represents, for each Nutri-Score grade, the total number of products in the dataset.\n",
        "This corresponds in seaborn, and in the documentation page linked above, to a **count plot**."
      ]
    },
    {
      "cell_type": "markdown",
      "metadata": {
        "id": "GnJYnQr9QraJ"
      },
      "source": [
        "Because a count plot is a special kind of categorical plot, we will call the high-level function [catplot](https://seaborn.pydata.org/generated/seaborn.catplot.html) with the arguments describing that we want to build,\n",
        "* a count plot : `kind='count'`,\n",
        "* on our dataset : `data=df`,\n",
        "* with one count bar for each Nutri-Score grade : `x=nutriscore_grade`,\n",
        "* where each bar is colored following the Nutri-Score color palette : `palette=colors_nutriscore`."
      ]
    },
    {
      "cell_type": "code",
      "metadata": {
        "id": "WnWk2fegxqBq"
      },
      "source": [
        "# (just execute this cell)\n",
        "sns.catplot(data=df, x='nutriscore_grade',\n",
        "            kind='count', palette=colors_nutriscore)"
      ],
      "execution_count": null,
      "outputs": []
    },
    {
      "cell_type": "markdown",
      "metadata": {
        "id": "LIMxqGdkQ0VF"
      },
      "source": [
        "This is the overall distribution of Nutri-Score grades on products across brands, but maybe some brands produce healthier products than others.\n",
        "\n",
        "To quickly explore this hypothesis, let us look at the 9 most frequent brands in the dataset :\n",
        "\n",
        "* count brands using the [value_counts](https://pandas.pydata.org/docs/reference/api/pandas.Series.value_counts.html) method, with the result sorted in descending order,\n",
        "* slice this result to keep the first 9,\n",
        "* store the result in a variable named `top_brands`."
      ]
    },
    {
      "cell_type": "code",
      "metadata": {
        "id": "TcEGIlNZvrL9"
      },
      "source": [
        ""
      ],
      "execution_count": null,
      "outputs": []
    },
    {
      "cell_type": "markdown",
      "metadata": {
        "id": "ODNI-tOdbTZd"
      },
      "source": [
        "To retrieve the names of these 9 brands, rather than their counts, we need to use the [keys](https://pandas.pydata.org/docs/reference/api/pandas.Series.keys.html) method. Store the result in a variable named `top_brands_names`."
      ]
    },
    {
      "cell_type": "code",
      "metadata": {
        "id": "DCwz_tuUbjeC"
      },
      "source": [
        ""
      ],
      "execution_count": null,
      "outputs": []
    },
    {
      "cell_type": "markdown",
      "metadata": {
        "id": "a4us5jMubFgg"
      },
      "source": [
        "Filter the products from these top 9 brands using [isin](https://pandas.pydata.org/docs/reference/api/pandas.Series.isin.html) and store this subset in a new variable `df_top_brands`."
      ]
    },
    {
      "cell_type": "code",
      "metadata": {
        "id": "YNuSIRRUwO27"
      },
      "source": [
        ""
      ],
      "execution_count": null,
      "outputs": []
    },
    {
      "cell_type": "markdown",
      "metadata": {
        "id": "85e2sdincFny"
      },
      "source": [
        "You should get 38314 entries."
      ]
    },
    {
      "cell_type": "markdown",
      "metadata": {
        "id": "EAs47hGsabW-"
      },
      "source": [
        "Now, we want to plot the distribution of Nutri-Score grades separately for each of these top brands."
      ]
    },
    {
      "cell_type": "markdown",
      "metadata": {
        "id": "ke8yOiRbccnn"
      },
      "source": [
        "This will be very similar to the previous graph, except we will make use of catplot's ability to display [multiple facets](https://seaborn.pydata.org/tutorial/categorical.html#showing-multiple-relationships-with-facets).\n",
        "\n",
        "Changes are :\n",
        "\n",
        "* we only want to plot products from the top brands (`data=df_top_brands`),\n",
        "* we want to build a distinct plot for each brand (`col=brands`),\n",
        "* and display 3 plots in a row, so it fits our screen (`col_wrap=3`)."
      ]
    },
    {
      "cell_type": "code",
      "metadata": {
        "id": "8FWkpAP46Dy-"
      },
      "source": [
        ""
      ],
      "execution_count": null,
      "outputs": []
    },
    {
      "cell_type": "markdown",
      "metadata": {
        "id": "_FM8SQwx8Z5F"
      },
      "source": [
        "The distribution among Nutri-Score categories seems quite similar across brands, but does this hold true on the underlying Nutri-Score *scores* ?"
      ]
    },
    {
      "cell_type": "markdown",
      "metadata": {
        "id": "T1QirTaSRwcQ"
      },
      "source": [
        "### Visualizing numerical data : Nutri-Score score\n",
        "\n",
        "Nutri-Score scores range from -15 to 40, with [grades defined by thresholds (p. 32)]((https://www.santepubliquefrance.fr/media/files/02-determinants-de-sante/nutrition-et-activite-physique/nutri-score/qr-scientifique-technique-en).\n",
        "\n",
        "For solid foods:\n",
        "\n",
        "* A: -15 to -1\n",
        "* B: 0 to 2\n",
        "* C: 3 to 10\n",
        "* D: 11 to 18\n",
        "* E: 19 to 40\n",
        "\n",
        "For beverages:\n",
        "* A: waters\n",
        "* B: -15 to 1\n",
        "* C: 2 to 5\n",
        "* D: 6 to 9\n",
        "* E: 10 to 40\n",
        "\n",
        "Visualizing the Nutri-Score scores, rather than the Nutri-Score grades, should provide a more accurate, finer-grained view of the healthiness of products according to the Nutri-Score methodology."
      ]
    },
    {
      "cell_type": "markdown",
      "metadata": {
        "id": "88bj5zzdd8xM"
      },
      "source": [
        "Because Nutri-Score scores correspond to a [quantitative variable](https://en.wikipedia.org/wiki/Quantification_(science)), we can plot the distribution of their values using [displot](https://seaborn.pydata.org/tutorial/distributions.html#plotting-univariate-histograms)."
      ]
    },
    {
      "cell_type": "markdown",
      "metadata": {
        "id": "FeF7RHQmfNFp"
      },
      "source": [
        "By default, `displot` builds a histogram (`kind='hist'`).\n",
        "Because we know we only have integer values, we can additionally specify we want the bins of the histogram to correspond to [discrete values](https://en.wikipedia.org/wiki/Continuous_or_discrete_variable#Discrete_variable) (`discrete=True`). Otherwise, the bin sizes estimated by seaborn result in gaps that hinder readibility. "
      ]
    },
    {
      "cell_type": "markdown",
      "metadata": {
        "id": "yEGG6gHwfr8U"
      },
      "source": [
        "First, let us build the distribution graph for the entire dataset."
      ]
    },
    {
      "cell_type": "code",
      "metadata": {
        "id": "EEZtSgNcfrWM"
      },
      "source": [
        ""
      ],
      "execution_count": null,
      "outputs": []
    },
    {
      "cell_type": "markdown",
      "metadata": {
        "id": "txPuLSj_uy-7"
      },
      "source": [
        "This graph looks almost good, but too tight because it tries to fit many bars in a limited width.\n",
        "We can modify the size of the figure of the displot by using parameters `height` (in inches) and `aspect`, where the figure width will be `height * aspect` (inches).\n",
        "The default values are [`height=5` and `aspect=1`](https://seaborn.pydata.org/generated/seaborn.displot.html#seaborn.displot), so we will increase the `aspect` (eg. to `1.5`)."
      ]
    },
    {
      "cell_type": "code",
      "metadata": {
        "id": "r0l7eL32wCT5"
      },
      "source": [
        ""
      ],
      "execution_count": null,
      "outputs": []
    },
    {
      "cell_type": "markdown",
      "metadata": {
        "id": "850bc5bHwLak"
      },
      "source": [
        "The readability of the graphd is increased, as expected."
      ]
    },
    {
      "cell_type": "markdown",
      "metadata": {
        "id": "nDcvnsgif9iq"
      },
      "source": [
        "Then let us produce the same type of distribution graph, but for each of the top brands we selected earlier.\n",
        "Remember to change the data and add the extra arguments that tell seaborn what distinct plots it should build and what their layout should be."
      ]
    },
    {
      "cell_type": "code",
      "metadata": {
        "id": "ZKvCpLpW_uI3"
      },
      "source": [
        ""
      ],
      "execution_count": null,
      "outputs": []
    },
    {
      "cell_type": "markdown",
      "metadata": {
        "id": "to-9oLDpgYJH"
      },
      "source": [
        "### Visualizing numerical and categorical data : Nutri-Score score and grade\n",
        "\n",
        "This is all nice but the Nutri-Score score graphs could be more readable if the bars had the nice colors from the Nutri-Score grade graphs.\n",
        "As each Nutri-Score score maps to a Nutri-Score grade, this should be straightforward.\n",
        "`displot` has an argument `hue` that can take a column name (here `'nutriscore_grade'`), and the same `palette` argument as `catplot`."
      ]
    },
    {
      "cell_type": "markdown",
      "metadata": {
        "id": "rsmMmGHRw3qJ"
      },
      "source": [
        "Let us build the distribution plot of Nutri-Score scores, with the colors of the Nutri-Score grades (hence `hue` and `palette`), for the whole dataset."
      ]
    },
    {
      "cell_type": "code",
      "metadata": {
        "id": "mIb3vGtMlQs_"
      },
      "source": [
        ""
      ],
      "execution_count": null,
      "outputs": []
    },
    {
      "cell_type": "markdown",
      "metadata": {
        "id": "otSr9Fp0lfI2"
      },
      "source": [
        "You should notice something weird at the bottom of many bars: It seems as if another, more opaque, bar is superposed.\n",
        "\n",
        "This might indicate that some products with the same Nutri-Score score have different grades."
      ]
    },
    {
      "cell_type": "markdown",
      "metadata": {
        "id": "D1RCcOwRm5Ym"
      },
      "source": [
        "We can modify our distribution plot of Nutri-Score scores with colors for grades, so that bars for different Nutri-Score grades are properly stacked rather than (confusingly) laid over one another.\n",
        "\n",
        "This is done with the parameter `multiple='stack'` (the default value for a [histogram](https://seaborn.pydata.org/generated/seaborn.histplot.html#seaborn.histplot) is `multiple='layer'`)."
      ]
    },
    {
      "cell_type": "code",
      "metadata": {
        "id": "yBLrvzmxkf4r"
      },
      "source": [
        ""
      ],
      "execution_count": null,
      "outputs": []
    },
    {
      "cell_type": "markdown",
      "source": [
        "**Exercise** Build the distribution plot of Nutri-Score scores, with the colors of the Nutri-Score grades, for all products (foods and beverages together) *from the top brands* (defined above).\n",
        "\n",
        "> **HINT**: Remember to specify `hue`, `palette` and `stack`."
      ],
      "metadata": {
        "id": "qXLyUS40yMbk"
      }
    },
    {
      "cell_type": "code",
      "metadata": {
        "id": "RgUgPAKg8ZVY"
      },
      "source": [
        ""
      ],
      "execution_count": null,
      "outputs": []
    },
    {
      "cell_type": "markdown",
      "source": [
        "### Using data visualization to assess data quality and revise assumptions\n",
        "\n",
        "Now that bars are properly stacked, it is clear that some products with the same Nutri-Score score have different Nutri-Score grades.\n",
        "This discrepancy has an obvious explanation: The thresholds between Nutri-Score grades are different for solid foods and beverages."
      ],
      "metadata": {
        "id": "MucLYe8YfSfj"
      }
    },
    {
      "cell_type": "markdown",
      "source": [
        "We can test our hypothesis by selecting the products that are beverages: We define beverages as the entries whose field `categories_en` contains the string \"Beverages\". Store the result in a variable called `df_bev`."
      ],
      "metadata": {
        "id": "-kied_AqpNq8"
      }
    },
    {
      "cell_type": "code",
      "source": [
        ""
      ],
      "metadata": {
        "id": "-dVXOjnBhdmX"
      },
      "execution_count": null,
      "outputs": []
    },
    {
      "cell_type": "markdown",
      "source": [
        "You should get 52,286 rows."
      ],
      "metadata": {
        "id": "3n6MIM2MoWOO"
      }
    },
    {
      "cell_type": "markdown",
      "source": [
        "We can plot the Nutri-Score scores and grades for the subset of beverages `df_bev`, exactly as we did above for the whole `df`.\n",
        "\n",
        "> **HINT**: Remember to specify `hue`, `palette`, `stack`."
      ],
      "metadata": {
        "id": "B7Jq5_eWp_AV"
      }
    },
    {
      "cell_type": "code",
      "source": [
        ""
      ],
      "metadata": {
        "id": "jp08pjBCqY_t"
      },
      "execution_count": null,
      "outputs": []
    },
    {
      "cell_type": "markdown",
      "source": [
        "This is harder to interpret than we expected.\n",
        "\n",
        "Products with scores of 10 are graded 'a': Are they classified as waters? Is this classification correct, or is the data erroneous?\n",
        "\n",
        "Grade 'b' should not go higher than 1, yet a non-negligible number of products scored 2 are graded 'b'. Could they be solid foods? Have we inadvertently selected non-beverages due to an ill-defined filter?\n",
        "\n",
        "We would need to examine the outliers to know if any or all of these leads are correct.\n"
      ],
      "metadata": {
        "id": "hL2zCD4KrOUW"
      }
    },
    {
      "cell_type": "markdown",
      "source": [
        "In `df_bev`, select products with Nutri-Score score 2 and grade 'b'. Display the result, look at the first few entries."
      ],
      "metadata": {
        "id": "K0A5hjlXouaK"
      }
    },
    {
      "cell_type": "code",
      "source": [
        ""
      ],
      "metadata": {
        "id": "_yytqb4keCkN"
      },
      "execution_count": null,
      "outputs": []
    },
    {
      "cell_type": "markdown",
      "source": [
        "[Foco, coconut milk drink](https://world.openfoodfacts.org/product/0016229919672/foco-coconut-milk-drink) is one of the beverages with Nutri-Score score 2 and grade 'b' that we selected above.\n",
        "\n",
        "The product page on the Open Food Facts website displays the nutrition facts:\n",
        "<center>\n",
        "<img src=\"https://github.com/datactivist/scpo-data-science-bootcamp/raw/main/notebooks/img/off-nutrition-facts.png\" width=400>\n",
        "</center>\n",
        "\n",
        "Two elements should be noted:\n",
        "\n",
        "1. A warning is immediately displayed:\n",
        "> ⚠️ Warning: the amount of fruits, vegetables and nuts is not specified on the label, it was estimated from the list of ingredients: 0\n",
        "\n",
        "2. When you click on \"Details of the calculation of the Nutri-Score\", the content is introduced by this sentence: \"This product is not considered a beverage for the calculation of the Nutri-Score.\"\n",
        "\n",
        "What do these messages really mean?"
      ],
      "metadata": {
        "id": "sdg9aJoUgeNw"
      }
    },
    {
      "cell_type": "markdown",
      "metadata": {
        "id": "-AWOOg9O5RR2"
      },
      "source": [
        "#### Missing data\n",
        "\n",
        "Regarding (1), remember that, while the Nutri-Score grade is displayed on the product, the Nutri-Score score is not.\n",
        "Therefore, OpenFoodFacts re-estimates the Nutri-Score score from the nutritional values and relevant (estimated) proportion of certain ingredients.\n",
        "Certain information is hard to retrieve though, like the proportion of fruits, vegetables and nuts in a product, or not always displayed like its fiber content.\n",
        "\n",
        "As a consequence, the Nutri-Score score in OpenFoodFacts is a best estimate, based on the available information, from the true Nutri-Score score.\n",
        "The information gap between the available information and all the true values required to compute the Nutri-Score score, could explain some of the discrepancy between the true Nutri-Score grade and its expected value based on the (partial) Nutri-Score score."
      ]
    },
    {
      "cell_type": "markdown",
      "source": [
        "We cannot do anything about (1), but this is an important reminder that data can be erroneous, inconsistent, or incomplete. \n",
        "\n",
        "It is extremely important to account for issues in data quality while conducting any data-driven analysis or study."
      ],
      "metadata": {
        "id": "LRHiDX5mnCSS"
      }
    },
    {
      "cell_type": "markdown",
      "source": [
        "#### Modelling assumptions\n",
        "\n",
        "As for (2), let us go back to the [scientific and technical QA](https://www.santepubliquefrance.fr/media/files/02-determinants-de-sante/nutrition-et-activite-physique/nutri-score/qr-scientifique-technique-en) from which we got the thresholds for the Nutri-Score grades.\n",
        "\n",
        "A search on \"milk\" reveals that:\n",
        "- \"[...] milk, drinkable yoghurt, flavoured or chocolate milk beverages containing more than 80% milk, soups and gazpacho, and plant-based drinks are not considered beverages for the purposes of calculating the Nutri-Score\" (p. 8),\n",
        "- coconut products should be treated in specific ways (p. 21-22).\n",
        "\n",
        "<center>\n",
        "<img src=\"https://github.com/datactivist/scpo-data-science-bootcamp/raw/main/notebooks/img/off-clarif-coconut.png\" width=400>\n",
        "</center>\n"
      ],
      "metadata": {
        "id": "x17TOgxXkAUp"
      }
    },
    {
      "cell_type": "markdown",
      "source": [
        "We can account for (2): We would need to refine our filter so that we select all \"Beverages\", but exclude all the categories that correspond to the various exceptions listed in the technical document.\n",
        "This in turn requires to identify the set of categories that capture exactly the set of exceptions."
      ],
      "metadata": {
        "id": "y6PvfzWfxhXw"
      }
    },
    {
      "cell_type": "markdown",
      "source": [
        "Refining filters is an iterative process, of trial and error, where you identify one or more outliers, adjust the filter so that items that do not belong are excluded and items that should belong are included.\n",
        "We will not go any further on this point, because this iterative process is time-consuming, but we hope you understood the gist."
      ],
      "metadata": {
        "id": "MYW5gUsW3MCx"
      }
    },
    {
      "cell_type": "markdown",
      "source": [
        "You can look into this issue after you are done with this notebook, and the project.\n",
        "If you find anything, please let us know !"
      ],
      "metadata": {
        "id": "IVBzhNESsOYk"
      }
    },
    {
      "cell_type": "markdown",
      "metadata": {
        "id": "kxIOd-VskpIH"
      },
      "source": [
        "## Nutri-Score vs Nova\n",
        "\n",
        "The Nutri-Score and [Nova groups](https://world.openfoodfacts.org/nova) capture different aspects of the impact of food products on health.\n",
        "Are they correlated ?"
      ]
    },
    {
      "cell_type": "code",
      "metadata": {
        "id": "l1ZKCLATEi0j"
      },
      "source": [
        "# we will use the color palette for the NOVA groups\n",
        "# couleurs NOVA\n",
        "colors_nova = {\n",
        "    '1': '#00aa00',\n",
        "    '2': '#ffcc00',\n",
        "    '3': '#ff6600',\n",
        "    '4': '#ff0000',\n",
        "}"
      ],
      "execution_count": null,
      "outputs": []
    },
    {
      "cell_type": "markdown",
      "metadata": {
        "id": "QxEXHOxIA55X"
      },
      "source": [
        "### Visualizing two categorical variables\n",
        "\n",
        "We will first plot, for each Nutri-Score grade, the count of products with this Nutri-Score grade and each of the NOVA groups.\n",
        "\n",
        "(Note that we work on the entire dataset `df` again, after our detour through beverages.)\n",
        "\n",
        "> **HINT**: Remember to specify the `hue` and `palette`."
      ]
    },
    {
      "cell_type": "code",
      "metadata": {
        "id": "G_JlR77NlCFN"
      },
      "source": [
        ""
      ],
      "execution_count": null,
      "outputs": []
    },
    {
      "cell_type": "markdown",
      "metadata": {
        "id": "keadTxymDl56"
      },
      "source": [
        "The NOVA group 4 is dominant in all Nutri-Score grades except the healthiest one (group 'a').\n",
        "This is consistent with the fact that, by construction, the Nutri-Score and NOVA groups capture different aspects."
      ]
    },
    {
      "cell_type": "markdown",
      "metadata": {
        "id": "jyB-xqCPGfu5"
      },
      "source": [
        "Now do the plot the other way round : for each NOVA group, plot the number of products with this NOVA group and each of the Nutri-Score grades. Do not forget to use the right color palette."
      ]
    },
    {
      "cell_type": "code",
      "metadata": {
        "id": "MMe-lbZeGhg1"
      },
      "source": [
        ""
      ],
      "execution_count": null,
      "outputs": []
    },
    {
      "cell_type": "markdown",
      "metadata": {
        "id": "1DMpwmqiHAs_"
      },
      "source": [
        "A majority of the products in the NOVA group 1 have the Nutri-Score grade 'a'.\n",
        "Most raw products (NOVA group 'a') are also nutritionally healthy.\n",
        "\n",
        "NOVA group 2 contains very few products, mostly from Nutri-Score grades 'c' and below.\n",
        "\n",
        "The [mode](https://en.wikipedia.org/wiki/Mode_(statistics) of NOVA groups 3 and 4 respectively are Nutri-Score grades 'd' and 'e', but both NOVA groups contain a non-negligible number of products with Nutri-Score 'a'.\n"
      ]
    },
    {
      "cell_type": "markdown",
      "metadata": {
        "id": "HWXhy84kGiH-"
      },
      "source": [
        "### Visualizing numerical and categorical data (again)\n",
        "\n",
        "Let us see if the same is true for Nutri-Score scores versus NOVA groups.\n",
        "\n",
        "> **Hint** : use the same `displot` function as earlier but replace arguments specific to Nutri-Score grades with their equivalent for NOVA groups."
      ]
    },
    {
      "cell_type": "code",
      "metadata": {
        "id": "eVH2NZWMGlSn"
      },
      "source": [
        ""
      ],
      "execution_count": null,
      "outputs": []
    },
    {
      "cell_type": "markdown",
      "source": [
        "The NOVA group 4 is dominant for all Nutri-Score scores greater than or equal to -3.\n",
        "Below this threshold, ie. from -15 to -4 included, the mode is NOVA group 1.\n",
        "\n",
        "This is lower than the threshold between Nutri-Score grades 'a' and 'b': Nutri-Score grade 'a' corresponds to scores between -15 and -2 (included), 'b' to scores between -1 and +3."
      ],
      "metadata": {
        "id": "qq9g8pEByEHH"
      }
    },
    {
      "cell_type": "markdown",
      "source": [
        "All these graphs confirm that Nutri-Score and NOVA are only loosely correlated, because they capture different information.\n",
        "\n",
        "The latest graph alone indicates that Nutri-Score scores enable finer-grained analyses than Nutri-Score grades."
      ],
      "metadata": {
        "id": "74gozgXTBi0_"
      }
    },
    {
      "cell_type": "markdown",
      "source": [
        "**Exercise.** Build a displot that shows:\n",
        "* for each NOVA group,\n",
        "* the histogram distribution of Nutri-Score scores,\n",
        "* with colored stacked bars for the Nutri-Score grades."
      ],
      "metadata": {
        "id": "SIDLI-r0SBTV"
      }
    },
    {
      "cell_type": "markdown",
      "source": [
        "> **HINT**: You need to specify the right `palette`."
      ],
      "metadata": {
        "id": "Hj0fGHRoTVUG"
      }
    },
    {
      "cell_type": "code",
      "source": [
        ""
      ],
      "metadata": {
        "id": "FIeLAPlhyvfS"
      },
      "execution_count": null,
      "outputs": []
    },
    {
      "cell_type": "markdown",
      "source": [
        "The NOVA group 4 contains the highest number of products, across the entire distribution of Nutri-Score scores.\n",
        "\n",
        "The NOVA group 2 contains very few products, mostly with quite high Nutri-Score scores. Does this NOVA group consist of a few categories of products with high homogeneous Nutri-Score scores ? You can explore this NOVA group 2 in more detail to find out !"
      ],
      "metadata": {
        "id": "g3ckKO0aTqCP"
      }
    },
    {
      "cell_type": "markdown",
      "metadata": {
        "id": "HXz8UNk-JD2Q"
      },
      "source": [
        "**Bonus exercise.** Try and come up with a graph built the other way round, ie. a catplot of NOVA groups that displays distributions of Nutri-Score scores."
      ]
    },
    {
      "cell_type": "markdown",
      "source": [
        "> **HINT** The categorical variable (here the NOVA group) can be specified as `x` or `y`. Try both options and keep the one that you find more readable.\n",
        "\n",
        "> **HINT** You could try different kinds of catplot but we have (a) many observations and (b) missing values, so you should use the distribution plots (`box` or `boxen`).\n",
        "\n",
        "> **HINT** Specifying a `palette` will improve the looks of your graph. Use the `palette` that best suits your graph."
      ],
      "metadata": {
        "id": "IFJ6QtqeMQb-"
      }
    },
    {
      "cell_type": "code",
      "source": [
        ""
      ],
      "metadata": {
        "id": "Zh4Jbu2VOG9M"
      },
      "execution_count": null,
      "outputs": []
    },
    {
      "cell_type": "markdown",
      "source": [
        "The general tendency is that the distribution of Nutri-Score scores shifts to the right as the NOVA group increases.\n",
        "\n",
        "The NOVA group '2' is an exception: The distribution of its Nutri-Score scores is \"higher\" than we would have expected."
      ],
      "metadata": {
        "id": "Dyp2ojzMQFGw"
      }
    },
    {
      "cell_type": "markdown",
      "source": [
        "Build a more detailed variant of this graph: Add the Nutri-Score grade as a `hue` variable."
      ],
      "metadata": {
        "id": "PskvGkCmPt1v"
      }
    },
    {
      "cell_type": "markdown",
      "source": [
        "> **HINT** You will need to change the `palette` so that it can apply to the `hue` variable."
      ],
      "metadata": {
        "id": "lqACbEDMRITo"
      }
    },
    {
      "cell_type": "code",
      "source": [
        ""
      ],
      "metadata": {
        "id": "_HU1FgMLEUR0"
      },
      "execution_count": null,
      "outputs": []
    },
    {
      "cell_type": "markdown",
      "metadata": {
        "id": "Ngt8BYS-07Ym"
      },
      "source": [
        "## Eco-Score\n",
        "\n",
        "In January 2021, OpenFoodFacts and a number of actors launched the [Eco-Score (French)](https://docs.score-environnemental.com/):\n",
        "  * [announcement (French)](https://fr.blog.openfoodfacts.org/news/lancement-de-l-eco-score-la-note-environnementale-des-produits-alimentaires)\n",
        "  * [description (French)](https://fr.openfoodfacts.org/eco-score-l-impact-environnemental-des-produits-alimentaires)"
      ]
    },
    {
      "cell_type": "markdown",
      "metadata": {
        "id": "h8rBJy9j2iMC"
      },
      "source": [
        "Build for the Eco-Score (score and grade) the same graphs as the ones we produced for the Nutri-Score."
      ]
    },
    {
      "cell_type": "markdown",
      "source": [
        "> **HINT**: The corresponding columns are named `ecoscore_score_fr` and `ecoscore_grade_fr`."
      ],
      "metadata": {
        "id": "KBfx_BzJXDNe"
      }
    },
    {
      "cell_type": "code",
      "metadata": {
        "id": "A45hVGkt15l1"
      },
      "source": [
        ""
      ],
      "execution_count": null,
      "outputs": []
    },
    {
      "cell_type": "code",
      "source": [
        ""
      ],
      "metadata": {
        "id": "Qr-ukw--XY7O"
      },
      "execution_count": null,
      "outputs": []
    },
    {
      "cell_type": "code",
      "source": [
        ""
      ],
      "metadata": {
        "id": "kTdKzBG1pnnC"
      },
      "execution_count": null,
      "outputs": []
    },
    {
      "cell_type": "code",
      "source": [
        ""
      ],
      "metadata": {
        "id": "LyvPlUACpoCm"
      },
      "execution_count": null,
      "outputs": []
    },
    {
      "cell_type": "markdown",
      "metadata": {
        "id": "Dj1rQLYAJWjh"
      },
      "source": [
        "We can also compare Nutri-Score scores and Eco-Score scores, with a [scatter plot](https://seaborn.pydata.org/tutorial/relational.html#relating-variables-with-scatter-plots).\n",
        "\n",
        "Scatter plots enable to visualize the joint distribution of two variables, using a cloud of points where each variable is a coordinate in the 2 dimensional plane.\n",
        "\n",
        "> **HINT**: You need to build a relational plot `relplot` of kind `scatter`."
      ]
    },
    {
      "cell_type": "code",
      "metadata": {
        "id": "gOp3Z9-IJm6e"
      },
      "source": [
        ""
      ],
      "execution_count": null,
      "outputs": []
    },
    {
      "cell_type": "markdown",
      "metadata": {
        "id": "LWMXukCEJ6kx"
      },
      "source": [
        "It seems as if the Nutri-Score score and Eco-Score score are quite independent.\n",
        "\n",
        "We have little hope but let us add the Nutri-Score grade as `hue`, with its color palette, and see if this helps us see any regularity."
      ]
    },
    {
      "cell_type": "code",
      "metadata": {
        "id": "3PrSh4fZKsKL"
      },
      "source": [
        ""
      ],
      "execution_count": null,
      "outputs": []
    },
    {
      "cell_type": "markdown",
      "metadata": {
        "id": "qUNgCV6ELf5z"
      },
      "source": [
        "Very colorful indeed, but no luck here.\n",
        "\n",
        "However, scatter plots and [line plots](https://seaborn.pydata.org/tutorial/relational.html#emphasizing-continuity-with-line-plots) are very useful tools that you can put to better use to look at eg. pairs of nutritional values, or a nutritional value and Nutri-Score."
      ]
    },
    {
      "cell_type": "markdown",
      "source": [
        "## Congratulations !\n",
        "\n",
        "You reached the end of your basic training.\n",
        "\n",
        "You can proceed to the next notebook for the \"Project\" in which you will design and conduct your own analysis !"
      ],
      "metadata": {
        "id": "p69m3cOtXxkt"
      }
    },
    {
      "cell_type": "markdown",
      "metadata": {
        "id": "WYBJFTGG-8bd"
      },
      "source": [
        "### For the adventurous\n",
        "\n",
        "OpenFoodFacts has a sister project : [OpenBeautyFacts](https://fr-en.openbeautyfacts.org/), a database on cosmetic products, broadly speaking : from hand dishwashing products to creams, shampoos, deodorants, toothpaste...\n",
        "\n",
        "OpenBeautyFacts is smaller in size and less mature, but you can try and play with their [data exports](https://fr-en.openbeautyfacts.org/data).\n",
        "\n",
        "But you can also just contribute to OpenFoodFacts or OpenBeautyFacts, via their website, dedicated apps, or third-party apps !"
      ]
    }
  ]
}