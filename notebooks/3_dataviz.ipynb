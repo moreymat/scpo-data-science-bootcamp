{
  "nbformat": 4,
  "nbformat_minor": 0,
  "metadata": {
    "colab": {
      "name": "3_dataviz.ipynb",
      "provenance": [],
      "collapsed_sections": [],
      "toc_visible": true,
      "include_colab_link": true
    },
    "kernelspec": {
      "name": "python3",
      "display_name": "Python 3"
    },
    "language_info": {
      "name": "python"
    }
  },
  "cells": [
    {
      "cell_type": "markdown",
      "metadata": {
        "id": "view-in-github",
        "colab_type": "text"
      },
      "source": [
        "<a href=\"https://colab.research.google.com/github/datactivist/scpo-data-science-bootcamp/blob/main/notebooks/3_dataviz.ipynb\" target=\"_parent\"><img src=\"https://colab.research.google.com/assets/colab-badge.svg\" alt=\"Open In Colab\"/></a>"
      ]
    },
    {
      "cell_type": "markdown",
      "metadata": {
        "id": "By5VLWuACmq-"
      },
      "source": [
        "# Data visualization"
      ]
    },
    {
      "cell_type": "markdown",
      "metadata": {
        "id": "UC3WJ5wGW7pw"
      },
      "source": [
        "In this notebook, we will see how to build some data visualizations for our OpenFoodFacts dataset."
      ]
    },
    {
      "cell_type": "markdown",
      "source": [
        "## Accessing the data"
      ],
      "metadata": {
        "id": "k4xTSk3xYud7"
      }
    },
    {
      "cell_type": "markdown",
      "source": [
        "You need two files (csv and txt) that are on the Google Drive of my Sciences Po account :\n",
        "\n",
        "* [data file (csv)](https://drive.google.com/file/d/14Pyz3Wb-FGs_9H-e7K-4Ug2X31N81Amv/view?usp=sharing),\n",
        "* [metadata file (txt)](https://drive.google.com/file/d/1EUBD1btT8k4PS073WLUqGm_UucUl4n3P/view?usp=sharing) (column types, so that pandas does not have to guess them).\n",
        "\n",
        "For **each of these 2 files**:\n",
        "1. Open the link\n",
        "2. Click on the \"Add shortcut to Drive\" button\n",
        "<center>\n",
        "<img src=\"https://github.com/datactivist/scpo-data-science-bootcamp/raw/main/notebooks/img/drive-1.png\" width=400>\n",
        "</center>\n",
        "3. In the menu, click on \"My Drive\"\n",
        "<center>\n",
        "<img src=\"https://github.com/datactivist/scpo-data-science-bootcamp/raw/main/notebooks/img/drive-2.png\" width=400>\n",
        "</center>\n",
        "4. Click on \"Add shortcut here\"\n",
        "<center>\n",
        "<img src=\"https://github.com/datactivist/scpo-data-science-bootcamp/raw/main/notebooks/img/drive-3.png\" width=400>\n",
        "</center>\n",
        "\n",
        "This will add shortcuts, in your Sciences Po (Google) drive, to the files stored on Mathieu's Sciences Po (Google) Drive."
      ],
      "metadata": {
        "id": "jMJEXJrdYqE7"
      }
    },
    {
      "cell_type": "markdown",
      "source": [
        "Then you need to authorize Colab to access files (here shortcuts) on your Drive.\n",
        "\n",
        "Execute this next cell, a pop-up will appear asking you to select your Sciences Po (Google) account, then asking you to authorize access."
      ],
      "metadata": {
        "id": "Sjrxwz9ZY5wi"
      }
    },
    {
      "cell_type": "code",
      "source": [
        "# enable Colab to access files (here shortcuts) on your Drive\n",
        "from google.colab import drive\n",
        "drive.mount('/content/drive')"
      ],
      "metadata": {
        "id": "rReAVKEuY_Cf"
      },
      "execution_count": null,
      "outputs": []
    },
    {
      "cell_type": "markdown",
      "source": [
        "The files can now be accessed from the shortcuts on your drive."
      ],
      "metadata": {
        "id": "cSDehdxCZB-r"
      }
    },
    {
      "cell_type": "markdown",
      "source": [
        "## Loading the data"
      ],
      "metadata": {
        "id": "tDRUrMYTZOD9"
      }
    },
    {
      "cell_type": "code",
      "source": [
        "# (just execute this cell)\n",
        "\n",
        "# import pandas\n",
        "import pandas as pd\n",
        "# we need this data type for ordered categoricals\n",
        "from pandas.api.types import CategoricalDtype\n",
        "# lift some limitations in column width, so more cell values are displayed in full\n",
        "pd.set_option('display.max_colwidth', 110)\n",
        "\n",
        "# dataset and data type of the columns\n",
        "OFF_FILE = 'drive/MyDrive/off_products_subset.csv'\n",
        "DTYPE_FILE = 'drive/MyDrive/dtype.txt'\n",
        "\n",
        "# custom function to load the Open Food Facts subset\n",
        "def load_off():\n",
        "  \"\"\"Load the filtered subset of OpenFoodFacts.\n",
        "  \n",
        "  Returns\n",
        "  -------\n",
        "  df : pd.DataFrame\n",
        "    (A filtered subset of the) OpenFoodFacts tabular dataset.\n",
        "  \"\"\"\n",
        "  # load the data types for the columns\n",
        "  with open(DTYPE_FILE) as f:\n",
        "    dtype = eval(f.read())\n",
        "\n",
        "  # load the dataset\n",
        "  df = pd.read_csv(OFF_FILE, sep='\\t', dtype=dtype)\n",
        "  # convert columns with datetimes\n",
        "  for col_name in ('created_datetime', 'last_modified_datetime'):\n",
        "    # ISO 8601 dates\n",
        "    df[col_name] = pd.to_datetime(df[col_name])\n",
        "  #\n",
        "  return df\n",
        "\n",
        "# load the dataset\n",
        "df = load_off()"
      ],
      "metadata": {
        "id": "4c9my9iPZP4n"
      },
      "execution_count": null,
      "outputs": []
    },
    {
      "cell_type": "markdown",
      "metadata": {
        "id": "jFEKHlDEYpWy"
      },
      "source": [
        "## Simple visualizations on OpenFoodFacts"
      ]
    },
    {
      "cell_type": "markdown",
      "metadata": {
        "id": "w74HiUGYXKE5"
      },
      "source": [
        "### Seaborn\n",
        "\n",
        "[Seaborn](https://seaborn.pydata.org/) is a data visualization library for Python.\n",
        "It provides a simpler, higher-level interface to the powerful but cumbersome library [matplotlib](https://matplotlib.org/), and enables to quickly build readable dataviz."
      ]
    },
    {
      "cell_type": "markdown",
      "metadata": {
        "id": "0qvJLBLhYHZL"
      },
      "source": [
        "We need to import the seaborn library, whose conventional alias is `sns`."
      ]
    },
    {
      "cell_type": "code",
      "metadata": {
        "id": "S8w5DMPorOp6"
      },
      "source": [
        "import seaborn as sns"
      ],
      "execution_count": null,
      "outputs": []
    },
    {
      "cell_type": "markdown",
      "metadata": {
        "id": "2-TTGl8xDxmt"
      },
      "source": [
        "## Nutri-Score"
      ]
    },
    {
      "cell_type": "markdown",
      "metadata": {
        "id": "FB1LR8ryIcMm"
      },
      "source": [
        "Nutri-Score grades are an ordered categorical variable, with 5 values ranging from A (healthy) to E (unhealthy).\n",
        "\n",
        "These grades are based on an integer score, ranging from -15 (A) to +40 (E).\n",
        "This score is computed as a sum of positive and negative points attributed based on nutritional values and ingredients, with separate scales for big categories of products."
      ]
    },
    {
      "cell_type": "markdown",
      "metadata": {
        "id": "muQ9mTGyEc5p"
      },
      "source": [
        "In this section, we will build graphs to visualize Nutri-Score grades and scores.\n",
        "\n",
        "To facilitate their reading, we will use the color palette of the Nutri-Score grades."
      ]
    },
    {
      "cell_type": "code",
      "metadata": {
        "id": "R1A4auL-D01Q"
      },
      "source": [
        "# color palette of the Nutri-Score grades\n",
        "colors_nutriscore = {\n",
        "    'a': \"#058244\",\n",
        "    'b': \"#85BD39\",\n",
        "    'c': \"#FDCD2A\",\n",
        "    'd': \"#ED831E\",\n",
        "    'e': \"#E53F1A\",\n",
        "}"
      ],
      "execution_count": null,
      "outputs": []
    },
    {
      "cell_type": "markdown",
      "metadata": {
        "id": "GOX4gVxWHCLu"
      },
      "source": [
        "### Visualizing categorical data : Nutri-Score grade"
      ]
    },
    {
      "cell_type": "markdown",
      "metadata": {
        "id": "RM4vPlrKEt8R"
      },
      "source": [
        "Seaborn enables to visualize categorical variables in a [variety of manners](https://seaborn.pydata.org/tutorial/categorical.html#plotting-with-categorical-data).\n",
        "\n",
        "These visualizations can be built by calling the high-level function `catplot` and specifying, among other arguments, the type of categorical plot we want.\n",
        "\n",
        "Let us try to answer the following vague question : \"How healthy are the products sold in supermarkets ?\".\n",
        "\n",
        "This can translate to this more precise question : \"How many products of each Nutri-Score grade does the dataset contain?\".\n",
        "\n",
        "We can answer the latter question by building a plot that represents, for each Nutri-Score grade, the total number of products in the dataset.\n",
        "This corresponds in seaborn, and in the documentation page linked above, to a **count plot**."
      ]
    },
    {
      "cell_type": "markdown",
      "metadata": {
        "id": "GnJYnQr9QraJ"
      },
      "source": [
        "Because a count plot is a special kind of categorical plot, we will call the high-level function [catplot](https://seaborn.pydata.org/generated/seaborn.catplot.html) with the arguments describing that we want to build,\n",
        "* a count plot : `kind='count'`,\n",
        "* on our dataset : `data=df`,\n",
        "* with one count bar for each Nutri-Score grade : `x=nutriscore_grade`,\n",
        "* where each bar is colored following the Nutri-Score color palette : `palette=colors_nutriscore`."
      ]
    },
    {
      "cell_type": "code",
      "metadata": {
        "id": "WnWk2fegxqBq",
        "colab": {
          "base_uri": "https://localhost:8080/",
          "height": 386
        },
        "outputId": "503273df-2127-48ca-9ae2-4d1f79daf3ce"
      },
      "source": [
        "sns.catplot(data=df, x='nutriscore_grade',\n",
        "            kind='count', palette=colors_nutriscore)"
      ],
      "execution_count": null,
      "outputs": [
        {
          "output_type": "execute_result",
          "data": {
            "text/plain": [
              "<seaborn.axisgrid.FacetGrid at 0x7fd2fbd41550>"
            ]
          },
          "metadata": {},
          "execution_count": 9
        },
        {
          "output_type": "display_data",
          "data": {
            "text/plain": [
              "<Figure size 360x360 with 1 Axes>"
            ],
            "image/png": "[encoded data removed]"
          },
          "metadata": {
            "needs_background": "light"
          }
        }
      ]
    },
    {
      "cell_type": "markdown",
      "metadata": {
        "id": "LIMxqGdkQ0VF"
      },
      "source": [
        "This is the overall distribution of Nutri-Score grades on products across brands, but maybe some brands produce healthier products than others.\n",
        "\n",
        "To quickly explore this hypothesis, let us look at the 9 most frequent brands in the dataset :\n",
        "\n",
        "* count brands using the [value_counts](https://pandas.pydata.org/docs/reference/api/pandas.Series.value_counts.html) method, with the result sorted in descending order,\n",
        "* slice this result to keep the first 9."
      ]
    },
    {
      "cell_type": "code",
      "metadata": {
        "colab": {
          "base_uri": "https://localhost:8080/"
        },
        "id": "TcEGIlNZvrL9",
        "outputId": "4fde5534-6c45-4d11-ffcc-01ddc68a6271"
      },
      "source": [
        "# select the 9 most frequent brands\n",
        "top_brands =  # ...\n",
        "top_brands"
      ],
      "execution_count": null,
      "outputs": [
        {
          "output_type": "execute_result",
          "data": {
            "text/plain": [
              "Carrefour       9243\n",
              "Auchan          7673\n",
              "U               5222\n",
              "Hacendado       3267\n",
              "Casino          3153\n",
              "Leader Price    3098\n",
              "Delhaize        2334\n",
              "Cora            2321\n",
              "Picard          2003\n",
              "Name: brands, dtype: Int64"
            ]
          },
          "metadata": {},
          "execution_count": 10
        }
      ]
    },
    {
      "cell_type": "markdown",
      "metadata": {
        "id": "ODNI-tOdbTZd"
      },
      "source": [
        "To retrieve the names of these 9 brands, rather than their counts, we need to use the [keys](https://pandas.pydata.org/docs/reference/api/pandas.Series.keys.html) method."
      ]
    },
    {
      "cell_type": "code",
      "metadata": {
        "colab": {
          "base_uri": "https://localhost:8080/"
        },
        "id": "DCwz_tuUbjeC",
        "outputId": "8e1c4013-1976-4290-81ba-2f59dac57e66"
      },
      "source": [
        "top_brands_names =  # ...\n",
        "top_brands_names"
      ],
      "execution_count": null,
      "outputs": [
        {
          "output_type": "execute_result",
          "data": {
            "text/plain": [
              "Index(['Carrefour', 'Auchan', 'U', 'Hacendado', 'Casino', 'Leader Price',\n",
              "       'Delhaize', 'Cora', 'Picard'],\n",
              "      dtype='object')"
            ]
          },
          "metadata": {},
          "execution_count": 11
        }
      ]
    },
    {
      "cell_type": "markdown",
      "metadata": {
        "id": "a4us5jMubFgg"
      },
      "source": [
        "Filter the products from these top 9 brands using [isin](https://pandas.pydata.org/docs/reference/api/pandas.Series.isin.html) and store this subset in a new variable `df_top_brands`."
      ]
    },
    {
      "cell_type": "code",
      "metadata": {
        "colab": {
          "base_uri": "https://localhost:8080/",
          "height": 905
        },
        "id": "YNuSIRRUwO27",
        "outputId": "30da6949-a4b4-4f55-de91-cf3b3969d41a"
      },
      "source": [
        "df_top_brands =  # ...\n",
        "df_top_brands"
      ],
      "execution_count": null,
      "outputs": [
        {
          "output_type": "execute_result",
          "data": {
            "text/plain": [
              "                 code                                                url  \\\n",
              "1905    0020176240512  http://world-en.openfoodfacts.org/product/0020...   \n",
              "7737    0051228638094  http://world-en.openfoodfacts.org/product/0051...   \n",
              "10228   0066844370082  http://world-en.openfoodfacts.org/product/0066...   \n",
              "10229   0066844370099  http://world-en.openfoodfacts.org/product/0066...   \n",
              "10231   0066844370617  http://world-en.openfoodfacts.org/product/0066...   \n",
              "...               ...                                                ...   \n",
              "416479  9788430549085  http://world-en.openfoodfacts.org/product/9788...   \n",
              "416480  9788472397927  http://world-en.openfoodfacts.org/product/9788...   \n",
              "416483  9788483783931  http://world-en.openfoodfacts.org/product/9788...   \n",
              "416529       99306579  http://world-en.openfoodfacts.org/product/9930...   \n",
              "416545       99911522  http://world-en.openfoodfacts.org/product/9991...   \n",
              "\n",
              "        creator          created_datetime    last_modified_datetime  \\\n",
              "1905    kiliweb 2018-01-03 12:01:36+00:00 2021-02-15 12:53:25+00:00   \n",
              "7737    kiliweb 2018-08-29 18:00:09+00:00 2021-07-08 20:34:11+00:00   \n",
              "10228   kiliweb 2017-11-12 12:01:36+00:00 2021-01-22 21:43:39+00:00   \n",
              "10229   kiliweb 2020-03-16 23:21:54+00:00 2021-02-12 00:17:58+00:00   \n",
              "10231   kiliweb 2018-03-22 13:15:18+00:00 2021-08-09 08:56:26+00:00   \n",
              "...         ...                       ...                       ...   \n",
              "416479  kiliweb 2019-08-27 09:43:27+00:00 2021-08-08 23:43:37+00:00   \n",
              "416480  kiliweb 2019-07-26 20:20:25+00:00 2021-07-26 17:21:20+00:00   \n",
              "416483  kiliweb 2020-06-08 09:52:22+00:00 2020-11-11 21:38:57+00:00   \n",
              "416529  kiliweb 2019-08-09 16:09:13+00:00 2020-11-14 15:40:03+00:00   \n",
              "416545  alm1412 2021-07-04 10:30:44+00:00 2021-07-04 10:41:08+00:00   \n",
              "\n",
              "                                       product_name generic_name quantity  \\\n",
              "1905                                  4 Vol Au Vent         <NA>  4 Stück   \n",
              "7737                                       Crackers         <NA>     <NA>   \n",
              "10228                             Pois cassés verts         <NA>     500g   \n",
              "10229                                 Haricots Coco         <NA>    500 g   \n",
              "10231            Lentille Vertes Qualité Supérieure         <NA>     <NA>   \n",
              "...                                             ...          ...      ...   \n",
              "416479  Tortitas Arroz chocolate blanco sabor yogur         <NA>     <NA>   \n",
              "416480                                     Gazpacho         <NA>     <NA>   \n",
              "416483  Tortitas arroz chocolate blanco sabor yogur         <NA>     <NA>   \n",
              "416529                              Filet de poulet         <NA>     <NA>   \n",
              "416545                                   Chipolatas         <NA>        6   \n",
              "\n",
              "               packaging        brands  ... sodium_100g alcohol_100g  \\\n",
              "1905                <NA>        Auchan  ...       0.560          NaN   \n",
              "7737                <NA>  Leader Price  ...       0.800          NaN   \n",
              "10228               <NA>  Leader Price  ...       0.016          NaN   \n",
              "10229   Sachet,Plastique  Leader Price  ...       0.004          NaN   \n",
              "10231               <NA>  Leader Price  ...       0.008          NaN   \n",
              "...                  ...           ...  ...         ...          ...   \n",
              "416479              <NA>     Hacendado  ...       0.288          NaN   \n",
              "416480          Pure-Pak     Hacendado  ...       0.160          NaN   \n",
              "416483              <NA>     Hacendado  ...       0.288          NaN   \n",
              "416529              <NA>      Delhaize  ...       0.680          NaN   \n",
              "416545         barquette        Casino  ...         NaN          NaN   \n",
              "\n",
              "       vitamin-a_100g vitamin-c_100g vitamin-b1_100g potassium_100g  \\\n",
              "1905              NaN            NaN             NaN            NaN   \n",
              "7737              NaN            NaN             NaN            NaN   \n",
              "10228             NaN            NaN             NaN            NaN   \n",
              "10229             NaN            NaN             NaN            NaN   \n",
              "10231             NaN            NaN             NaN            NaN   \n",
              "...               ...            ...             ...            ...   \n",
              "416479            NaN            NaN             NaN            NaN   \n",
              "416480            NaN            NaN             NaN            NaN   \n",
              "416483            NaN            NaN             NaN            NaN   \n",
              "416529            NaN            NaN             NaN            NaN   \n",
              "416545            NaN            NaN             NaN            NaN   \n",
              "\n",
              "       calcium_100g iron_100g magnesium_100g nutrition-score-fr_100g  \n",
              "1905            NaN       NaN            NaN                    22.0  \n",
              "7737            NaN       NaN            NaN                    14.0  \n",
              "10228           NaN       NaN            NaN                    -5.0  \n",
              "10229           NaN       NaN            NaN                    -6.0  \n",
              "10231           NaN       NaN            NaN                    -1.0  \n",
              "...             ...       ...            ...                     ...  \n",
              "416479          NaN       NaN            NaN                    24.0  \n",
              "416480          NaN       NaN            NaN                    -2.0  \n",
              "416483          NaN       NaN            NaN                    24.0  \n",
              "416529          NaN       NaN            NaN                     4.0  \n",
              "416545          NaN       NaN            NaN                     NaN  \n",
              "\n",
              "[38314 rows x 66 columns]"
            ],
            "text/html": [
              "\n",
              "  <div id=\"df-d594ef3a-245a-4c87-a284-576dcb044eea\">\n",
              "    <div class=\"colab-df-container\">\n",
              "      <div>\n",
              "<style scoped>\n",
              "    .dataframe tbody tr th:only-of-type {\n",
              "        vertical-align: middle;\n",
              "    }\n",
              "\n",
              "    .dataframe tbody tr th {\n",
              "        vertical-align: top;\n",
              "    }\n",
              "\n",
              "    .dataframe thead th {\n",
              "        text-align: right;\n",
              "    }\n",
              "</style>\n",
              "<table border=\"1\" class=\"dataframe\">\n",
              "  <thead>\n",
              "    <tr style=\"text-align: right;\">\n",
              "      <th></th>\n",
              "      <th>code</th>\n",
              "      <th>url</th>\n",
              "      <th>creator</th>\n",
              "      <th>created_datetime</th>\n",
              "      <th>last_modified_datetime</th>\n",
              "      <th>product_name</th>\n",
              "      <th>generic_name</th>\n",
              "      <th>quantity</th>\n",
              "      <th>packaging</th>\n",
              "      <th>brands</th>\n",
              "      <th>...</th>\n",
              "      <th>sodium_100g</th>\n",
              "      <th>alcohol_100g</th>\n",
              "      <th>vitamin-a_100g</th>\n",
              "      <th>vitamin-c_100g</th>\n",
              "      <th>vitamin-b1_100g</th>\n",
              "      <th>potassium_100g</th>\n",
              "      <th>calcium_100g</th>\n",
              "      <th>iron_100g</th>\n",
              "      <th>magnesium_100g</th>\n",
              "      <th>nutrition-score-fr_100g</th>\n",
              "    </tr>\n",
              "  </thead>\n",
              "  <tbody>\n",
              "    <tr>\n",
              "      <th>1905</th>\n",
              "      <td>0020176240512</td>\n",
              "      <td>http://world-en.openfoodfacts.org/product/0020...</td>\n",
              "      <td>kiliweb</td>\n",
              "      <td>2018-01-03 12:01:36+00:00</td>\n",
              "      <td>2021-02-15 12:53:25+00:00</td>\n",
              "      <td>4 Vol Au Vent</td>\n",
              "      <td>&lt;NA&gt;</td>\n",
              "      <td>4 Stück</td>\n",
              "      <td>&lt;NA&gt;</td>\n",
              "      <td>Auchan</td>\n",
              "      <td>...</td>\n",
              "      <td>0.560</td>\n",
              "      <td>NaN</td>\n",
              "      <td>NaN</td>\n",
              "      <td>NaN</td>\n",
              "      <td>NaN</td>\n",
              "      <td>NaN</td>\n",
              "      <td>NaN</td>\n",
              "      <td>NaN</td>\n",
              "      <td>NaN</td>\n",
              "      <td>22.0</td>\n",
              "    </tr>\n",
              "    <tr>\n",
              "      <th>7737</th>\n",
              "      <td>0051228638094</td>\n",
              "      <td>http://world-en.openfoodfacts.org/product/0051...</td>\n",
              "      <td>kiliweb</td>\n",
              "      <td>2018-08-29 18:00:09+00:00</td>\n",
              "      <td>2021-07-08 20:34:11+00:00</td>\n",
              "      <td>Crackers</td>\n",
              "      <td>&lt;NA&gt;</td>\n",
              "      <td>&lt;NA&gt;</td>\n",
              "      <td>&lt;NA&gt;</td>\n",
              "      <td>Leader Price</td>\n",
              "      <td>...</td>\n",
              "      <td>0.800</td>\n",
              "      <td>NaN</td>\n",
              "      <td>NaN</td>\n",
              "      <td>NaN</td>\n",
              "      <td>NaN</td>\n",
              "      <td>NaN</td>\n",
              "      <td>NaN</td>\n",
              "      <td>NaN</td>\n",
              "      <td>NaN</td>\n",
              "      <td>14.0</td>\n",
              "    </tr>\n",
              "    <tr>\n",
              "      <th>10228</th>\n",
              "      <td>0066844370082</td>\n",
              "      <td>http://world-en.openfoodfacts.org/product/0066...</td>\n",
              "      <td>kiliweb</td>\n",
              "      <td>2017-11-12 12:01:36+00:00</td>\n",
              "      <td>2021-01-22 21:43:39+00:00</td>\n",
              "      <td>Pois cassés verts</td>\n",
              "      <td>&lt;NA&gt;</td>\n",
              "      <td>500g</td>\n",
              "      <td>&lt;NA&gt;</td>\n",
              "      <td>Leader Price</td>\n",
              "      <td>...</td>\n",
              "      <td>0.016</td>\n",
              "      <td>NaN</td>\n",
              "      <td>NaN</td>\n",
              "      <td>NaN</td>\n",
              "      <td>NaN</td>\n",
              "      <td>NaN</td>\n",
              "      <td>NaN</td>\n",
              "      <td>NaN</td>\n",
              "      <td>NaN</td>\n",
              "      <td>-5.0</td>\n",
              "    </tr>\n",
              "    <tr>\n",
              "      <th>10229</th>\n",
              "      <td>0066844370099</td>\n",
              "      <td>http://world-en.openfoodfacts.org/product/0066...</td>\n",
              "      <td>kiliweb</td>\n",
              "      <td>2020-03-16 23:21:54+00:00</td>\n",
              "      <td>2021-02-12 00:17:58+00:00</td>\n",
              "      <td>Haricots Coco</td>\n",
              "      <td>&lt;NA&gt;</td>\n",
              "      <td>500 g</td>\n",
              "      <td>Sachet,Plastique</td>\n",
              "      <td>Leader Price</td>\n",
              "      <td>...</td>\n",
              "      <td>0.004</td>\n",
              "      <td>NaN</td>\n",
              "      <td>NaN</td>\n",
              "      <td>NaN</td>\n",
              "      <td>NaN</td>\n",
              "      <td>NaN</td>\n",
              "      <td>NaN</td>\n",
              "      <td>NaN</td>\n",
              "      <td>NaN</td>\n",
              "      <td>-6.0</td>\n",
              "    </tr>\n",
              "    <tr>\n",
              "      <th>10231</th>\n",
              "      <td>0066844370617</td>\n",
              "      <td>http://world-en.openfoodfacts.org/product/0066...</td>\n",
              "      <td>kiliweb</td>\n",
              "      <td>2018-03-22 13:15:18+00:00</td>\n",
              "      <td>2021-08-09 08:56:26+00:00</td>\n",
              "      <td>Lentille Vertes Qualité Supérieure</td>\n",
              "      <td>&lt;NA&gt;</td>\n",
              "      <td>&lt;NA&gt;</td>\n",
              "      <td>&lt;NA&gt;</td>\n",
              "      <td>Leader Price</td>\n",
              "      <td>...</td>\n",
              "      <td>0.008</td>\n",
              "      <td>NaN</td>\n",
              "      <td>NaN</td>\n",
              "      <td>NaN</td>\n",
              "      <td>NaN</td>\n",
              "      <td>NaN</td>\n",
              "      <td>NaN</td>\n",
              "      <td>NaN</td>\n",
              "      <td>NaN</td>\n",
              "      <td>-1.0</td>\n",
              "    </tr>\n",
              "    <tr>\n",
              "      <th>...</th>\n",
              "      <td>...</td>\n",
              "      <td>...</td>\n",
              "      <td>...</td>\n",
              "      <td>...</td>\n",
              "      <td>...</td>\n",
              "      <td>...</td>\n",
              "      <td>...</td>\n",
              "      <td>...</td>\n",
              "      <td>...</td>\n",
              "      <td>...</td>\n",
              "      <td>...</td>\n",
              "      <td>...</td>\n",
              "      <td>...</td>\n",
              "      <td>...</td>\n",
              "      <td>...</td>\n",
              "      <td>...</td>\n",
              "      <td>...</td>\n",
              "      <td>...</td>\n",
              "      <td>...</td>\n",
              "      <td>...</td>\n",
              "      <td>...</td>\n",
              "    </tr>\n",
              "    <tr>\n",
              "      <th>416479</th>\n",
              "      <td>9788430549085</td>\n",
              "      <td>http://world-en.openfoodfacts.org/product/9788...</td>\n",
              "      <td>kiliweb</td>\n",
              "      <td>2019-08-27 09:43:27+00:00</td>\n",
              "      <td>2021-08-08 23:43:37+00:00</td>\n",
              "      <td>Tortitas Arroz chocolate blanco sabor yogur</td>\n",
              "      <td>&lt;NA&gt;</td>\n",
              "      <td>&lt;NA&gt;</td>\n",
              "      <td>&lt;NA&gt;</td>\n",
              "      <td>Hacendado</td>\n",
              "      <td>...</td>\n",
              "      <td>0.288</td>\n",
              "      <td>NaN</td>\n",
              "      <td>NaN</td>\n",
              "      <td>NaN</td>\n",
              "      <td>NaN</td>\n",
              "      <td>NaN</td>\n",
              "      <td>NaN</td>\n",
              "      <td>NaN</td>\n",
              "      <td>NaN</td>\n",
              "      <td>24.0</td>\n",
              "    </tr>\n",
              "    <tr>\n",
              "      <th>416480</th>\n",
              "      <td>9788472397927</td>\n",
              "      <td>http://world-en.openfoodfacts.org/product/9788...</td>\n",
              "      <td>kiliweb</td>\n",
              "      <td>2019-07-26 20:20:25+00:00</td>\n",
              "      <td>2021-07-26 17:21:20+00:00</td>\n",
              "      <td>Gazpacho</td>\n",
              "      <td>&lt;NA&gt;</td>\n",
              "      <td>&lt;NA&gt;</td>\n",
              "      <td>Pure-Pak</td>\n",
              "      <td>Hacendado</td>\n",
              "      <td>...</td>\n",
              "      <td>0.160</td>\n",
              "      <td>NaN</td>\n",
              "      <td>NaN</td>\n",
              "      <td>NaN</td>\n",
              "      <td>NaN</td>\n",
              "      <td>NaN</td>\n",
              "      <td>NaN</td>\n",
              "      <td>NaN</td>\n",
              "      <td>NaN</td>\n",
              "      <td>-2.0</td>\n",
              "    </tr>\n",
              "    <tr>\n",
              "      <th>416483</th>\n",
              "      <td>9788483783931</td>\n",
              "      <td>http://world-en.openfoodfacts.org/product/9788...</td>\n",
              "      <td>kiliweb</td>\n",
              "      <td>2020-06-08 09:52:22+00:00</td>\n",
              "      <td>2020-11-11 21:38:57+00:00</td>\n",
              "      <td>Tortitas arroz chocolate blanco sabor yogur</td>\n",
              "      <td>&lt;NA&gt;</td>\n",
              "      <td>&lt;NA&gt;</td>\n",
              "      <td>&lt;NA&gt;</td>\n",
              "      <td>Hacendado</td>\n",
              "      <td>...</td>\n",
              "      <td>0.288</td>\n",
              "      <td>NaN</td>\n",
              "      <td>NaN</td>\n",
              "      <td>NaN</td>\n",
              "      <td>NaN</td>\n",
              "      <td>NaN</td>\n",
              "      <td>NaN</td>\n",
              "      <td>NaN</td>\n",
              "      <td>NaN</td>\n",
              "      <td>24.0</td>\n",
              "    </tr>\n",
              "    <tr>\n",
              "      <th>416529</th>\n",
              "      <td>99306579</td>\n",
              "      <td>http://world-en.openfoodfacts.org/product/9930...</td>\n",
              "      <td>kiliweb</td>\n",
              "      <td>2019-08-09 16:09:13+00:00</td>\n",
              "      <td>2020-11-14 15:40:03+00:00</td>\n",
              "      <td>Filet de poulet</td>\n",
              "      <td>&lt;NA&gt;</td>\n",
              "      <td>&lt;NA&gt;</td>\n",
              "      <td>&lt;NA&gt;</td>\n",
              "      <td>Delhaize</td>\n",
              "      <td>...</td>\n",
              "      <td>0.680</td>\n",
              "      <td>NaN</td>\n",
              "      <td>NaN</td>\n",
              "      <td>NaN</td>\n",
              "      <td>NaN</td>\n",
              "      <td>NaN</td>\n",
              "      <td>NaN</td>\n",
              "      <td>NaN</td>\n",
              "      <td>NaN</td>\n",
              "      <td>4.0</td>\n",
              "    </tr>\n",
              "    <tr>\n",
              "      <th>416545</th>\n",
              "      <td>99911522</td>\n",
              "      <td>http://world-en.openfoodfacts.org/product/9991...</td>\n",
              "      <td>alm1412</td>\n",
              "      <td>2021-07-04 10:30:44+00:00</td>\n",
              "      <td>2021-07-04 10:41:08+00:00</td>\n",
              "      <td>Chipolatas</td>\n",
              "      <td>&lt;NA&gt;</td>\n",
              "      <td>6</td>\n",
              "      <td>barquette</td>\n",
              "      <td>Casino</td>\n",
              "      <td>...</td>\n",
              "      <td>NaN</td>\n",
              "      <td>NaN</td>\n",
              "      <td>NaN</td>\n",
              "      <td>NaN</td>\n",
              "      <td>NaN</td>\n",
              "      <td>NaN</td>\n",
              "      <td>NaN</td>\n",
              "      <td>NaN</td>\n",
              "      <td>NaN</td>\n",
              "      <td>NaN</td>\n",
              "    </tr>\n",
              "  </tbody>\n",
              "</table>\n",
              "<p>38314 rows × 66 columns</p>\n",
              "</div>\n",
              "      <button class=\"colab-df-convert\" onclick=\"convertToInteractive('df-d594ef3a-245a-4c87-a284-576dcb044eea')\"\n",
              "              title=\"Convert this dataframe to an interactive table.\"\n",
              "              style=\"display:none;\">\n",
              "        \n",
              "  <svg xmlns=\"http://www.w3.org/2000/svg\" height=\"24px\"viewBox=\"0 0 24 24\"\n",
              "       width=\"24px\">\n",
              "    <path d=\"M0 0h24v24H0V0z\" fill=\"none\"/>\n",
              "    <path d=\"M18.56 5.44l.94 2.06.94-2.06 2.06-.94-2.06-.94-.94-2.06-.94 2.06-2.06.94zm-11 1L8.5 8.5l.94-2.06 2.06-.94-2.06-.94L8.5 2.5l-.94 2.06-2.06.94zm10 10l.94 2.06.94-2.06 2.06-.94-2.06-.94-.94-2.06-.94 2.06-2.06.94z\"/><path d=\"M17.41 7.96l-1.37-1.37c-.4-.4-.92-.59-1.43-.59-.52 0-1.04.2-1.43.59L10.3 9.45l-7.72 7.72c-.78.78-.78 2.05 0 2.83L4 21.41c.39.39.9.59 1.41.59.51 0 1.02-.2 1.41-.59l7.78-7.78 2.81-2.81c.8-.78.8-2.07 0-2.86zM5.41 20L4 18.59l7.72-7.72 1.47 1.35L5.41 20z\"/>\n",
              "  </svg>\n",
              "      </button>\n",
              "      \n",
              "  <style>\n",
              "    .colab-df-container {\n",
              "      display:flex;\n",
              "      flex-wrap:wrap;\n",
              "      gap: 12px;\n",
              "    }\n",
              "\n",
              "    .colab-df-convert {\n",
              "      background-color: #E8F0FE;\n",
              "      border: none;\n",
              "      border-radius: 50%;\n",
              "      cursor: pointer;\n",
              "      display: none;\n",
              "      fill: #1967D2;\n",
              "      height: 32px;\n",
              "      padding: 0 0 0 0;\n",
              "      width: 32px;\n",
              "    }\n",
              "\n",
              "    .colab-df-convert:hover {\n",
              "      background-color: #E2EBFA;\n",
              "      box-shadow: 0px 1px 2px rgba(60, 64, 67, 0.3), 0px 1px 3px 1px rgba(60, 64, 67, 0.15);\n",
              "      fill: #174EA6;\n",
              "    }\n",
              "\n",
              "    [theme=dark] .colab-df-convert {\n",
              "      background-color: #3B4455;\n",
              "      fill: #D2E3FC;\n",
              "    }\n",
              "\n",
              "    [theme=dark] .colab-df-convert:hover {\n",
              "      background-color: #434B5C;\n",
              "      box-shadow: 0px 1px 3px 1px rgba(0, 0, 0, 0.15);\n",
              "      filter: drop-shadow(0px 1px 2px rgba(0, 0, 0, 0.3));\n",
              "      fill: #FFFFFF;\n",
              "    }\n",
              "  </style>\n",
              "\n",
              "      <script>\n",
              "        const buttonEl =\n",
              "          document.querySelector('#df-d594ef3a-245a-4c87-a284-576dcb044eea button.colab-df-convert');\n",
              "        buttonEl.style.display =\n",
              "          google.colab.kernel.accessAllowed ? 'block' : 'none';\n",
              "\n",
              "        async function convertToInteractive(key) {\n",
              "          const element = document.querySelector('#df-d594ef3a-245a-4c87-a284-576dcb044eea');\n",
              "          const dataTable =\n",
              "            await google.colab.kernel.invokeFunction('convertToInteractive',\n",
              "                                                     [key], {});\n",
              "          if (!dataTable) return;\n",
              "\n",
              "          const docLinkHtml = 'Like what you see? Visit the ' +\n",
              "            '<a target=\"_blank\" href=https://colab.research.google.com/notebooks/data_table.ipynb>data table notebook</a>'\n",
              "            + ' to learn more about interactive tables.';\n",
              "          element.innerHTML = '';\n",
              "          dataTable['output_type'] = 'display_data';\n",
              "          await google.colab.output.renderOutput(dataTable, element);\n",
              "          const docLink = document.createElement('div');\n",
              "          docLink.innerHTML = docLinkHtml;\n",
              "          element.appendChild(docLink);\n",
              "        }\n",
              "      </script>\n",
              "    </div>\n",
              "  </div>\n",
              "  "
            ]
          },
          "metadata": {},
          "execution_count": 12
        }
      ]
    },
    {
      "cell_type": "markdown",
      "metadata": {
        "id": "85e2sdincFny"
      },
      "source": [
        "You should get 38314 entries."
      ]
    },
    {
      "cell_type": "markdown",
      "metadata": {
        "id": "EAs47hGsabW-"
      },
      "source": [
        "Now, we want to plot the distribution of Nutri-Score grades separately for each of these top brands."
      ]
    },
    {
      "cell_type": "markdown",
      "metadata": {
        "id": "ke8yOiRbccnn"
      },
      "source": [
        "This will be very similar to the previous graph, except we will make use of catplot's ability to display [multiple facets](https://seaborn.pydata.org/tutorial/categorical.html#showing-multiple-relationships-with-facets).\n",
        "\n",
        "Changes are :\n",
        "\n",
        "* we only want to plot products from the top brands (`data=df_top_brands`),\n",
        "* we want to build a distinct plot for each brand (`col=brands`),\n",
        "* and display 3 plots in a row, so it fits our screen (`col_wrap=3`)."
      ]
    },
    {
      "cell_type": "code",
      "metadata": {
        "id": "8FWkpAP46Dy-"
      },
      "source": [
        "# write your catplot\n"
      ],
      "execution_count": null,
      "outputs": []
    },
    {
      "cell_type": "markdown",
      "metadata": {
        "id": "_FM8SQwx8Z5F"
      },
      "source": [
        "The distribution among Nutri-Score categories seems quite similar across brands, but does this hold true on the underlying Nutri-Score *scores* ?"
      ]
    },
    {
      "cell_type": "markdown",
      "metadata": {
        "id": "T1QirTaSRwcQ"
      },
      "source": [
        "### Visualizing numerical data : Nutri-Score score\n",
        "\n",
        "Nutri-Score scores range from -15 to 40, with [grades defined by thresholds (p. 32)]((https://www.santepubliquefrance.fr/media/files/02-determinants-de-sante/nutrition-et-activite-physique/nutri-score/qr-scientifique-technique-en).\n",
        "\n",
        "For solid foods:\n",
        "\n",
        "* A: -15 to -1\n",
        "* B: 0 to 2\n",
        "* C: 3 to 10\n",
        "* D: 11 to 18\n",
        "* E: 19 to 40\n",
        "\n",
        "For beverages:\n",
        "* A: waters\n",
        "* B: -15 to 1\n",
        "* C: 2 to 5\n",
        "* D: 6 to 9\n",
        "* E: 10 to 40\n",
        "\n",
        "Visualizing the Nutri-Score scores, rather than the Nutri-Score grades, should provide a more accurate, finer-grained view of the healthiness of products according to the Nutri-Score methodology."
      ]
    },
    {
      "cell_type": "markdown",
      "metadata": {
        "id": "88bj5zzdd8xM"
      },
      "source": [
        "Because Nutri-Score scores correspond to a [quantitative variable](https://en.wikipedia.org/wiki/Quantification_(science)), we can plot the distribution of their values using [displot](https://seaborn.pydata.org/tutorial/distributions.html#plotting-univariate-histograms)."
      ]
    },
    {
      "cell_type": "markdown",
      "metadata": {
        "id": "FeF7RHQmfNFp"
      },
      "source": [
        "By default, `displot` builds a histogram (`kind='hist'`).\n",
        "Because we know we only have integer values, we can additionally specify we want the bins of the histogram to correspond to [discrete values](https://en.wikipedia.org/wiki/Continuous_or_discrete_variable#Discrete_variable) (`discrete=True`). Otherwise, the bin sizes estimated by seaborn result in gaps that hinder readibility. "
      ]
    },
    {
      "cell_type": "markdown",
      "metadata": {
        "id": "yEGG6gHwfr8U"
      },
      "source": [
        "First, let us build the distribution graph for the entire dataset."
      ]
    },
    {
      "cell_type": "code",
      "metadata": {
        "id": "EEZtSgNcfrWM"
      },
      "source": [
        "# write your displot"
      ],
      "execution_count": null,
      "outputs": []
    },
    {
      "cell_type": "markdown",
      "metadata": {
        "id": "txPuLSj_uy-7"
      },
      "source": [
        "This graph looks almost good, but too tight because it tries to fit many bars in a limited width.\n",
        "We can modify the size of the figure of the displot by using parameters `height` (in inches) and `aspect`, where the figure width will be `height * aspect` (inches).\n",
        "The default values are [`height=5` and `aspect=1`](https://seaborn.pydata.org/generated/seaborn.displot.html#seaborn.displot), so we will increase the `aspect`."
      ]
    },
    {
      "cell_type": "code",
      "metadata": {
        "id": "r0l7eL32wCT5"
      },
      "source": [
        "# displot with aspect increased to eg. 1.5 "
      ],
      "execution_count": null,
      "outputs": []
    },
    {
      "cell_type": "markdown",
      "metadata": {
        "id": "850bc5bHwLak"
      },
      "source": [
        "The readability of the graphd is increased, as expected."
      ]
    },
    {
      "cell_type": "markdown",
      "metadata": {
        "id": "nDcvnsgif9iq"
      },
      "source": [
        "Then let us produce the same type of distribution graph, but for each of the top brands we selected earlier.\n",
        "Remember to change the data and add the extra arguments that tell seaborn what distinct plots it should build and what their layout should be."
      ]
    },
    {
      "cell_type": "code",
      "metadata": {
        "id": "ZKvCpLpW_uI3"
      },
      "source": [
        "# displot for top brands"
      ],
      "execution_count": null,
      "outputs": []
    },
    {
      "cell_type": "markdown",
      "metadata": {
        "id": "to-9oLDpgYJH"
      },
      "source": [
        "### Visualizing numerical and categorical data : Nutri-Score score and grade\n",
        "\n",
        "This is all nice but the Nutri-Score score graphs could be more readable if the bars had the nice colors from the Nutri-Score grade graphs.\n",
        "As each Nutri-Score score maps to a Nutri-Score grade, this should be straightforward.\n",
        "`displot` has an argument `hue` that can take a column name (here `'nutriscore_grade'`), and the same `palette` argument as `catplot`."
      ]
    },
    {
      "cell_type": "markdown",
      "metadata": {
        "id": "rsmMmGHRw3qJ"
      },
      "source": [
        "Let us build the distribution plot of Nutri-Score scores, with the colors of the Nutri-Score grades, for the whole dataset."
      ]
    },
    {
      "cell_type": "code",
      "metadata": {
        "id": "mIb3vGtMlQs_"
      },
      "source": [
        "# displot with hue and palette"
      ],
      "execution_count": null,
      "outputs": []
    },
    {
      "cell_type": "markdown",
      "metadata": {
        "id": "otSr9Fp0lfI2"
      },
      "source": [
        "You should notice something weird at the bottom of many bars: It seems as if another, more opaque, bar is superposed.\n",
        "\n",
        "This might indicate that some products with the same Nutri-Score score have different grades."
      ]
    },
    {
      "cell_type": "markdown",
      "metadata": {
        "id": "D1RCcOwRm5Ym"
      },
      "source": [
        "We can modify our distribution plot of Nutri-Score scores with colors for grades, so that bars for different Nutri-Score grades are properly stacked rather than (confusingly) laid over one another.\n",
        "\n",
        "This is done with the parameter `multiple='stack'` (the default value for a [histogram](https://seaborn.pydata.org/generated/seaborn.histplot.html#seaborn.histplot) is `multiple='layer'`)."
      ]
    },
    {
      "cell_type": "code",
      "metadata": {
        "id": "yBLrvzmxkf4r"
      },
      "source": [
        "# displot with hue, palette and multiple='stack'"
      ],
      "execution_count": null,
      "outputs": []
    },
    {
      "cell_type": "markdown",
      "source": [
        "**Exercise** Build the distribution plot of Nutri-Score scores, with the colors of the Nutri-Score grades, for all products (foods and beverages together) from the top brands (defined above)."
      ],
      "metadata": {
        "id": "qXLyUS40yMbk"
      }
    },
    {
      "cell_type": "code",
      "metadata": {
        "id": "RgUgPAKg8ZVY"
      },
      "source": [
        "# displot for top brands with hue, palette, stack"
      ],
      "execution_count": null,
      "outputs": []
    },
    {
      "cell_type": "markdown",
      "source": [
        "### Using data visualization to assess data quality and revise assumptions\n",
        "\n",
        "Now that bars are properly stacked, it is clear that some products with the same Nutri-Score score have different Nutri-Score grades.\n",
        "This discrepancy has an obvious explanation: The thresholds between Nutri-Score grades are different for solid foods and beverages."
      ],
      "metadata": {
        "id": "MucLYe8YfSfj"
      }
    },
    {
      "cell_type": "markdown",
      "source": [
        "We can test our hypothesis by selecting the products that are beverages: We define beverages as the entries whose field `categories_en` contains the string \"Beverages\"."
      ],
      "metadata": {
        "id": "-kied_AqpNq8"
      }
    },
    {
      "cell_type": "code",
      "source": [
        "df_bev =  # ...\n",
        "df_bev  # should be 52,286 rows"
      ],
      "metadata": {
        "colab": {
          "base_uri": "https://localhost:8080/",
          "height": 887
        },
        "id": "-dVXOjnBhdmX",
        "outputId": "7d50ec8a-3736-47ea-d4d5-ef6c57d6c7f5"
      },
      "execution_count": null,
      "outputs": [
        {
          "output_type": "execute_result",
          "data": {
            "text/plain": [
              "                 code                                                url  \\\n",
              "40      0002000003555  http://world-en.openfoodfacts.org/product/0002...   \n",
              "65      0008274000078  http://world-en.openfoodfacts.org/product/0008...   \n",
              "66      0008274004687  http://world-en.openfoodfacts.org/product/0008...   \n",
              "67      0008274006667  http://world-en.openfoodfacts.org/product/0008...   \n",
              "77      0008346500123  http://world-en.openfoodfacts.org/product/0008...   \n",
              "...               ...                                                ...   \n",
              "416523  9906410000009  http://world-en.openfoodfacts.org/product/9906...   \n",
              "416526       99111250  http://world-en.openfoodfacts.org/product/9911...   \n",
              "416532       99351142  http://world-en.openfoodfacts.org/product/9935...   \n",
              "416540       99877026  http://world-en.openfoodfacts.org/product/9987...   \n",
              "416543       99903336  http://world-en.openfoodfacts.org/product/9990...   \n",
              "\n",
              "                           creator          created_datetime  \\\n",
              "40                         kiliweb 2018-02-18 15:38:19+00:00   \n",
              "65      openfoodfacts-contributors 2016-06-13 02:11:52+00:00   \n",
              "66      openfoodfacts-contributors 2019-09-11 01:19:18+00:00   \n",
              "67                         kiliweb 2021-04-04 18:05:58+00:00   \n",
              "77      openfoodfacts-contributors 2020-03-06 20:18:51+00:00   \n",
              "...                            ...                       ...   \n",
              "416523                  agamitsudo 2013-07-10 18:20:08+00:00   \n",
              "416526                    balooval 2013-04-28 15:30:39+00:00   \n",
              "416532                     kiliweb 2019-12-07 16:59:27+00:00   \n",
              "416540                     kiliweb 2019-10-20 11:37:00+00:00   \n",
              "416543                     kiliweb 2018-07-07 11:10:35+00:00   \n",
              "\n",
              "          last_modified_datetime                            product_name  \\\n",
              "40     2019-08-23 20:35:58+00:00                          Ruby breakfast   \n",
              "65     2020-04-23 19:27:19+00:00          Extra craft ginger beer, extra   \n",
              "66     2020-04-23 19:27:19+00:00  Strongest craft ginger beer, strongest   \n",
              "67     2021-05-16 14:01:08+00:00             Reed’s Real Ginger Ale Zero   \n",
              "77     2021-05-22 19:12:00+00:00                  Meal Replacement Shake   \n",
              "...                          ...                                     ...   \n",
              "416523 2016-01-03 20:00:15+00:00               Roussette du Bugey (2011)   \n",
              "416526 2021-02-22 22:46:47+00:00                      Thé vert Earl grey   \n",
              "416532 2020-01-15 15:37:02+00:00                   Boisson litchi goyave   \n",
              "416540 2019-10-20 12:01:01+00:00                        Nectar de mangue   \n",
              "416543 2020-10-04 19:27:02+00:00                         Jus multifruits   \n",
              "\n",
              "               generic_name  quantity           packaging              brands  \\\n",
              "40                     <NA>       1 L                <NA>           Tropicana   \n",
              "65              Ginger Beer  12 fl oz        Glass,Bottle              Reed's   \n",
              "66                     <NA>   12fl oz                <NA>              Reed’s   \n",
              "67                     <NA>  12 fl oz                 can              Reed's   \n",
              "77                     <NA>      <NA>                <NA>            Slimfast   \n",
              "...                     ...       ...                 ...                 ...   \n",
              "416523  Vins blanc du Bugey    750 ml  Bouteille en verre  Roussette du Bugey   \n",
              "416526    thé bio équitable      50 g        boîte,carton             Lobodis   \n",
              "416532                 <NA>      <NA>                <NA>              Agidra   \n",
              "416540                 <NA>       1 l     Bouteille,Verre             Gilbert   \n",
              "416543    Nectar multifruit      <NA>                <NA>            Pressade   \n",
              "\n",
              "        ... sodium_100g alcohol_100g vitamin-a_100g vitamin-c_100g  \\\n",
              "40      ...    0.000000          NaN            NaN            NaN   \n",
              "65      ...    0.000000          NaN            NaN            NaN   \n",
              "66      ...    0.000005          0.0            NaN            NaN   \n",
              "67      ...    0.000000          NaN            NaN            NaN   \n",
              "77      ...    0.046154          NaN       0.000184         0.0203   \n",
              "...     ...         ...          ...            ...            ...   \n",
              "416523  ...         NaN         12.0            NaN            NaN   \n",
              "416526  ...    0.010160          NaN            NaN            NaN   \n",
              "416532  ...    0.004000          NaN            NaN            NaN   \n",
              "416540  ...    0.012000          NaN            NaN            NaN   \n",
              "416543  ...    0.000000          NaN            NaN            NaN   \n",
              "\n",
              "       vitamin-b1_100g potassium_100g calcium_100g iron_100g magnesium_100g  \\\n",
              "40                 NaN            NaN          NaN       NaN            NaN   \n",
              "65                 NaN          0.008        0.000   0.00011            NaN   \n",
              "66                 NaN          0.008        0.000   0.00011            NaN   \n",
              "67                 NaN            NaN          NaN       NaN            NaN   \n",
              "77                 0.0          0.215        0.123   0.00083          0.043   \n",
              "...                ...            ...          ...       ...            ...   \n",
              "416523             NaN            NaN          NaN       NaN            NaN   \n",
              "416526             NaN            NaN          NaN       NaN            NaN   \n",
              "416532             NaN            NaN          NaN       NaN            NaN   \n",
              "416540             NaN            NaN          NaN       NaN            NaN   \n",
              "416543             NaN            NaN          NaN       NaN            NaN   \n",
              "\n",
              "       nutrition-score-fr_100g  \n",
              "40                        14.0  \n",
              "65                        13.0  \n",
              "66                        13.0  \n",
              "67                         0.0  \n",
              "77                         5.0  \n",
              "...                        ...  \n",
              "416523                     NaN  \n",
              "416526                     NaN  \n",
              "416532                    15.0  \n",
              "416540                    17.0  \n",
              "416543                    11.0  \n",
              "\n",
              "[52286 rows x 66 columns]"
            ],
            "text/html": [
              "\n",
              "  <div id=\"df-9e8f8509-1c6b-465e-ad2d-9da74992e967\">\n",
              "    <div class=\"colab-df-container\">\n",
              "      <div>\n",
              "<style scoped>\n",
              "    .dataframe tbody tr th:only-of-type {\n",
              "        vertical-align: middle;\n",
              "    }\n",
              "\n",
              "    .dataframe tbody tr th {\n",
              "        vertical-align: top;\n",
              "    }\n",
              "\n",
              "    .dataframe thead th {\n",
              "        text-align: right;\n",
              "    }\n",
              "</style>\n",
              "<table border=\"1\" class=\"dataframe\">\n",
              "  <thead>\n",
              "    <tr style=\"text-align: right;\">\n",
              "      <th></th>\n",
              "      <th>code</th>\n",
              "      <th>url</th>\n",
              "      <th>creator</th>\n",
              "      <th>created_datetime</th>\n",
              "      <th>last_modified_datetime</th>\n",
              "      <th>product_name</th>\n",
              "      <th>generic_name</th>\n",
              "      <th>quantity</th>\n",
              "      <th>packaging</th>\n",
              "      <th>brands</th>\n",
              "      <th>...</th>\n",
              "      <th>sodium_100g</th>\n",
              "      <th>alcohol_100g</th>\n",
              "      <th>vitamin-a_100g</th>\n",
              "      <th>vitamin-c_100g</th>\n",
              "      <th>vitamin-b1_100g</th>\n",
              "      <th>potassium_100g</th>\n",
              "      <th>calcium_100g</th>\n",
              "      <th>iron_100g</th>\n",
              "      <th>magnesium_100g</th>\n",
              "      <th>nutrition-score-fr_100g</th>\n",
              "    </tr>\n",
              "  </thead>\n",
              "  <tbody>\n",
              "    <tr>\n",
              "      <th>40</th>\n",
              "      <td>0002000003555</td>\n",
              "      <td>http://world-en.openfoodfacts.org/product/0002...</td>\n",
              "      <td>kiliweb</td>\n",
              "      <td>2018-02-18 15:38:19+00:00</td>\n",
              "      <td>2019-08-23 20:35:58+00:00</td>\n",
              "      <td>Ruby breakfast</td>\n",
              "      <td>&lt;NA&gt;</td>\n",
              "      <td>1 L</td>\n",
              "      <td>&lt;NA&gt;</td>\n",
              "      <td>Tropicana</td>\n",
              "      <td>...</td>\n",
              "      <td>0.000000</td>\n",
              "      <td>NaN</td>\n",
              "      <td>NaN</td>\n",
              "      <td>NaN</td>\n",
              "      <td>NaN</td>\n",
              "      <td>NaN</td>\n",
              "      <td>NaN</td>\n",
              "      <td>NaN</td>\n",
              "      <td>NaN</td>\n",
              "      <td>14.0</td>\n",
              "    </tr>\n",
              "    <tr>\n",
              "      <th>65</th>\n",
              "      <td>0008274000078</td>\n",
              "      <td>http://world-en.openfoodfacts.org/product/0008...</td>\n",
              "      <td>openfoodfacts-contributors</td>\n",
              "      <td>2016-06-13 02:11:52+00:00</td>\n",
              "      <td>2020-04-23 19:27:19+00:00</td>\n",
              "      <td>Extra craft ginger beer, extra</td>\n",
              "      <td>Ginger Beer</td>\n",
              "      <td>12 fl oz</td>\n",
              "      <td>Glass,Bottle</td>\n",
              "      <td>Reed's</td>\n",
              "      <td>...</td>\n",
              "      <td>0.000000</td>\n",
              "      <td>NaN</td>\n",
              "      <td>NaN</td>\n",
              "      <td>NaN</td>\n",
              "      <td>NaN</td>\n",
              "      <td>0.008</td>\n",
              "      <td>0.000</td>\n",
              "      <td>0.00011</td>\n",
              "      <td>NaN</td>\n",
              "      <td>13.0</td>\n",
              "    </tr>\n",
              "    <tr>\n",
              "      <th>66</th>\n",
              "      <td>0008274004687</td>\n",
              "      <td>http://world-en.openfoodfacts.org/product/0008...</td>\n",
              "      <td>openfoodfacts-contributors</td>\n",
              "      <td>2019-09-11 01:19:18+00:00</td>\n",
              "      <td>2020-04-23 19:27:19+00:00</td>\n",
              "      <td>Strongest craft ginger beer, strongest</td>\n",
              "      <td>&lt;NA&gt;</td>\n",
              "      <td>12fl oz</td>\n",
              "      <td>&lt;NA&gt;</td>\n",
              "      <td>Reed’s</td>\n",
              "      <td>...</td>\n",
              "      <td>0.000005</td>\n",
              "      <td>0.0</td>\n",
              "      <td>NaN</td>\n",
              "      <td>NaN</td>\n",
              "      <td>NaN</td>\n",
              "      <td>0.008</td>\n",
              "      <td>0.000</td>\n",
              "      <td>0.00011</td>\n",
              "      <td>NaN</td>\n",
              "      <td>13.0</td>\n",
              "    </tr>\n",
              "    <tr>\n",
              "      <th>67</th>\n",
              "      <td>0008274006667</td>\n",
              "      <td>http://world-en.openfoodfacts.org/product/0008...</td>\n",
              "      <td>kiliweb</td>\n",
              "      <td>2021-04-04 18:05:58+00:00</td>\n",
              "      <td>2021-05-16 14:01:08+00:00</td>\n",
              "      <td>Reed’s Real Ginger Ale Zero</td>\n",
              "      <td>&lt;NA&gt;</td>\n",
              "      <td>12 fl oz</td>\n",
              "      <td>can</td>\n",
              "      <td>Reed's</td>\n",
              "      <td>...</td>\n",
              "      <td>0.000000</td>\n",
              "      <td>NaN</td>\n",
              "      <td>NaN</td>\n",
              "      <td>NaN</td>\n",
              "      <td>NaN</td>\n",
              "      <td>NaN</td>\n",
              "      <td>NaN</td>\n",
              "      <td>NaN</td>\n",
              "      <td>NaN</td>\n",
              "      <td>0.0</td>\n",
              "    </tr>\n",
              "    <tr>\n",
              "      <th>77</th>\n",
              "      <td>0008346500123</td>\n",
              "      <td>http://world-en.openfoodfacts.org/product/0008...</td>\n",
              "      <td>openfoodfacts-contributors</td>\n",
              "      <td>2020-03-06 20:18:51+00:00</td>\n",
              "      <td>2021-05-22 19:12:00+00:00</td>\n",
              "      <td>Meal Replacement Shake</td>\n",
              "      <td>&lt;NA&gt;</td>\n",
              "      <td>&lt;NA&gt;</td>\n",
              "      <td>&lt;NA&gt;</td>\n",
              "      <td>Slimfast</td>\n",
              "      <td>...</td>\n",
              "      <td>0.046154</td>\n",
              "      <td>NaN</td>\n",
              "      <td>0.000184</td>\n",
              "      <td>0.0203</td>\n",
              "      <td>0.0</td>\n",
              "      <td>0.215</td>\n",
              "      <td>0.123</td>\n",
              "      <td>0.00083</td>\n",
              "      <td>0.043</td>\n",
              "      <td>5.0</td>\n",
              "    </tr>\n",
              "    <tr>\n",
              "      <th>...</th>\n",
              "      <td>...</td>\n",
              "      <td>...</td>\n",
              "      <td>...</td>\n",
              "      <td>...</td>\n",
              "      <td>...</td>\n",
              "      <td>...</td>\n",
              "      <td>...</td>\n",
              "      <td>...</td>\n",
              "      <td>...</td>\n",
              "      <td>...</td>\n",
              "      <td>...</td>\n",
              "      <td>...</td>\n",
              "      <td>...</td>\n",
              "      <td>...</td>\n",
              "      <td>...</td>\n",
              "      <td>...</td>\n",
              "      <td>...</td>\n",
              "      <td>...</td>\n",
              "      <td>...</td>\n",
              "      <td>...</td>\n",
              "      <td>...</td>\n",
              "    </tr>\n",
              "    <tr>\n",
              "      <th>416523</th>\n",
              "      <td>9906410000009</td>\n",
              "      <td>http://world-en.openfoodfacts.org/product/9906...</td>\n",
              "      <td>agamitsudo</td>\n",
              "      <td>2013-07-10 18:20:08+00:00</td>\n",
              "      <td>2016-01-03 20:00:15+00:00</td>\n",
              "      <td>Roussette du Bugey (2011)</td>\n",
              "      <td>Vins blanc du Bugey</td>\n",
              "      <td>750 ml</td>\n",
              "      <td>Bouteille en verre</td>\n",
              "      <td>Roussette du Bugey</td>\n",
              "      <td>...</td>\n",
              "      <td>NaN</td>\n",
              "      <td>12.0</td>\n",
              "      <td>NaN</td>\n",
              "      <td>NaN</td>\n",
              "      <td>NaN</td>\n",
              "      <td>NaN</td>\n",
              "      <td>NaN</td>\n",
              "      <td>NaN</td>\n",
              "      <td>NaN</td>\n",
              "      <td>NaN</td>\n",
              "    </tr>\n",
              "    <tr>\n",
              "      <th>416526</th>\n",
              "      <td>99111250</td>\n",
              "      <td>http://world-en.openfoodfacts.org/product/9911...</td>\n",
              "      <td>balooval</td>\n",
              "      <td>2013-04-28 15:30:39+00:00</td>\n",
              "      <td>2021-02-22 22:46:47+00:00</td>\n",
              "      <td>Thé vert Earl grey</td>\n",
              "      <td>thé bio équitable</td>\n",
              "      <td>50 g</td>\n",
              "      <td>boîte,carton</td>\n",
              "      <td>Lobodis</td>\n",
              "      <td>...</td>\n",
              "      <td>0.010160</td>\n",
              "      <td>NaN</td>\n",
              "      <td>NaN</td>\n",
              "      <td>NaN</td>\n",
              "      <td>NaN</td>\n",
              "      <td>NaN</td>\n",
              "      <td>NaN</td>\n",
              "      <td>NaN</td>\n",
              "      <td>NaN</td>\n",
              "      <td>NaN</td>\n",
              "    </tr>\n",
              "    <tr>\n",
              "      <th>416532</th>\n",
              "      <td>99351142</td>\n",
              "      <td>http://world-en.openfoodfacts.org/product/9935...</td>\n",
              "      <td>kiliweb</td>\n",
              "      <td>2019-12-07 16:59:27+00:00</td>\n",
              "      <td>2020-01-15 15:37:02+00:00</td>\n",
              "      <td>Boisson litchi goyave</td>\n",
              "      <td>&lt;NA&gt;</td>\n",
              "      <td>&lt;NA&gt;</td>\n",
              "      <td>&lt;NA&gt;</td>\n",
              "      <td>Agidra</td>\n",
              "      <td>...</td>\n",
              "      <td>0.004000</td>\n",
              "      <td>NaN</td>\n",
              "      <td>NaN</td>\n",
              "      <td>NaN</td>\n",
              "      <td>NaN</td>\n",
              "      <td>NaN</td>\n",
              "      <td>NaN</td>\n",
              "      <td>NaN</td>\n",
              "      <td>NaN</td>\n",
              "      <td>15.0</td>\n",
              "    </tr>\n",
              "    <tr>\n",
              "      <th>416540</th>\n",
              "      <td>99877026</td>\n",
              "      <td>http://world-en.openfoodfacts.org/product/9987...</td>\n",
              "      <td>kiliweb</td>\n",
              "      <td>2019-10-20 11:37:00+00:00</td>\n",
              "      <td>2019-10-20 12:01:01+00:00</td>\n",
              "      <td>Nectar de mangue</td>\n",
              "      <td>&lt;NA&gt;</td>\n",
              "      <td>1 l</td>\n",
              "      <td>Bouteille,Verre</td>\n",
              "      <td>Gilbert</td>\n",
              "      <td>...</td>\n",
              "      <td>0.012000</td>\n",
              "      <td>NaN</td>\n",
              "      <td>NaN</td>\n",
              "      <td>NaN</td>\n",
              "      <td>NaN</td>\n",
              "      <td>NaN</td>\n",
              "      <td>NaN</td>\n",
              "      <td>NaN</td>\n",
              "      <td>NaN</td>\n",
              "      <td>17.0</td>\n",
              "    </tr>\n",
              "    <tr>\n",
              "      <th>416543</th>\n",
              "      <td>99903336</td>\n",
              "      <td>http://world-en.openfoodfacts.org/product/9990...</td>\n",
              "      <td>kiliweb</td>\n",
              "      <td>2018-07-07 11:10:35+00:00</td>\n",
              "      <td>2020-10-04 19:27:02+00:00</td>\n",
              "      <td>Jus multifruits</td>\n",
              "      <td>Nectar multifruit</td>\n",
              "      <td>&lt;NA&gt;</td>\n",
              "      <td>&lt;NA&gt;</td>\n",
              "      <td>Pressade</td>\n",
              "      <td>...</td>\n",
              "      <td>0.000000</td>\n",
              "      <td>NaN</td>\n",
              "      <td>NaN</td>\n",
              "      <td>NaN</td>\n",
              "      <td>NaN</td>\n",
              "      <td>NaN</td>\n",
              "      <td>NaN</td>\n",
              "      <td>NaN</td>\n",
              "      <td>NaN</td>\n",
              "      <td>11.0</td>\n",
              "    </tr>\n",
              "  </tbody>\n",
              "</table>\n",
              "<p>52286 rows × 66 columns</p>\n",
              "</div>\n",
              "      <button class=\"colab-df-convert\" onclick=\"convertToInteractive('df-9e8f8509-1c6b-465e-ad2d-9da74992e967')\"\n",
              "              title=\"Convert this dataframe to an interactive table.\"\n",
              "              style=\"display:none;\">\n",
              "        \n",
              "  <svg xmlns=\"http://www.w3.org/2000/svg\" height=\"24px\"viewBox=\"0 0 24 24\"\n",
              "       width=\"24px\">\n",
              "    <path d=\"M0 0h24v24H0V0z\" fill=\"none\"/>\n",
              "    <path d=\"M18.56 5.44l.94 2.06.94-2.06 2.06-.94-2.06-.94-.94-2.06-.94 2.06-2.06.94zm-11 1L8.5 8.5l.94-2.06 2.06-.94-2.06-.94L8.5 2.5l-.94 2.06-2.06.94zm10 10l.94 2.06.94-2.06 2.06-.94-2.06-.94-.94-2.06-.94 2.06-2.06.94z\"/><path d=\"M17.41 7.96l-1.37-1.37c-.4-.4-.92-.59-1.43-.59-.52 0-1.04.2-1.43.59L10.3 9.45l-7.72 7.72c-.78.78-.78 2.05 0 2.83L4 21.41c.39.39.9.59 1.41.59.51 0 1.02-.2 1.41-.59l7.78-7.78 2.81-2.81c.8-.78.8-2.07 0-2.86zM5.41 20L4 18.59l7.72-7.72 1.47 1.35L5.41 20z\"/>\n",
              "  </svg>\n",
              "      </button>\n",
              "      \n",
              "  <style>\n",
              "    .colab-df-container {\n",
              "      display:flex;\n",
              "      flex-wrap:wrap;\n",
              "      gap: 12px;\n",
              "    }\n",
              "\n",
              "    .colab-df-convert {\n",
              "      background-color: #E8F0FE;\n",
              "      border: none;\n",
              "      border-radius: 50%;\n",
              "      cursor: pointer;\n",
              "      display: none;\n",
              "      fill: #1967D2;\n",
              "      height: 32px;\n",
              "      padding: 0 0 0 0;\n",
              "      width: 32px;\n",
              "    }\n",
              "\n",
              "    .colab-df-convert:hover {\n",
              "      background-color: #E2EBFA;\n",
              "      box-shadow: 0px 1px 2px rgba(60, 64, 67, 0.3), 0px 1px 3px 1px rgba(60, 64, 67, 0.15);\n",
              "      fill: #174EA6;\n",
              "    }\n",
              "\n",
              "    [theme=dark] .colab-df-convert {\n",
              "      background-color: #3B4455;\n",
              "      fill: #D2E3FC;\n",
              "    }\n",
              "\n",
              "    [theme=dark] .colab-df-convert:hover {\n",
              "      background-color: #434B5C;\n",
              "      box-shadow: 0px 1px 3px 1px rgba(0, 0, 0, 0.15);\n",
              "      filter: drop-shadow(0px 1px 2px rgba(0, 0, 0, 0.3));\n",
              "      fill: #FFFFFF;\n",
              "    }\n",
              "  </style>\n",
              "\n",
              "      <script>\n",
              "        const buttonEl =\n",
              "          document.querySelector('#df-9e8f8509-1c6b-465e-ad2d-9da74992e967 button.colab-df-convert');\n",
              "        buttonEl.style.display =\n",
              "          google.colab.kernel.accessAllowed ? 'block' : 'none';\n",
              "\n",
              "        async function convertToInteractive(key) {\n",
              "          const element = document.querySelector('#df-9e8f8509-1c6b-465e-ad2d-9da74992e967');\n",
              "          const dataTable =\n",
              "            await google.colab.kernel.invokeFunction('convertToInteractive',\n",
              "                                                     [key], {});\n",
              "          if (!dataTable) return;\n",
              "\n",
              "          const docLinkHtml = 'Like what you see? Visit the ' +\n",
              "            '<a target=\"_blank\" href=https://colab.research.google.com/notebooks/data_table.ipynb>data table notebook</a>'\n",
              "            + ' to learn more about interactive tables.';\n",
              "          element.innerHTML = '';\n",
              "          dataTable['output_type'] = 'display_data';\n",
              "          await google.colab.output.renderOutput(dataTable, element);\n",
              "          const docLink = document.createElement('div');\n",
              "          docLink.innerHTML = docLinkHtml;\n",
              "          element.appendChild(docLink);\n",
              "        }\n",
              "      </script>\n",
              "    </div>\n",
              "  </div>\n",
              "  "
            ]
          },
          "metadata": {},
          "execution_count": 20
        }
      ]
    },
    {
      "cell_type": "markdown",
      "source": [
        "We can plot the Nutri-Score scores and grades for the subset of beverages `df_bev`, exactly as we did above for the whole `df`."
      ],
      "metadata": {
        "id": "B7Jq5_eWp_AV"
      }
    },
    {
      "cell_type": "code",
      "source": [
        "# displot on df_bev, hue, palette, stack"
      ],
      "metadata": {
        "id": "jp08pjBCqY_t"
      },
      "execution_count": null,
      "outputs": []
    },
    {
      "cell_type": "markdown",
      "source": [
        "This is harder to interpret than we expected.\n",
        "\n",
        "Products with scores of 10 are graded 'a': Are they classified as waters? Is this classification correct, or is the data erroneous?\n",
        "\n",
        "Grade 'b' should not go higher than 1, yet a non-negligible number of products scored 2 are graded 'b'. Could they be solid foods? Have we inadvertently selected non-beverages due to an ill-defined filter?\n",
        "\n",
        "We would need to examine the outliers to know if any or all of these leads are correct.\n"
      ],
      "metadata": {
        "id": "hL2zCD4KrOUW"
      }
    },
    {
      "cell_type": "code",
      "source": [
        "# in df_bev, select products with Nutri-Score score 2 and grade 'b'"
      ],
      "metadata": {
        "id": "_yytqb4keCkN"
      },
      "execution_count": null,
      "outputs": []
    },
    {
      "cell_type": "markdown",
      "source": [
        "[Foco, coconut milk drink](https://world.openfoodfacts.org/product/0016229919672/foco-coconut-milk-drink) is one of the beverages with Nutri-Score score 2 and grade 'b' that we selected above.\n",
        "\n",
        "The product page on the Open Food Facts website displays the nutrition facts:\n",
        "<center>\n",
        "<img src=\"https://github.com/datactivist/scpo-data-science-bootcamp/raw/main/notebooks/img/off-nutrition-facts.png\" width=400>\n",
        "</center>\n",
        "\n",
        "Two elements should be noted:\n",
        "\n",
        "1. A warning is immediately displayed:\n",
        "> ⚠️ Warning: the amount of fruits, vegetables and nuts is not specified on the label, it was estimated from the list of ingredients: 0\n",
        "\n",
        "2. When you click on \"Details of the calculation of the Nutri-Score\", the content is introduced by this sentence: \"This product is not considered a beverage for the calculation of the Nutri-Score.\"\n",
        "\n",
        "What do these messages really mean?"
      ],
      "metadata": {
        "id": "sdg9aJoUgeNw"
      }
    },
    {
      "cell_type": "markdown",
      "metadata": {
        "id": "-AWOOg9O5RR2"
      },
      "source": [
        "#### Missing data\n",
        "\n",
        "Regarding (1), remember that, while the Nutri-Score grade is displayed on the product, the Nutri-Score score is not.\n",
        "Therefore, OpenFoodFacts re-estimates the Nutri-Score score from the nutritional values and relevant (estimated) proportion of certain ingredients.\n",
        "Certain information is hard to retrieve though, like the proportion of fruits, vegetables and nuts in a product, or not always displayed like its fiber content.\n",
        "\n",
        "As a consequence, the Nutri-Score score in OpenFoodFacts is a best estimate, based on the available information, from the true Nutri-Score score.\n",
        "The information gap between the available information and all the true values required to compute the Nutri-Score score, could explain some of the discrepancy between the true Nutri-Score grade and its expected value based on the (partial) Nutri-Score score."
      ]
    },
    {
      "cell_type": "markdown",
      "source": [
        "We cannot do anything about (1), but this is an important reminder that data can be erroneous, inconsistent, or incomplete. \n",
        "\n",
        "It is extremely important to account for issues in data quality while conducting any data-driven analysis or study."
      ],
      "metadata": {
        "id": "LRHiDX5mnCSS"
      }
    },
    {
      "cell_type": "markdown",
      "source": [
        "#### Modelling assumptions\n",
        "\n",
        "As for (2), let us go back to the [scientific and technical QA](https://www.santepubliquefrance.fr/media/files/02-determinants-de-sante/nutrition-et-activite-physique/nutri-score/qr-scientifique-technique-en) from which we got the thresholds for the Nutri-Score grades.\n",
        "\n",
        "A search on \"milk\" reveals that:\n",
        "- \"[...] milk, drinkable yoghurt, flavoured or chocolate milk beverages containing more than 80% milk, soups and gazpacho, and plant-based drinks are not considered beverages for the purposes of calculating the Nutri-Score\" (p. 8),\n",
        "- coconut products should be treated in specific ways (p. 21-22).\n",
        "\n",
        "<center>\n",
        "<img src=\"https://github.com/datactivist/scpo-data-science-bootcamp/raw/main/notebooks/img/off-clarif-coconut.png\" width=400>\n",
        "</center>\n"
      ],
      "metadata": {
        "id": "x17TOgxXkAUp"
      }
    },
    {
      "cell_type": "markdown",
      "source": [
        "We can account for (2): We would need to refine our filter so that we select all \"Beverages\", but exclude all the categories that correspond to the various exceptions listed in the technical document.\n",
        "This in turn requires to identify the set of categories that capture exactly the set of exceptions."
      ],
      "metadata": {
        "id": "y6PvfzWfxhXw"
      }
    },
    {
      "cell_type": "markdown",
      "source": [
        "Refining filters is an iterative process, of trial and error, where you identify one or more outliers, adjust the filter so that items that do not belong are excluded and items that should belong are included.\n",
        "We will not go any further on this point, because this iterative process is time-consuming, but we hope you understood the gist."
      ],
      "metadata": {
        "id": "MYW5gUsW3MCx"
      }
    },
    {
      "cell_type": "markdown",
      "source": [
        "You can look into this issue after you are done with this notebook, and the project.\n",
        "If you find anything, please let us know !"
      ],
      "metadata": {
        "id": "IVBzhNESsOYk"
      }
    },
    {
      "cell_type": "markdown",
      "metadata": {
        "id": "kxIOd-VskpIH"
      },
      "source": [
        "## Nutri-Score vs Nova\n",
        "\n",
        "The Nutri-Score and Nova groups capture different aspects of the impact of food products on health.\n",
        "Are they correlated ?"
      ]
    },
    {
      "cell_type": "code",
      "metadata": {
        "id": "l1ZKCLATEi0j"
      },
      "source": [
        "# we will use the color palette for the NOVA groups\n",
        "# couleurs NOVA\n",
        "colors_nova = {\n",
        "    '1': '#00aa00',\n",
        "    '2': '#ffcc00',\n",
        "    '3': '#ff6600',\n",
        "    '4': '#ff0000',\n",
        "}"
      ],
      "execution_count": null,
      "outputs": []
    },
    {
      "cell_type": "markdown",
      "metadata": {
        "id": "QxEXHOxIA55X"
      },
      "source": [
        "### Visualizing two categorical variables\n",
        "\n",
        "We will first plot, for each Nutri-Score grade, the count of products with this Nutri-Score grade and each of the NOVA groups.\n",
        "\n",
        "(Note that we work on the entire dataset `df` again, after our detour through beverages.)"
      ]
    },
    {
      "cell_type": "code",
      "metadata": {
        "id": "G_JlR77NlCFN"
      },
      "source": [
        "# catplot on df, with hue and palette"
      ],
      "execution_count": null,
      "outputs": []
    },
    {
      "cell_type": "markdown",
      "metadata": {
        "id": "keadTxymDl56"
      },
      "source": [
        "The NOVA group 4 is dominant in all Nutri-Score grades except the healthiest one (group 'a').\n",
        "This is consistent with the fact that, by construction, the Nutri-Score and NOVA groups capture different aspects."
      ]
    },
    {
      "cell_type": "markdown",
      "metadata": {
        "id": "jyB-xqCPGfu5"
      },
      "source": [
        "Now do the plot the other way round : for each NOVA group, plot the number of products with this NOVA group and each of the Nutri-Score grades. Do not forget to use the right color palette."
      ]
    },
    {
      "cell_type": "code",
      "metadata": {
        "id": "MMe-lbZeGhg1"
      },
      "source": [
        "# catplot the other way round"
      ],
      "execution_count": null,
      "outputs": []
    },
    {
      "cell_type": "markdown",
      "metadata": {
        "id": "1DMpwmqiHAs_"
      },
      "source": [
        "A majority of the products in the NOVA group 1 have the Nutri-Score grade 'a'.\n",
        "Most raw products (NOVA group 'a') are also nutritionally healthy.\n",
        "\n",
        "NOVA group 2 contains very few products, mostly from Nutri-Score grades 'c' and below.\n",
        "\n",
        "The [mode](https://en.wikipedia.org/wiki/Mode_(statistics) of NOVA groups 3 and 4 respectively are Nutri-Score grades 'd' and 'e', but both NOVA groups contain a non-negligible number of products with Nutri-Score 'a'.\n"
      ]
    },
    {
      "cell_type": "markdown",
      "metadata": {
        "id": "HWXhy84kGiH-"
      },
      "source": [
        "### Visualizing numerical and categorical data (again)\n",
        "\n",
        "Let us see if the same is true for Nutri-Score scores versus NOVA groups.\n",
        "\n",
        "> **Hint** : use the same `displot` function as earlier but replace arguments specific to Nutri-Score grades with their equivalent for NOVA groups."
      ]
    },
    {
      "cell_type": "code",
      "metadata": {
        "id": "eVH2NZWMGlSn"
      },
      "source": [
        "# displot on df, another one"
      ],
      "execution_count": null,
      "outputs": []
    },
    {
      "cell_type": "markdown",
      "source": [
        "The NOVA group 4 is dominant for all Nutri-Score scores greater than or equal to -3.\n",
        "Below this threshold, ie. from -15 to -4 included, the mode is NOVA group 1.\n",
        "\n",
        "This is lower than the threshold between Nutri-Score grades 'a' and 'b': Nutri-Score grade 'a' corresponds to scores between -15 and -2 (included), 'b' to scores between -1 and +3."
      ],
      "metadata": {
        "id": "qq9g8pEByEHH"
      }
    },
    {
      "cell_type": "markdown",
      "source": [
        "All these graphs confirm that Nutri-Score and NOVA are only loosely correlated, because they capture different information.\n",
        "\n",
        "The latest graph alone indicates that Nutri-Score scores enable finer-grained analyses than Nutri-Score grades."
      ],
      "metadata": {
        "id": "74gozgXTBi0_"
      }
    },
    {
      "cell_type": "markdown",
      "source": [
        "**Exercise.** Build a displot that shows:\n",
        "* for each NOVA group,\n",
        "* the histogram distribution of Nutri-Score scores,\n",
        "* with colored stacked bars for the Nutri-Score grades."
      ],
      "metadata": {
        "id": "SIDLI-r0SBTV"
      }
    },
    {
      "cell_type": "markdown",
      "source": [
        "> **HINT**: You need to specify the right `palette`."
      ],
      "metadata": {
        "id": "Hj0fGHRoTVUG"
      }
    },
    {
      "cell_type": "code",
      "source": [
        "# faceted displot"
      ],
      "metadata": {
        "id": "FIeLAPlhyvfS"
      },
      "execution_count": null,
      "outputs": []
    },
    {
      "cell_type": "markdown",
      "source": [
        "The NOVA group 4 contains the highest number of products, across the entire distribution of Nutri-Score scores.\n",
        "\n",
        "The NOVA group 2 contains very few products, mostly with quite high Nutri-Score scores. Does this NOVA group consist of a few categories of products with high homogeneous Nutri-Score scores ? You can explore this NOVA group 2 in more detail to find out !"
      ],
      "metadata": {
        "id": "g3ckKO0aTqCP"
      }
    },
    {
      "cell_type": "markdown",
      "metadata": {
        "id": "HXz8UNk-JD2Q"
      },
      "source": [
        "**Bonus exercise.** Try and come up with a graph built the other way round, ie. a catplot of NOVA groups that displays distributions of Nutri-Score scores."
      ]
    },
    {
      "cell_type": "markdown",
      "source": [
        "> **HINT** The categorical variable (here the NOVA group) can be specified as `x` or `y`. Try both options and keep the one that you find more readable.\n",
        "\n",
        "> **HINT** You could try different kinds of catplot but we have (a) many observations and (b) missing values, so you should use the distribution plots (`box` or `boxen`).\n",
        "\n",
        "> **HINT** Specifying a `palette` will improve the looks of your graph. Use the `palette` that best suits your graph."
      ],
      "metadata": {
        "id": "IFJ6QtqeMQb-"
      }
    },
    {
      "cell_type": "code",
      "source": [
        "# catplot"
      ],
      "metadata": {
        "id": "Zh4Jbu2VOG9M"
      },
      "execution_count": null,
      "outputs": []
    },
    {
      "cell_type": "markdown",
      "source": [
        "The general tendency is that the distribution of Nutri-Score scores shifts to the right as the NOVA group increases.\n",
        "\n",
        "The NOVA group '2' is an exception: The distribution of its Nutri-Score scores is \"higher\" than we would have expected."
      ],
      "metadata": {
        "id": "Dyp2ojzMQFGw"
      }
    },
    {
      "cell_type": "markdown",
      "source": [
        "Build a more detailed variant of this graph: Add the Nutri-Score grade as a `hue` variable."
      ],
      "metadata": {
        "id": "PskvGkCmPt1v"
      }
    },
    {
      "cell_type": "markdown",
      "source": [
        "> **HINT** You will need to change the `palette` so that it can apply to the `hue` variable."
      ],
      "metadata": {
        "id": "lqACbEDMRITo"
      }
    },
    {
      "cell_type": "code",
      "source": [
        "# catplot with 2 variables x and y, plus hue"
      ],
      "metadata": {
        "id": "_HU1FgMLEUR0"
      },
      "execution_count": null,
      "outputs": []
    },
    {
      "cell_type": "markdown",
      "metadata": {
        "id": "Ngt8BYS-07Ym"
      },
      "source": [
        "## Eco-Score\n",
        "\n",
        "In January 2021, OpenFoodFacts and a number of actors launched the [Eco-Score (French)](https://docs.score-environnemental.com/):\n",
        "  * [announcement (French)](https://fr.blog.openfoodfacts.org/news/lancement-de-l-eco-score-la-note-environnementale-des-produits-alimentaires)\n",
        "  * [description (French)](https://fr.openfoodfacts.org/eco-score-l-impact-environnemental-des-produits-alimentaires)"
      ]
    },
    {
      "cell_type": "markdown",
      "metadata": {
        "id": "h8rBJy9j2iMC"
      },
      "source": [
        "Build for the Eco-Score (score and grade) the same graphs as the ones we produced for the Nutri-Score."
      ]
    },
    {
      "cell_type": "markdown",
      "source": [
        "> **HINT**: The corresponding columns are named `ecoscore_score_fr` and `ecoscore_grade_fr`."
      ],
      "metadata": {
        "id": "KBfx_BzJXDNe"
      }
    },
    {
      "cell_type": "code",
      "metadata": {
        "id": "A45hVGkt15l1"
      },
      "source": [
        "# displot, 1 variable plus hue"
      ],
      "execution_count": null,
      "outputs": []
    },
    {
      "cell_type": "code",
      "source": [
        "# etc..."
      ],
      "metadata": {
        "id": "Qr-ukw--XY7O"
      },
      "execution_count": null,
      "outputs": []
    },
    {
      "cell_type": "markdown",
      "metadata": {
        "id": "Dj1rQLYAJWjh"
      },
      "source": [
        "We can also compare Nutri-Score scores and Eco-Score scores, with a [scatter plot](https://seaborn.pydata.org/tutorial/relational.html#relating-variables-with-scatter-plots).\n",
        "\n",
        "Scatter plots enable to visualize the joint distribution of two variables, using a cloud of points where each variable is a coordinate in the 2 dimensional plane."
      ]
    },
    {
      "cell_type": "code",
      "metadata": {
        "id": "gOp3Z9-IJm6e"
      },
      "source": [
        "# relplot, kind scatter"
      ],
      "execution_count": null,
      "outputs": []
    },
    {
      "cell_type": "markdown",
      "metadata": {
        "id": "LWMXukCEJ6kx"
      },
      "source": [
        "It seems as if the Nutri-Score score and Eco-Score score are quite independent.\n",
        "\n",
        "We have little hope but let us add the Nutri-Score grade as hue, with its color palette, and see if this helps us see any regularity."
      ]
    },
    {
      "cell_type": "code",
      "metadata": {
        "id": "3PrSh4fZKsKL"
      },
      "source": [
        "# relplot, kind scatter, with a hue"
      ],
      "execution_count": null,
      "outputs": []
    },
    {
      "cell_type": "markdown",
      "metadata": {
        "id": "qUNgCV6ELf5z"
      },
      "source": [
        "Very colorful indeed, but no luck here.\n",
        "\n",
        "However, scatter plots and [line plots](https://seaborn.pydata.org/tutorial/relational.html#emphasizing-continuity-with-line-plots) are very useful tools that you can put to better use to look at eg. pairs of nutritional values, or a nutritional value and Nutri-Score."
      ]
    },
    {
      "cell_type": "markdown",
      "source": [
        "## Congratulations !\n",
        "\n",
        "You reached the end of your basic training.\n",
        "\n",
        "You can proceed to the next notebook for the \"Project\" in which you will design and conduct your own analysis !"
      ],
      "metadata": {
        "id": "p69m3cOtXxkt"
      }
    },
    {
      "cell_type": "markdown",
      "metadata": {
        "id": "WYBJFTGG-8bd"
      },
      "source": [
        "### For the adventurous\n",
        "\n",
        "OpenFoodFacts has a sister project : [OpenBeautyFacts](https://fr-en.openbeautyfacts.org/), a database on cosmetic products, broadly speaking : from hand dishwashing products to creams, shampoos, deodorants, toothpaste...\n",
        "\n",
        "OpenBeautyFacts is smaller in size and less mature, but you can try and play with their [data exports](https://fr-en.openbeautyfacts.org/data).\n",
        "\n",
        "But you can also just contribute to OpenFoodFacts or OpenBeautyFacts, via their website, dedicated apps, or third-party apps !"
      ]
    }
  ]
}