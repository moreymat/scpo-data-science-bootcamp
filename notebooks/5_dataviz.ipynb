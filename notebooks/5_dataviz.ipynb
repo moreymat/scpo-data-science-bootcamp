{
  "cells": [
    {
      "cell_type": "markdown",
      "metadata": {
        "id": "view-in-github",
        "colab_type": "text"
      },
      "source": [
        "<a href=\"https://colab.research.google.com/github/moreymat/scpo-data-science-bootcamp/blob/main/notebooks/5_dataviz.ipynb\" target=\"_parent\"><img src=\"https://colab.research.google.com/assets/colab-badge.svg\" alt=\"Open In Colab\"/></a>"
      ]
    },
    {
      "cell_type": "markdown",
      "metadata": {
        "id": "By5VLWuACmq-"
      },
      "source": [
        "# Data visualization"
      ]
    },
    {
      "cell_type": "markdown",
      "metadata": {
        "id": "UC3WJ5wGW7pw"
      },
      "source": [
        "In this notebook, we will see how to build some data visualizations for our OpenFoodFacts dataset."
      ]
    },
    {
      "cell_type": "markdown",
      "metadata": {
        "id": "tDRUrMYTZOD9"
      },
      "source": [
        "## Loading the data"
      ]
    },
    {
      "cell_type": "code",
      "execution_count": 1,
      "metadata": {
        "id": "rReAVKEuY_Cf",
        "colab": {
          "base_uri": "https://localhost:8080/"
        },
        "outputId": "b21e1b77-0191-4d80-bf78-caeaf5451b39"
      },
      "outputs": [
        {
          "output_type": "stream",
          "name": "stdout",
          "text": [
            "Mounted at /content/drive\n"
          ]
        }
      ],
      "source": [
        "# (just execute this cell)\n",
        "\n",
        "# enable Colab to access files (here shortcuts) on your Drive\n",
        "from google.colab import drive\n",
        "\n",
        "drive.mount('/content/drive')"
      ]
    },
    {
      "cell_type": "code",
      "execution_count": 2,
      "metadata": {
        "id": "4c9my9iPZP4n"
      },
      "outputs": [],
      "source": [
        "# (just execute this cell)\n",
        "\n",
        "# import pandas\n",
        "import csv\n",
        "import pandas as pd\n",
        "\n",
        "# we need this data type for ordered categoricals\n",
        "from pandas.api.types import CategoricalDtype\n",
        "\n",
        "# lift some limitations in column width, so more cell values are displayed in full\n",
        "pd.set_option(\"display.max_colwidth\", 110)\n",
        "\n",
        "# dataset and data type of the columns\n",
        "FOLDER = \"drive/MyDrive\"\n",
        "OFF_FILE = f\"{FOLDER}/off_products_subset.csv\"\n",
        "DTYPE_FILE = f\"{FOLDER}/dtype.txt\"\n",
        "\n",
        "\n",
        "# custom function to load the Open Food Facts subset\n",
        "def load_off():\n",
        "    \"\"\"Load the filtered subset of Open Food Facts.\n",
        "\n",
        "    Returns\n",
        "    -------\n",
        "    df : pd.DataFrame\n",
        "      (A filtered subset of the) Open Food Facts tabular dataset.\n",
        "    \"\"\"\n",
        "    # load the data types for the columns\n",
        "    with open(DTYPE_FILE) as f:\n",
        "        dtype = eval(f.read())\n",
        "\n",
        "    # load the dataset\n",
        "    df = pd.read_csv(OFF_FILE, sep=\"\\t\", dtype=dtype, quoting=csv.QUOTE_NONE)\n",
        "    # convert columns with datetimes\n",
        "    for col_name in (\n",
        "        \"created_datetime\",\n",
        "        \"last_modified_datetime\",\n",
        "        \"last_updated_datetime\",\n",
        "        \"last_image_datetime\",\n",
        "    ):\n",
        "        # ISO 8601 dates\n",
        "        df[col_name] = pd.to_datetime(df[col_name])\n",
        "    #\n",
        "    return df\n",
        "\n",
        "\n",
        "# load the dataset (takes around 60 seconds)\n",
        "df = load_off()"
      ]
    },
    {
      "cell_type": "markdown",
      "metadata": {
        "id": "V_o0tWdEH8c2"
      },
      "source": [
        "Let us clean up the dataset by applying the same procedure as in the previous notebook: Drop products that contain clear outliers for the nutritional values `fat_100g`, `saturated-fat_100g`, `sugars_100g`, `salt_100g`."
      ]
    },
    {
      "cell_type": "code",
      "execution_count": 3,
      "metadata": {
        "id": "AbHQpjcPH8c3"
      },
      "outputs": [],
      "source": [
        "# (just execute this cell)\n",
        "df = df.drop(\n",
        "    index=df[\n",
        "        (df[\"fat_100g\"] > 100)\n",
        "        | (df[\"saturated-fat_100g\"] > 100)\n",
        "        | (df[\"sugars_100g\"] > 100)\n",
        "        | (df[\"salt_100g\"] > 100)\n",
        "    ].index\n",
        ")"
      ]
    },
    {
      "cell_type": "markdown",
      "metadata": {
        "id": "gTKQjNs5H8c4"
      },
      "source": [
        "We verify that summary statistics for these 4 nutritional values look reasonable."
      ]
    },
    {
      "cell_type": "code",
      "execution_count": null,
      "metadata": {
        "id": "qQlEiHtEH8c6"
      },
      "outputs": [],
      "source": [
        "# (just execute this cell)\n",
        "df[[\"fat_100g\", \"saturated-fat_100g\", \"sugars_100g\", \"salt_100g\"]].mean()"
      ]
    },
    {
      "cell_type": "markdown",
      "metadata": {
        "id": "RKg144hMH8c7"
      },
      "source": [
        "Ideally, we should perform similar checks on other columns and look for more dubious entries to filter out.\n",
        "But, for the scope of this course, we assume the dataset is now reasonably clean.\n",
        "\n",
        "We can focus on building data visualizations that support [Exploratory Data Analysis (EDA)](https://en.wikipedia.org/wiki/Exploratory_data_analysis), or that can be used to get insights and communicate with stakeholders."
      ]
    },
    {
      "cell_type": "markdown",
      "metadata": {
        "id": "jFEKHlDEYpWy"
      },
      "source": [
        "## Simple visualizations on OpenFoodFacts"
      ]
    },
    {
      "cell_type": "markdown",
      "metadata": {
        "id": "w74HiUGYXKE5"
      },
      "source": [
        "### Seaborn\n",
        "\n",
        "[Seaborn](https://seaborn.pydata.org/) is a data visualization library for Python.\n",
        "It provides a simpler, higher-level interface to the powerful but cumbersome library [matplotlib](https://matplotlib.org/), and enables to quickly build readable dataviz."
      ]
    },
    {
      "cell_type": "markdown",
      "metadata": {
        "id": "0qvJLBLhYHZL"
      },
      "source": [
        "We need to import the seaborn library, whose conventional alias is `sns`."
      ]
    },
    {
      "cell_type": "code",
      "execution_count": 5,
      "metadata": {
        "id": "S8w5DMPorOp6"
      },
      "outputs": [],
      "source": [
        "import seaborn as sns"
      ]
    },
    {
      "cell_type": "markdown",
      "metadata": {
        "id": "2-TTGl8xDxmt"
      },
      "source": [
        "## Nutri-Score"
      ]
    },
    {
      "cell_type": "markdown",
      "metadata": {
        "id": "FB1LR8ryIcMm"
      },
      "source": [
        "Nutri-Score grades are an ordered categorical variable, with 5 values ranging from A (healthy) to E (unhealthy).\n",
        "\n",
        "These grades are based on an integer score, ranging from -15 (A) to +40 (E).\n",
        "This score is computed as a sum of positive and negative points attributed based on nutritional values and ingredients, with separate scales for big categories of products."
      ]
    },
    {
      "cell_type": "markdown",
      "metadata": {
        "id": "muQ9mTGyEc5p"
      },
      "source": [
        "In this section, we will build graphs to visualize Nutri-Score grades and scores.\n",
        "\n",
        "To facilitate their reading, we will use the color palette of the Nutri-Score grades."
      ]
    },
    {
      "cell_type": "code",
      "execution_count": 6,
      "metadata": {
        "id": "R1A4auL-D01Q"
      },
      "outputs": [],
      "source": [
        "# color palette of the Nutri-Score grades\n",
        "colors_nutriscore = {\n",
        "    \"a\": \"#058244\",\n",
        "    \"b\": \"#85BD39\",\n",
        "    \"c\": \"#FDCD2A\",\n",
        "    \"d\": \"#ED831E\",\n",
        "    \"e\": \"#E53F1A\",\n",
        "}"
      ]
    },
    {
      "cell_type": "markdown",
      "metadata": {
        "id": "GOX4gVxWHCLu"
      },
      "source": [
        "### Visualizing categorical data : Nutri-Score grade"
      ]
    },
    {
      "cell_type": "markdown",
      "metadata": {
        "id": "RM4vPlrKEt8R"
      },
      "source": [
        "Seaborn enables to visualize categorical variables in a [variety of manners](https://seaborn.pydata.org/tutorial/categorical.html#plotting-with-categorical-data).\n",
        "\n",
        "These visualizations can be built by calling the high-level function `catplot` and specifying, among other arguments, the type of categorical plot we want.\n",
        "\n",
        "Let us try to answer the following vague question : \"How healthy are the products sold in supermarkets ?\".\n",
        "\n",
        "This can translate to this more precise question : \"How many products of each Nutri-Score grade does the dataset contain?\".\n",
        "\n",
        "We can answer the latter question by building a plot that represents, for each Nutri-Score grade, the total number of products in the dataset.\n",
        "This corresponds in seaborn, and in the documentation page linked above, to a **count plot**."
      ]
    },
    {
      "cell_type": "markdown",
      "metadata": {
        "id": "GnJYnQr9QraJ"
      },
      "source": [
        "Because a count plot is a special kind of categorical plot, we will call the high-level function [catplot](https://seaborn.pydata.org/generated/seaborn.catplot.html) with the arguments describing that we want to build,\n",
        "* a count plot: `kind='count'`,\n",
        "* on our dataset: `data=df`,\n",
        "* with one count bar for each Nutri-Score grade: `x=nutriscore_grade`,\n",
        "* where each bar is colored after the Nutri-Score grade: `hue=nutriscore_grade`,\n",
        "* following the Nutri-Score color palette : `palette=colors_nutriscore`."
      ]
    },
    {
      "cell_type": "code",
      "execution_count": null,
      "metadata": {
        "id": "WnWk2fegxqBq"
      },
      "outputs": [],
      "source": [
        "# (just execute this cell)\n",
        "sns.catplot(\n",
        "    data=df,\n",
        "    x=\"nutriscore_grade\",\n",
        "    hue=\"nutriscore_grade\",\n",
        "    kind=\"count\",\n",
        "    palette=colors_nutriscore,\n",
        ")"
      ]
    },
    {
      "cell_type": "markdown",
      "metadata": {
        "id": "LIMxqGdkQ0VF"
      },
      "source": [
        "This is the overall distribution of Nutri-Score grades on products across brands, but maybe some brands produce healthier products than others.\n",
        "\n",
        "To quickly explore this hypothesis, let us look at the 9 most frequent brands in the dataset :\n",
        "\n",
        "* count brands using the [value_counts](https://pandas.pydata.org/docs/reference/api/pandas.Series.value_counts.html) method, with the result sorted in descending order,\n",
        "* slice this result to keep the first 9,\n",
        "* store the result in a variable named `top_brands`."
      ]
    },
    {
      "cell_type": "code",
      "execution_count": null,
      "metadata": {
        "id": "TcEGIlNZvrL9"
      },
      "outputs": [],
      "source": [
        "# select the 9 most frequent brands\n"
      ]
    },
    {
      "cell_type": "markdown",
      "metadata": {
        "id": "VmFqtMchH8dC"
      },
      "source": [
        "The top 9 brands should be:\n",
        "* Carrefour,\n",
        "* Auchan,\n",
        "* U,\n",
        "* Hacendado,\n",
        "* Delhaize,\n",
        "* Casino,\n",
        "* Coop,\n",
        "* Leader Price,\n",
        "* Lidl"
      ]
    },
    {
      "cell_type": "markdown",
      "metadata": {
        "id": "ODNI-tOdbTZd"
      },
      "source": [
        "To retrieve the names of these 9 brands, rather than their counts, we need to use the [keys](https://pandas.pydata.org/docs/reference/api/pandas.Series.keys.html) method. Store the result in a variable named `top_brands_names`."
      ]
    },
    {
      "cell_type": "code",
      "execution_count": null,
      "metadata": {
        "id": "DCwz_tuUbjeC"
      },
      "outputs": [],
      "source": []
    },
    {
      "cell_type": "markdown",
      "metadata": {
        "id": "a4us5jMubFgg"
      },
      "source": [
        "Filter the products from these top 9 brands using [isin](https://pandas.pydata.org/docs/reference/api/pandas.Series.isin.html) and store this subset in a new variable `df_top_brands`."
      ]
    },
    {
      "cell_type": "code",
      "execution_count": null,
      "metadata": {
        "id": "YNuSIRRUwO27"
      },
      "outputs": [],
      "source": []
    },
    {
      "cell_type": "markdown",
      "metadata": {
        "id": "85e2sdincFny"
      },
      "source": [
        "You should get 51268 entries."
      ]
    },
    {
      "cell_type": "markdown",
      "metadata": {
        "id": "EAs47hGsabW-"
      },
      "source": [
        "Now, we want to plot the distribution of Nutri-Score grades separately for each of these top brands."
      ]
    },
    {
      "cell_type": "markdown",
      "metadata": {
        "id": "ke8yOiRbccnn"
      },
      "source": [
        "This will be very similar to the previous graph, except we will make use of catplot's ability to display [multiple facets](https://seaborn.pydata.org/tutorial/categorical.html#showing-multiple-relationships-with-facets).\n",
        "\n",
        "Changes are :\n",
        "\n",
        "* we only want to plot products from the top brands (`data=df_top_brands`),\n",
        "* we want to build a distinct plot for each brand (`col=brands`),\n",
        "* and display 3 plots in a row, so it fits our screen (`col_wrap=3`)."
      ]
    },
    {
      "cell_type": "code",
      "execution_count": null,
      "metadata": {
        "id": "8FWkpAP46Dy-"
      },
      "outputs": [],
      "source": []
    },
    {
      "cell_type": "markdown",
      "metadata": {
        "id": "_FM8SQwx8Z5F"
      },
      "source": [
        "The distribution among Nutri-Score categories seems quite similar across brands:\n",
        "* the mode is 'd',\n",
        "* then 'c' followed by 'a', or the other way around,\n",
        "* then 'b'\n",
        "* then 'e'.\n",
        "\n",
        "But Nutri-Score grades are a [binning](https://en.wikipedia.org/wiki/Grouped_data) of the underlying Nutri-Score scores.\n",
        "\n",
        "Are the distributions of Nutri-Score scores equally similar across brands?"
      ]
    },
    {
      "cell_type": "markdown",
      "metadata": {
        "id": "T1QirTaSRwcQ"
      },
      "source": [
        "### Visualizing numerical data : Nutri-Score score\n",
        "\n",
        "Nutri-Score scores range from -15 to 40, with [grades defined by thresholds (p. 32)](https://www.santepubliquefrance.fr/media/files/02-determinants-de-sante/nutrition-et-activite-physique/nutri-score/qr-scientifique-technique-en).\n",
        "See also the schema summarizing the computation (p. 33).\n",
        "\n",
        "For solid foods:\n",
        "* A: <= 0\n",
        "* B: 1 to 2\n",
        "* C: 3 to 10\n",
        "* D: 11 to 18\n",
        "* E: >= 19\n",
        "\n",
        "For animal and vegetable fats, nuts and seeds:\n",
        "* A: <= -6\n",
        "* B: -5 to 2\n",
        "* C: 3 to 10\n",
        "* D: 11 to 18\n",
        "* E: >= 19\n",
        "\n",
        "For beverages:\n",
        "* A: waters\n",
        "* B: <= 2\n",
        "* C: 3 to 6\n",
        "* D: 7 to 9\n",
        "* E: >= 10\n",
        "\n",
        "Visualizing the Nutri-Score scores, rather than the Nutri-Score grades, should provide a more accurate, finer-grained view of the healthiness of products according to the Nutri-Score methodology."
      ]
    },
    {
      "cell_type": "markdown",
      "metadata": {
        "id": "88bj5zzdd8xM"
      },
      "source": [
        "Because Nutri-Score scores correspond to a [quantitative variable](https://en.wikipedia.org/wiki/Quantification_(science)), we can plot the distribution of their values using [displot](https://seaborn.pydata.org/tutorial/distributions.html#plotting-univariate-histograms)."
      ]
    },
    {
      "cell_type": "markdown",
      "metadata": {
        "id": "FeF7RHQmfNFp"
      },
      "source": [
        "By default, `displot` builds a histogram (`kind='hist'`).\n",
        "Because we know we only have integer values, we can additionally specify we want the bins of the histogram to correspond to [discrete values](https://en.wikipedia.org/wiki/Continuous_or_discrete_variable#Discrete_variable) (`discrete=True`). Otherwise, the bin sizes estimated by seaborn result in gaps that hinder readibility."
      ]
    },
    {
      "cell_type": "markdown",
      "metadata": {
        "id": "yEGG6gHwfr8U"
      },
      "source": [
        "First, let us build the distribution graph for the entire dataset."
      ]
    },
    {
      "cell_type": "code",
      "execution_count": null,
      "metadata": {
        "id": "EEZtSgNcfrWM"
      },
      "outputs": [],
      "source": []
    },
    {
      "cell_type": "markdown",
      "metadata": {
        "id": "txPuLSj_uy-7"
      },
      "source": [
        "This graph looks almost good, but too tight because it tries to fit many bars in a limited width.\n",
        "We can modify the size of the figure of the displot by using parameters `height` (in inches) and `aspect`, where the figure width will be `height * aspect` (inches).\n",
        "The default values are [`height=5` and `aspect=1`](https://seaborn.pydata.org/generated/seaborn.displot.html#seaborn.displot), so we will increase the `aspect` (eg. to `1.5`)."
      ]
    },
    {
      "cell_type": "code",
      "execution_count": null,
      "metadata": {
        "id": "r0l7eL32wCT5"
      },
      "outputs": [],
      "source": []
    },
    {
      "cell_type": "markdown",
      "metadata": {
        "id": "850bc5bHwLak"
      },
      "source": [
        "The readability of the graph is increased, as expected."
      ]
    },
    {
      "cell_type": "markdown",
      "metadata": {
        "id": "nDcvnsgif9iq"
      },
      "source": [
        "Then let us produce the same type of distribution graph, but for each of the top brands we selected earlier.\n",
        "Remember to change the data and add the extra arguments that tell seaborn what distinct plots it should build and what their layout should be."
      ]
    },
    {
      "cell_type": "code",
      "execution_count": null,
      "metadata": {
        "id": "ZKvCpLpW_uI3"
      },
      "outputs": [],
      "source": []
    },
    {
      "cell_type": "markdown",
      "metadata": {
        "id": "Xvr-zWxfH8dL"
      },
      "source": [
        "The distributions of Nutri-Score scores across brands are quite similar, having two bumps, or [modes](https://en.wikipedia.org/wiki/Mode_(statistics)#Mode_of_a_sample), around 0 and 12.\n",
        "\n",
        "In other words:\n",
        "* lots of products have a Nutri-Score score close to 0 or close to 12,\n",
        "* the further scores go below 0 or above 12, the fewer products,\n",
        "* there is a \"valley\" between the two bumps, with fewer products around 6-7.\n",
        "\n",
        "These are typical of [bimodal distributions](https://en.wikipedia.org/wiki/Multimodal_distribution).\n",
        "\n",
        "The modes slightly differ between brands though, for instance 0 for Carrefour versus -4 for Auchan."
      ]
    },
    {
      "cell_type": "markdown",
      "metadata": {
        "id": "to-9oLDpgYJH"
      },
      "source": [
        "### Visualizing numerical and categorical data : Nutri-Score score and grade\n",
        "\n",
        "This is all nice but the Nutri-Score score graphs could be more readable if the bars had the nice colors from the Nutri-Score grade graphs.\n",
        "As each Nutri-Score score maps to a Nutri-Score grade, this should be straightforward.\n",
        "\n",
        "`displot` has an argument `hue` that can take a column name (here `'nutriscore_grade'`), and the same `palette` argument as `catplot`."
      ]
    },
    {
      "cell_type": "markdown",
      "metadata": {
        "id": "rsmMmGHRw3qJ"
      },
      "source": [
        "Let us build the distribution plot of Nutri-Score scores on the whole dataset, with the colors of the Nutri-Score grades (hence `hue` and `palette`), for the whole dataset."
      ]
    },
    {
      "cell_type": "code",
      "execution_count": null,
      "metadata": {
        "id": "mIb3vGtMlQs_"
      },
      "outputs": [],
      "source": []
    },
    {
      "cell_type": "markdown",
      "metadata": {
        "id": "otSr9Fp0lfI2"
      },
      "source": [
        "You should notice something weird at the bottom of many bars: It seems as if another, more opaque, bar is overlaid.\n",
        "\n",
        "This might indicate that some products with the same Nutri-Score score have different grades."
      ]
    },
    {
      "cell_type": "markdown",
      "metadata": {
        "id": "D1RCcOwRm5Ym"
      },
      "source": [
        "We can modify our distribution plot of Nutri-Score scores with colors for grades, so that bars for different Nutri-Score grades are properly stacked rather than (confusingly) laid over one another.\n",
        "\n",
        "This is done with the parameter `multiple='stack'` (the default value for a [histogram](https://seaborn.pydata.org/generated/seaborn.histplot.html#seaborn.histplot) is `multiple='layer'`)."
      ]
    },
    {
      "cell_type": "code",
      "execution_count": null,
      "metadata": {
        "id": "yBLrvzmxkf4r"
      },
      "outputs": [],
      "source": []
    },
    {
      "cell_type": "markdown",
      "metadata": {
        "id": "H0qv5mNzH8dP"
      },
      "source": [
        "Compare this graph with the previous (unstacked) one.\n",
        "\n",
        "**Question.** At which scores are stacked bars located? What grades do these bars correspond? How do these values align with your expectations?"
      ]
    },
    {
      "cell_type": "markdown",
      "metadata": {
        "id": "qXLyUS40yMbk"
      },
      "source": [
        "**Exercise** Build the distribution plot of Nutri-Score scores, with the colors of the Nutri-Score grades, for all products (foods and beverages together) *for each of the top brands* (defined above).\n",
        "\n",
        "> **HINT**: Remember to specify `hue`, `palette` and `stack`."
      ]
    },
    {
      "cell_type": "code",
      "execution_count": null,
      "metadata": {
        "id": "RgUgPAKg8ZVY"
      },
      "outputs": [],
      "source": []
    },
    {
      "cell_type": "markdown",
      "metadata": {
        "id": "NJMuXjEBH8dQ"
      },
      "source": [
        "**Question.** Do you see any difference across brands? What would be your hypotheses to explain this?"
      ]
    },
    {
      "cell_type": "markdown",
      "metadata": {
        "id": "MucLYe8YfSfj"
      },
      "source": [
        "### Using data visualization to assess data quality and revise assumptions\n",
        "\n",
        "Now that bars are properly stacked, it is clear that some products with the same Nutri-Score score have different Nutri-Score grades.\n",
        "This discrepancy has an obvious explanation: The thresholds between Nutri-Score grades are different for solid foods and beverages."
      ]
    },
    {
      "cell_type": "markdown",
      "metadata": {
        "id": "-kied_AqpNq8"
      },
      "source": [
        "We can test our hypothesis by selecting the products that are beverages: We define beverages as the entries whose field `categories_en` contains the string \"Beverages\". Store the result in a variable called `df_bev`."
      ]
    },
    {
      "cell_type": "code",
      "execution_count": null,
      "metadata": {
        "id": "-dVXOjnBhdmX"
      },
      "outputs": [],
      "source": []
    },
    {
      "cell_type": "markdown",
      "metadata": {
        "id": "3n6MIM2MoWOO"
      },
      "source": [
        "You should get 91,299 rows."
      ]
    },
    {
      "cell_type": "markdown",
      "metadata": {
        "id": "B7Jq5_eWp_AV"
      },
      "source": [
        "We can plot the Nutri-Score scores and grades for the subset of beverages `df_bev`, exactly as we did above for the whole `df`.\n",
        "\n",
        "> **HINT**: Remember to specify `hue`, `palette`, `stack`."
      ]
    },
    {
      "cell_type": "code",
      "execution_count": null,
      "metadata": {
        "id": "jp08pjBCqY_t"
      },
      "outputs": [],
      "source": []
    },
    {
      "cell_type": "markdown",
      "metadata": {
        "id": "hL2zCD4KrOUW"
      },
      "source": [
        "This is harder to interpret than we expected.\n",
        "\n",
        "Grade 'c' for beverages is between 3 and 6 (included), yet a fair number of products with scores of 10 are graded 'c': Is this classification correct, or is the data erroneous?\n",
        "Could they be solid foods?\n",
        "Have we inadvertently selected non-beverages due to an ill-defined filter?\n",
        "\n",
        "There are other stacked bars, but some of them are too thin to guess their exact color. are Modifying the aspect or height of the graph, there are other Grade 'b' should not go higher than 2, yet a non-negligible number of products scored 2 are graded 'b'."
      ]
    },
    {
      "cell_type": "markdown",
      "metadata": {
        "id": "A77T-reTH8dS"
      },
      "source": [
        "We would need to examine the outliers to know if any or all of these leads are correct, but before we do, let us have a closer look at the distribution of Nutri-Score scores for each Nutri-Score grade.\n",
        "\n",
        "Plot the distribution of Nutri-Score scores for each grade, using a faceted grid across grades (similar to how we did across brands).\n",
        "\n",
        ">**HINT** Try different values of `col_wrap`, `height` and `aspect` to reveal small bars."
      ]
    },
    {
      "cell_type": "code",
      "execution_count": null,
      "metadata": {
        "id": "eH-Ogc8PH8dS"
      },
      "outputs": [],
      "source": []
    },
    {
      "cell_type": "markdown",
      "metadata": {
        "id": "mQlbNNxZH8dT"
      },
      "source": [
        "There are a few products in our dataset of beverages with Nutri-Score grade 'a', which should be waters, but have a Nutri-Score score of 10.\n",
        "\n",
        "How is that possible?"
      ]
    },
    {
      "cell_type": "markdown",
      "metadata": {
        "id": "K0A5hjlXouaK"
      },
      "source": [
        "In `df_bev`, select products with Nutri-Score score 10 and grade 'a'.\n",
        "Display the result, look at the first few entries."
      ]
    },
    {
      "cell_type": "code",
      "execution_count": null,
      "metadata": {
        "id": "_yytqb4keCkN"
      },
      "outputs": [],
      "source": []
    },
    {
      "cell_type": "markdown",
      "metadata": {
        "id": "Gu6SeQ97H8dU"
      },
      "source": [
        "Our dataset of beverages contains 18 such entries.\n",
        "\n",
        "Look at the pages for one of them, eg. <http://world-en.openfoodfacts.org/product/3254381026402/cristaline-eau-de-source-0-33l-louise>.\n",
        "\n",
        "**Question.** Which nutritional value drives a Nutri-Score sore of 10 for this product? Is this value legit or erroneous? What could explain this?"
      ]
    },
    {
      "cell_type": "markdown",
      "metadata": {
        "id": "X8u7_LXjH8dU"
      },
      "source": [
        "The faceted grid also reveals that a fair number of products of Nutri-Score grade 'c' have a score of '2', which should correspond to grade 'b'.\n",
        "\n",
        "Select the beverages with Nutri-Score `2` and grade 'c'."
      ]
    },
    {
      "cell_type": "code",
      "execution_count": null,
      "metadata": {
        "id": "-vsdCl0QH8dV"
      },
      "outputs": [],
      "source": []
    },
    {
      "cell_type": "markdown",
      "metadata": {
        "id": "VbUQLyDaH8dV"
      },
      "source": [
        "There are 3687 such products, among which <https://world.openfoodfacts.org/product/9421006043470/charlie-s-lemonade>.\n",
        "\n",
        "**Question.** What is the Nutri-Score grade displayed on this product page? Does this match the value in our dataset?\n",
        "What is the Nutri-Score score for this product according to its product page? Does this match the value in our dataset?\n",
        "\n",
        ">**HINT** The product pages on the Open Food Facts website contain lots of panels that are \"folded\" by default."
      ]
    },
    {
      "cell_type": "markdown",
      "metadata": {
        "id": "-AWOOg9O5RR2"
      },
      "source": [
        "#### Sources of inconsistencies\n",
        "\n",
        "Two main factors can explain inconsistencies between the database, the product page, and the product image:\n",
        "1. While the Nutri-Score grade is displayed on the product, the underlying Nutri-Score score is not.\n",
        "Therefore, Open Food Facts automatically re-estimates the Nutri-Score score from the nutritional values and relevant (estimated) proportion of certain ingredients.\n",
        "Part of this information is hard to retrieve though, like the proportion of fruits, vegetables and nuts in a product, or not always displayed like its fiber content.\n",
        "As a consequence, the Nutri-Score score in Open Food Facts is a best estimate, given available information, of the true Nutri-Score score, and might not exactly match the Nutri-Score grade displayed on the product packaging.\n",
        "2. The Nutri-Score algorithm has been updated to better match the available scientific evidence, most recently in 2023. The Open Food Facts website displays Nutri-Score scores and grades computed using the updated algorithm from 2023.\n",
        "However, most database entries still contain the grades that were displayed on food packages until recently, which correspond to the result of the former algorithm (2017)."
      ]
    },
    {
      "cell_type": "markdown",
      "metadata": {
        "id": "LRHiDX5mnCSS"
      },
      "source": [
        "We cannot do anything about these inconsistencies in the scope of this course, but this is an important reminder that data can be erroneous, inconsistent, or incomplete.\n",
        "\n",
        "Any data-driven analysis or study should properly address issues of data quality, in order to draw solid conclusions."
      ]
    },
    {
      "cell_type": "markdown",
      "metadata": {
        "id": "kxIOd-VskpIH"
      },
      "source": [
        "## Nutri-Score vs Nova\n",
        "\n",
        "The Nutri-Score and [Nova groups](https://world.openfoodfacts.org/nova) capture different aspects of the impact of food products on health.\n",
        "Are they correlated ?"
      ]
    },
    {
      "cell_type": "code",
      "execution_count": 23,
      "metadata": {
        "id": "l1ZKCLATEi0j"
      },
      "outputs": [],
      "source": [
        "# we will use the color palette for the NOVA groups\n",
        "# couleurs NOVA\n",
        "colors_nova = {\n",
        "    \"1\": \"#00aa00\",\n",
        "    \"2\": \"#ffcc00\",\n",
        "    \"3\": \"#ff6600\",\n",
        "    \"4\": \"#ff0000\",\n",
        "}"
      ]
    },
    {
      "cell_type": "markdown",
      "metadata": {
        "id": "QxEXHOxIA55X"
      },
      "source": [
        "### Visualizing two categorical variables\n",
        "\n",
        "We will first plot, for each Nutri-Score grade, the count of products with this Nutri-Score grade and each of the NOVA groups.\n",
        "\n",
        "(Note that we work on the entire dataset `df` again, after our detour through beverages.)\n",
        "\n",
        "> **HINT**: Remember to specify the `hue` and `palette`."
      ]
    },
    {
      "cell_type": "code",
      "execution_count": null,
      "metadata": {
        "id": "G_JlR77NlCFN"
      },
      "outputs": [],
      "source": []
    },
    {
      "cell_type": "markdown",
      "metadata": {
        "id": "keadTxymDl56"
      },
      "source": [
        "The NOVA group 4 is dominant in all Nutri-Score grades except the healthiest one (group 'a').\n",
        "This is not so surprising as, by construction, the Nutri-Score and NOVA groups capture different aspects."
      ]
    },
    {
      "cell_type": "markdown",
      "metadata": {
        "id": "jyB-xqCPGfu5"
      },
      "source": [
        "Now do the plot the other way round : for each NOVA group, plot the number of products with this NOVA group and each of the Nutri-Score grades. Do not forget to use the right color palette."
      ]
    },
    {
      "cell_type": "code",
      "execution_count": null,
      "metadata": {
        "id": "MMe-lbZeGhg1"
      },
      "outputs": [],
      "source": []
    },
    {
      "cell_type": "markdown",
      "metadata": {
        "id": "1DMpwmqiHAs_"
      },
      "source": [
        "A majority of the products in the NOVA group 1 have the Nutri-Score grade 'a'.\n",
        "In other words: Most raw products (NOVA group 1) are also nutritionally healthy (Nutri-Score 'a').\n",
        "This makes sense, intuitively."
      ]
    },
    {
      "cell_type": "markdown",
      "metadata": {
        "id": "c50kCJslH8dY"
      },
      "source": [
        "\n",
        "NOVA group 2 contains very few products, mostly from Nutri-Score grades 'c', 'd' and 'e'.\n",
        "It becomes hard to have an intuitive explanation for why that is, or even which products are in NOVA group 2."
      ]
    },
    {
      "cell_type": "markdown",
      "metadata": {
        "id": "l1uDmxV9H8dZ"
      },
      "source": [
        "Select products with NOVA group 2 and Nutri-Score grade \"a\", and display the last 3 products."
      ]
    },
    {
      "cell_type": "code",
      "execution_count": null,
      "metadata": {
        "id": "PzU8TtT_H8dZ"
      },
      "outputs": [],
      "source": []
    },
    {
      "cell_type": "markdown",
      "metadata": {
        "id": "MkoXHMzqH8dZ"
      },
      "source": [
        "Examples of selected products are:\n",
        "- [peanut butter](https://world.openfoodfacts.org/product/9421901881177/pic-s-really-good-peanut-butter-smooth-no-salt-pics) made of nothing but peanuts,\n",
        "- [canola oil](http://world-en.openfoodfacts.org/product/9415795000608/canola-oil-pacific-crown), for which the website displays an updated Nutri-Score \"b\"."
      ]
    },
    {
      "cell_type": "markdown",
      "metadata": {
        "id": "h53_5ATkH8dZ"
      },
      "source": [
        "Select products with NOVA group 2 and Nutri-Score grade \"e\", and display the last 3 products."
      ]
    },
    {
      "cell_type": "code",
      "execution_count": null,
      "metadata": {
        "id": "NXuHXM4lH8dZ"
      },
      "outputs": [],
      "source": []
    },
    {
      "cell_type": "markdown",
      "metadata": {
        "id": "5rh30SsuH8da"
      },
      "source": [
        "The displayed products are coconut oils, such as [this one](https://world.openfoodfacts.org/product/9555640202365/organic-virgin-coconut-oil-opika), which are very high in saturated fats and therefore not recommended as main cooking fats.\n",
        "\n",
        "Coconut oil is an example of a product that is not heavily processed (NOVA group 2) but not considered very healthy (Nutri-Score \"e\")."
      ]
    },
    {
      "cell_type": "markdown",
      "metadata": {
        "id": "NGdrnYLuH8da"
      },
      "source": [
        "The converse is true: The mode of NOVA groups 3 and 4 is Nutri-Score grade 'd', but both NOVA groups contain a non-negligible number of products with Nutri-Score 'a'.\n",
        "A fair number of products that are heavily processed are nevertheless considered healthy.\n",
        "\n",
        "Feel free to look them up in the dataset.\n"
      ]
    },
    {
      "cell_type": "markdown",
      "metadata": {
        "id": "HWXhy84kGiH-"
      },
      "source": [
        "### Visualizing numerical and categorical data (again)\n",
        "\n",
        "Let us see if there is a clearer relationship between Nutri-Score *scores* and NOVA groups.\n",
        "\n",
        "> **Hint** : use the same `displot` function as earlier but replace arguments specific to Nutri-Score grades with their equivalent for NOVA groups."
      ]
    },
    {
      "cell_type": "code",
      "execution_count": null,
      "metadata": {
        "id": "eVH2NZWMGlSn"
      },
      "outputs": [],
      "source": []
    },
    {
      "cell_type": "markdown",
      "metadata": {
        "id": "qq9g8pEByEHH"
      },
      "source": [
        "The NOVA group 4 is largely dominant for all products with a Nutri-Score score greater than or equal to -3, which is lower than the thresholds between Nutri-Score grades 'a' and 'b' for both solid foods and beverages."
      ]
    },
    {
      "cell_type": "markdown",
      "metadata": {
        "id": "74gozgXTBi0_"
      },
      "source": [
        "All these graphs confirm that Nutri-Score and NOVA are only loosely correlated, because they capture different information, and that the NOVA groups are heavily imbalanced.\n",
        "\n",
        "The latest graph alone hints that Nutri-Score scores enable finer-grained analyses than Nutri-Score grades."
      ]
    },
    {
      "cell_type": "markdown",
      "metadata": {
        "id": "SIDLI-r0SBTV"
      },
      "source": [
        "**Exercise.** Build a displot that shows:\n",
        "* for each NOVA group,\n",
        "* the histogram distribution of Nutri-Score scores,\n",
        "* with colored stacked bars for the Nutri-Score grades."
      ]
    },
    {
      "cell_type": "markdown",
      "metadata": {
        "id": "Hj0fGHRoTVUG"
      },
      "source": [
        "> **HINT**: You need to specify the right `palette`."
      ]
    },
    {
      "cell_type": "code",
      "execution_count": null,
      "metadata": {
        "id": "FIeLAPlhyvfS"
      },
      "outputs": [],
      "source": []
    },
    {
      "cell_type": "markdown",
      "metadata": {
        "id": "g3ckKO0aTqCP"
      },
      "source": [
        "* NOVA group 4 contains the highest number of products, across the entire distribution of Nutri-Score scores.\n",
        "* NOVA group 2 contains very few products, mostly with quite high Nutri-Score scores.\n",
        "\n",
        "Does NOVA group 2 consist of a few categories of products with high homogeneous Nutri-Score scores (coconut oil being one of these groups)?\n",
        "\n",
        "You can explore NOVA group 2 in more detail to find out, and let us know your findings !"
      ]
    },
    {
      "cell_type": "markdown",
      "metadata": {
        "id": "HXz8UNk-JD2Q"
      },
      "source": [
        "**Bonus exercise.** Try and come up with a graph built the other way round, ie. a catplot of NOVA groups that displays distributions of Nutri-Score scores."
      ]
    },
    {
      "cell_type": "markdown",
      "metadata": {
        "id": "IFJ6QtqeMQb-"
      },
      "source": [
        "> **HINT** The categorical variable (here the NOVA group) can be specified as `x` or `y`. Try both options and keep the one that you find more readable.\n",
        "\n",
        "> **HINT** You could try different kinds of catplot but we have (a) many observations and (b) missing values, so you should use the distribution plots (`box` or `boxen`).\n",
        "\n",
        "> **HINT** Specifying a `hue` and `palette` will improve the looks of your graph. Use the `palette` that best suits your graph."
      ]
    },
    {
      "cell_type": "code",
      "execution_count": null,
      "metadata": {
        "id": "Zh4Jbu2VOG9M"
      },
      "outputs": [],
      "source": []
    },
    {
      "cell_type": "markdown",
      "metadata": {
        "id": "Dyp2ojzMQFGw"
      },
      "source": [
        "The general tendency is that the distribution of Nutri-Score scores shifts to the right as the NOVA group increases.\n",
        "\n",
        "The NOVA group '2' is an exception: The distribution of its Nutri-Score scores is \"higher\" than we would have expected."
      ]
    },
    {
      "cell_type": "markdown",
      "metadata": {
        "id": "PskvGkCmPt1v"
      },
      "source": [
        "Build a more detailed variant of this graph: Use the Nutri-Score grade as a `hue` variable."
      ]
    },
    {
      "cell_type": "markdown",
      "metadata": {
        "id": "lqACbEDMRITo"
      },
      "source": [
        "> **HINT** You will need to change the `palette` so that it can apply to the `hue` variable."
      ]
    },
    {
      "cell_type": "code",
      "execution_count": null,
      "metadata": {
        "id": "_HU1FgMLEUR0"
      },
      "outputs": [],
      "source": []
    },
    {
      "cell_type": "markdown",
      "metadata": {
        "id": "Ngt8BYS-07Ym"
      },
      "source": [
        "## Eco-Score\n",
        "\n",
        "In January 2021, OpenFoodFacts and a number of actors launched the [Eco-Score (French)](https://docs.score-environnemental.com/):\n",
        "  * [announcement (French)](https://fr.blog.openfoodfacts.org/news/lancement-de-l-eco-score-la-note-environnementale-des-produits-alimentaires)\n",
        "  * [description (French)](https://fr.openfoodfacts.org/eco-score-l-impact-environnemental-des-produits-alimentaires)"
      ]
    },
    {
      "cell_type": "markdown",
      "metadata": {
        "id": "VCasU-0yH8di"
      },
      "source": [
        "\n",
        "Eco-Score grades range from A (good) to E (bad), with the same color palette as the Nutri-Score (green to red)."
      ]
    },
    {
      "cell_type": "markdown",
      "metadata": {
        "id": "h8rBJy9j2iMC"
      },
      "source": [
        "Build for the Eco-Score (score and grade) the same graphs as the ones we produced for the Nutri-Score."
      ]
    },
    {
      "cell_type": "markdown",
      "metadata": {
        "id": "KBfx_BzJXDNe"
      },
      "source": [
        "> **HINT**: The corresponding columns are named `ecoscore_score` and `ecoscore_grade`. Use the Nutri-Score palette."
      ]
    },
    {
      "cell_type": "code",
      "execution_count": null,
      "metadata": {
        "id": "A45hVGkt15l1"
      },
      "outputs": [],
      "source": []
    },
    {
      "cell_type": "markdown",
      "metadata": {
        "id": "VELc5b_CH8dj"
      },
      "source": [
        "This graph reveals something unexpected (unless you read in detail about the Eco-Score): Products with a high Eco-Score score have the best Eco-Score grade, which is the opposite of Nutri-Scores (negative is good, positive bad)."
      ]
    },
    {
      "cell_type": "code",
      "execution_count": 33,
      "metadata": {
        "id": "Qr-ukw--XY7O"
      },
      "outputs": [],
      "source": [
        "# etc."
      ]
    },
    {
      "cell_type": "code",
      "execution_count": 33,
      "metadata": {
        "id": "kTdKzBG1pnnC"
      },
      "outputs": [],
      "source": []
    },
    {
      "cell_type": "code",
      "execution_count": 33,
      "metadata": {
        "id": "LyvPlUACpoCm"
      },
      "outputs": [],
      "source": []
    },
    {
      "cell_type": "markdown",
      "metadata": {
        "id": "Dj1rQLYAJWjh"
      },
      "source": [
        "We can also compare Nutri-Score scores and Eco-Score scores, with a [scatter plot](https://seaborn.pydata.org/tutorial/relational.html#relating-variables-with-scatter-plots).\n",
        "\n",
        "Scatter plots enable to visualize the joint distribution of two variables, using a cloud of points where each variable is a coordinate in the 2 dimensional plane.\n",
        "\n",
        "> **HINT**: You need to build a relational plot `relplot` of kind `scatter`."
      ]
    },
    {
      "cell_type": "code",
      "execution_count": null,
      "metadata": {
        "id": "gOp3Z9-IJm6e"
      },
      "outputs": [],
      "source": []
    },
    {
      "cell_type": "markdown",
      "metadata": {
        "id": "LWMXukCEJ6kx"
      },
      "source": [
        "Points are widely spread: It seems as if the Nutri-Score score and Eco-Score score are quite independent.\n",
        "\n",
        "We have little hope but let us add the Nutri-Score grade as `hue`, with its color palette, and see if this helps us distinguish any pattern."
      ]
    },
    {
      "cell_type": "code",
      "execution_count": null,
      "metadata": {
        "id": "3PrSh4fZKsKL"
      },
      "outputs": [],
      "source": []
    },
    {
      "cell_type": "markdown",
      "metadata": {
        "id": "qUNgCV6ELf5z"
      },
      "source": [
        "Very colorful indeed, but no luck here.\n",
        "\n",
        "However, scatter plots and [line plots](https://seaborn.pydata.org/tutorial/relational.html#emphasizing-continuity-with-line-plots) are very useful tools that you can put to better use to look at eg. pairs of nutritional values, or a nutritional value and Nutri-Score."
      ]
    },
    {
      "cell_type": "markdown",
      "metadata": {
        "id": "p69m3cOtXxkt"
      },
      "source": [
        "## Congratulations !\n",
        "\n",
        "You reached the end of your basic training in Python, pandas and seaborn.\n",
        "\n",
        "You can proceed to the next notebook for the \"Project\" in which you will design and conduct your own analysis !"
      ]
    },
    {
      "cell_type": "markdown",
      "metadata": {
        "id": "WYBJFTGG-8bd"
      },
      "source": [
        "### For the adventurous\n",
        "\n",
        "OpenFoodFacts has a sister project : [OpenBeautyFacts](https://fr-en.openbeautyfacts.org/), a database on cosmetic products, broadly speaking : from hand dishwashing products to creams, shampoos, deodorants, toothpaste...\n",
        "\n",
        "OpenBeautyFacts is smaller in size and less mature, but you can try and play with their [data exports](https://fr-en.openbeautyfacts.org/data).\n",
        "\n",
        "But you can also just contribute to OpenFoodFacts or OpenBeautyFacts, via their website, dedicated apps, or third-party apps !"
      ]
    }
  ],
  "metadata": {
    "colab": {
      "provenance": [],
      "include_colab_link": true
    },
    "kernelspec": {
      "display_name": "Python 3",
      "name": "python3"
    },
    "language_info": {
      "codemirror_mode": {
        "name": "ipython",
        "version": 3
      },
      "file_extension": ".py",
      "mimetype": "text/x-python",
      "name": "python",
      "nbconvert_exporter": "python",
      "pygments_lexer": "ipython3",
      "version": "3.10.12"
    }
  },
  "nbformat": 4,
  "nbformat_minor": 0
}