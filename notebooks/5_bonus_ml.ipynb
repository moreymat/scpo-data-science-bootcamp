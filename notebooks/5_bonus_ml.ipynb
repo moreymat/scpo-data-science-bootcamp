{
  "nbformat": 4,
  "nbformat_minor": 0,
  "metadata": {
    "colab": {
      "name": "5_bonus-ml.ipynb",
      "provenance": [],
      "authorship_tag": "ABX9TyNED5zME5izv+9iBq08JXoY",
      "include_colab_link": true
    },
    "kernelspec": {
      "name": "python3",
      "display_name": "Python 3"
    },
    "language_info": {
      "name": "python"
    }
  },
  "cells": [
    {
      "cell_type": "markdown",
      "metadata": {
        "id": "view-in-github",
        "colab_type": "text"
      },
      "source": [
        "<a href=\"https://colab.research.google.com/github/datactivist/scpo-data-science-bootcamp/blob/main/notebooks/5_bonus_ml.ipynb\" target=\"_parent\"><img src=\"https://colab.research.google.com/assets/colab-badge.svg\" alt=\"Open In Colab\"/></a>"
      ]
    },
    {
      "cell_type": "markdown",
      "source": [
        "# Bonus for the machine-learning enthusiasts\n",
        "\n",
        "If you already have some experience in machine learning, for example using [scikit-learn](https://scikit-learn.org/stable/), you can also build a set of prediction models that are able to:\n",
        "  * predict the `nutriscore_grade` of a product given nutritional values and possibly other fields (as few as possible),\n",
        "  * predict the `nova_group` of a product given nutritional values and possibly other fields (as few as possible),\n",
        "  * predict the `pnns_groups_1` of a product given nutritional values and possibly other fields (as few as possible),\n",
        "  * predict the `pnns_groups_2` of a product given nutritional values and possibly other fields (as few as possible),\n",
        "  * predict the `categories` (either atomic categories or lists of categories) of a product given nutritional values and possibly other fields (as few as possible),\n",
        "  * predict one or more nutritional values (ex: `sugars_100g`) given nutritional values and possibly other fields (as few as possible)."
      ],
      "metadata": {
        "id": "Nz9LInjHcx5X"
      }
    }
  ]
}