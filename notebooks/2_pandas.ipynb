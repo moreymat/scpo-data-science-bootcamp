{
  "nbformat": 4,
  "nbformat_minor": 0,
  "metadata": {
    "colab": {
      "name": "2_pandas.ipynb",
      "provenance": [],
      "collapsed_sections": [],
      "toc_visible": true,
      "include_colab_link": true
    },
    "kernelspec": {
      "name": "python3",
      "display_name": "Python 3"
    },
    "language_info": {
      "name": "python"
    }
  },
  "cells": [
    {
      "cell_type": "markdown",
      "metadata": {
        "id": "view-in-github",
        "colab_type": "text"
      },
      "source": [
        "<a href=\"https://colab.research.google.com/github/datactivist/scpo-data-science-bootcamp/blob/main/notebooks/2_pandas.ipynb\" target=\"_parent\"><img src=\"https://colab.research.google.com/assets/colab-badge.svg\" alt=\"Open In Colab\"/></a>"
      ]
    },
    {
      "cell_type": "markdown",
      "metadata": {
        "id": "NStrSKxpMR3u"
      },
      "source": [
        "# Tabular data analysis 1 : Loading Open Food Facts data with pandas\n",
        "\n",
        "In this series of notebooks, we are going to explore the data contained in the OpenFoodFacts database."
      ]
    },
    {
      "cell_type": "markdown",
      "metadata": {
        "id": "BVrQGK0XMj_q"
      },
      "source": [
        "## OpenFoodFacts\n",
        "\n",
        "OpenFoodFacts is an open, crowdsourced database on food products from around the world.\n",
        "\n",
        "It is produced and managed as a digital commons.\n",
        "\n",
        "Everyone can contribute data on packaged food products: pictures, ingredients, nutritional values etc.\n",
        "\n",
        "This database has served as the foundation for many mobile phone apps, especially scanning apps to help customers while grocery shopping."
      ]
    },
    {
      "cell_type": "markdown",
      "metadata": {
        "id": "Kt-j_RjLMsa5"
      },
      "source": [
        "### Notions\n",
        "\n",
        "* It is [*open*](https://en.wikipedia.org/wiki/Open_data): Anyone can freely use it, access it, modify it.\n",
        "* It is [*crowdsourced*](https://en.wikipedia.org/wiki/Crowdsourcing) : Anyone can add new food products to the database, complete or modify existing data.\n",
        "* It is a [knowledge commons](https://en.wikipedia.org/wiki/Knowledge_commons), a type of [digital commons](https://en.wikipedia.org/wiki/Digital_commons_(economics))."
      ]
    },
    {
      "cell_type": "markdown",
      "metadata": {
        "id": "OH4EPJM6MszD"
      },
      "source": [
        "### Browsing through the dataset\n",
        "\n",
        "The OpenFoodFacts database is [available online](https://world.openfoodfacts.org/).\n",
        "\n",
        "Take a few minutes to explore the database through its online interface.\n",
        "\n",
        "* How is each product described ?\n",
        "* What types of information are provided ?"
      ]
    },
    {
      "cell_type": "markdown",
      "metadata": {
        "id": "g1iMze3R8nXY"
      },
      "source": [
        "### Understanding the dataset\n",
        "\n",
        "To really understand a dataset, you need to read its documentation so that you are able to answer a set of common, basic questions that will help guide your analysis, such as :\n",
        "\n",
        "* Who created this dataset and for what purpose ?\n",
        "* How was the dataset created ?\n",
        "* What do the instances that comprise the dataset represent (eg. people, companies, events, photos...) ?\n",
        "* What data does each instance consist of ? Are they \"raw\" data or (computed) features ?\n",
        "* Are the instances related in some way ? If so, are there specific fields that enable cross-reference ?\n",
        "\n",
        "The documentation for a dataset is always written with some purpose, for an intended type of reader, in a certain context, hence it is very likely that you will not find all the answers in the documentation.\n",
        "\n",
        "Here, you can gather partial information on OFF from :\n",
        "\n",
        "* the [presentation of the project](https://world.openfoodfacts.org/discover)\n",
        "* various pages of the [wiki](https://wiki.openfoodfacts.org/Main_Page), mostly :\n",
        "  * [Data fields](https://wiki.openfoodfacts.org/Data_fields)\n",
        "  * [Ingredients](https://wiki.openfoodfacts.org/Ingredients)\n",
        "  * [Quality](https://wiki.openfoodfacts.org/Quality)\n",
        "\n",
        "#### To go further\n",
        "\n",
        "* [Datasheets for datasets](https://arxiv.org/pdf/1803.09010.pdf) are a standardized documentation process and format proposed by AI researchers to facilitate the proper (re-)use of datasets and avoid common pitfalls in designing AI components (and ensuing scandals when they exhibit problematic biases in deployment)"
      ]
    },
    {
      "cell_type": "markdown",
      "metadata": {
        "id": "pt6KIZgv7i4r"
      },
      "source": [
        "Equipped with this new knowledge about the OpenFoodFacts database, you can start the exploratory analysis of the data to gather the missing information to complete your answers, and ask questions of your own.\n"
      ]
    },
    {
      "cell_type": "markdown",
      "metadata": {
        "id": "Vl3hW0qeM3lh"
      },
      "source": [
        "### OpenFoodFacts as a tabular dataset\n",
        "\n",
        "The entire set of facts about all the products in the OpenFoodFacts database can be represented as a *tabular dataset*, that is a table of data where :\n",
        "\n",
        "* each row is a product,\n",
        "* each column is a field (eg. \"brand\", \"barcode\", \"energy for 100g\"...),\n",
        "* each cell contains the value of a field for a product."
      ]
    },
    {
      "cell_type": "markdown",
      "metadata": {
        "id": "jby4sV1YK43C"
      },
      "source": [
        "\n",
        "The simplest and most common format used for tabular datasets is the [CSV format](https://en.wikipedia.org/wiki/Comma-separated_values).\n",
        "CSV files can be opened in a spreadsheet software such as Microsoft Excel, Apple Numbers or LibreOffice Calc, or just any plain text editor."
      ]
    },
    {
      "cell_type": "markdown",
      "metadata": {
        "id": "0b0oSBi0K6qI"
      },
      "source": [
        "The OpenFoodFacts database is [available for download in various formats](https://world.openfoodfacts.org/data), including the CSV format.\n",
        "Because the whole dataset is too big (the CSV export weighs more than 4 GB as of 2021-08-16), we will work on a filtered subset of the dataset where we only keep products with :\n",
        "\n",
        "* a non-ambiguous barcode in the [EAN-8](https://en.wikipedia.org/wiki/EAN-8) or [EAN-13](https://en.wikipedia.org/wiki/International_Article_Number) formats ;\n",
        "* a product name,\n",
        "* brands,\n",
        "* an image URL for the product ;\n",
        "* a category ;\n",
        "* basic nutritional values."
      ]
    },
    {
      "cell_type": "markdown",
      "metadata": {
        "id": "_rM7v1UoOaEg"
      },
      "source": [
        "## The pandas library for tabular data analysis"
      ]
    },
    {
      "cell_type": "markdown",
      "metadata": {
        "id": "hTQA8jb-M6_r"
      },
      "source": [
        "### Gaining functionalities with libraries\n",
        "\n",
        "The Python standard library includes a module named [csv](https://docs.python.org/3/library/csv.html#module-csv) that provides very basic support to read and write CSV files.\n",
        "This module enables you to read and write values, but nothing more.\n",
        "\n",
        "It gives you no way to :\n",
        "\n",
        "* rename columns ;\n",
        "* filter columns, eg. keep only the columns for nutritional values ;\n",
        "* filter rows, eg. select all products that are categorized as \"Sweet spreads\" ;\n",
        "* compute summary statistics on columns across rows, eg. compute the min, max, mean and median of fiber content per 100g ;\n",
        "* compare columns, eg. test whether they contain the same values ;\n",
        "* etc.\n",
        "\n",
        "As we saw in the 1st notebook, this can be remedied by using an additional [software library](https://en.wikipedia.org/wiki/Library_(computing)), which is, roughly speaking, a collection of code that provides functionalities to perform operations on a given task or domain .\n",
        "\n",
        "The most widely used library in Python to work on tabular datasets is [pandas](https://pandas.pydata.org/)."
      ]
    },
    {
      "cell_type": "markdown",
      "metadata": {
        "id": "2_PiRu9Ch1c1"
      },
      "source": [
        "We need to import pandas and, for technical reasons, a specific pandas data type to load [categorical variables with ordered values](https://pandas.pydata.org/pandas-docs/stable/user_guide/categorical.html#controlling-behavior)."
      ]
    },
    {
      "cell_type": "code",
      "metadata": {
        "id": "D6TRL3KEQtp2"
      },
      "source": [
        "import pandas as pd\n",
        "# we need this data type for ordered categoricals\n",
        "from pandas.api.types import CategoricalDtype\n",
        "# lift some limitations in column width, so more cell values are displayed in full\n",
        "pd.set_option('display.max_colwidth', 110)"
      ],
      "execution_count": 2,
      "outputs": []
    },
    {
      "cell_type": "markdown",
      "metadata": {
        "id": "i-teDRZJjGDr"
      },
      "source": [
        "The OpenFoodFacts CSV file we will load has an accompanying text file that specifies the specific data type that pandas should use for the columns. Otherwise, pandas would do its best to guess data types but its guesses are (rightfully) conservative so the result is quite rough around the edges."
      ]
    },
    {
      "cell_type": "markdown",
      "metadata": {
        "id": "aTUoJWrTLy1-"
      },
      "source": [
        "The two files (csv and txt) are on the Google Drive of my Sciences Po account :\n",
        "\n",
        "* [CSV file](https://drive.google.com/file/d/14Pyz3Wb-FGs_9H-e7K-4Ug2X31N81Amv/view?usp=sharing)\n",
        "* [dtype txt file](https://drive.google.com/file/d/1EUBD1btT8k4PS073WLUqGm_UucUl4n3P/view?usp=sharing)\n",
        "\n",
        "0. Check that you have saved this notebook on your Google Drive (otherwise a \"Save on your Drive\" button appears in the Colab notebook menu bar) ;\n",
        "1. Download the CSV and txt files ;\n",
        "2. Add them to the Google Drive of the account you used to open Colab : It should be your Sciences-Po account, or your personal account.\n",
        "  * To check what account you are using, click on the circle with your initial, at the top right of the Colab menu bar (as in Gmail and other Google products).\n",
        "  * Then go to <https://drive.google.com/>, check you are logged in with the same account, and drop your files where you want.\n",
        "3. To the very left of this Colab notebook, there is a small \"folder\" icon. Click on it, a menu bar will appear with three icons below \"Files\". Click on the icon on the right (dark folder icon, with the Drive icon). It will enable you to access files on your Drive from your Colab notebook.\n",
        "4. In the next cell, change the path to the files to match the path on your Drive.\n",
        "\n",
        "It should work, but let me know if you encounter any issue."
      ]
    },
    {
      "cell_type": "code",
      "source": [
        "# this code probably appeared with the above procedure\n",
        "from google.colab import drive\n",
        "drive.mount('/content/drive')"
      ],
      "metadata": {
        "colab": {
          "base_uri": "https://localhost:8080/"
        },
        "id": "5tJ7klJyZsA3",
        "outputId": "fc74a78d-3636-430b-f807-6cf25c6a79a1"
      },
      "execution_count": 6,
      "outputs": [
        {
          "output_type": "stream",
          "name": "stdout",
          "text": [
            "Mounted at /content/drive\n"
          ]
        }
      ]
    },
    {
      "cell_type": "code",
      "metadata": {
        "id": "L9-gTB3ERtSL"
      },
      "source": [
        "# dataset\n",
        "OFF_FILE = 'drive/MyDrive/data-science-bootcamp/off_products_subset.csv'\n",
        "# data type of the columns, useful for loading\n",
        "DTYPE_FILE = 'drive/MyDrive/data-science-bootcamp/dtype.txt'"
      ],
      "execution_count": 7,
      "outputs": []
    },
    {
      "cell_type": "markdown",
      "metadata": {
        "id": "80Y_FxwNj-Iu"
      },
      "source": [
        "We will use a custom utility function, `load_off`, to load the OpenFoodFacts dataset and convert a column.\n",
        "\n",
        "You do not need to understand or even look at its code because this requires a few Python functions and technical notions (file input and output, evaluation) that we could not cover in the first notebook and are beyond the objectives of this bootcamp.\n",
        "However, feel free to ask Mathieu questions if you are curious !"
      ]
    },
    {
      "cell_type": "code",
      "metadata": {
        "id": "pSuc5mxERvqk"
      },
      "source": [
        "def load_off():\n",
        "  \"\"\"Load the filtered subset of OpenFoodFacts.\n",
        "  \n",
        "  Returns\n",
        "  -------\n",
        "  df : pd.DataFrame\n",
        "    (A filtered subset of the) OpenFoodFacts tabular dataset.\n",
        "  \"\"\"\n",
        "  # load the data types for the columns\n",
        "  with open(DTYPE_FILE) as f:\n",
        "    dtype = eval(f.read())\n",
        "\n",
        "  # load the dataset\n",
        "  df = pd.read_csv(OFF_FILE, sep='\\t', dtype=dtype)\n",
        "  # convert columns with datetimes\n",
        "  for col_name in ('created_datetime', 'last_modified_datetime'):\n",
        "    # ISO 8601 dates\n",
        "    df[col_name] = pd.to_datetime(df[col_name])\n",
        "  #\n",
        "  return df"
      ],
      "execution_count": 8,
      "outputs": []
    },
    {
      "cell_type": "markdown",
      "metadata": {
        "id": "MG8evm-ul2pQ"
      },
      "source": [
        "We load the dataset using the function above."
      ]
    },
    {
      "cell_type": "code",
      "metadata": {
        "id": "n52WNOS-Wb1H"
      },
      "source": [
        "df = load_off()"
      ],
      "execution_count": 9,
      "outputs": []
    },
    {
      "cell_type": "markdown",
      "metadata": {
        "id": "dF-a6-pGl-lK"
      },
      "source": [
        "If all went fine, you do not see anything.\n",
        "What have we read, really ?\n",
        "You remember that typing the name of a variable, as the only (or last) line of a notebook cell, prints its value. "
      ]
    },
    {
      "cell_type": "code",
      "metadata": {
        "id": "S0oEcV3kWd9_"
      },
      "source": [
        "# type the name of the variable containing the dataset\n"
      ],
      "execution_count": null,
      "outputs": []
    },
    {
      "cell_type": "markdown",
      "metadata": {
        "id": "BJUlS9O3Ou2q"
      },
      "source": [
        "The dataset is loaded in a pandas DataFrame, a type of object described in the [pandas intro tutorial 01](https://pandas.pydata.org/docs/getting_started/intro_tutorials/01_table_oriented.html)."
      ]
    },
    {
      "cell_type": "markdown",
      "metadata": {
        "id": "zdU6oj0eoDEI"
      },
      "source": [
        "By default pandas displays the column headers, the first and last five rows with their row index, the total number of rows and columns."
      ]
    },
    {
      "cell_type": "markdown",
      "metadata": {
        "id": "XWrf7DeO1H9x"
      },
      "source": [
        "How many rows and columns does the table contain in total ?"
      ]
    },
    {
      "cell_type": "markdown",
      "metadata": {
        "id": "-dBvbb5J1Jed"
      },
      "source": [
        "You can display the first `n` entries of a Dataframe with the DataFrame method [head](https://pandas.pydata.org/docs/reference/api/pandas.DataFrame.head.html), and the last `n` entries with [tail](https://pandas.pydata.org/docs/reference/api/pandas.DataFrame.tail.html#pandas.DataFrame.tail).\n",
        "\n",
        "Remember that methods are attached to an object, and are called with the dot notation."
      ]
    },
    {
      "cell_type": "code",
      "metadata": {
        "colab": {
          "base_uri": "https://localhost:8080/",
          "height": 187
        },
        "id": "H-QIrhlN1obK",
        "outputId": "00aac3ca-b228-4077-efbf-c7a06fc94ceb"
      },
      "source": [
        "# display the first entry\n",
        "df.head(1)"
      ],
      "execution_count": null,
      "outputs": [
        {
          "output_type": "execute_result",
          "data": {
            "text/html": [
              "<div>\n",
              "<style scoped>\n",
              "    .dataframe tbody tr th:only-of-type {\n",
              "        vertical-align: middle;\n",
              "    }\n",
              "\n",
              "    .dataframe tbody tr th {\n",
              "        vertical-align: top;\n",
              "    }\n",
              "\n",
              "    .dataframe thead th {\n",
              "        text-align: right;\n",
              "    }\n",
              "</style>\n",
              "<table border=\"1\" class=\"dataframe\">\n",
              "  <thead>\n",
              "    <tr style=\"text-align: right;\">\n",
              "      <th></th>\n",
              "      <th>code</th>\n",
              "      <th>url</th>\n",
              "      <th>creator</th>\n",
              "      <th>created_datetime</th>\n",
              "      <th>last_modified_datetime</th>\n",
              "      <th>product_name</th>\n",
              "      <th>generic_name</th>\n",
              "      <th>quantity</th>\n",
              "      <th>packaging</th>\n",
              "      <th>brands</th>\n",
              "      <th>categories_en</th>\n",
              "      <th>origins_en</th>\n",
              "      <th>manufacturing_places</th>\n",
              "      <th>labels_en</th>\n",
              "      <th>emb_codes</th>\n",
              "      <th>emb_codes_tags</th>\n",
              "      <th>purchase_places</th>\n",
              "      <th>stores</th>\n",
              "      <th>countries_en</th>\n",
              "      <th>ingredients_text</th>\n",
              "      <th>allergens</th>\n",
              "      <th>traces_en</th>\n",
              "      <th>serving_size</th>\n",
              "      <th>serving_quantity</th>\n",
              "      <th>additives_n</th>\n",
              "      <th>additives_tags</th>\n",
              "      <th>additives_en</th>\n",
              "      <th>ingredients_from_palm_oil_n</th>\n",
              "      <th>ingredients_from_palm_oil_tags</th>\n",
              "      <th>ingredients_that_may_be_from_palm_oil_n</th>\n",
              "      <th>ingredients_that_may_be_from_palm_oil_tags</th>\n",
              "      <th>nutriscore_score</th>\n",
              "      <th>nutriscore_grade</th>\n",
              "      <th>nova_group</th>\n",
              "      <th>pnns_groups_1</th>\n",
              "      <th>pnns_groups_2</th>\n",
              "      <th>states_en</th>\n",
              "      <th>brand_owner</th>\n",
              "      <th>ecoscore_score_fr</th>\n",
              "      <th>ecoscore_grade_fr</th>\n",
              "      <th>main_category_en</th>\n",
              "      <th>image_small_url</th>\n",
              "      <th>energy-kj_100g</th>\n",
              "      <th>energy-kcal_100g</th>\n",
              "      <th>energy_100g</th>\n",
              "      <th>fat_100g</th>\n",
              "      <th>saturated-fat_100g</th>\n",
              "      <th>monounsaturated-fat_100g</th>\n",
              "      <th>polyunsaturated-fat_100g</th>\n",
              "      <th>trans-fat_100g</th>\n",
              "      <th>cholesterol_100g</th>\n",
              "      <th>carbohydrates_100g</th>\n",
              "      <th>sugars_100g</th>\n",
              "      <th>fiber_100g</th>\n",
              "      <th>proteins_100g</th>\n",
              "      <th>salt_100g</th>\n",
              "      <th>sodium_100g</th>\n",
              "      <th>alcohol_100g</th>\n",
              "      <th>vitamin-a_100g</th>\n",
              "      <th>vitamin-c_100g</th>\n",
              "      <th>vitamin-b1_100g</th>\n",
              "      <th>potassium_100g</th>\n",
              "      <th>calcium_100g</th>\n",
              "      <th>iron_100g</th>\n",
              "      <th>magnesium_100g</th>\n",
              "      <th>nutrition-score-fr_100g</th>\n",
              "    </tr>\n",
              "  </thead>\n",
              "  <tbody>\n",
              "    <tr>\n",
              "      <th>0</th>\n",
              "      <td>0000101209159</td>\n",
              "      <td>http://world-en.openfoodfacts.org/product/0000...</td>\n",
              "      <td>kiliweb</td>\n",
              "      <td>2018-02-22 10:56:57+00:00</td>\n",
              "      <td>2020-01-18 19:26:31+00:00</td>\n",
              "      <td>Véritable pâte à tartiner noisettes chocolat noir</td>\n",
              "      <td>&lt;NA&gt;</td>\n",
              "      <td>350 g</td>\n",
              "      <td>&lt;NA&gt;</td>\n",
              "      <td>Bovetti</td>\n",
              "      <td>Spreads,Breakfasts,Sweet spreads,fr:Pâtes à ta...</td>\n",
              "      <td>&lt;NA&gt;</td>\n",
              "      <td>&lt;NA&gt;</td>\n",
              "      <td>No gluten,No palm oil</td>\n",
              "      <td>&lt;NA&gt;</td>\n",
              "      <td>&lt;NA&gt;</td>\n",
              "      <td>&lt;NA&gt;</td>\n",
              "      <td>&lt;NA&gt;</td>\n",
              "      <td>France</td>\n",
              "      <td>&lt;NA&gt;</td>\n",
              "      <td>&lt;NA&gt;</td>\n",
              "      <td>&lt;NA&gt;</td>\n",
              "      <td>&lt;NA&gt;</td>\n",
              "      <td>NaN</td>\n",
              "      <td>&lt;NA&gt;</td>\n",
              "      <td>&lt;NA&gt;</td>\n",
              "      <td>&lt;NA&gt;</td>\n",
              "      <td>&lt;NA&gt;</td>\n",
              "      <td>&lt;NA&gt;</td>\n",
              "      <td>&lt;NA&gt;</td>\n",
              "      <td>&lt;NA&gt;</td>\n",
              "      <td>23</td>\n",
              "      <td>e</td>\n",
              "      <td>NaN</td>\n",
              "      <td>Sugary snacks</td>\n",
              "      <td>Sweets</td>\n",
              "      <td>To be completed,Nutrition facts completed,Ingr...</td>\n",
              "      <td>&lt;NA&gt;</td>\n",
              "      <td>20</td>\n",
              "      <td>d</td>\n",
              "      <td>Cocoa and hazelnuts spreads</td>\n",
              "      <td>https://images.openfoodfacts.org/images/produc...</td>\n",
              "      <td>NaN</td>\n",
              "      <td>617.0</td>\n",
              "      <td>2582.0</td>\n",
              "      <td>48.0</td>\n",
              "      <td>10.0</td>\n",
              "      <td>NaN</td>\n",
              "      <td>NaN</td>\n",
              "      <td>NaN</td>\n",
              "      <td>NaN</td>\n",
              "      <td>36.0</td>\n",
              "      <td>32.0</td>\n",
              "      <td>NaN</td>\n",
              "      <td>8.0</td>\n",
              "      <td>0.01</td>\n",
              "      <td>0.004</td>\n",
              "      <td>NaN</td>\n",
              "      <td>NaN</td>\n",
              "      <td>NaN</td>\n",
              "      <td>NaN</td>\n",
              "      <td>NaN</td>\n",
              "      <td>NaN</td>\n",
              "      <td>NaN</td>\n",
              "      <td>NaN</td>\n",
              "      <td>23.0</td>\n",
              "    </tr>\n",
              "  </tbody>\n",
              "</table>\n",
              "</div>"
            ],
            "text/plain": [
              "            code  ... nutrition-score-fr_100g\n",
              "0  0000101209159  ...                    23.0\n",
              "\n",
              "[1 rows x 66 columns]"
            ]
          },
          "metadata": {},
          "execution_count": 25
        }
      ]
    },
    {
      "cell_type": "markdown",
      "metadata": {
        "id": "ZDNzibVG1c-m"
      },
      "source": [
        "Display the first 7 entries."
      ]
    },
    {
      "cell_type": "code",
      "metadata": {
        "id": "-u7BYnhC1f2N"
      },
      "source": [
        ""
      ],
      "execution_count": null,
      "outputs": []
    },
    {
      "cell_type": "markdown",
      "metadata": {
        "id": "w-hEqIhY1gSN"
      },
      "source": [
        "Display the last 3 entries."
      ]
    },
    {
      "cell_type": "code",
      "metadata": {
        "id": "m_y711og1irf"
      },
      "source": [
        ""
      ],
      "execution_count": null,
      "outputs": []
    },
    {
      "cell_type": "markdown",
      "metadata": {
        "id": "uq0kv9lJ8GHn"
      },
      "source": [
        "**Hint** Some URLs are longer than the maximal displayed text length for a cell (by default 80 characters, previously raised here to 110). This will make it harder for you to consult the product page on the OFF website. \n",
        "You can use the `values` attribute to get the complete array of values for a (subset of a) DataFrame, or of a column (Series)."
      ]
    },
    {
      "cell_type": "code",
      "metadata": {
        "colab": {
          "base_uri": "https://localhost:8080/"
        },
        "id": "G7dy_6Lf-DUE",
        "outputId": "536e9955-f002-464b-8bd2-a24cb3c7753b"
      },
      "source": [
        "# display the arrays of values of all fields for the first 2 products\n",
        "# NB : each entry has 2 URLs : one for the product page, one for its (small-sized) image\n",
        "df.head(2).values"
      ],
      "execution_count": null,
      "outputs": [
        {
          "output_type": "execute_result",
          "data": {
            "text/plain": [
              "array([['0000101209159',\n",
              "        'http://world-en.openfoodfacts.org/product/0000101209159/veritable-pate-a-tartiner-noisettes-chocolat-noir-bovetti',\n",
              "        'kiliweb', Timestamp('2018-02-22 10:56:57+0000', tz='UTC'),\n",
              "        Timestamp('2020-01-18 19:26:31+0000', tz='UTC'),\n",
              "        'Véritable pâte à tartiner noisettes chocolat noir', <NA>,\n",
              "        '350 g', <NA>, 'Bovetti',\n",
              "        'Spreads,Breakfasts,Sweet spreads,fr:Pâtes à tartiner,Hazelnut spreads,Chocolate spreads,Cocoa and hazelnuts spreads',\n",
              "        <NA>, <NA>, 'No gluten,No palm oil', <NA>, <NA>, <NA>, <NA>,\n",
              "        'France', <NA>, <NA>, <NA>, <NA>, nan, <NA>, <NA>, <NA>, <NA>,\n",
              "        <NA>, <NA>, <NA>, 23, 'e', nan, 'Sugary snacks', 'Sweets',\n",
              "        'To be completed,Nutrition facts completed,Ingredients to be completed,Expiration date to be completed,Packaging code to be completed,Characteristics to be completed,Categories completed,Brands completed,Packaging to be completed,Quantity completed,Product name completed,Photos validated,Photos uploaded',\n",
              "        <NA>, 20, 'd', 'Cocoa and hazelnuts spreads',\n",
              "        'https://images.openfoodfacts.org/images/products/000/010/120/9159/front_fr.4.200.jpg',\n",
              "        nan, 617.0, 2582.0, 48.0, 10.0, nan, nan, nan, nan, 36.0, 32.0,\n",
              "        nan, 8.0, 0.01, 0.004, nan, nan, nan, nan, nan, nan, nan, nan,\n",
              "        23.0],\n",
              "       ['0000159487776',\n",
              "        'http://world-en.openfoodfacts.org/product/0000159487776/milkyway-magic-stars-chocolates',\n",
              "        'usda-ndb-import',\n",
              "        Timestamp('2017-03-09 16:01:56+0000', tz='UTC'),\n",
              "        Timestamp('2020-04-22 20:31:56+0000', tz='UTC'),\n",
              "        'Milkyway, magic stars chocolates', <NA>, <NA>, <NA>, 'Milkyway',\n",
              "        'Snacks,Sweet snacks,Cocoa and its products,Confectioneries,Chocolate candies',\n",
              "        <NA>, <NA>, <NA>, <NA>, <NA>, <NA>, <NA>, 'United States',\n",
              "        'Sugar, cocoa butter, skimmed milk powder, cocoa mass, whey powder (from milk), lactose, milk fat, emulsifier (soya lecithin), natural vanilla extract.',\n",
              "        <NA>, <NA>, '100 g (100 g)', 100.0, 1, 'en:e322,en:e322i',\n",
              "        'E322 - Lecithins,E322i - Lecithin', 0, <NA>, 0, <NA>, <NA>, nan,\n",
              "        '4', 'Sugary snacks', 'Sweets',\n",
              "        'To be completed,Nutrition facts completed,Ingredients completed,Expiration date to be completed,Packaging code to be completed,Characteristics to be completed,Categories completed,Brands completed,Packaging to be completed,Quantity to be completed,Product name completed,Photos to be validated,Photos uploaded',\n",
              "        'MILKYWAY', <NA>, nan, 'Chocolate candies',\n",
              "        'https://images.openfoodfacts.org/images/products/000/015/948/7776/front_en.3.200.jpg',\n",
              "        nan, 557.0, 2330.0, 34.7, nan, nan, nan, nan, nan, 54.2, 53.6,\n",
              "        nan, 6.4, nan, nan, nan, nan, nan, nan, nan, nan, nan, nan, nan]],\n",
              "      dtype=object)"
            ]
          },
          "metadata": {},
          "execution_count": 70
        }
      ]
    },
    {
      "cell_type": "markdown",
      "metadata": {
        "id": "lzDZ-aYHqedT"
      },
      "source": [
        "### About the data table\n",
        "\n",
        "We can display a summary of the DataFrame with `info`, including for each column its index, name, number of non-null values, and data type (`dtype`).\n",
        "For more information, you can read the [pandas intro tutorial 02](https://pandas.pydata.org/docs/getting_started/intro_tutorials/02_read_write.html)."
      ]
    },
    {
      "cell_type": "code",
      "metadata": {
        "id": "tcde5MfC-W_r",
        "colab": {
          "base_uri": "https://localhost:8080/"
        },
        "outputId": "22405977-76eb-480f-9d23-7e187c99c539"
      },
      "source": [
        "df.info()"
      ],
      "execution_count": null,
      "outputs": [
        {
          "output_type": "stream",
          "text": [
            "<class 'pandas.core.frame.DataFrame'>\n",
            "RangeIndex: 416552 entries, 0 to 416551\n",
            "Data columns (total 66 columns):\n",
            " #   Column                                      Non-Null Count   Dtype              \n",
            "---  ------                                      --------------   -----              \n",
            " 0   code                                        416552 non-null  string             \n",
            " 1   url                                         416552 non-null  string             \n",
            " 2   creator                                     416551 non-null  category           \n",
            " 3   created_datetime                            416552 non-null  datetime64[ns, UTC]\n",
            " 4   last_modified_datetime                      416552 non-null  datetime64[ns, UTC]\n",
            " 5   product_name                                416552 non-null  string             \n",
            " 6   generic_name                                99355 non-null   string             \n",
            " 7   quantity                                    286295 non-null  string             \n",
            " 8   packaging                                   221026 non-null  string             \n",
            " 9   brands                                      416552 non-null  string             \n",
            " 10  categories_en                               416544 non-null  string             \n",
            " 11  origins_en                                  66661 non-null   string             \n",
            " 12  manufacturing_places                        101974 non-null  string             \n",
            " 13  labels_en                                   200056 non-null  string             \n",
            " 14  emb_codes                                   78281 non-null   string             \n",
            " 15  emb_codes_tags                              78258 non-null   string             \n",
            " 16  purchase_places                             131635 non-null  string             \n",
            " 17  stores                                      163962 non-null  string             \n",
            " 18  countries_en                                415503 non-null  string             \n",
            " 19  ingredients_text                            284310 non-null  string             \n",
            " 20  allergens                                   102046 non-null  string             \n",
            " 21  traces_en                                   91851 non-null   string             \n",
            " 22  serving_size                                129820 non-null  string             \n",
            " 23  serving_quantity                            126294 non-null  float64            \n",
            " 24  additives_n                                 284311 non-null  UInt8              \n",
            " 25  additives_tags                              148112 non-null  string             \n",
            " 26  additives_en                                148112 non-null  string             \n",
            " 27  ingredients_from_palm_oil_n                 284311 non-null  UInt8              \n",
            " 28  ingredients_from_palm_oil_tags              9397 non-null    string             \n",
            " 29  ingredients_that_may_be_from_palm_oil_n     284311 non-null  UInt8              \n",
            " 30  ingredients_that_may_be_from_palm_oil_tags  20904 non-null   string             \n",
            " 31  nutriscore_score                            348265 non-null  Int8               \n",
            " 32  nutriscore_grade                            348265 non-null  category           \n",
            " 33  nova_group                                  256895 non-null  category           \n",
            " 34  pnns_groups_1                               416550 non-null  category           \n",
            " 35  pnns_groups_2                               416552 non-null  category           \n",
            " 36  states_en                                   416552 non-null  string             \n",
            " 37  brand_owner                                 12689 non-null   string             \n",
            " 38  ecoscore_score_fr                           267772 non-null  Int8               \n",
            " 39  ecoscore_grade_fr                           267772 non-null  category           \n",
            " 40  main_category_en                            416544 non-null  string             \n",
            " 41  image_small_url                             416552 non-null  string             \n",
            " 42  energy-kj_100g                              110910 non-null  float64            \n",
            " 43  energy-kcal_100g                            341593 non-null  float64            \n",
            " 44  energy_100g                                 381025 non-null  float64            \n",
            " 45  fat_100g                                    380738 non-null  float64            \n",
            " 46  saturated-fat_100g                          374013 non-null  float64            \n",
            " 47  monounsaturated-fat_100g                    7655 non-null    float64            \n",
            " 48  polyunsaturated-fat_100g                    7649 non-null    float64            \n",
            " 49  trans-fat_100g                              13074 non-null   float64            \n",
            " 50  cholesterol_100g                            13098 non-null   float64            \n",
            " 51  carbohydrates_100g                          380710 non-null  float64            \n",
            " 52  sugars_100g                                 376969 non-null  float64            \n",
            " 53  fiber_100g                                  162761 non-null  float64            \n",
            " 54  proteins_100g                               380802 non-null  float64            \n",
            " 55  salt_100g                                   373899 non-null  float64            \n",
            " 56  sodium_100g                                 373897 non-null  float64            \n",
            " 57  alcohol_100g                                16515 non-null   float64            \n",
            " 58  vitamin-a_100g                              11760 non-null   float64            \n",
            " 59  vitamin-c_100g                              13291 non-null   float64            \n",
            " 60  vitamin-b1_100g                             4485 non-null    float64            \n",
            " 61  potassium_100g                              7689 non-null    float64            \n",
            " 62  calcium_100g                                20654 non-null   float64            \n",
            " 63  iron_100g                                   15067 non-null   float64            \n",
            " 64  magnesium_100g                              4295 non-null    float64            \n",
            " 65  nutrition-score-fr_100g                     348267 non-null  float64            \n",
            "dtypes: Int8(2), UInt8(3), category(6), datetime64[ns, UTC](2), float64(25), string(28)\n",
            "memory usage: 181.9 MB\n"
          ],
          "name": "stdout"
        }
      ]
    },
    {
      "cell_type": "markdown",
      "metadata": {
        "id": "VnBCyh0LqirZ"
      },
      "source": [
        "`info` also displays the memory usage of the DataFrame."
      ]
    },
    {
      "cell_type": "markdown",
      "metadata": {
        "id": "PjObGPOB-kSQ"
      },
      "source": [
        "### Selecting subsets\n",
        "\n",
        "One of the fundamental operations on DataFrames is to be able to filter the dataset on a certain condition, to keep only certain rows or columns.\n",
        "\n",
        "The basic operators for selection are square brackets `[]`, `loc` and `iloc`, and you can select rows or columns by their position or label, or with a conditional expression on values, see the [pandas intro tutorial 03](https://pandas.pydata.org/docs/getting_started/intro_tutorials/03_subset_data.html)."
      ]
    },
    {
      "cell_type": "markdown",
      "metadata": {
        "id": "t1wcic4w0M51"
      },
      "source": [
        "Filter rows to keep only products with Nutri-Score 'a'.\n"
      ]
    },
    {
      "cell_type": "code",
      "metadata": {
        "id": "imoxGSFFJWRJ"
      },
      "source": [
        ""
      ],
      "execution_count": null,
      "outputs": []
    },
    {
      "cell_type": "markdown",
      "metadata": {
        "id": "qn4h8ZYkJzOj"
      },
      "source": [
        "You should have 56260 entries."
      ]
    },
    {
      "cell_type": "markdown",
      "metadata": {
        "id": "zmfVWsBNJ2m7"
      },
      "source": [
        "Now filter rows to keep products whose quantity of sugars per 100g is higher than 20g."
      ]
    },
    {
      "cell_type": "code",
      "metadata": {
        "id": "97JgxEaX0Ow1"
      },
      "source": [
        ""
      ],
      "execution_count": null,
      "outputs": []
    },
    {
      "cell_type": "markdown",
      "metadata": {
        "id": "lXun1rNyKGca"
      },
      "source": [
        "You should obtain 83891 entries."
      ]
    },
    {
      "cell_type": "markdown",
      "metadata": {
        "id": "Jm_fjHqT0DtX"
      },
      "source": [
        "Filter the dataset to keep only the columns corresponding to the :\n",
        "* barcode,\n",
        "* url,\n",
        "* date of creation,\n",
        "* product name,\n",
        "* brands,\n",
        "* categories,\n",
        "* ingredients text,\n",
        "* main category,\n",
        "* Nutri-Score grade,\n",
        "* Nutri-Score score,\n",
        "* Nova group."
      ]
    },
    {
      "cell_type": "code",
      "metadata": {
        "id": "F2rdY7Lgn5qI"
      },
      "source": [
        ""
      ],
      "execution_count": null,
      "outputs": []
    },
    {
      "cell_type": "markdown",
      "metadata": {
        "id": "8zGsdtXf_pBd"
      },
      "source": [
        "### Renaming columns\n",
        "\n",
        "Column names are not always ideal, either because they are not transparent (it is hard for you or an external user to understand what they stand for) or because they would look bad if they were used directly to label the axes of a datavisualization.\n",
        "\n",
        "pandas provides means to rename columns, see the [pandas intro tutorial 05](https://pandas.pydata.org/docs/getting_started/intro_tutorials/05_add_columns.html).\n",
        "\n",
        "Rename all the columns ending with `_en` (code for English) to drop this suffix, eg. `main_category_en` to `main_category`."
      ]
    },
    {
      "cell_type": "code",
      "metadata": {
        "id": "-py_tsCnANqm"
      },
      "source": [
        ""
      ],
      "execution_count": null,
      "outputs": []
    },
    {
      "cell_type": "markdown",
      "metadata": {
        "id": "YkEpY50h-_A0"
      },
      "source": [
        "### Summary statistics\n",
        "\n",
        "You can compute various summary statistics that depend on the type of variable in each column, see the [pandas intro tutorial 06](https://pandas.pydata.org/docs/getting_started/intro_tutorials/06_calculate_statistics.html).\n",
        "\n",
        "Compute summary statistics for several columns from different types, and combinations of columns that could provide interesting insights.\n",
        "\n",
        "For instance, compute the means of the nutritional values for :\n",
        "* fat,\n",
        "* saturated fat,\n",
        "* sugars,\n",
        "* salt."
      ]
    },
    {
      "cell_type": "code",
      "metadata": {
        "id": "4ctU6Y1pBMbF"
      },
      "source": [
        "# compute the means\n"
      ],
      "execution_count": null,
      "outputs": []
    },
    {
      "cell_type": "markdown",
      "metadata": {
        "id": "ilw36N3e-jwW"
      },
      "source": [
        "### Computing on columns\n",
        "\n",
        "You can manipulate columns in various ways, including with operations that apply element-wise as we saw for NumPy arrays in the first notebook.\n",
        "\n",
        "You can for instance subtract the mean value of a column to each value."
      ]
    },
    {
      "cell_type": "code",
      "metadata": {
        "colab": {
          "base_uri": "https://localhost:8080/"
        },
        "id": "3SSGReAnAwHQ",
        "outputId": "36b215fb-3c14-49b7-d7e8-d1e8485ddfc4"
      },
      "source": [
        "# subtract to each value for 'fat' the mean value of fat in the dataset\n",
        "df['fat_100g'] - df['fat_100g'].mean()"
      ],
      "execution_count": null,
      "outputs": [
        {
          "output_type": "execute_result",
          "data": {
            "text/plain": [
              "0         33.815477\n",
              "1         20.515477\n",
              "2        -13.184523\n",
              "3        -13.184523\n",
              "4        -13.684523\n",
              "            ...    \n",
              "416547     9.815477\n",
              "416548   -10.984523\n",
              "416549    32.715477\n",
              "416550   -13.684523\n",
              "416551    -6.584523\n",
              "Name: fat_100g, Length: 416552, dtype: float64"
            ]
          },
          "metadata": {},
          "execution_count": 54
        }
      ]
    },
    {
      "cell_type": "markdown",
      "metadata": {
        "id": "kP5CEM--_Kq3"
      },
      "source": [
        "### Sorting data\n",
        "\n",
        "The entries are sorted by barcode.\n",
        "We might find it easier to understand the dataset if we sort entries by another criterion."
      ]
    },
    {
      "cell_type": "markdown",
      "metadata": {
        "id": "7TMJz0BD0kC_"
      },
      "source": [
        "Sort entries by brand, following the [pandas intro tutorial 07](https://pandas.pydata.org/docs/getting_started/intro_tutorials/07_reshape_table_layout.html)."
      ]
    },
    {
      "cell_type": "code",
      "metadata": {
        "id": "Jzh8YvJG_ohu"
      },
      "source": [
        ""
      ],
      "execution_count": null,
      "outputs": []
    },
    {
      "cell_type": "markdown",
      "metadata": {
        "id": "Fw2sVZfA0lqs"
      },
      "source": [
        "Sort entries by the Nutri-Score grade."
      ]
    },
    {
      "cell_type": "code",
      "metadata": {
        "id": "hefC4c9q0p5V"
      },
      "source": [
        ""
      ],
      "execution_count": null,
      "outputs": []
    },
    {
      "cell_type": "markdown",
      "metadata": {
        "id": "lbzssO7p0qYw"
      },
      "source": [
        "Sort entries by the Nutri-Score grade and Nova group (together)."
      ]
    },
    {
      "cell_type": "code",
      "metadata": {
        "id": "JTJ1No5x00Q0"
      },
      "source": [
        ""
      ],
      "execution_count": null,
      "outputs": []
    },
    {
      "cell_type": "markdown",
      "metadata": {
        "id": "Kb18JOIOAOix"
      },
      "source": [
        "### Working with dates\n",
        "\n",
        "pandas has a specific data type for dates. You can explicitly ask pandas to use this type for specific columns, either during `read_csv` or after (as I did in `load_off`), see the [pandas intro tutorial 09](https://pandas.pydata.org/docs/getting_started/intro_tutorials/09_timeseries.html).\n",
        "\n",
        "This specific data type makes it easy to filter entries by the month of their creation, to know what day of the week an entry was created, or to sort entries by their date of creation.\n",
        "\n",
        "Sort entries by their date of creation."
      ]
    },
    {
      "cell_type": "code",
      "metadata": {
        "id": "433k3DsMAzAI"
      },
      "source": [
        ""
      ],
      "execution_count": null,
      "outputs": []
    },
    {
      "cell_type": "markdown",
      "metadata": {
        "id": "C7Idtg5fA-A2"
      },
      "source": [
        "### Working with textual data\n",
        "\n",
        "pandas provides a number of functions to process text strings, see the [pandas intro tutorial 10](https://pandas.pydata.org/docs/getting_started/intro_tutorials/10_text_data.html).\n",
        "\n",
        "Use these functions to select all entries whose list of brands contains \"Casino\" (this operation is case-sensitive, so mind the initial capital letter!)."
      ]
    },
    {
      "cell_type": "code",
      "metadata": {
        "id": "U7Uo9KorBm_p"
      },
      "source": [
        ""
      ],
      "execution_count": 33,
      "outputs": []
    },
    {
      "cell_type": "markdown",
      "source": [
        "You should get 4434 products whose brands contains \"Casino\"."
      ],
      "metadata": {
        "id": "LbmWdKtbc2IN"
      }
    },
    {
      "cell_type": "markdown",
      "metadata": {
        "id": "ZS2PskhCoV6p"
      },
      "source": [
        "### Wrapping it all together\n",
        "\n",
        "Select all the products that are in the category for spreads and store this subset in a variable `df_spreads`."
      ]
    },
    {
      "cell_type": "markdown",
      "source": [
        "> **HINT** If you can't find the right pattern to look for, take a peak at the spelling of the categories: Print the content of the column and browse through the values until you find a suitable value."
      ],
      "metadata": {
        "id": "uIe-F7Z2iSX8"
      }
    },
    {
      "cell_type": "code",
      "metadata": {
        "id": "Oq5nTt8FC02z"
      },
      "source": [
        ""
      ],
      "execution_count": 33,
      "outputs": []
    },
    {
      "cell_type": "markdown",
      "metadata": {
        "id": "R8POySNMCz22"
      },
      "source": [
        "You should find 25565 spreads."
      ]
    },
    {
      "cell_type": "markdown",
      "metadata": {
        "id": "NkNwdHt1GcJj"
      },
      "source": [
        "Compute the means of the nutritional values for :\n",
        "* fat,\n",
        "* saturated fat,\n",
        "* sugars,\n",
        "* salt."
      ]
    },
    {
      "cell_type": "code",
      "metadata": {
        "id": "9C0Fr-y5GeHH"
      },
      "source": [
        ""
      ],
      "execution_count": null,
      "outputs": []
    },
    {
      "cell_type": "markdown",
      "metadata": {
        "id": "8YkbGv54GffI"
      },
      "source": [
        "You should find the mean values :\n",
        "\n",
        "* fat = 20.96 g,\n",
        "* saturated-fat = 7.97 g,\n",
        "* sugars = 29g,\n",
        "* salt = 0.77g.\n"
      ]
    },
    {
      "cell_type": "markdown",
      "metadata": {
        "id": "H_prmtHEDtXj"
      },
      "source": [
        "For each of these 4 nutritional values, compute the percentage of difference between each product and the average of its category, and store the computed values as new columns to `df_spreads` (eg. `diff-fat_100g`, `diff-sugars_100g` etc).\n",
        "\n",
        "Remember that you can find help in the [pandas intro tutorial 05](https://pandas.pydata.org/docs/getting_started/intro_tutorials/05_add_columns.html) and [pandas tutorial 06](https://pandas.pydata.org/pandas-docs/stable/getting_started/intro_tutorials/06_calculate_statistics.html#min-tut-06-stats)."
      ]
    },
    {
      "cell_type": "code",
      "metadata": {
        "id": "Ch1ro9cCEcPX"
      },
      "source": [
        ""
      ],
      "execution_count": null,
      "outputs": []
    },
    {
      "cell_type": "markdown",
      "metadata": {
        "id": "QG5eXJcxqIf7"
      },
      "source": [
        "Note that these values differ from what the OpenFoodFacts website displays when you look at the nutritional values of a product from this category, eg. [Coconut Spread - premium Srikaya - Hey Boo - 227 g](https://world.openfoodfacts.org/product/0608938316165/coconut-spread-premium-srikaya-hey-boo)."
      ]
    },
    {
      "cell_type": "code",
      "metadata": {
        "colab": {
          "base_uri": "https://localhost:8080/"
        },
        "id": "xug5bzYcFX0z",
        "outputId": "38aff0f7-0696-406a-b325-4ff1eda70416"
      },
      "source": [
        "df_spreads[df_spreads['code'] == '0608938316165']['diff-fat_100g']"
      ],
      "execution_count": null,
      "outputs": [
        {
          "output_type": "execute_result",
          "data": {
            "text/plain": [
              "20958    0.213167\n",
              "Name: diff-fat_100g, dtype: float64"
            ]
          },
          "metadata": {},
          "execution_count": 64
        }
      ]
    },
    {
      "cell_type": "markdown",
      "metadata": {
        "id": "nbfxa_tlISSt"
      },
      "source": [
        "This product contains barely 0.2% more fat than the average spreads in our subset, but 20% more than the average spreads in the entire OpenFoodFacts dataset (as displayed on the OFF website)."
      ]
    },
    {
      "cell_type": "markdown",
      "metadata": {
        "id": "e672VxgDv-vv"
      },
      "source": [
        "\n",
        "This is because the OpenFoodFacts website uses its entire dataset, whereas we are working on a filtered subset of \"reasonably complete\" product entries prepared beforehand to keep only products with :\n",
        "\n",
        "* a non-ambiguous barcode in the EAN-8 or EAN-13 formats ;\n",
        "* a product name,\n",
        "* brands,\n",
        "* an image URL for the product ;\n",
        "* a category ;\n",
        "* basic nutritional values."
      ]
    },
    {
      "cell_type": "markdown",
      "metadata": {
        "id": "Jv0ePtELG2rP"
      },
      "source": [
        "It seems that, in this \"resonably complete\" subset, spreads contain more fat on average than in the whole OpenFoodFacts dataset.\n",
        "\n",
        "Is the entire OpenFoodFacts dataset closer to the reality of what is on the shelves of supermarkets ?\n",
        "Is our subset more faithful globally ? Is it more faithful to the consumer market in certain countries, eg. France and Spain ?\n",
        "\n",
        "These questions raise the more general problem of [Selection bias](https://en.wikipedia.org/wiki/Selection_bias) that lies behind every data analysis and use of dataset for eg. artificial intelligence systems."
      ]
    },
    {
      "cell_type": "markdown",
      "metadata": {
        "id": "CTmIMGpHESiy"
      },
      "source": [
        "## Bonus exercise : Traffic light labelling\n",
        "\n",
        "The [traffic light labelling system](https://www.nutrition.org.uk/healthyliving/helpingyoueatwell/324-labels.html?start=3) is used on the [OpenFoodFacts website (French)](https://fr.openfoodfacts.org/reperes-nutritionnels) to display colorful, easier to grasp information on 4 nutritional values with a color code :\n",
        "\n",
        "* fat,\n",
        "* saturated fat,\n",
        "* sugars,\n",
        "* salt."
      ]
    },
    {
      "cell_type": "markdown",
      "metadata": {
        "id": "hxYKUvOgETql"
      },
      "source": [
        "The OpenFoodFacts dataset does not contain these indicators, but you can recompute them from the [reference table](https://www.nutrition.org.uk/images/cache/7246e7822e0a7588fae60fac0b6c8e7f_w664.png)."
      ]
    },
    {
      "cell_type": "markdown",
      "metadata": {
        "id": "zDodJnu4EXZF"
      },
      "source": [
        "Add 4 columns to the dataset, one for each of the 4 relevant nutritional values, that will contain the  (low, medium, high) or color (green, yellow, red) of the traffic light. "
      ]
    },
    {
      "cell_type": "code",
      "metadata": {
        "id": "_11fFykpEcZ1"
      },
      "source": [
        ""
      ],
      "execution_count": null,
      "outputs": []
    },
    {
      "cell_type": "markdown",
      "metadata": {
        "id": "a7FJgroLBnmF"
      },
      "source": [
        "## To go further\n",
        "\n",
        "### Python for data science\n",
        "\n",
        "* [Programming in Python for Data Science](https://prog-learn.mds.ubc.ca/en/)\n",
        "* [Python Data Science Handbook](https://jakevdp.github.io/PythonDataScienceHandbook/)"
      ]
    }
  ]
}