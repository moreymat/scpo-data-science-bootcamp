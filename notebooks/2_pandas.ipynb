{
  "cells": [
    {
      "cell_type": "markdown",
      "metadata": {
        "id": "view-in-github",
        "colab_type": "text"
      },
      "source": [
        "<a href=\"https://colab.research.google.com/github/datactivist/scpo-data-science-bootcamp/blob/main/notebooks/2_pandas.ipynb\" target=\"_parent\"><img src=\"https://colab.research.google.com/assets/colab-badge.svg\" alt=\"Open In Colab\"/></a>"
      ]
    },
    {
      "cell_type": "markdown",
      "metadata": {
        "id": "NStrSKxpMR3u"
      },
      "source": [
        "# Tabular data analysis 1 : Loading Open Food Facts data with pandas\n",
        "\n",
        "In this series of notebooks, we are going to explore the data contained in the OpenFoodFacts database."
      ]
    },
    {
      "cell_type": "markdown",
      "metadata": {
        "id": "BVrQGK0XMj_q"
      },
      "source": [
        "## OpenFoodFacts\n",
        "\n",
        "OpenFoodFacts is an open, crowdsourced database on food products from around the world.\n",
        "\n",
        "It is produced and managed as a digital commons.\n",
        "\n",
        "Everyone can contribute data on packaged food products: pictures, ingredients, nutritional values etc.\n",
        "\n",
        "This database has served as the foundation for many mobile phone apps, especially scanning apps to help customers while grocery shopping."
      ]
    },
    {
      "cell_type": "markdown",
      "metadata": {
        "id": "Kt-j_RjLMsa5"
      },
      "source": [
        "### Notions\n",
        "\n",
        "* It is [*open*](https://en.wikipedia.org/wiki/Open_data): Anyone can freely use it, access it, modify it.\n",
        "* It is [*crowdsourced*](https://en.wikipedia.org/wiki/Crowdsourcing) : Anyone can add new food products to the database, complete or modify existing data.\n",
        "* It is a [knowledge commons](https://en.wikipedia.org/wiki/Knowledge_commons), a type of [digital commons](https://en.wikipedia.org/wiki/Digital_commons_(economics))."
      ]
    },
    {
      "cell_type": "markdown",
      "metadata": {
        "id": "OH4EPJM6MszD"
      },
      "source": [
        "### Browsing through the dataset\n",
        "\n",
        "The OpenFoodFacts database is [available online](https://world.openfoodfacts.org/).\n",
        "\n",
        "Take a few minutes to explore the database through its online interface.\n",
        "\n",
        "* How is each product described ?\n",
        "* What types of information are provided ?"
      ]
    },
    {
      "cell_type": "markdown",
      "metadata": {
        "id": "g1iMze3R8nXY"
      },
      "source": [
        "### Understanding the dataset\n",
        "\n",
        "To really understand a dataset, you need to read its documentation so that you are able to answer a set of common, basic questions that will help guide your analysis, such as :\n",
        "\n",
        "* Who created this dataset and for what purpose ?\n",
        "* How was the dataset created ?\n",
        "* What do the instances that comprise the dataset represent (eg. people, companies, events, photos...) ?\n",
        "* What data does each instance consist of ? Are they \"raw\" data or (computed) features ?\n",
        "* Are the instances related in some way ? If so, are there specific fields that enable cross-reference ?\n",
        "\n",
        "The documentation for a dataset is always written with some purpose, for an intended type of reader, in a certain context, hence it is very likely that you will not find all the answers in the documentation.\n",
        "\n",
        "Here, you can gather partial information on OFF from :\n",
        "\n",
        "* the [presentation of the project](https://world.openfoodfacts.org/discover)\n",
        "* various pages of the [wiki](https://wiki.openfoodfacts.org/Main_Page), mostly :\n",
        "  * [Data fields](https://wiki.openfoodfacts.org/Data_fields)\n",
        "  * [Ingredients](https://wiki.openfoodfacts.org/Ingredients)\n",
        "  * [Quality](https://wiki.openfoodfacts.org/Quality)\n",
        "\n",
        "#### To go further\n",
        "\n",
        "* [Datasheets for datasets](https://arxiv.org/pdf/1803.09010.pdf) are a standardized documentation process and format proposed by AI researchers to facilitate the proper (re-)use of datasets and avoid common pitfalls in designing AI components (and ensuing scandals when they exhibit problematic biases in deployment)"
      ]
    },
    {
      "cell_type": "markdown",
      "metadata": {
        "id": "pt6KIZgv7i4r"
      },
      "source": [
        "Equipped with this new knowledge about the OpenFoodFacts database, you can start the exploratory analysis of the data to gather the missing information to complete your answers, and ask questions of your own.\n"
      ]
    },
    {
      "cell_type": "markdown",
      "metadata": {
        "id": "Vl3hW0qeM3lh"
      },
      "source": [
        "### OpenFoodFacts as a tabular dataset\n",
        "\n",
        "The entire set of facts about all the products in the OpenFoodFacts database can be represented as a *tabular dataset*, that is a table of data where :\n",
        "\n",
        "* each row is a product,\n",
        "* each column is a field (eg. \"brand\", \"barcode\", \"energy for 100g\"...),\n",
        "* each cell contains the value of a field for a product."
      ]
    },
    {
      "cell_type": "markdown",
      "metadata": {
        "id": "jby4sV1YK43C"
      },
      "source": [
        "\n",
        "The simplest and most common format used for tabular datasets is the [CSV format](https://en.wikipedia.org/wiki/Comma-separated_values).\n",
        "CSV files can be opened in a spreadsheet software such as Microsoft Excel, Apple Numbers or LibreOffice Calc, or just any plain text editor."
      ]
    },
    {
      "cell_type": "markdown",
      "metadata": {
        "id": "0b0oSBi0K6qI"
      },
      "source": [
        "The OpenFoodFacts database is [available for download in various formats](https://world.openfoodfacts.org/data), including the CSV format.\n",
        "Because the whole dataset is too big (the CSV export, uncompressed, weighs more than 4 GB as of 2021-08-16), we will work on a filtered subset of the dataset where we only keep products with :\n",
        "\n",
        "* a non-ambiguous barcode in the [EAN-8](https://en.wikipedia.org/wiki/EAN-8) or [EAN-13](https://en.wikipedia.org/wiki/International_Article_Number) formats ;\n",
        "* a product name,\n",
        "* brands,\n",
        "* an image URL for the product ;\n",
        "* a category ;\n",
        "* basic nutritional values."
      ]
    },
    {
      "cell_type": "markdown",
      "source": [
        "### Accessing the data\n",
        "\n"
      ],
      "metadata": {
        "id": "q0RtLLYZ8RQp"
      }
    },
    {
      "cell_type": "markdown",
      "metadata": {
        "id": "aTUoJWrTLy1-"
      },
      "source": [
        "You need two files (csv and txt) that are on the Google Drive of my Sciences Po account :\n",
        "\n",
        "* [data file (csv)](https://drive.google.com/file/d/14Pyz3Wb-FGs_9H-e7K-4Ug2X31N81Amv/view?usp=sharing),\n",
        "* [metadata file (txt)](https://drive.google.com/file/d/1EUBD1btT8k4PS073WLUqGm_UucUl4n3P/view?usp=sharing) (column types, so that pandas does not have to guess them).\n",
        "\n",
        "For **each of these 2 files**:\n",
        "1. Open the link\n",
        "2. Click on the \"Add shortcut to Drive\" button\n",
        "<center>\n",
        "<img src=\"https://github.com/datactivist/scpo-data-science-bootcamp/raw/main/notebooks/img/drive-1.png\" width=400>\n",
        "</center>\n",
        "3. In the menu, click on \"My Drive\"\n",
        "<center>\n",
        "<img src=\"https://github.com/datactivist/scpo-data-science-bootcamp/raw/main/notebooks/img/drive-2.png\" width=400>\n",
        "</center>\n",
        "4. Click on \"Add shortcut here\"\n",
        "<center>\n",
        "<img src=\"https://github.com/datactivist/scpo-data-science-bootcamp/raw/main/notebooks/img/drive-3.png\" width=400>\n",
        "</center>\n",
        "\n",
        "This will add shortcuts, in your Sciences Po (Google) drive, to the files stored on Mathieu's Sciences Po (Google) Drive."
      ]
    },
    {
      "cell_type": "markdown",
      "source": [
        "Then you need to authorize Colab to access files (here shortcuts) on your Drive.\n",
        "\n",
        "Execute this next cell, a pop-up will appear asking you to select your Sciences Po (Google) account, then asking you to authorize access."
      ],
      "metadata": {
        "id": "B6IXKt8ryo5z"
      }
    },
    {
      "cell_type": "code",
      "source": [
        "# enable Colab to access files (here shortcuts) on your Drive\n",
        "from google.colab import drive\n",
        "drive.mount('/content/drive')"
      ],
      "metadata": {
        "id": "J1goK37ByN8f"
      },
      "execution_count": null,
      "outputs": []
    },
    {
      "cell_type": "markdown",
      "source": [
        "The files can now be accessed from the shortcuts on your drive."
      ],
      "metadata": {
        "id": "LgtndxVTzC8j"
      }
    },
    {
      "cell_type": "markdown",
      "metadata": {
        "id": "_rM7v1UoOaEg"
      },
      "source": [
        "## The pandas library for tabular data analysis"
      ]
    },
    {
      "cell_type": "markdown",
      "metadata": {
        "id": "hTQA8jb-M6_r"
      },
      "source": [
        "### Gaining functionalities with libraries\n",
        "\n",
        "The Python standard library includes a module named [csv](https://docs.python.org/3/library/csv.html#module-csv) that provides very basic support to read and write CSV files.\n",
        "This module enables you to read and write values, but nothing more.\n",
        "\n",
        "It gives you no way to :\n",
        "\n",
        "* rename columns ;\n",
        "* filter columns, eg. keep only the columns for nutritional values ;\n",
        "* filter rows, eg. select all products that are categorized as \"Sweet spreads\" ;\n",
        "* compute summary statistics on columns across rows, eg. compute the min, max, mean and median of fiber content per 100g ;\n",
        "* compare columns, eg. test whether they contain the same values ;\n",
        "* etc.\n",
        "\n",
        "As we saw in the 1st notebook, this can be remedied by using an additional [software library](https://en.wikipedia.org/wiki/Library_(computing)), which is, roughly speaking, a collection of code that provides functionalities to perform operations on a given task or domain .\n",
        "\n",
        "The most widely used library in Python to work on tabular datasets is [pandas](https://pandas.pydata.org/)."
      ]
    },
    {
      "cell_type": "markdown",
      "metadata": {
        "id": "2_PiRu9Ch1c1"
      },
      "source": [
        "We need to import pandas and, for technical reasons, a specific pandas data type to load [categorical variables with ordered values](https://pandas.pydata.org/pandas-docs/stable/user_guide/categorical.html#controlling-behavior).\n",
        "\n",
        "We will use a custom utility function, `load_off`, to load the OpenFoodFacts dataset and convert a column.\n",
        "\n",
        "> You do not need to understand or even look at the next cell because this requires a few Python functions and technical notions (file input and output, evaluation) that we could not cover in the first notebook and are beyond the objectives of this bootcamp.\n",
        "However, feel free to ask Mathieu questions if you are curious !"
      ]
    },
    {
      "cell_type": "code",
      "execution_count": null,
      "metadata": {
        "id": "D6TRL3KEQtp2"
      },
      "outputs": [],
      "source": [
        "# (just execute this cell)\n",
        "\n",
        "# import pandas\n",
        "import pandas as pd\n",
        "# we need this data type for ordered categoricals\n",
        "from pandas.api.types import CategoricalDtype\n",
        "# lift some limitations in column width, so more cell values are displayed in full\n",
        "pd.set_option('display.max_colwidth', 110)\n",
        "\n",
        "# dataset and data type of the columns\n",
        "OFF_FILE = 'drive/MyDrive/off_products_subset.csv'\n",
        "DTYPE_FILE = 'drive/MyDrive/dtype.txt'\n",
        "\n",
        "# custom function to load the Open Food Facts subset\n",
        "def load_off():\n",
        "  \"\"\"Load the filtered subset of OpenFoodFacts.\n",
        "  \n",
        "  Returns\n",
        "  -------\n",
        "  df : pd.DataFrame\n",
        "    (A filtered subset of the) OpenFoodFacts tabular dataset.\n",
        "  \"\"\"\n",
        "  # load the data types for the columns\n",
        "  with open(DTYPE_FILE) as f:\n",
        "    dtype = eval(f.read())\n",
        "\n",
        "  # load the dataset\n",
        "  df = pd.read_csv(OFF_FILE, sep='\\t', dtype=dtype)\n",
        "  # convert columns with datetimes\n",
        "  for col_name in ('created_datetime', 'last_modified_datetime'):\n",
        "    # ISO 8601 dates\n",
        "    df[col_name] = pd.to_datetime(df[col_name])\n",
        "  #\n",
        "  return df\n",
        "\n",
        "# load the dataset\n",
        "df = load_off()"
      ]
    },
    {
      "cell_type": "markdown",
      "metadata": {
        "id": "dF-a6-pGl-lK"
      },
      "source": [
        "If all went fine, you do not see anything.\n",
        "What have we read, really ?\n",
        "You remember that typing the name of a variable, as the only (or last) line of a notebook cell, prints its value. "
      ]
    },
    {
      "cell_type": "markdown",
      "source": [
        "Type the name of the variable containing the dataset, to display the value (content) of that variable."
      ],
      "metadata": {
        "id": "f5l0iVFWCbEv"
      }
    },
    {
      "cell_type": "code",
      "source": [
        ""
      ],
      "metadata": {
        "id": "QOutdFLOU49J"
      },
      "execution_count": null,
      "outputs": []
    },
    {
      "cell_type": "markdown",
      "metadata": {
        "id": "BJUlS9O3Ou2q"
      },
      "source": [
        "The dataset is loaded in a pandas DataFrame, a type of object described in the [pandas intro tutorial 01](https://pandas.pydata.org/docs/getting_started/intro_tutorials/01_table_oriented.html)."
      ]
    },
    {
      "cell_type": "markdown",
      "metadata": {
        "id": "zdU6oj0eoDEI"
      },
      "source": [
        "By default pandas displays the column headers, the first and last five rows with their row index, the total number of rows and columns."
      ]
    },
    {
      "cell_type": "markdown",
      "metadata": {
        "id": "XWrf7DeO1H9x"
      },
      "source": [
        "**Question** How many rows and columns does the table contain in total ?"
      ]
    },
    {
      "cell_type": "markdown",
      "source": [
        "### First glance at the dataset"
      ],
      "metadata": {
        "id": "iBmyOOcqBKgy"
      }
    },
    {
      "cell_type": "markdown",
      "metadata": {
        "id": "-dBvbb5J1Jed"
      },
      "source": [
        "You can display the first `n` entries of a Dataframe with the DataFrame method [head](https://pandas.pydata.org/docs/reference/api/pandas.DataFrame.head.html), and the last `n` entries with [tail](https://pandas.pydata.org/docs/reference/api/pandas.DataFrame.tail.html#pandas.DataFrame.tail).\n",
        "\n",
        "> **HINT**: Remember that methods are attached to an object, and are called with the dot notation."
      ]
    },
    {
      "cell_type": "markdown",
      "source": [
        "You can call [head](https://pandas.pydata.org/docs/reference/api/pandas.DataFrame.head.html) with no parameter."
      ],
      "metadata": {
        "id": "wuLYyr8oBZre"
      }
    },
    {
      "cell_type": "code",
      "execution_count": null,
      "metadata": {
        "id": "H-QIrhlN1obK"
      },
      "outputs": [],
      "source": [
        "# (just execute this cell)\n",
        "df.head()"
      ]
    },
    {
      "cell_type": "markdown",
      "metadata": {
        "id": "ZDNzibVG1c-m"
      },
      "source": [
        "You can call `head` with a parameter `7` to display the first 7 entries."
      ]
    },
    {
      "cell_type": "code",
      "execution_count": null,
      "metadata": {
        "id": "-u7BYnhC1f2N"
      },
      "outputs": [],
      "source": [
        ""
      ]
    },
    {
      "cell_type": "markdown",
      "metadata": {
        "id": "w-hEqIhY1gSN"
      },
      "source": [
        "You can call [tail](https://pandas.pydata.org/docs/reference/api/pandas.DataFrame.tail.html#pandas.DataFrame.tail) with no parameter."
      ]
    },
    {
      "cell_type": "code",
      "execution_count": null,
      "metadata": {
        "id": "m_y711og1irf"
      },
      "outputs": [],
      "source": [
        ""
      ]
    },
    {
      "cell_type": "markdown",
      "source": [
        "You can call `tail` with a parameter `3` to display the last 3 entries."
      ],
      "metadata": {
        "id": "I44RSZLJB-uy"
      }
    },
    {
      "cell_type": "code",
      "source": [
        ""
      ],
      "metadata": {
        "id": "INjpbTbACEGO"
      },
      "execution_count": null,
      "outputs": []
    },
    {
      "cell_type": "markdown",
      "metadata": {
        "id": "uq0kv9lJ8GHn"
      },
      "source": [
        "**Hint** Some URLs are longer than the maximal displayed text length for a cell (by default 80 characters, previously raised here to 110). This will make it harder for you to consult the product page on the OFF website. \n",
        "You can use the `values` attribute to get the complete array of values for a (subset of a) DataFrame, or of a column (Series)."
      ]
    },
    {
      "cell_type": "code",
      "execution_count": null,
      "metadata": {
        "id": "G7dy_6Lf-DUE"
      },
      "outputs": [],
      "source": [
        "# (just execute this cell)\n",
        "# display the arrays of values of all fields for the first 2 products\n",
        "# NB : each entry has 2 URLs : one for the product page, one for its (small-sized) image\n",
        "df.head(2).values"
      ]
    },
    {
      "cell_type": "markdown",
      "metadata": {
        "id": "lzDZ-aYHqedT"
      },
      "source": [
        "### About the data table\n",
        "\n",
        "We can display a summary of the DataFrame with `info`, including for each column its index, name, number of non-null values, and data type (`dtype`).\n",
        "For more information, you can read the [pandas intro tutorial 02](https://pandas.pydata.org/docs/getting_started/intro_tutorials/02_read_write.html)."
      ]
    },
    {
      "cell_type": "code",
      "execution_count": null,
      "metadata": {
        "id": "tcde5MfC-W_r"
      },
      "outputs": [],
      "source": [
        ""
      ]
    },
    {
      "cell_type": "markdown",
      "metadata": {
        "id": "VnBCyh0LqirZ"
      },
      "source": [
        "`info` also displays the memory usage of the DataFrame."
      ]
    },
    {
      "cell_type": "markdown",
      "metadata": {
        "id": "PjObGPOB-kSQ"
      },
      "source": [
        "### Selecting subsets\n",
        "\n",
        "One of the fundamental operations on DataFrames is to be able to filter the dataset on a certain condition, to keep only certain rows or columns.\n",
        "\n",
        "The basic operators for selection are square brackets `[]`, `loc` and `iloc`, and you can select rows or columns by their position or label, or with a conditional expression on values, see the [pandas intro tutorial 03](https://pandas.pydata.org/docs/getting_started/intro_tutorials/03_subset_data.html)."
      ]
    },
    {
      "cell_type": "markdown",
      "metadata": {
        "id": "t1wcic4w0M51"
      },
      "source": [
        "Filter rows in `df` to keep only products with Nutri-Score 'a', and store the result in a variable called `df_nutri_a`.\n"
      ]
    },
    {
      "cell_type": "code",
      "execution_count": null,
      "metadata": {
        "id": "imoxGSFFJWRJ"
      },
      "outputs": [],
      "source": [
        "# (just execute this cell)\n",
        "df_nutri_a = df[df[\"nutriscore_grade\"] == \"a\"]\n",
        "df_nutri_a"
      ]
    },
    {
      "cell_type": "markdown",
      "metadata": {
        "id": "qn4h8ZYkJzOj"
      },
      "source": [
        "You should have 56260 entries."
      ]
    },
    {
      "cell_type": "markdown",
      "metadata": {
        "id": "zmfVWsBNJ2m7"
      },
      "source": [
        "Now filter rows in `df` to keep products whose quantity of sugars per 100g is higher than 20g, and store the result in a variable called `df_sugar_gt20`."
      ]
    },
    {
      "cell_type": "code",
      "execution_count": null,
      "metadata": {
        "id": "97JgxEaX0Ow1"
      },
      "outputs": [],
      "source": [
        ""
      ]
    },
    {
      "cell_type": "markdown",
      "metadata": {
        "id": "lXun1rNyKGca"
      },
      "source": [
        "You should obtain 83891 entries."
      ]
    },
    {
      "cell_type": "markdown",
      "metadata": {
        "id": "Jm_fjHqT0DtX"
      },
      "source": [
        "Filter the dataset `df` to keep only the columns corresponding to the :\n",
        "* barcode,\n",
        "* url,\n",
        "* date of creation,\n",
        "* product name,\n",
        "* brands,\n",
        "* categories,\n",
        "* ingredients text,\n",
        "* main category,\n",
        "* Nutri-Score grade,\n",
        "* Nutri-Score score,\n",
        "* Nova group.\n",
        "\n",
        "And store the result in a variable named `df_sel_cols`."
      ]
    },
    {
      "cell_type": "code",
      "execution_count": null,
      "metadata": {
        "id": "F2rdY7Lgn5qI"
      },
      "outputs": [],
      "source": [
        ""
      ]
    },
    {
      "cell_type": "markdown",
      "metadata": {
        "id": "f5ApMLlfOeYd"
      },
      "source": [
        "### Making a selection into a proper DataFrame\n",
        "\n",
        "You can manipulate each of these selections as a DataFrame, but behind the scenes, they are *views* of the original DataFrame `df`.\n",
        "The *view* mechanism avoids unnecessary copies of the dataset, but it is problematic when we really want to extract a subset and perform some operations only on this subset."
      ]
    },
    {
      "cell_type": "markdown",
      "metadata": {
        "id": "PcvNjSzgOeYe"
      },
      "source": [
        "For instance, let us select all products in `df` with sugars and fat per 100g greater than 0, and add a column with the sugars to fat ratio."
      ]
    },
    {
      "cell_type": "markdown",
      "metadata": {
        "id": "corAruP5OeYe"
      },
      "source": [
        "First, we need to define two filtering conditions and apply them jointly using the [boolean \"and\" `&`](https://pandas.pydata.org/pandas-docs/stable/user_guide/indexing.html#boolean-indexing). Store the result in a variable named `df_sugarsfat`."
      ]
    },
    {
      "cell_type": "code",
      "execution_count": null,
      "metadata": {
        "id": "ujDvzH7gOeYe"
      },
      "outputs": [],
      "source": [
        ""
      ]
    },
    {
      "cell_type": "markdown",
      "metadata": {
        "id": "x7EchlUROeYf"
      },
      "source": [
        "Now, let us try to add to `df_sugarsfat` a new column named `\"sugarsfat_ratio\"` with the sugars to fat ratio."
      ]
    },
    {
      "cell_type": "code",
      "execution_count": null,
      "metadata": {
        "id": "FGU3Ba96OeYf"
      },
      "outputs": [],
      "source": [
        ""
      ]
    },
    {
      "cell_type": "markdown",
      "metadata": {
        "id": "ejFNM-TWOeYg"
      },
      "source": [
        "The output seems fine, but it is preceded by a `SettingWithCopyWarning` that tells us we are working on a *view* when we should be working on an independent copy of the subset of the dataframe.\n",
        "\n",
        "To avoid this warning, we need to turn our selection into an independent dataframe, with the function `copy()`, and store the result in our variable named `df_sugarsfat`:"
      ]
    },
    {
      "cell_type": "code",
      "execution_count": null,
      "metadata": {
        "id": "7Gad86MkOeYg"
      },
      "outputs": [],
      "source": [
        ""
      ]
    },
    {
      "cell_type": "markdown",
      "metadata": {
        "id": "4TWH823HOeYh"
      },
      "source": [
        "Then let us add to (our new) `df_sugarsfat` a column named `\"sugarsfat_ratio\"` with the sugars to fat ratio."
      ]
    },
    {
      "cell_type": "code",
      "execution_count": null,
      "metadata": {
        "id": "OZ655vebOeYh"
      },
      "outputs": [],
      "source": [
        ""
      ]
    },
    {
      "cell_type": "markdown",
      "metadata": {
        "id": "4SDWQ83TOeYh"
      },
      "source": [
        "The ratios are the same as before, except we got rid of the big warning, so we must be doing things the *right* way.\n",
        "\n",
        "We will not go further and we certainly do not expect you to master the [difference between a view and a copy](https://pandas.pydata.org/pandas-docs/stable/user_guide/indexing.html#returning-a-view-versus-a-copy), but at least now you know that if you encounter the big scary warning, you probably need to `copy()` your selection of rows."
      ]
    },
    {
      "cell_type": "markdown",
      "metadata": {
        "id": "8zGsdtXf_pBd"
      },
      "source": [
        "### Renaming columns\n",
        "\n",
        "Column names are not always ideal, either because they are not transparent (it is hard for you or an external user to understand what they stand for) or because they would look bad if they were used directly to label the axes of a datavisualization.\n",
        "\n",
        "pandas provides means to rename columns, see the [pandas intro tutorial 05](https://pandas.pydata.org/docs/getting_started/intro_tutorials/05_add_columns.html)."
      ]
    },
    {
      "cell_type": "markdown",
      "source": [
        "Let us rename each of the columns whose name ends with `_en`.\n",
        "\n",
        "First, we need to list such columns."
      ],
      "metadata": {
        "id": "2GpsKAB4FLqG"
      }
    },
    {
      "cell_type": "code",
      "execution_count": null,
      "metadata": {
        "id": "-py_tsCnANqm"
      },
      "outputs": [],
      "source": [
        "# (just execute this cell)\n",
        "# list the column names that end with _en\n",
        "cols_en = [x for x in df.columns if x.endswith(\"_en\")]\n",
        "cols_en"
      ]
    },
    {
      "cell_type": "markdown",
      "source": [
        "Now we can `rename` each of the columns ending with `_en`, so as to drop this suffix.\n",
        "\n",
        "For instance, `main_category_en` should be renamed `main_category`.\n",
        "\n",
        "We can store the result in a variable named `df_ren_en`."
      ],
      "metadata": {
        "id": "TIqxtAx0ELPf"
      }
    },
    {
      "cell_type": "code",
      "execution_count": null,
      "metadata": {
        "id": "t8kRM12IOeYj"
      },
      "outputs": [],
      "source": [
        ""
      ]
    },
    {
      "cell_type": "markdown",
      "source": [
        "To see if it worked, let us display the column names in `df_ren_en` and check that our `_en` columns, such as `main_category_en`, have been renamed as expected."
      ],
      "metadata": {
        "id": "dcj0HD3GGAPc"
      }
    },
    {
      "cell_type": "code",
      "source": [
        ""
      ],
      "metadata": {
        "id": "TWFX6HOpGQqT"
      },
      "execution_count": null,
      "outputs": []
    },
    {
      "cell_type": "markdown",
      "metadata": {
        "id": "YkEpY50h-_A0"
      },
      "source": [
        "### Summary statistics\n",
        "\n",
        "You can compute various summary statistics that depend on the type of variable in each column, see the [pandas intro tutorial 06](https://pandas.pydata.org/docs/getting_started/intro_tutorials/06_calculate_statistics.html).\n",
        "\n",
        "Compute summary statistics for several columns from different types, and combinations of columns that could provide interesting insights.\n",
        "\n",
        "For instance, compute the means of the nutritional values in `df` for :\n",
        "* fat,\n",
        "* saturated fat,\n",
        "* sugars,\n",
        "* salt."
      ]
    },
    {
      "cell_type": "code",
      "execution_count": null,
      "metadata": {
        "id": "4ctU6Y1pBMbF"
      },
      "outputs": [],
      "source": [
        ""
      ]
    },
    {
      "cell_type": "markdown",
      "metadata": {
        "id": "ilw36N3e-jwW"
      },
      "source": [
        "### Computing on columns\n",
        "\n",
        "You can manipulate columns in various ways, including with operations that apply element-wise as we saw for NumPy arrays in the first notebook.\n",
        "\n",
        "You can for instance subtract the mean value of a column to each value in the column."
      ]
    },
    {
      "cell_type": "code",
      "execution_count": null,
      "metadata": {
        "id": "3SSGReAnAwHQ"
      },
      "outputs": [],
      "source": [
        ""
      ]
    },
    {
      "cell_type": "markdown",
      "metadata": {
        "id": "kP5CEM--_Kq3"
      },
      "source": [
        "### Sorting data\n",
        "\n",
        "The entries are sorted by barcode.\n",
        "We might find it easier to understand the dataset if we sort entries by another criterion."
      ]
    },
    {
      "cell_type": "markdown",
      "metadata": {
        "id": "7TMJz0BD0kC_"
      },
      "source": [
        "Sort entries by brand, following the [pandas intro tutorial 07](https://pandas.pydata.org/docs/getting_started/intro_tutorials/07_reshape_table_layout.html), and store the result in a variable named `df_sort_brands`."
      ]
    },
    {
      "cell_type": "code",
      "execution_count": null,
      "metadata": {
        "id": "Jzh8YvJG_ohu"
      },
      "outputs": [],
      "source": [
        ""
      ]
    },
    {
      "cell_type": "markdown",
      "metadata": {
        "id": "LLdGQVUPOeYn"
      },
      "source": [
        "Let us look at the brands for the first entries, sorted by brands."
      ]
    },
    {
      "cell_type": "code",
      "execution_count": null,
      "metadata": {
        "id": "F2C833FWOeYn"
      },
      "outputs": [],
      "source": [
        ""
      ]
    },
    {
      "cell_type": "markdown",
      "metadata": {
        "id": "r5rQjlbdOeYn"
      },
      "source": [
        "Oddly, only the first few lines have brand names that start with a letter, then brand names start with a special character (`!` or `#`).\n",
        "This is unexpected, because special characters should appear first.\n",
        "\n",
        "What happened here ? Let us have a better look at the *values* in the `brands` column of our sorted dataframe `df_sort_brands`."
      ]
    },
    {
      "cell_type": "code",
      "execution_count": null,
      "metadata": {
        "id": "TeHLmoQyOeYn"
      },
      "outputs": [],
      "source": [
        "# (just execute this cell)\n",
        "df_sort_brands[\"brands\"].head(20).values"
      ]
    },
    {
      "cell_type": "markdown",
      "metadata": {
        "id": "77I02ReMOeYo"
      },
      "source": [
        "In the first entries, the `brands` value starts with a whitespace.\n",
        "This explains why they were sorted before the entries whose `brands` start with a special character.\n",
        "\n",
        "Brand names rarely (if ever) start with a whitespace, hence we can assume that whoever added these products made a typing error."
      ]
    },
    {
      "cell_type": "markdown",
      "metadata": {
        "id": "ex9tjdXdOeYo"
      },
      "source": [
        "⚠ Datasets contain all sorts of errors and oddities. Datasets released by public agencies or big actors are usually cleaner than crowdsourced datasets, but you should always be cautious."
      ]
    },
    {
      "cell_type": "markdown",
      "metadata": {
        "id": "Iz4hx1fyOeYq"
      },
      "source": [
        "To confirm our hypothesis and check whether the entries are properly sorted, we can use `iloc` to retrieve entries at arbitary positions in the DataFrame.\n",
        "\n",
        "For instance, let us check the entries ranked 4881 to 4899 (or 4900 excluded)."
      ]
    },
    {
      "cell_type": "code",
      "execution_count": null,
      "metadata": {
        "id": "4G9vVFgoOeYq"
      },
      "outputs": [],
      "source": [
        "# (just execute this cell)\n",
        "df_sort_brands[\"brands\"].iloc[4881:4900]"
      ]
    },
    {
      "cell_type": "markdown",
      "metadata": {
        "id": "v3DKMqZmOeYr"
      },
      "source": [
        "The sorted brands are `Alba`, `Alba torri e sapori`, `Albacore` then `Albalact`, which is what we were expecting."
      ]
    },
    {
      "cell_type": "markdown",
      "metadata": {
        "id": "Fw2sVZfA0lqs"
      },
      "source": [
        "Sort entries by the Nutri-Score grade, and store the result in a variable named `df_sort_nsgrade`."
      ]
    },
    {
      "cell_type": "code",
      "execution_count": null,
      "metadata": {
        "id": "hefC4c9q0p5V"
      },
      "outputs": [],
      "source": [
        ""
      ]
    },
    {
      "cell_type": "markdown",
      "metadata": {
        "id": "Iu1kKH8pOeYs"
      },
      "source": [
        "Let us check the first 20 entries."
      ]
    },
    {
      "cell_type": "code",
      "execution_count": null,
      "metadata": {
        "id": "cjuNBQEUOeYt"
      },
      "outputs": [],
      "source": [
        ""
      ]
    },
    {
      "cell_type": "markdown",
      "metadata": {
        "id": "iOZevtjTOeYt"
      },
      "source": [
        "The entries with nutriscore grade 'a' are ranked first, as expected."
      ]
    },
    {
      "cell_type": "markdown",
      "metadata": {
        "id": "lbzssO7p0qYw"
      },
      "source": [
        "Sort entries by the Nutri-Score grade and Nova group (together), and store the result in a variable named `df_sort_nsgrade_novagroup`."
      ]
    },
    {
      "cell_type": "code",
      "execution_count": null,
      "metadata": {
        "id": "JTJ1No5x00Q0"
      },
      "outputs": [],
      "source": [
        ""
      ]
    },
    {
      "cell_type": "markdown",
      "metadata": {
        "id": "46jm2fGCOeYu"
      },
      "source": [
        "Let us check the first 20 entries."
      ]
    },
    {
      "cell_type": "code",
      "execution_count": null,
      "metadata": {
        "id": "jzRKgI1lOeYv"
      },
      "outputs": [],
      "source": [
        ""
      ]
    },
    {
      "cell_type": "markdown",
      "metadata": {
        "id": "SvBFpVsMOeYv"
      },
      "source": [
        "Products with nutriscore_grade 'a' and nova_group '1' appear first."
      ]
    },
    {
      "cell_type": "markdown",
      "metadata": {
        "id": "Kb18JOIOAOix"
      },
      "source": [
        "### Working with dates\n",
        "\n",
        "pandas has a specific data type for dates. You can explicitly ask pandas to use this type for specific columns, either during `read_csv` or after (as I did in `load_off`), see the [pandas intro tutorial 09](https://pandas.pydata.org/docs/getting_started/intro_tutorials/09_timeseries.html).\n",
        "\n",
        "This specific data type makes it easy to filter entries by the month of their creation, to know what day of the week an entry was created, or to sort entries by their date of creation.\n",
        "\n",
        "Sort entries by their date of creation, and store the result in a variable named `df_sort_created`."
      ]
    },
    {
      "cell_type": "code",
      "execution_count": null,
      "metadata": {
        "id": "433k3DsMAzAI"
      },
      "outputs": [],
      "source": [
        ""
      ]
    },
    {
      "cell_type": "markdown",
      "metadata": {
        "id": "hwdOHsCUOeYw"
      },
      "source": [
        "Let us check that the first and last entries are as expected."
      ]
    },
    {
      "cell_type": "markdown",
      "source": [
        "Display the first entries."
      ],
      "metadata": {
        "id": "tTvaLA10WKiu"
      }
    },
    {
      "cell_type": "code",
      "execution_count": null,
      "metadata": {
        "id": "B1zShO5BOeYw"
      },
      "outputs": [],
      "source": [
        ""
      ]
    },
    {
      "cell_type": "markdown",
      "metadata": {
        "id": "27PjEvOBOeYx"
      },
      "source": [
        "The oldest entries in our dataset date from 2012."
      ]
    },
    {
      "cell_type": "markdown",
      "source": [
        "Display the last entries."
      ],
      "metadata": {
        "id": "CeV3gn9FWNgU"
      }
    },
    {
      "cell_type": "code",
      "execution_count": null,
      "metadata": {
        "id": "LpjFliHEOeYx"
      },
      "outputs": [],
      "source": [
        ""
      ]
    },
    {
      "cell_type": "markdown",
      "metadata": {
        "id": "-Eh6kHhDOeY5"
      },
      "source": [
        "The newest entries in our dataset date from 2021-08-15 (when I downloaded the entire dataset)."
      ]
    },
    {
      "cell_type": "markdown",
      "metadata": {
        "id": "C7Idtg5fA-A2"
      },
      "source": [
        "### Working with textual data\n",
        "\n",
        "pandas provides a number of functions to process text strings, see the [pandas intro tutorial 10](https://pandas.pydata.org/docs/getting_started/intro_tutorials/10_text_data.html).\n",
        "\n",
        "Use these functions to select all entries whose list of brands contains \"Casino\" (this operation is case-sensitive, so mind the initial capital letter!), and store the result in a variable named `df_casino`."
      ]
    },
    {
      "cell_type": "code",
      "execution_count": null,
      "metadata": {
        "id": "U7Uo9KorBm_p"
      },
      "outputs": [],
      "source": [
        ""
      ]
    },
    {
      "cell_type": "markdown",
      "metadata": {
        "id": "LbmWdKtbc2IN"
      },
      "source": [
        "You should get 4434 products whose brands contains \"Casino\"."
      ]
    },
    {
      "cell_type": "markdown",
      "metadata": {
        "id": "ZS2PskhCoV6p"
      },
      "source": [
        "### Wrapping it all together\n",
        "\n",
        "Select all the products that are in the category for spreads and store this subset in a variable `df_spreads`."
      ]
    },
    {
      "cell_type": "markdown",
      "metadata": {
        "id": "uIe-F7Z2iSX8"
      },
      "source": [
        "> **HINT** If you can't find the right pattern to look for, take a peak at the spelling of the categories: Print the content of the column and browse through the values until you find a suitable value."
      ]
    },
    {
      "cell_type": "code",
      "execution_count": null,
      "metadata": {
        "id": "Oq5nTt8FC02z"
      },
      "outputs": [],
      "source": [
        ""
      ]
    },
    {
      "cell_type": "markdown",
      "metadata": {
        "id": "R8POySNMCz22"
      },
      "source": [
        "You should find 25565 spreads."
      ]
    },
    {
      "cell_type": "markdown",
      "metadata": {
        "id": "NkNwdHt1GcJj"
      },
      "source": [
        "For these spreads, compute the means of the nutritional values for :\n",
        "* fat,\n",
        "* saturated fat,\n",
        "* sugars,\n",
        "* salt."
      ]
    },
    {
      "cell_type": "code",
      "execution_count": null,
      "metadata": {
        "id": "9C0Fr-y5GeHH"
      },
      "outputs": [],
      "source": [
        ""
      ]
    },
    {
      "cell_type": "markdown",
      "metadata": {
        "id": "8YkbGv54GffI"
      },
      "source": [
        "You should find the mean values :\n",
        "\n",
        "* fat = 20.96 g,\n",
        "* saturated-fat = 7.97 g,\n",
        "* sugars = 29g,\n",
        "* salt = 0.77g.\n"
      ]
    },
    {
      "cell_type": "markdown",
      "metadata": {
        "id": "H_prmtHEDtXj"
      },
      "source": [
        "For each of these 4 nutritional values, compute the percentage of difference between each product and the average of its category, and store the computed values as new columns to `df_spreads` (eg. `diff-fat_100g`, `diff-sugars_100g` etc).\n",
        "\n",
        "Remember that you can find help in the [pandas intro tutorial 05](https://pandas.pydata.org/docs/getting_started/intro_tutorials/05_add_columns.html) and [pandas tutorial 06](https://pandas.pydata.org/pandas-docs/stable/getting_started/intro_tutorials/06_calculate_statistics.html#min-tut-06-stats)."
      ]
    },
    {
      "cell_type": "code",
      "execution_count": null,
      "metadata": {
        "id": "Ch1ro9cCEcPX"
      },
      "outputs": [],
      "source": [
        ""
      ]
    },
    {
      "cell_type": "code",
      "execution_count": null,
      "metadata": {
        "id": "D2eskzScOeY_"
      },
      "outputs": [],
      "source": [
        ""
      ]
    },
    {
      "cell_type": "markdown",
      "metadata": {
        "id": "QG5eXJcxqIf7"
      },
      "source": [
        "Note that these values differ from what the OpenFoodFacts website displays when you look at the nutritional values of a product from this category, eg. [Coconut Spread - premium Srikaya - Hey Boo - 227 g](https://world.openfoodfacts.org/product/0608938316165/coconut-spread-premium-srikaya-hey-boo)."
      ]
    },
    {
      "cell_type": "code",
      "execution_count": null,
      "metadata": {
        "id": "xug5bzYcFX0z"
      },
      "outputs": [],
      "source": [
        "# (uncomment this line and check the output)\n",
        "# df_spreads[df_spreads['code'] == '0608938316165']['diff-fat_100g']"
      ]
    },
    {
      "cell_type": "markdown",
      "metadata": {
        "id": "nbfxa_tlISSt"
      },
      "source": [
        "This product contains barely 0.2% more fat than the average spreads in our subset `df_spreads`, but 17% more than the average spreads in the entire OpenFoodFacts dataset (as displayed on the OFF website)."
      ]
    },
    {
      "cell_type": "markdown",
      "metadata": {
        "id": "e672VxgDv-vv"
      },
      "source": [
        "\n",
        "This is because the OpenFoodFacts website uses its entire dataset, whereas we are working on a filtered subset of \"reasonably complete\" product entries prepared beforehand to keep only products with :\n",
        "\n",
        "* a non-ambiguous barcode in the EAN-8 or EAN-13 formats ;\n",
        "* a product name,\n",
        "* brands,\n",
        "* an image URL for the product ;\n",
        "* a category ;\n",
        "* basic nutritional values."
      ]
    },
    {
      "cell_type": "markdown",
      "metadata": {
        "id": "Jv0ePtELG2rP"
      },
      "source": [
        "It seems that, in this \"resonably complete\" subset, spreads contain more fat on average than in the whole OpenFoodFacts dataset.\n",
        "\n",
        "Is the entire OpenFoodFacts dataset closer to the reality of what is on the shelves of supermarkets ?\n",
        "Is our subset more faithful globally ? Is it more faithful to the consumer market in certain countries, eg. France and Spain ?\n",
        "\n",
        "These questions raise the more general problem of [Selection bias](https://en.wikipedia.org/wiki/Selection_bias) that lies behind every data analysis and use of dataset for eg. artificial intelligence systems."
      ]
    },
    {
      "cell_type": "markdown",
      "metadata": {
        "id": "CTmIMGpHESiy"
      },
      "source": [
        "## Bonus exercise : Traffic light labelling\n",
        "\n",
        "The [traffic light labelling system](https://www.nutrition.org.uk/healthyliving/helpingyoueatwell/324-labels.html?start=3) is used on the [OpenFoodFacts website (French)](https://fr.openfoodfacts.org/reperes-nutritionnels) to display colorful, easier to grasp information on 4 nutritional values with a color code :\n",
        "\n",
        "* fat,\n",
        "* saturated fat,\n",
        "* sugars,\n",
        "* salt."
      ]
    },
    {
      "cell_type": "markdown",
      "metadata": {
        "id": "hxYKUvOgETql"
      },
      "source": [
        "The OpenFoodFacts dataset does not contain these indicators, but you can recompute them from the [reference table](https://www.nutrition.org.uk/media/er5n0c3s/capture.png)."
      ]
    },
    {
      "cell_type": "markdown",
      "metadata": {
        "id": "zDodJnu4EXZF"
      },
      "source": [
        "Add 4 columns to the dataset, one for each of the 4 relevant nutritional values, that will contain the  (low, medium, high) or color (green, yellow, red) of the traffic light. "
      ]
    },
    {
      "cell_type": "markdown",
      "metadata": {
        "id": "QcYjuS8fOeZB"
      },
      "source": [
        "> **HINT** You can simplify the exercise and express all conditions on the values per 100g (ignoring the rightmost column of the table where thresholds are expressed per portion)."
      ]
    },
    {
      "cell_type": "markdown",
      "source": [
        "We can use [`loc`](https://pandas.pydata.org/docs/reference/api/pandas.DataFrame.loc.html?highlight=loc#pandas.DataFrame.loc), see \"Setting values\"."
      ],
      "metadata": {
        "id": "s3hXcouNRxm9"
      }
    },
    {
      "cell_type": "code",
      "execution_count": null,
      "metadata": {
        "id": "_11fFykpEcZ1"
      },
      "outputs": [],
      "source": [
        "# (just execute this cell)\n",
        "# for fat_100g\n",
        "df[\"tl_fat\"] = \"unknown\"\n",
        "df.loc[df[\"fat_100g\"] <= 3, \"tl_fat\"] = \"green\"\n",
        "df.loc[(df[\"fat_100g\"] > 3) & (df[\"fat_100g\"] <= 17.5), \"tl_fat\"] = \"amber\"\n",
        "df.loc[(df[\"fat_100g\"] > 17.5), \"tl_fat\"] = \"red\""
      ]
    },
    {
      "cell_type": "markdown",
      "metadata": {
        "id": "Gp5IwWkaOeZC"
      },
      "source": [
        "Let us check that the traffic lights for fat are as wanted."
      ]
    },
    {
      "cell_type": "code",
      "execution_count": null,
      "metadata": {
        "id": "vWxttU_0OeZD"
      },
      "outputs": [],
      "source": [
        "# (just execute this cell)\n",
        "df[[\"fat_100g\", \"tl_fat\"]].head(10)"
      ]
    },
    {
      "cell_type": "markdown",
      "metadata": {
        "id": "1qJkKBgBOeZE"
      },
      "source": [
        "Now you can define the traffic lights for the 3 remaining nutritional values, in columns `\"tl_saturated-fat\"`, `\"tl_sugars\"`, `\"tl_salt\"`. "
      ]
    },
    {
      "cell_type": "code",
      "execution_count": null,
      "metadata": {
        "id": "KfNLj7HZOeZE"
      },
      "outputs": [],
      "source": [
        ""
      ]
    },
    {
      "cell_type": "markdown",
      "metadata": {
        "id": "hNh0L9S6OeZE"
      },
      "source": [
        "We can display the traffic lights for the first 10 products, and compare with what the Open Food Facts website displays (remember: you can retrieve URLs from the column `url`)."
      ]
    },
    {
      "cell_type": "code",
      "execution_count": null,
      "metadata": {
        "id": "B8iyVitQOeZE"
      },
      "outputs": [],
      "source": [
        ""
      ]
    },
    {
      "cell_type": "markdown",
      "metadata": {
        "id": "a7FJgroLBnmF"
      },
      "source": [
        "## To go further\n",
        "\n",
        "### Python for data science\n",
        "\n",
        "* [Programming in Python for Data Science](https://prog-learn.mds.ubc.ca/en/)\n",
        "* [Python Data Science Handbook](https://jakevdp.github.io/PythonDataScienceHandbook/)"
      ]
    }
  ],
  "metadata": {
    "colab": {
      "collapsed_sections": [],
      "name": "2_pandas.ipynb",
      "provenance": [],
      "include_colab_link": true
    },
    "kernelspec": {
      "display_name": "Python 3.7.12 ('scpo-bootcamp')",
      "language": "python",
      "name": "python3"
    },
    "language_info": {
      "codemirror_mode": {
        "name": "ipython",
        "version": 3
      },
      "file_extension": ".py",
      "mimetype": "text/x-python",
      "name": "python",
      "nbconvert_exporter": "python",
      "pygments_lexer": "ipython3",
      "version": "3.7.12"
    },
    "vscode": {
      "interpreter": {
        "hash": "f89fb83f4ee32985666da8c6eb03df4ccd6f19f9e27f306cd8874285b36303f1"
      }
    }
  },
  "nbformat": 4,
  "nbformat_minor": 0
}