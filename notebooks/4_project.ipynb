{
  "nbformat": 4,
  "nbformat_minor": 0,
  "metadata": {
    "colab": {
      "name": "4_project.ipynb",
      "provenance": [],
      "authorship_tag": "ABX9TyPQay1tI17nPSmwKm6KC3d2",
      "include_colab_link": true
    },
    "kernelspec": {
      "name": "python3",
      "display_name": "Python 3"
    },
    "language_info": {
      "name": "python"
    }
  },
  "cells": [
    {
      "cell_type": "markdown",
      "metadata": {
        "id": "view-in-github",
        "colab_type": "text"
      },
      "source": [
        "<a href=\"https://colab.research.google.com/github/datactivist/scpo-data-science-bootcamp/blob/main/notebooks/4_project.ipynb\" target=\"_parent\"><img src=\"https://colab.research.google.com/assets/colab-badge.svg\" alt=\"Open In Colab\"/></a>"
      ]
    },
    {
      "cell_type": "markdown",
      "source": [
        "# Project\n",
        "\n",
        "You now have the basics to conduct an analysis of the products in OpenFoodFacts on your own.\n",
        "\n",
        "This is fortunate, because (if time permits) you are tasked with conducting an analysis of a product category or categories of your choice.\n",
        "\n",
        "Your goal here should be to provide a global view of the dataset and exhibit salient features that could **inform a decision or be of interest** to an **analyst or stakeholder** in the sector concerned by your product category or categories.\n"
      ],
      "metadata": {
        "id": "zZNzG6hPYQ15"
      }
    },
    {
      "cell_type": "markdown",
      "source": [
        "## Scope and angle\n",
        "\n",
        "### Case study 1: Taxes\n",
        "\n",
        "You first need to find a question or set of questions you really want to answer, for example :\n",
        "\n",
        "1. What would be the impact of a fat tax similar to [the former Danish fat tax](https://en.wikipedia.org/wiki/Fat_tax#Denmark) (\"a fat tax on butter, milk, cheese, pizza, meat, oil and processed food if the item contains more than 2.3% saturated fat.\") ?\n",
        "2. What proportion of products in each category would be impacted ?\n"
      ],
      "metadata": {
        "id": "zMDRTYbDY7y8"
      }
    },
    {
      "cell_type": "markdown",
      "source": [
        "The same line of questions could be pursued with other taxes like\n",
        "* the [Sugary drink taxes](https://en.wikipedia.org/wiki/Sugary_drink_tax),\n",
        "* the [Pasty tax](https://en.wikipedia.org/wiki/Pasty_tax)\n",
        "* any other tax that has been discussed in your previous country of residence, or any other country of your interest.\n"
      ],
      "metadata": {
        "id": "WkwJvnJiZhPf"
      }
    },
    {
      "cell_type": "markdown",
      "source": [
        "### Case study 2: Ecolabels\n",
        "Another possible direction of investigation would be to examine the spread of certain labels in product families, such as the various ecolabels."
      ],
      "metadata": {
        "id": "BxSmOKkYZvVH"
      }
    },
    {
      "cell_type": "markdown",
      "source": [
        "### Case study 3: Additives\n",
        "A third direction would be to examine the spread of certain additives in order to evaluate the potential impact of a change in legislation banning some additives."
      ],
      "metadata": {
        "id": "Ft4RakOlZ9f2"
      }
    },
    {
      "cell_type": "markdown",
      "source": [
        "## Production\n",
        "\n",
        "You will need to :\n",
        "* define your subset of (rows or columns) of interest,\n",
        "* determine which dataviz (graphs) would support your investigation (eg. characteristics of certain product groups, or similarities and differences between the distribution of some nutritional values between for instance salty and sweet snacks).\n",
        "* build these dataviz.\n",
        "* interpret these dataviz and comment on each, in order to help answering your questions and making your case.\n"
      ],
      "metadata": {
        "id": "lnQzlQQCaIKr"
      }
    },
    {
      "cell_type": "markdown",
      "source": [
        "## Some advice\n",
        "\n",
        "Keep in mind that notebooks can contain a mix of text and code, including the plots and figures that result from the execution of the code.\n",
        "\n",
        "Text cells enable you to describe the problem you address, detail your line of thought, present your hypotheses and assumptions, comment on the figures, and present observations or conclusions.\n",
        "\n",
        "A good notebook, or set of notebooks, should be very close to a report or a presentation that you would write with more traditional office software."
      ],
      "metadata": {
        "id": "bwXwE5ApcNhL"
      }
    },
    {
      "cell_type": "markdown",
      "source": [
        "## Good luck !"
      ],
      "metadata": {
        "id": "3A1kujh1boC-"
      }
    }
  ]
}