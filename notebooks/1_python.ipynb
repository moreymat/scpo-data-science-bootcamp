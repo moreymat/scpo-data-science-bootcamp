{
  "cells": [
    {
      "cell_type": "markdown",
      "metadata": {
        "colab_type": "text",
        "id": "view-in-github"
      },
      "source": [
        "<a href=\"https://colab.research.google.com/github/moreymat/scpo-data-science-bootcamp/blob/main/notebooks/1_python.ipynb\" target=\"_parent\"><img src=\"https://colab.research.google.com/assets/colab-badge.svg\" alt=\"Open In Colab\"/></a>"
      ]
    },
    {
      "cell_type": "markdown",
      "metadata": {
        "id": "u955d9VsrkqN"
      },
      "source": [
        "# Python basics\n",
        "\n",
        "Welcome to the \"Data science bootcamp\" in Python.\n",
        "\n",
        "In this notebook, the first in a series, you will see the basics of the Python programming language, a fundamental tool nowadays for data science, artificial intelligence and machine learning.\n",
        "\n",
        "This notebook is mostly (and heavily) derived from the notebook [Python basics](https://colab.research.google.com/github/data-psl/lectures2020/blob/master/notebooks/01_python_basics.ipynb#scrollTo=clWaFCzBMfkv), authored by Mathieu Blondel for the [preparatory week of the transverse program for data sciences at Université PSL (Paris Sciences & Lettres)](https://data-psl.github.io/preparatory-week/)."
      ]
    },
    {
      "cell_type": "markdown",
      "metadata": {
        "id": "KZweIah-s4uE"
      },
      "source": [
        "## Preamble : Colaboratory and notebooks\n",
        "\n",
        "We are working on a platform, [Google Colaboratory](https://colab.research.google.com), that enables users to edit and run [Jupyter notebooks](https://en.wikipedia.org/wiki/Project_Jupyter#Jupyter_Notebook) in the cloud for free, without any installation, and with access to GPUs.\n",
        "\n",
        "For a very short history and description of Colaboratory, see [on wikipedia](https://en.wikipedia.org/wiki/Project_Jupyter#Google_Colaboratory)."
      ]
    },
    {
      "cell_type": "markdown",
      "metadata": {
        "id": "visvlCK3HTVm"
      },
      "source": [
        "### Note on how to change the language on Google Colaboratory\n",
        "\n",
        "Google Colaboratory uses the default language settings from your web browser.\n",
        "If the menus are displayed in a different language, you can switch to English by going to (the equivalent of) the \"Help\" menu, then clicking on (the translation of) the item \"Display in English\".\n",
        "\n",
        "<center>\n",
        "<img src=\"https://github.com/moreymat/scpo-data-science-bootcamp/raw/main/notebooks/img/colab-lang.png\" width=400>\n",
        "</center>\n",
        "\n",
        "Having the interface in English will ensure you can easily follow the instructions and advice in these notebooks."
      ]
    },
    {
      "cell_type": "markdown",
      "metadata": {
        "id": "o0nZDUm392DP"
      },
      "source": [
        "### Using a notebook\n",
        "\n",
        "All our work will happen inside a *notebook*, an interactive document where you can write a mix of :\n",
        "\n",
        "* text formatted in [Markdown](https://guides.github.com/features/mastering-markdown/) that is rendered, and\n",
        "* code in [Python](https://www.python.org/) that can be executed.\n",
        "\n",
        "More precisely, a notebook consists in a sequence of *cells*, where each cell contains either (Markdown) text or (Python) code.\n",
        "\n",
        "Notebooks are not limited to text and code, they can render math equations, images, plain HTML content and even interactive widgets !\n",
        "But in this series of notebooks, we will mostly write text and code."
      ]
    },
    {
      "cell_type": "markdown",
      "metadata": {
        "id": "jyKFnPoR-FgM"
      },
      "source": [
        "You can double click on any text cell to edit it.\n",
        "\n",
        "By default, Colab shows you the Markdown text on the left and a preview of its rendering on the right that is updated (almost) in real time as you type.\n",
        "\n",
        "When you are done, just press \"Shift+Enter\" and the cell will be rendered.\n"
      ]
    },
    {
      "cell_type": "markdown",
      "metadata": {
        "id": "BjXmnxRt-XWI"
      },
      "source": [
        "### Markdown basics\n",
        "\n",
        "Markdown relies on characters, in particular the star `*` (or multiply).\n",
        "\n",
        "*Text between stars is in italic*, **text between pairs of stars is in bold**.\n",
        "\n",
        "A sequence of lines that start with a star is rendered as a list with bullets :\n",
        "\n",
        "* first item\n",
        "  - subitem for the first item\n",
        "* second item\n",
        "* third item\n",
        "\n",
        "Lines that start with one or more hash `#` are headings :\n",
        "\n",
        "* 1 hash `#` for level-1 headings (document title),\n",
        "* 2 hashes `##` for level-2 headings (section title),\n",
        "* 3 hashes `###` for level-3 headings (subsection title).\n",
        "\n",
        "Links are defined by two elements : the text of the link between square brackets `[` and `]`, and the target of the link between parentheses.\n",
        "As an example, here is a link to the [Sciences-Po website](https://www.sciencespo.fr/en/home)."
      ]
    },
    {
      "cell_type": "markdown",
      "metadata": {
        "id": "uetf_YtbA6uy"
      },
      "source": [
        "If you want to add a text (or code) cell after the cell you are currently editing, you can either :\n",
        "* click on the menu item \"Insert\" > \"Text cell\" (or \"Code cell\"), or\n",
        "* hover your mouse 1-2 mm below the bottom of the cell and click on one of the two buttons \"+ Code\" and \"+ Text\" that appear.\n",
        "\n",
        "<center>\n",
        "<img src=\"https://github.com/moreymat/scpo-data-science-bootcamp/raw/main/notebooks/img/colab-add-cell.png\" width=400>\n",
        "</center>"
      ]
    },
    {
      "cell_type": "markdown",
      "metadata": {
        "id": "tUL379gkD6X0"
      },
      "source": [
        "If you forget the Markdown syntax for the most commonly used elements, the menu bar that appears at the top of a text cell (when you edit it) displays a familiar interface with clickable buttons.\n",
        "\n",
        "<center>\n",
        "<img src=\"https://github.com/moreymat/scpo-data-science-bootcamp/raw/main/notebooks/img/colab-markdown-buttons.png\" width=400>\n",
        "</center>"
      ]
    },
    {
      "cell_type": "markdown",
      "metadata": {
        "id": "FKaXIovZDbXz"
      },
      "source": [
        "A smaller bar appears on the upper right corner of the cell, with \"up\" and \"down\" arrows to move the cell up or down, a button to delete the cell, etc.\n",
        "\n",
        "<center>\n",
        "<img src=\"https://github.com/moreymat/scpo-data-science-bootcamp/raw/main/notebooks/img/colab-cell-upper-right.png\" width=200>\n",
        "</center>"
      ]
    },
    {
      "cell_type": "markdown",
      "metadata": {
        "id": "KwEQaaimBGXE"
      },
      "source": [
        "There are many resources online to learn more about the Markdown syntax, eg. the [Markdown page on Wikipedia](https://en.wikipedia.org/wiki/Markdown) or this [short tutorial by GitHub](https://guides.github.com/features/mastering-markdown/)."
      ]
    },
    {
      "cell_type": "markdown",
      "metadata": {
        "id": "iSTgG9pdBgeG"
      },
      "source": [
        "**Exercise.** Add a text cell below this one, and write a very short text with the following constraints :\n",
        "\n",
        "* the text consists of 3 sections,\n",
        "* each section consists of 2 subsections,\n",
        "* one subsection must contain a bullet list,\n",
        "* another subsection must contain a numbered list,\n",
        "* another subsection must contain a two-level bullet list, where two items have at least 3 sub-items each.\n",
        "\n",
        "Any text will do, so feel free to write nonsensical text if you feel uninspired, or reuse some common placeholder text such as [Lorem ipsum](https://en.wikipedia.org/wiki/Lorem_ipsum)."
      ]
    },
    {
      "cell_type": "markdown",
      "metadata": {},
      "source": [
        "# Lorem ipsum\n",
        "\n",
        "## Section 1\n",
        "\n",
        "### Subsection 1.1\n",
        "\n",
        "Lorem ipsum dolor sit amet, consectetur adipiscing elit, sed do eiusmod tempor incididunt ut labore et dolore magna aliqua.\n",
        "Ut enim ad minim veniam, quis nostrud exercitation ullamco laboris nisi ut aliquip ex ea commodo consequat.\n",
        "\n",
        "### Subsection 1.2\n",
        "\n",
        "* Duis aute irure dolor in reprehenderit in voluptate velit esse cillum dolore eu fugiat nulla pariatur.\n",
        "* Excepteur sint occaecat cupidatat non proident, sunt in culpa qui officia deserunt mollit anim id est laborum.\n",
        "\n",
        "## Section 2\n",
        "\n",
        "### Subsection 2.1\n",
        "\n",
        "Lorem ipsum dolor sit amet, consectetur adipiscing elit, sed do eiusmod tempor incididunt ut labore et dolore magna aliqua.\n",
        "\n",
        "### Subsection 2.2\n",
        "\n",
        "1. Ut enim ad minim veniam,\n",
        "2. quis nostrud exercitation ullamco laboris nisi ut aliquip ex ea commodo consequat.\n",
        "3. Duis aute irure dolor in reprehenderit in voluptate velit esse cillum dolore eu fugiat nulla pariatur.\n",
        "4. Excepteur sint occaecat cupidatat non proident,\n",
        "5. sunt in culpa qui officia deserunt mollit anim id est laborum.\n",
        "\n",
        "## Section 3\n",
        "\n",
        "Lorem ipsum dolor sit amet, consectetur adipiscing elit, sed do eiusmod tempor incididunt ut labore et dolore magna aliqua. \n",
        "\n",
        "### Subsection 3.1\n",
        "\n",
        "Ut enim ad minim veniam, quis nostrud exercitation ullamco laboris nisi ut aliquip ex ea commodo consequat. Duis aute irure dolor in reprehenderit in voluptate velit esse cillum dolore eu fugiat nulla pariatur. Excepteur sint occaecat cupidatat non proident, sunt in culpa qui officia deserunt mollit anim id est laborum.\n",
        "\n",
        "### Subsection 3.2\n",
        "\n",
        "* Lorem ipsum dolor sit amet,\n",
        "  - consectetur adipiscing elit,\n",
        "  - sed do eiusmod tempor incididunt ut labore et\n",
        "  - dolore magna aliqua.\n",
        "* Ut enim ad minim veniam,\n",
        "  - quis nostrud exercitation ullamco laboris nisi\n",
        "  - ut aliquip ex ea commodo consequat.\n",
        "  - Duis aute irure dolor in reprehenderit in voluptate velit esse\n",
        "  - cillum dolore eu fugiat nulla pariatur.\n",
        "* Excepteur sint occaecat cupidatat non proident,\n",
        "  - sunt in culpa qui officia deserunt\n",
        "  - mollit anim id est laborum."
      ]
    },
    {
      "cell_type": "markdown",
      "metadata": {
        "id": "dqr83aWBB3tt"
      },
      "source": [
        "### Python in the notebook\n",
        "\n",
        "Notebooks can contain code cells, that you can edit, like you do for text cells, but writing Python syntax instead of Markdown, and execute.\n",
        "\n",
        "A code cell contains one or more Python instructions.\n",
        "\n",
        "For example, here is a code cell that computes the number of seconds in a day (`24 * 60 * 60`), stores the result in a variable (`seconds_in_a_day`) and prints its value:"
      ]
    },
    {
      "cell_type": "code",
      "execution_count": 1,
      "metadata": {
        "colab": {
          "base_uri": "https://localhost:8080/"
        },
        "id": "1sACWQYXCFrL",
        "outputId": "0e89d6ed-6ac4-4f1c-ce8d-a36400bed608"
      },
      "outputs": [
        {
          "name": "stdout",
          "output_type": "stream",
          "text": [
            "86400\n"
          ]
        }
      ],
      "source": [
        "seconds_in_a_day = 24 * 60 * 60\n",
        "print(seconds_in_a_day)"
      ]
    },
    {
      "cell_type": "markdown",
      "metadata": {
        "id": "hzsD8dzzGPSa"
      },
      "source": [
        "Click on the \"play\" button on the left of the cell to execute it.\n",
        "You should be able to see the result.\n",
        "\n",
        "Alternatively, you can also execute the cell by pressing \"Ctrl+Enter\" if you are on Windows or Linux, \"Command+Enter\" if you are on a Mac."
      ]
    },
    {
      "cell_type": "markdown",
      "metadata": {
        "id": "xkmFB2AtAQuK"
      },
      "source": [
        "In notebooks, another way to display the value of a variable is just to type its name."
      ]
    },
    {
      "cell_type": "code",
      "execution_count": 2,
      "metadata": {
        "colab": {
          "base_uri": "https://localhost:8080/"
        },
        "id": "wQJ_K99yAsls",
        "outputId": "0f77ddbd-90ab-4dbd-8d36-3ad2ac037189"
      },
      "outputs": [
        {
          "data": {
            "text/plain": [
              "86400"
            ]
          },
          "execution_count": 2,
          "metadata": {},
          "output_type": "execute_result"
        }
      ],
      "source": [
        "seconds_in_a_day"
      ]
    },
    {
      "cell_type": "markdown",
      "metadata": {
        "id": "E2sNvA4JGng6"
      },
      "source": [
        "Variables that you defined in one cell can later be used in other cells, be it to display their value as we just did, or to use their value in a computation:"
      ]
    },
    {
      "cell_type": "code",
      "execution_count": 3,
      "metadata": {
        "colab": {
          "base_uri": "https://localhost:8080/"
        },
        "id": "WcaBae83CS9y",
        "outputId": "f1e7a447-8b24-47e2-a42a-15a2c15d61c9"
      },
      "outputs": [
        {
          "data": {
            "text/plain": [
              "604800"
            ]
          },
          "execution_count": 3,
          "metadata": {},
          "output_type": "execute_result"
        }
      ],
      "source": [
        "seconds_in_a_week = 7 * seconds_in_a_day\n",
        "seconds_in_a_week"
      ]
    },
    {
      "cell_type": "markdown",
      "metadata": {
        "id": "83Uox5CeG0n0"
      },
      "source": [
        "Note that the order of execution is important.\n",
        "For instance, had we not run the cell that computes and stores `seconds_in_a_day` beforehand, executing the above cell would have raised an error, as it depends on this variable.\n",
        "\n",
        "To make sure that you run all the cells in the correct order, the easiest option is to click on \"Runtime\" in the top-level menu, then on the \"Run all\" item."
      ]
    },
    {
      "cell_type": "markdown",
      "metadata": {
        "id": "NHEcaokoQLKo"
      },
      "source": [
        "If you want to display the value of more than one variable, you need to use `print`."
      ]
    },
    {
      "cell_type": "code",
      "execution_count": 4,
      "metadata": {
        "colab": {
          "base_uri": "https://localhost:8080/"
        },
        "id": "ezbTDdO0Qhz8",
        "outputId": "02902169-0d53-4b2e-af18-06c8cc6ea157"
      },
      "outputs": [
        {
          "name": "stdout",
          "output_type": "stream",
          "text": [
            "86400\n",
            "604800\n"
          ]
        }
      ],
      "source": [
        "print(seconds_in_a_day)\n",
        "print(seconds_in_a_week)"
      ]
    },
    {
      "cell_type": "markdown",
      "metadata": {
        "id": "QjFPS-nqQzXc"
      },
      "source": [
        "You cannot achieve the same effect by just typing the two variable names on separate lines, because the notebook only displays the value of the last instruction:"
      ]
    },
    {
      "cell_type": "code",
      "execution_count": 5,
      "metadata": {
        "colab": {
          "base_uri": "https://localhost:8080/"
        },
        "id": "7Y_dXgY4RCDF",
        "outputId": "b9ad8df0-8218-4c36-bf23-96639572351e"
      },
      "outputs": [
        {
          "data": {
            "text/plain": [
              "604800"
            ]
          },
          "execution_count": 5,
          "metadata": {},
          "output_type": "execute_result"
        }
      ],
      "source": [
        "seconds_in_a_day\n",
        "seconds_in_a_week"
      ]
    },
    {
      "cell_type": "markdown",
      "metadata": {
        "id": "tPJIX0q4HiWW"
      },
      "source": [
        "**Exercise.** Add a Code cell below this cell. In the new cell, compute the number of seconds in a [common year](https://en.wikipedia.org/wiki/Common_year) by reusing the variable `seconds_in_a_day` and print it. Run the new cell."
      ]
    },
    {
      "cell_type": "code",
      "execution_count": 6,
      "metadata": {},
      "outputs": [
        {
          "name": "stdout",
          "output_type": "stream",
          "text": [
            "31536000\n"
          ]
        }
      ],
      "source": [
        "seconds_in_a_year = 365 * seconds_in_a_day\n",
        "print(seconds_in_a_year)"
      ]
    },
    {
      "cell_type": "markdown",
      "metadata": {
        "id": "tuEOpTwoH2r5"
      },
      "source": [
        "## Python\n",
        "\n",
        "Let us start with basic notions of the Python programming language."
      ]
    },
    {
      "cell_type": "markdown",
      "metadata": {
        "id": "dFSTf8AGIYUa"
      },
      "source": [
        "### Numbers and arithmetic operations\n",
        "\n",
        "Python enables to manipulate numeric values of various types :\n",
        "* [integers](https://en.wikipedia.org/wiki/Integer_(computer_science)) (`int`),\n",
        "* [booleans](https://en.wikipedia.org/wiki/Boolean_data_type) (`bool`),\n",
        "* [real numbers](https://en.wikipedia.org/wiki/Floating-point_arithmetic) (`float`),\n",
        "* [complex numbers](https://en.wikipedia.org/wiki/Complex_data_type) (`complex`),\n"
      ]
    },
    {
      "cell_type": "markdown",
      "metadata": {
        "id": "tJ23rDU6SDW7"
      },
      "source": [
        "\n",
        "On these numeric values, Python supports the usual arithmetic operators :\n",
        "\n",
        "* `+` (addition),\n",
        "* `*` (multiplication),\n",
        "* `/` (division),\n",
        "* `**` (power),\n",
        "* `//` (integer division ; see [Wikipedia](https://en.wikipedia.org/wiki/Division_(mathematics)#Of_integers), item numbered 5)."
      ]
    },
    {
      "cell_type": "markdown",
      "metadata": {
        "id": "wtaPH3YwJwa3"
      },
      "source": [
        "In general, you do not need to explicitly state the type of a numeric value because Python guesses from the writing."
      ]
    },
    {
      "cell_type": "code",
      "execution_count": 7,
      "metadata": {
        "colab": {
          "base_uri": "https://localhost:8080/"
        },
        "id": "QsbUErlAJnxv",
        "outputId": "c9e76847-c198-48c7-f07e-0f97a975e318"
      },
      "outputs": [
        {
          "data": {
            "text/plain": [
              "1"
            ]
          },
          "execution_count": 7,
          "metadata": {},
          "output_type": "execute_result"
        }
      ],
      "source": [
        "# (a line starting with a hash '#' in Python is a comment, it is not interpreted)\n",
        "# let us declare an integer\n",
        "x = 1\n",
        "# and display its value, just by calling its name\n",
        "x"
      ]
    },
    {
      "cell_type": "code",
      "execution_count": 8,
      "metadata": {
        "colab": {
          "base_uri": "https://localhost:8080/"
        },
        "id": "Wwnd2HI6KSfi",
        "outputId": "98b7ddc3-72ed-4187-d539-4550d64cc44e"
      },
      "outputs": [
        {
          "data": {
            "text/plain": [
              "3.2"
            ]
          },
          "execution_count": 8,
          "metadata": {},
          "output_type": "execute_result"
        }
      ],
      "source": [
        "# let us declare a float\n",
        "y = 3.2\n",
        "# and display its value\n",
        "y"
      ]
    },
    {
      "cell_type": "markdown",
      "metadata": {
        "id": "t47fnAg9KnH_"
      },
      "source": [
        "If you sum an integer and a real number, Python will automatically convert the integer to a float before doing the computation."
      ]
    },
    {
      "cell_type": "code",
      "execution_count": 9,
      "metadata": {
        "colab": {
          "base_uri": "https://localhost:8080/"
        },
        "id": "NcOFJeqCKWWH",
        "outputId": "e3ea750c-5152-4847-cdf0-ca9cd5e059c6"
      },
      "outputs": [
        {
          "data": {
            "text/plain": [
              "4.2"
            ]
          },
          "execution_count": 9,
          "metadata": {},
          "output_type": "execute_result"
        }
      ],
      "source": [
        "z = x + y\n",
        "z"
      ]
    },
    {
      "cell_type": "markdown",
      "metadata": {
        "id": "zvVem1oNLHo1"
      },
      "source": [
        "Ill-defined operations will raise an error, such as a division by zero."
      ]
    },
    {
      "cell_type": "code",
      "execution_count": 10,
      "metadata": {
        "colab": {
          "base_uri": "https://localhost:8080/",
          "height": 167
        },
        "id": "YyqkRHGWLP_o",
        "outputId": "7a66c8c4-2327-4dd6-eaf2-590782aed214"
      },
      "outputs": [
        {
          "ename": "ZeroDivisionError",
          "evalue": "division by zero",
          "output_type": "error",
          "traceback": [
            "\u001b[0;31m---------------------------------------------------------------------------\u001b[0m",
            "\u001b[0;31mZeroDivisionError\u001b[0m                         Traceback (most recent call last)",
            "Cell \u001b[0;32mIn[10], line 1\u001b[0m\n\u001b[0;32m----> 1\u001b[0m wrong_comp \u001b[38;5;241m=\u001b[39m \u001b[38;5;241;43m14\u001b[39;49m\u001b[43m \u001b[49m\u001b[38;5;241;43m/\u001b[39;49m\u001b[43m \u001b[49m\u001b[38;5;241;43m0\u001b[39;49m\n",
            "\u001b[0;31mZeroDivisionError\u001b[0m: division by zero"
          ]
        }
      ],
      "source": [
        "wrong_comp = 14 / 0"
      ]
    },
    {
      "cell_type": "markdown",
      "metadata": {
        "id": "PTjO9UK5La61"
      },
      "source": [
        "The \"stop signal\" on the left of the cell signals that the execution of this Python block has failed.\n",
        "\n",
        "The error message provides you with (hopefully) useful information to know what went wrong.\n",
        "If you do not know what the error means, or how to fix it, click on the \"Search stack overflow\" button and read from the suggested webpages."
      ]
    },
    {
      "cell_type": "markdown",
      "metadata": {
        "id": "5m2CdKl0Kvkr"
      },
      "source": [
        "**Exercise.** Add code cells and try out each of the remaining arithmetic operations, with various values."
      ]
    },
    {
      "cell_type": "code",
      "execution_count": 11,
      "metadata": {},
      "outputs": [
        {
          "data": {
            "text/plain": [
              "14"
            ]
          },
          "execution_count": 11,
          "metadata": {},
          "output_type": "execute_result"
        }
      ],
      "source": [
        "7 * 2"
      ]
    },
    {
      "cell_type": "code",
      "execution_count": 12,
      "metadata": {},
      "outputs": [
        {
          "data": {
            "text/plain": [
              "7.0"
            ]
          },
          "execution_count": 12,
          "metadata": {},
          "output_type": "execute_result"
        }
      ],
      "source": [
        "14 / 2"
      ]
    },
    {
      "cell_type": "code",
      "execution_count": 13,
      "metadata": {},
      "outputs": [
        {
          "data": {
            "text/plain": [
              "7"
            ]
          },
          "execution_count": 13,
          "metadata": {},
          "output_type": "execute_result"
        }
      ],
      "source": [
        "14 // 2"
      ]
    },
    {
      "cell_type": "code",
      "execution_count": 14,
      "metadata": {},
      "outputs": [
        {
          "data": {
            "text/plain": [
              "7.5"
            ]
          },
          "execution_count": 14,
          "metadata": {},
          "output_type": "execute_result"
        }
      ],
      "source": [
        "15 / 2"
      ]
    },
    {
      "cell_type": "code",
      "execution_count": 15,
      "metadata": {},
      "outputs": [
        {
          "data": {
            "text/plain": [
              "7"
            ]
          },
          "execution_count": 15,
          "metadata": {},
          "output_type": "execute_result"
        }
      ],
      "source": [
        "15 // 2"
      ]
    },
    {
      "cell_type": "code",
      "execution_count": 16,
      "metadata": {},
      "outputs": [],
      "source": [
        "# etc."
      ]
    },
    {
      "cell_type": "markdown",
      "metadata": {
        "id": "6bBmtid4nI31"
      },
      "source": [
        "### Functions\n",
        "\n",
        "To improve code readability, it is common to separate the code into different blocks, responsible for performing precise actions: **functions**.\n",
        "\n",
        "A function takes some **inputs** (or *arguments*) and processes them to return some **outputs** (or *results*).\n"
      ]
    },
    {
      "cell_type": "markdown",
      "metadata": {
        "id": "Ct29l78udWhu"
      },
      "source": [
        "\n",
        "Visually, a function definition is a block of lines that:\n",
        "- begins with a line starting with the keyword `def`,\n",
        "- includes all subsequent lines **indented** at least one more level than `def` (ie. vertically aligned at least one `<TAB>`, or two regular whitespaces, further to the right than `def`),\n",
        "- ends as soon as we encounter a line at the same level of indentation as `def`.\n"
      ]
    },
    {
      "cell_type": "markdown",
      "metadata": {
        "id": "BkUmo_xYfiq-"
      },
      "source": [
        "*Nota Bene*: The Python language relies on indentation (vertical alignment) to define the precise scope of not only functions, but also various constructs that you will discover shortly."
      ]
    },
    {
      "cell_type": "markdown",
      "metadata": {
        "id": "sLlmEsjRpkMs"
      },
      "source": [
        "For instance, let us define a function `square` that, for an input `x`, computes and returns as output `x ** 2`."
      ]
    },
    {
      "cell_type": "code",
      "execution_count": 17,
      "metadata": {
        "id": "SjVa0kKolAa7"
      },
      "outputs": [],
      "source": [
        "def square(x):\n",
        "  return x ** 2"
      ]
    },
    {
      "cell_type": "markdown",
      "metadata": {
        "id": "appD7EkRpvz9"
      },
      "source": [
        "The first line relies on three concepts :\n",
        "\n",
        "* The reserved keyword `def` signals a function definition ;\n",
        "* This function is named `square` ;\n",
        "* It expects one or more arguments listed between parentheses, here a unique argument that we name `x`, we will use this name `x` to refer to the argument value in the body of the function.\n",
        "\n",
        "This first line ends with a colon `:` that separates the signature of the function (function name and list of arguments) from the body of the function (the sequence of instructions that describe the computation that this function does)."
      ]
    },
    {
      "cell_type": "markdown",
      "metadata": {
        "id": "aNpCCUAOuBi5"
      },
      "source": [
        "Syntactically, the body of a function is defined as the sequence of lines that are **indented** at least one level (one `<TAB>`, or two regular whitespaces) further to the right.\n",
        "Here, the body of the function is a single line `return x ** 2`, but most functions perform more complex operations hence are longer than that."
      ]
    },
    {
      "cell_type": "markdown",
      "metadata": {
        "id": "GFOd4_X6uGrl"
      },
      "source": [
        "The second line uses two concepts :\n",
        "\n",
        "* The reserved keyword `return` signals that what comes next on this line will be the value output by the function ;\n",
        "* The returned (output) value is defined as the result of the arithmetic operation `x ** 2`.\n",
        "\n",
        "Any line in the body after `return` will not be executed, because `return` triggers an output and the exit of the function."
      ]
    },
    {
      "cell_type": "markdown",
      "metadata": {
        "id": "Yzv1JDMl275J"
      },
      "source": [
        "We can apply the `square` function to a number :"
      ]
    },
    {
      "cell_type": "code",
      "execution_count": 18,
      "metadata": {
        "colab": {
          "base_uri": "https://localhost:8080/"
        },
        "id": "PXwS68kYnWmh",
        "outputId": "2ebaf738-e196-4549-ffa9-4d0a02628fee"
      },
      "outputs": [
        {
          "data": {
            "text/plain": [
              "16"
            ]
          },
          "execution_count": 18,
          "metadata": {},
          "output_type": "execute_result"
        }
      ],
      "source": [
        "square(4)"
      ]
    },
    {
      "cell_type": "markdown",
      "metadata": {
        "id": "X4acFoUl4hyK"
      },
      "source": [
        "Functions can have more than one argument."
      ]
    },
    {
      "cell_type": "code",
      "execution_count": 19,
      "metadata": {
        "colab": {
          "base_uri": "https://localhost:8080/"
        },
        "id": "ISFXmuyanYSc",
        "outputId": "9a014fe9-a942-4ec3-db17-a8d58cd0e217"
      },
      "outputs": [
        {
          "data": {
            "text/plain": [
              "15"
            ]
          },
          "execution_count": 19,
          "metadata": {},
          "output_type": "execute_result"
        }
      ],
      "source": [
        "def multiply(a, b):\n",
        "  return a * b\n",
        "\n",
        "multiply(3, 5)"
      ]
    },
    {
      "cell_type": "markdown",
      "metadata": {
        "id": "2dOWm92B4qLn"
      },
      "source": [
        "In the cell above :\n",
        "\n",
        "* the function `multiply` is defined that expects two arguments named `a` and `b`, and returns the result of their multiplication ;\n",
        "* after the function is defined, we apply it to the pair of values `3` and `5`.\n",
        "\n",
        "But how does the Python interpreter know that the function body ends after `return a * b`, and does not include `multiply(3, 5)` ?\n",
        "\n",
        "If you edit the cell, remove the empty line and re-run the cell, you will see that the behavior is the same as before.\n",
        "You can try it and see for yourself."
      ]
    },
    {
      "cell_type": "markdown",
      "metadata": {
        "id": "BNktkpvw6PNN"
      },
      "source": [
        "This unchanged behavior with and without the empty line means that the empty line does not mark the end of a function body.\n",
        "\n",
        "Another possibility could be that `multiply(3, 5)` is not indented at the same level as the `return a * b` line, but rather is indented at the same level as the `def` keyword that starts the function definition.\n",
        "\n",
        "Indeed, the uninterrupted sequence of instructions whose start is indented further to the right than the `def` line, makes up the function body.\n",
        "\n",
        "Starting a line at the same indentation level as the `def` line marks the end of the function body.\n"
      ]
    },
    {
      "cell_type": "markdown",
      "metadata": {
        "id": "pMEn-FIQANV3"
      },
      "source": [
        "Functions can be composed : A function can be applied to the output of another function."
      ]
    },
    {
      "cell_type": "code",
      "execution_count": 20,
      "metadata": {
        "colab": {
          "base_uri": "https://localhost:8080/"
        },
        "id": "9dq2yB0Qnci7",
        "outputId": "c804cbc7-05b5-41e0-bb4b-885892a7be54"
      },
      "outputs": [
        {
          "data": {
            "text/plain": [
              "36"
            ]
          },
          "execution_count": 20,
          "metadata": {},
          "output_type": "execute_result"
        }
      ],
      "source": [
        "# Functions can be composed.\n",
        "square(multiply(3, 2))"
      ]
    },
    {
      "cell_type": "markdown",
      "metadata": {
        "id": "J-0k8SY_nh9V"
      },
      "source": [
        "To improve code readability, it is sometimes useful to explicitly name the arguments."
      ]
    },
    {
      "cell_type": "code",
      "execution_count": 21,
      "metadata": {
        "colab": {
          "base_uri": "https://localhost:8080/"
        },
        "id": "EhmSN6lFnfGN",
        "outputId": "0ac07800-c872-4332-e2c7-c10ca3c06599"
      },
      "outputs": [
        {
          "data": {
            "text/plain": [
              "36"
            ]
          },
          "execution_count": 21,
          "metadata": {},
          "output_type": "execute_result"
        }
      ],
      "source": [
        "square(multiply(a=3, b=2))"
      ]
    },
    {
      "cell_type": "markdown",
      "metadata": {
        "id": "vE1ZdsmdAa3g"
      },
      "source": [
        "Naming the arguments also provides flexibility, because you can use these names when you call the function and avoid having to remember the order in which the arguments were stated in the function definition."
      ]
    },
    {
      "cell_type": "markdown",
      "metadata": {
        "id": "SpgTIPyPnyuN"
      },
      "source": [
        "**Exercise.** Write a `divide(a, b)` function. Compare the results returned by `divide(15, 3)`, `divide(3, 15)`, `divide(a=15, b=3)`, `divide(b=3, a=15)`."
      ]
    },
    {
      "cell_type": "code",
      "execution_count": 22,
      "metadata": {},
      "outputs": [],
      "source": [
        "def divide(a, b):\n",
        "    return a / b"
      ]
    },
    {
      "cell_type": "code",
      "execution_count": 23,
      "metadata": {},
      "outputs": [
        {
          "data": {
            "text/plain": [
              "5.0"
            ]
          },
          "execution_count": 23,
          "metadata": {},
          "output_type": "execute_result"
        }
      ],
      "source": [
        "divide(15, 3)"
      ]
    },
    {
      "cell_type": "code",
      "execution_count": 24,
      "metadata": {},
      "outputs": [
        {
          "data": {
            "text/plain": [
              "0.2"
            ]
          },
          "execution_count": 24,
          "metadata": {},
          "output_type": "execute_result"
        }
      ],
      "source": [
        "divide(3, 15)"
      ]
    },
    {
      "cell_type": "code",
      "execution_count": 25,
      "metadata": {},
      "outputs": [
        {
          "data": {
            "text/plain": [
              "5.0"
            ]
          },
          "execution_count": 25,
          "metadata": {},
          "output_type": "execute_result"
        }
      ],
      "source": [
        "divide(a=15, b=3)"
      ]
    },
    {
      "cell_type": "code",
      "execution_count": 26,
      "metadata": {},
      "outputs": [
        {
          "data": {
            "text/plain": [
              "5.0"
            ]
          },
          "execution_count": 26,
          "metadata": {},
          "output_type": "execute_result"
        }
      ],
      "source": [
        "divide(b=3, a=15)"
      ]
    },
    {
      "cell_type": "markdown",
      "metadata": {
        "id": "99u1-NYnMd8L"
      },
      "source": [
        "### Lists\n",
        "\n",
        "A fundamental capacity in programming is to operate not only on simple values, but also on collections of values (or more complex objects).\n",
        "\n",
        "Python provides several data structures to hold such collections, the simplest being the list.\n",
        "\n",
        "Lists are a container type for ordered sequences of elements.\n",
        "\n",
        "Lists can be initialized empty"
      ]
    },
    {
      "cell_type": "code",
      "execution_count": 27,
      "metadata": {
        "id": "8SYTgs7mLXuy"
      },
      "outputs": [],
      "source": [
        "my_list = []"
      ]
    },
    {
      "cell_type": "markdown",
      "metadata": {
        "id": "twRVfTWHS6CP"
      },
      "source": [
        "or with some initial elements"
      ]
    },
    {
      "cell_type": "code",
      "execution_count": 28,
      "metadata": {
        "id": "_JvqxBN-S3R5"
      },
      "outputs": [],
      "source": [
        "my_list = [1, 2, 3]"
      ]
    },
    {
      "cell_type": "markdown",
      "metadata": {
        "id": "BPAaRO-QUcgf"
      },
      "source": [
        "Lists have a dynamic size : elements can be added, *appended*, to them (at the end)."
      ]
    },
    {
      "cell_type": "code",
      "execution_count": 29,
      "metadata": {
        "colab": {
          "base_uri": "https://localhost:8080/"
        },
        "id": "3eU3TGfSUb05",
        "outputId": "84ef28d4-7e83-4d0f-dede-2f3ce577bdb6"
      },
      "outputs": [
        {
          "data": {
            "text/plain": [
              "[1, 2, 3, 4]"
            ]
          },
          "execution_count": 29,
          "metadata": {},
          "output_type": "execute_result"
        }
      ],
      "source": [
        "my_list.append(4)\n",
        "my_list"
      ]
    },
    {
      "cell_type": "markdown",
      "metadata": {
        "id": "7CzTUUu9sBuM"
      },
      "source": [
        "We just used a new syntax here, which is the *dot notation* : on the variable `my_list`, we applied an operation, [append](https://docs.python.org/3/tutorial/datastructures.html#more-on-lists), with the value `4` as its argument.\n",
        "\n",
        "`append` is a *method* of list objects, ie. a function that is attached to every list.\n",
        "\n",
        "Here, calling `.append(4)` on `my_list` had the effect of modifying `my_list` by adding a new element, 4, at its end."
      ]
    },
    {
      "cell_type": "markdown",
      "metadata": {
        "id": "z0kScBreU4aa"
      },
      "source": [
        "We can access individual elements of a list with their position or *index*.\n",
        "Note that in Python, **indexing starts from 0**."
      ]
    },
    {
      "cell_type": "code",
      "execution_count": 30,
      "metadata": {
        "colab": {
          "base_uri": "https://localhost:8080/"
        },
        "id": "oEBpy0LrUqEE",
        "outputId": "8bee5fbe-4d75-4dfe-eabc-88d8cb1e9bc5"
      },
      "outputs": [
        {
          "data": {
            "text/plain": [
              "1"
            ]
          },
          "execution_count": 30,
          "metadata": {},
          "output_type": "execute_result"
        }
      ],
      "source": [
        "# access element at index 0 (hence the 1st value in the list)\n",
        "my_list[0]"
      ]
    },
    {
      "cell_type": "code",
      "execution_count": 31,
      "metadata": {
        "colab": {
          "base_uri": "https://localhost:8080/"
        },
        "id": "z8fctlFeU9mC",
        "outputId": "14ac83a4-7fa0-4a6e-d4c7-6600107de43d"
      },
      "outputs": [
        {
          "data": {
            "text/plain": [
              "4"
            ]
          },
          "execution_count": 31,
          "metadata": {},
          "output_type": "execute_result"
        }
      ],
      "source": [
        "# access element at index 3 (hence the 4th value in the list)\n",
        "my_list[3]"
      ]
    },
    {
      "cell_type": "markdown",
      "metadata": {
        "id": "bWrFYoZfiKMx"
      },
      "source": [
        "We can access \"slices\" of a list using `my_list[i:j]` where `i` is the start of the slice (again, indexing starts from 0) and `j` the end of the slice.\n",
        "\n",
        "In the slice notation :\n",
        "\n",
        "* the start index is *included* ;\n",
        "* the end index is *excluded*.\n",
        "\n",
        "For instance, to get elements from position 1 (included) to 3 (excluded), ie. elements at positions 1 and 2 :"
      ]
    },
    {
      "cell_type": "code",
      "execution_count": 32,
      "metadata": {
        "colab": {
          "base_uri": "https://localhost:8080/"
        },
        "id": "FyL9ddnXVmwQ",
        "outputId": "19000662-20fa-4607-a0ab-ae8af1e7eacc"
      },
      "outputs": [
        {
          "data": {
            "text/plain": [
              "[2, 3]"
            ]
          },
          "execution_count": 32,
          "metadata": {},
          "output_type": "execute_result"
        }
      ],
      "source": [
        "my_list[1:3]"
      ]
    },
    {
      "cell_type": "markdown",
      "metadata": {
        "id": "GnuFUGvWiTkD"
      },
      "source": [
        "Omitting the second index means that the slice shoud run until the end of the list."
      ]
    },
    {
      "cell_type": "code",
      "execution_count": 33,
      "metadata": {
        "colab": {
          "base_uri": "https://localhost:8080/"
        },
        "id": "CUma2_5oiQvw",
        "outputId": "d18dce19-9104-425e-913e-8b77927dda0e"
      },
      "outputs": [
        {
          "data": {
            "text/plain": [
              "[2, 3, 4]"
            ]
          },
          "execution_count": 33,
          "metadata": {},
          "output_type": "execute_result"
        }
      ],
      "source": [
        "my_list[1:]"
      ]
    },
    {
      "cell_type": "markdown",
      "metadata": {
        "id": "nQgVbCQkiahd"
      },
      "source": [
        "We can check if an element is in the list using (the binary operator) `in`."
      ]
    },
    {
      "cell_type": "code",
      "execution_count": 34,
      "metadata": {
        "colab": {
          "base_uri": "https://localhost:8080/"
        },
        "id": "LdbdGd1viZ6s",
        "outputId": "94fca1de-3392-4505-a047-5b34dac534bc"
      },
      "outputs": [
        {
          "data": {
            "text/plain": [
              "False"
            ]
          },
          "execution_count": 34,
          "metadata": {},
          "output_type": "execute_result"
        }
      ],
      "source": [
        "5 in my_list"
      ]
    },
    {
      "cell_type": "markdown",
      "metadata": {
        "id": "sCDT-cSEiiPy"
      },
      "source": [
        "The length of a list can be obtained using the `len` function."
      ]
    },
    {
      "cell_type": "code",
      "execution_count": 35,
      "metadata": {
        "colab": {
          "base_uri": "https://localhost:8080/"
        },
        "id": "TSxlgQGqigEX",
        "outputId": "e91ef96d-5b20-4221-9a3e-4b240705e4cf"
      },
      "outputs": [
        {
          "data": {
            "text/plain": [
              "4"
            ]
          },
          "execution_count": 35,
          "metadata": {},
          "output_type": "execute_result"
        }
      ],
      "source": [
        "len(my_list)"
      ]
    },
    {
      "cell_type": "markdown",
      "metadata": {
        "id": "HCMKpUs-B13k"
      },
      "source": [
        "**Exercise.** Add a Code cell and define a list of strings 'a', 'b', 'c', 'd', 'e'. Select the slice from position 2 (included) to position 5 (excluded). Then select the slice from position 0 (included) to 3 (excluded)."
      ]
    },
    {
      "cell_type": "code",
      "execution_count": 36,
      "metadata": {},
      "outputs": [
        {
          "data": {
            "text/plain": [
              "['c', 'd', 'e']"
            ]
          },
          "execution_count": 36,
          "metadata": {},
          "output_type": "execute_result"
        }
      ],
      "source": [
        "some_list = ['a', 'b', 'c', 'd', 'e']\n",
        "some_list[2:5]"
      ]
    },
    {
      "cell_type": "code",
      "execution_count": 37,
      "metadata": {},
      "outputs": [
        {
          "data": {
            "text/plain": [
              "['a', 'b', 'c']"
            ]
          },
          "execution_count": 37,
          "metadata": {},
          "output_type": "execute_result"
        }
      ],
      "source": [
        "some_list[0:3]"
      ]
    },
    {
      "cell_type": "markdown",
      "metadata": {
        "id": "TRLoF2tciwV9"
      },
      "source": [
        "### Strings\n",
        "\n",
        "Computers can manipulate not only numeric values, but also text values.\n",
        "\n",
        "Text values are stored in *strings*.\n",
        "In Python, strings are enclosed in single quotes `'` or double quotes `\"`."
      ]
    },
    {
      "cell_type": "code",
      "execution_count": 38,
      "metadata": {
        "id": "UNuzN2Qvik_u"
      },
      "outputs": [],
      "source": [
        "string1 = \"some text\"\n",
        "string2 = 'some other text'"
      ]
    },
    {
      "cell_type": "markdown",
      "metadata": {
        "id": "eifx_jkNjMfp"
      },
      "source": [
        "Strings behave similarly to lists.\n",
        "As such we can access individual elements in exactly the same way, by specifiying their index."
      ]
    },
    {
      "cell_type": "code",
      "execution_count": 39,
      "metadata": {
        "colab": {
          "base_uri": "https://localhost:8080/",
          "height": 35
        },
        "id": "-jIqZT90jTY0",
        "outputId": "a36cf9a1-e9dc-4b38-af24-725d4174a02a"
      },
      "outputs": [
        {
          "data": {
            "text/plain": [
              "'e'"
            ]
          },
          "execution_count": 39,
          "metadata": {},
          "output_type": "execute_result"
        }
      ],
      "source": [
        "string1[3]"
      ]
    },
    {
      "cell_type": "markdown",
      "metadata": {
        "id": "cUs486ccjWy9"
      },
      "source": [
        "and similarly, we can take a slice of a string"
      ]
    },
    {
      "cell_type": "code",
      "execution_count": 40,
      "metadata": {
        "colab": {
          "base_uri": "https://localhost:8080/",
          "height": 35
        },
        "id": "djt8ZWn3jWB-",
        "outputId": "f4f92c76-3807-4665-c8b4-0833900d70c8"
      },
      "outputs": [
        {
          "data": {
            "text/plain": [
              "'other text'"
            ]
          },
          "execution_count": 40,
          "metadata": {},
          "output_type": "execute_result"
        }
      ],
      "source": [
        "string2[5:]"
      ]
    },
    {
      "cell_type": "markdown",
      "metadata": {
        "id": "J9oznmLjjkg0"
      },
      "source": [
        "String concatenation is performed using the `+` operator."
      ]
    },
    {
      "cell_type": "code",
      "execution_count": 41,
      "metadata": {
        "colab": {
          "base_uri": "https://localhost:8080/",
          "height": 35
        },
        "id": "FgJ_IcFjjgsv",
        "outputId": "aaf12419-bc2b-4c82-f438-beba23199cc8"
      },
      "outputs": [
        {
          "data": {
            "text/plain": [
              "'some text some other text'"
            ]
          },
          "execution_count": 41,
          "metadata": {},
          "output_type": "execute_result"
        }
      ],
      "source": [
        "string1 + \" \" + string2"
      ]
    },
    {
      "cell_type": "markdown",
      "metadata": {
        "id": "W8MovOopjpzX"
      },
      "source": [
        "### Conditionals\n",
        "\n",
        "As their name indicates, conditionals are a way to execute code depending on whether a condition is `True` or `False`.\n",
        "\n",
        "As in other languages, Python supports `if` and `else` but `else if` is contracted into `elif`, as the example below demonstrates.\n",
        "\n",
        "We will use the `print()` function to print a message below the code cell at execution."
      ]
    },
    {
      "cell_type": "code",
      "execution_count": 42,
      "metadata": {
        "colab": {
          "base_uri": "https://localhost:8080/"
        },
        "id": "UPMGuepKjpOg",
        "outputId": "d6f25998-a1e3-4856-a300-ee61733bd422"
      },
      "outputs": [
        {
          "name": "stdout",
          "output_type": "stream",
          "text": [
            "positive\n"
          ]
        }
      ],
      "source": [
        "my_variable = 5\n",
        "if my_variable < 0:\n",
        "  print(\"negative\")\n",
        "elif my_variable == 0:\n",
        "  print(\"null\")\n",
        "else: # my_variable > 0\n",
        "  print(\"positive\")"
      ]
    },
    {
      "cell_type": "markdown",
      "metadata": {
        "id": "ZDzE0b3Yj5Jx"
      },
      "source": [
        "Here `<` and `>` are the strict \"less than\" and \"greater than\" operators, while `==` is the equality operator (not to be confused with `=`, the variable assignment operator).\n",
        "\n",
        "The operators `<=` and `>=` can be used for \"less than or equal\" and \"greater than or equal\" comparisons."
      ]
    },
    {
      "cell_type": "markdown",
      "metadata": {
        "id": "cG2TGU9KkzKi"
      },
      "source": [
        "**Nota Bene**: The `print` function used here merely displays the given text in the notebook, below the code cell.\n",
        "This is very different from the `return` statement used to output a value in a function.\n",
        "The value returned by a function can be stored in a variable, passed to another function and so on, whereas the only use of printed text is that you can read it on the screen.\n"
      ]
    },
    {
      "cell_type": "markdown",
      "metadata": {
        "id": "B9bnnHOKkZ7t"
      },
      "source": [
        "**Reminder**: Contrary to other languages, blocks of code are delimited using indentation.\n",
        "Here, we use 2-space indentation but many programmers also use 4-space indentation.\n",
        "Any one is fine as long as you are consistent throughout your code."
      ]
    },
    {
      "cell_type": "markdown",
      "metadata": {
        "id": "mfDYnJVGkhE3"
      },
      "source": [
        "### Loops\n",
        "\n",
        "Loops are a way to execute a block of code multiple times.\n",
        "There are two main types of loops: `for` loops and `while` loops.\n",
        "\n",
        "- `for` loops are simple to use. You will need to use `for` loops in these notebooks, and in your future projects, therefore it is important for you to understand this construct.\n",
        "\n",
        "- `while` loops are more flexible and enable to perform more complex processing, more also more error-prone. You might encounter `while` loops in the future, perhaps even need to write `while` loops yourself, so it is important that you know they exist. No need to panic if you do not get them immediately though !"
      ]
    },
    {
      "cell_type": "markdown",
      "metadata": {
        "id": "ZuU_4z0fkrJn"
      },
      "source": [
        "#### For loops\n",
        "A `for` loop is executed once for each element in a sequence.\n",
        "\n",
        "A `for` loop is very convenient if your goal is simply to **iterate over each element in a list**, one after the other, and do something with it.\n",
        "\n",
        "For instance, if we want to print each element in `my_list`, from the first to the last :"
      ]
    },
    {
      "cell_type": "code",
      "execution_count": 43,
      "metadata": {
        "colab": {
          "base_uri": "https://localhost:8080/"
        },
        "id": "uHHIFvOZk6To",
        "outputId": "d4567f38-c94a-407d-a7cd-0921704b67f9"
      },
      "outputs": [
        {
          "name": "stdout",
          "output_type": "stream",
          "text": [
            "1\n",
            "2\n",
            "3\n",
            "4\n"
          ]
        }
      ],
      "source": [
        "for element in my_list:\n",
        "  print(element)"
      ]
    },
    {
      "cell_type": "markdown",
      "metadata": {
        "id": "TIJ84AT5mbDp"
      },
      "source": [
        "Because a `for` loop can be used to iterate over any list, you can also use it to retrieve elements by their **indices**.\n",
        "For instance, if you want to print the elements at indices 0, 1 and 3 in `my_list`, you can write :"
      ]
    },
    {
      "cell_type": "code",
      "execution_count": 44,
      "metadata": {
        "colab": {
          "base_uri": "https://localhost:8080/"
        },
        "id": "UZrCwuPWkILH",
        "outputId": "e90a5956-6a9a-4bce-b4e0-94c98c332293"
      },
      "outputs": [
        {
          "name": "stdout",
          "output_type": "stream",
          "text": [
            "1\n",
            "2\n",
            "4\n"
          ]
        }
      ],
      "source": [
        "for i in [0, 1, 3]:\n",
        "  print(my_list[i])"
      ]
    },
    {
      "cell_type": "markdown",
      "metadata": {
        "id": "geQmPsIbptVX"
      },
      "source": [
        "**Convention.** It helps to use variable names that clearly convey what is being manipulated. In the above cells, I used two variable names in my `for` loops:\n",
        "\n",
        "* `element` to iterate over the *elements* of a list,\n",
        "* `i` to iterate over the *indices* (positions) in a list.\n",
        "\n",
        "These naming conventions aim at conveying the nature of iteration variable and its intended use.\n",
        "\n",
        "You can use different names in your own loops, though, as long as these names help you (or eventual readers of your code) understand the nature and possible uses of the content of these variables."
      ]
    },
    {
      "cell_type": "markdown",
      "metadata": {
        "id": "4AjfszOzoDnB"
      },
      "source": [
        "What if we want to iterate over a consecutive range of positions, let us say print the first 10 elements of a long list such as this one :"
      ]
    },
    {
      "cell_type": "code",
      "execution_count": 45,
      "metadata": {
        "id": "KhGm3lO5oA30"
      },
      "outputs": [],
      "source": [
        "my_big_list = ['a', 'b', 'c', 'd', 'e', 'f', 'g', 'h', 'i', 'j',\n",
        "               'k', 'l', 'm', 'n', 'o', 'p', 'q', 'r', 's', 't',\n",
        "               'u', 'v', 'w', 'x', 'y', 'z']"
      ]
    },
    {
      "cell_type": "markdown",
      "metadata": {
        "id": "AyHevzT_kInw"
      },
      "source": [
        "The long, tedious version would be :"
      ]
    },
    {
      "cell_type": "code",
      "execution_count": 46,
      "metadata": {
        "colab": {
          "base_uri": "https://localhost:8080/"
        },
        "id": "19iWII4XlC4I",
        "outputId": "a37e1320-0f78-45d9-cf3c-7bf2d4c31ee6"
      },
      "outputs": [
        {
          "name": "stdout",
          "output_type": "stream",
          "text": [
            "a\n",
            "b\n",
            "c\n",
            "d\n",
            "e\n",
            "f\n",
            "g\n",
            "h\n",
            "i\n",
            "j\n"
          ]
        }
      ],
      "source": [
        "for i in [0, 1, 2, 3, 4, 5, 6, 7, 8, 9]:\n",
        "  print(my_big_list[i])"
      ]
    },
    {
      "cell_type": "markdown",
      "metadata": {
        "id": "YeThgLeQk_nz"
      },
      "source": [
        "A more concise way would be to generate the sequence of consecutive numbers from 0 (included) to 10 (excluded), corresponding to the first 10 indices (positions) of the elements in the list, with the [range](https://docs.python.org/3.7/tutorial/controlflow.html#the-range-function) function."
      ]
    },
    {
      "cell_type": "code",
      "execution_count": 47,
      "metadata": {
        "colab": {
          "base_uri": "https://localhost:8080/"
        },
        "id": "oZANmocnly_o",
        "outputId": "800b4473-4031-4d0e-9702-7e163788007d"
      },
      "outputs": [
        {
          "name": "stdout",
          "output_type": "stream",
          "text": [
            "a\n",
            "b\n",
            "c\n",
            "d\n",
            "e\n",
            "f\n",
            "g\n",
            "h\n",
            "i\n",
            "j\n"
          ]
        }
      ],
      "source": [
        "for i in range(0, 10):\n",
        "  print(my_big_list[i])"
      ]
    },
    {
      "cell_type": "markdown",
      "metadata": {
        "id": "sFHnuDxHrBx1"
      },
      "source": [
        "Read the documentation for `range` in the above link if you want to know more about the various ways `range` can be called."
      ]
    },
    {
      "cell_type": "markdown",
      "metadata": {
        "id": "Z6HQg7fSpvyS"
      },
      "source": [
        "### Combining notions (optional)\n",
        "\n",
        "We saw earlier that the `len()` function returns the length of a list, which is an integer :"
      ]
    },
    {
      "cell_type": "code",
      "execution_count": 48,
      "metadata": {
        "colab": {
          "base_uri": "https://localhost:8080/"
        },
        "id": "cgkEC7j6pxyB",
        "outputId": "97018aa5-6cc9-4fa5-f804-e310e2b26879"
      },
      "outputs": [
        {
          "data": {
            "text/plain": [
              "4"
            ]
          },
          "execution_count": 48,
          "metadata": {},
          "output_type": "execute_result"
        }
      ],
      "source": [
        "len(my_list)"
      ]
    },
    {
      "cell_type": "markdown",
      "metadata": {
        "id": "AQgktjh5lzZx"
      },
      "source": [
        "An alternative way to iterate over a list, rather than iterating over elements directly, is to iterate over each position (*index*) `i` in the list from 0 (included) to the length of the list (excluded), retrieve the element at position `i` and print it :"
      ]
    },
    {
      "cell_type": "code",
      "execution_count": 49,
      "metadata": {
        "colab": {
          "base_uri": "https://localhost:8080/"
        },
        "id": "M8doDusPkqHu",
        "outputId": "8ac78335-fa5b-494b-ba54-f499a2eebbef"
      },
      "outputs": [
        {
          "name": "stdout",
          "output_type": "stream",
          "text": [
            "1\n",
            "2\n",
            "3\n",
            "4\n"
          ]
        }
      ],
      "source": [
        "for i in range(len(my_list)):\n",
        "  print(my_list[i])"
      ]
    },
    {
      "cell_type": "markdown",
      "metadata": {
        "id": "MPLAn8AioAeG"
      },
      "source": [
        "**Exercise.** Write two equivalent `for` loops whose effect is to print each element in `my_big_list` using :\n",
        "(a) an iteration over elements,\n",
        "(b) an iteration over indices."
      ]
    },
    {
      "cell_type": "code",
      "execution_count": 50,
      "metadata": {},
      "outputs": [
        {
          "name": "stdout",
          "output_type": "stream",
          "text": [
            "a\n",
            "b\n",
            "c\n",
            "d\n",
            "e\n",
            "f\n",
            "g\n",
            "h\n",
            "i\n",
            "j\n",
            "k\n",
            "l\n",
            "m\n",
            "n\n",
            "o\n",
            "p\n",
            "q\n",
            "r\n",
            "s\n",
            "t\n",
            "u\n",
            "v\n",
            "w\n",
            "x\n",
            "y\n",
            "z\n"
          ]
        }
      ],
      "source": [
        "# (a) iteration over elements\n",
        "for element in my_big_list:\n",
        "    print(element)"
      ]
    },
    {
      "cell_type": "code",
      "execution_count": 51,
      "metadata": {},
      "outputs": [
        {
          "name": "stdout",
          "output_type": "stream",
          "text": [
            "a\n",
            "b\n",
            "c\n",
            "d\n",
            "e\n",
            "f\n",
            "g\n",
            "h\n",
            "i\n",
            "j\n",
            "k\n",
            "l\n",
            "m\n",
            "n\n",
            "o\n",
            "p\n",
            "q\n",
            "r\n",
            "s\n",
            "t\n",
            "u\n",
            "v\n",
            "w\n",
            "x\n",
            "y\n",
            "z\n"
          ]
        }
      ],
      "source": [
        "# (b) iteration over indices\n",
        "for i in range(len(my_big_list)):\n",
        "    print(my_big_list[i])"
      ]
    },
    {
      "cell_type": "markdown",
      "metadata": {
        "id": "A88vtUZiknVp"
      },
      "source": [
        "#### While loops\n",
        "\n",
        "A `while` loop goes on as long as its condition is True."
      ]
    },
    {
      "cell_type": "markdown",
      "metadata": {
        "id": "cf1HqNGArkbf"
      },
      "source": [
        "The condition of a `while` loop can be any expression that can be evaluated to either `True` or `False`.\n",
        "You need to make sure that this expression is initially `True` (otherwise the loop will never be executed), but eventually becomes `False` (otherwise the loop will never stop and it will run forever)."
      ]
    },
    {
      "cell_type": "markdown",
      "metadata": {
        "id": "JBGam_wbsvVJ"
      },
      "source": [
        "We can use a `while` loop to do the same thing we did earlier, that is iterating over each index in a list to retrieve the element at that index and print it.\n",
        "\n",
        "But we need to do more work ourselves :\n",
        "\n",
        "* before the `while` operator, we need to declare the `i` variable ourselves and set it to its initial value (0) ;\n",
        "* at the end of each iteration, we need to increase the value of `i` by 1 so that the next iteration will retrieve the next element."
      ]
    },
    {
      "cell_type": "code",
      "execution_count": 52,
      "metadata": {
        "colab": {
          "base_uri": "https://localhost:8080/"
        },
        "id": "2l-EOFQMj4iY",
        "outputId": "d9027f6d-c64f-4e6f-9966-0d738bab12a4"
      },
      "outputs": [
        {
          "name": "stdout",
          "output_type": "stream",
          "text": [
            "1\n",
            "2\n",
            "3\n",
            "4\n"
          ]
        }
      ],
      "source": [
        "i = 0\n",
        "while i < len(my_list):\n",
        "  print(my_list[i])\n",
        "  i += 1 # equivalent to i = i + 1"
      ]
    },
    {
      "cell_type": "markdown",
      "metadata": {
        "id": "fNVFOwQQtya-"
      },
      "source": [
        "Before the loop, `i` is set to 0.\n",
        "\n",
        "Then as long as `i` is smaller than the length of the list, we print the element at position `i`, then increase `i` by 1.\n",
        "\n",
        "At the next iteration, if `i` is still smaller than the length of the list, the same thing happens, otherwise (if `i` is greater than or equal to the length of the list) the body of the loop is not executed."
      ]
    },
    {
      "cell_type": "markdown",
      "metadata": {
        "id": "zFKBekTEu8I1"
      },
      "source": [
        "### Dictionaries\n",
        "\n",
        "Dictionaries enable to store key - value pairs, or mappings."
      ]
    },
    {
      "cell_type": "markdown",
      "metadata": {
        "id": "QPN70YIMv8W7"
      },
      "source": [
        "For instance, we can map the numbers of the [Departments of France](https://en.wikipedia.org/wiki/Departments_of_France) to their names."
      ]
    },
    {
      "cell_type": "code",
      "execution_count": 53,
      "metadata": {
        "colab": {
          "base_uri": "https://localhost:8080/"
        },
        "id": "hSL6n1QbvXzD",
        "outputId": "6975c847-9b34-44ea-fb5a-a7de61e52a0e"
      },
      "outputs": [
        {
          "data": {
            "text/plain": [
              "{'13': 'Bouches-du-Rhône', '75': 'Paris'}"
            ]
          },
          "execution_count": 53,
          "metadata": {},
          "output_type": "execute_result"
        }
      ],
      "source": [
        "fr_deps = {\n",
        "    '13': 'Bouches-du-Rhône',\n",
        "    '75': 'Paris',\n",
        "}\n",
        "\n",
        "fr_deps"
      ]
    },
    {
      "cell_type": "markdown",
      "metadata": {
        "id": "nKZXb5THw7rg"
      },
      "source": [
        "A dictionary enables you to provide a key, between square brackets, and retrieve the value associated to this key.\n",
        "\n"
      ]
    },
    {
      "cell_type": "code",
      "execution_count": 54,
      "metadata": {
        "colab": {
          "base_uri": "https://localhost:8080/",
          "height": 35
        },
        "id": "PvLT--ePrqxQ",
        "outputId": "1fe02618-17f5-4272-d30c-5b7d9ded39c7"
      },
      "outputs": [
        {
          "data": {
            "text/plain": [
              "'Bouches-du-Rhône'"
            ]
          },
          "execution_count": 54,
          "metadata": {},
          "output_type": "execute_result"
        }
      ],
      "source": [
        "fr_deps['13']"
      ]
    },
    {
      "cell_type": "markdown",
      "metadata": {
        "id": "HYfKdcHbsCgU"
      },
      "source": [
        "If you already have a dictionary, but want to add a new key - value pair, you can use an assignment similar to that for values but with the square brackets notation :"
      ]
    },
    {
      "cell_type": "code",
      "execution_count": 55,
      "metadata": {
        "id": "qjdjlQ7KsMVJ"
      },
      "outputs": [],
      "source": [
        "fr_deps['59'] = 'Nord'"
      ]
    },
    {
      "cell_type": "markdown",
      "metadata": {
        "id": "4Xj95LxnsWKM"
      },
      "source": [
        "If the key does not exist in the dictionary, the key - value pair is added ; If the key already exists in the dictionary, the associated value is replaced with the new one."
      ]
    },
    {
      "cell_type": "markdown",
      "metadata": {
        "id": "GhDdwrDcqBYl"
      },
      "source": [
        "### Exercises"
      ]
    },
    {
      "cell_type": "markdown",
      "metadata": {
        "id": "D8HjzLi_qBR3"
      },
      "source": [
        "**Exercise 1.** Write a function `relu` that, given a number `x`:\n",
        "- if `x` is greater than or equal to 0, returns `x`,\n",
        "- otherwise (ie. if `x` is negative) returns `0`."
      ]
    },
    {
      "cell_type": "markdown",
      "metadata": {
        "id": "W_fuhLq4l681"
      },
      "source": [
        "> **HINT** Use a conditional."
      ]
    },
    {
      "cell_type": "code",
      "execution_count": 56,
      "metadata": {
        "id": "xZBKzxA4nwKS"
      },
      "outputs": [],
      "source": [
        "def relu(x):\n",
        "    if x >= 0:\n",
        "        return x\n",
        "    else:\n",
        "        return 0"
      ]
    },
    {
      "cell_type": "code",
      "execution_count": 57,
      "metadata": {
        "colab": {
          "base_uri": "https://localhost:8080/"
        },
        "id": "TV8MK7asqhi3",
        "outputId": "80e74874-7b89-4c7f-804f-937f04635559"
      },
      "outputs": [
        {
          "data": {
            "text/plain": [
              "0"
            ]
          },
          "execution_count": 57,
          "metadata": {},
          "output_type": "execute_result"
        }
      ],
      "source": [
        "relu(-3)  # should be 0"
      ]
    },
    {
      "cell_type": "code",
      "execution_count": 58,
      "metadata": {
        "colab": {
          "base_uri": "https://localhost:8080/"
        },
        "id": "j6bSCu-Gqlez",
        "outputId": "6210c731-fbee-44f5-d7a9-aea50884799c"
      },
      "outputs": [
        {
          "data": {
            "text/plain": [
              "31"
            ]
          },
          "execution_count": 58,
          "metadata": {},
          "output_type": "execute_result"
        }
      ],
      "source": [
        "relu(31)  # should be 31"
      ]
    },
    {
      "cell_type": "markdown",
      "metadata": {
        "id": "NKvEU9cRlp1B"
      },
      "source": [
        "This function could be used to compute corporate tax in simplistic software, where one assumes the taxable income of a company to be its net profit, unless the company had losses in which case its taxable income amounts to 0."
      ]
    },
    {
      "cell_type": "markdown",
      "metadata": {
        "id": "Qwnv2ZbxohUr"
      },
      "source": [
        "As a matter of fact, this function is widely used to model phenomena in various domains.\n",
        "\n",
        "You might encounter it later in the semester when you use neural networks to uncover biases in AI systems, under the name [Rectifier or Rectified Linear Unit (ReLU) activation function](https://en.wikipedia.org/wiki/Rectifier_(neural_networks)).\n",
        "\n",
        "Formally, it is defined by the following formula:\n",
        "\n",
        "$\\text{relu}(x) = \\left\\{\n",
        "   \\begin{array}{rl}\n",
        "     x, & \\text{if }  x \\ge 0 \\\\\n",
        "     0, & \\text{otherwise }.\n",
        "   \\end{array}\\right.$\n",
        "\n",
        "\n",
        "The notation might scare you at first, but it is a mere notation for the function you just wrote.\n",
        "\n",
        "Congratulations, you wrote one of the basic building blocks of neural networks !"
      ]
    },
    {
      "cell_type": "markdown",
      "metadata": {
        "id": "qvHGJXBxqMiN"
      },
      "source": [
        "**Exercise 2.** Using a foor loop, write a function that computes the [average](https://en.wikipedia.org/wiki/Average) of a list of values."
      ]
    },
    {
      "cell_type": "code",
      "execution_count": 59,
      "metadata": {
        "id": "FmA-xMVBqYip"
      },
      "outputs": [
        {
          "data": {
            "text/plain": [
              "8.8"
            ]
          },
          "execution_count": 59,
          "metadata": {},
          "output_type": "execute_result"
        }
      ],
      "source": [
        "def average(vector):\n",
        "  sum_elts = 0\n",
        "  for element in vector:\n",
        "    sum_elts = sum_elts + element  # or result += element\n",
        "  return sum_elts / len(vector)\n",
        "\n",
        "my_vector = [12, 11, 9, 5, 7]\n",
        "# the result should be 8.8\n",
        "average(my_vector)\n"
      ]
    },
    {
      "cell_type": "markdown",
      "metadata": {
        "id": "gJx6MAkurIW0"
      },
      "source": [
        "**Exercise 3.** Using a for loop and a conditional, write a function that returns the maximum value in a vector."
      ]
    },
    {
      "cell_type": "code",
      "execution_count": 60,
      "metadata": {
        "id": "kB1MZr9HrJ89"
      },
      "outputs": [],
      "source": [
        "def vector_maximum(vector):\n",
        "  max_elts = vector[0]  # initialize the max to the first element\n",
        "  for element in vector[1:]:  # for every other element\n",
        "    if element > max_elts:  # if it is greater than the current max\n",
        "      max_elts = element  # this element becomes the current max\n",
        "  return max_elts  # once we looked at every element, return the current max"
      ]
    },
    {
      "cell_type": "code",
      "execution_count": 61,
      "metadata": {
        "id": "Tjg9aZV9KBBi"
      },
      "outputs": [
        {
          "data": {
            "text/plain": [
              "8"
            ]
          },
          "execution_count": 61,
          "metadata": {},
          "output_type": "execute_result"
        }
      ],
      "source": [
        "# the result should be 8\n",
        "vector_maximum([1, -2, 8, 4, -1])"
      ]
    },
    {
      "cell_type": "markdown",
      "metadata": {
        "id": "IQgSByBCrL_h"
      },
      "source": [
        "**Bonus exercise.** If you still have time, write a function that sorts a list in ascending order (from smaller to bigger) using the [insertion sort](https://en.wikipedia.org/wiki/Insertion_sort) algorithm."
      ]
    },
    {
      "cell_type": "code",
      "execution_count": 62,
      "metadata": {
        "id": "aVz7isuHrUnU"
      },
      "outputs": [
        {
          "data": {
            "text/plain": [
              "[-3, 1, 2, 3]"
            ]
          },
          "execution_count": 62,
          "metadata": {},
          "output_type": "execute_result"
        }
      ],
      "source": [
        "def insertion_sort(my_list):\n",
        "  # strict translation of the pseudocode in the wikipedia page\n",
        "  i = 1\n",
        "  while i < len(my_list):\n",
        "    j = i\n",
        "    while j > 0 and my_list[j-1] > my_list[j]:\n",
        "      # swap my_list[j-1] and my_list[j]\n",
        "      x = my_list[j-1]\n",
        "      my_list[j-1] = my_list[j]\n",
        "      my_list[j] = x\n",
        "      # end of swap\n",
        "      j = j - 1  # or j -= 1\n",
        "    # end of while (inner loop)\n",
        "    i = i + 1  # or i += 1\n",
        "  # end of while (outer loop)\n",
        "  return my_list\n",
        "\n",
        "my_list = [1, -3, 3, 2]\n",
        "# Should return [-3, 1, 2, 3]\n",
        "insertion_sort(my_list)"
      ]
    },
    {
      "cell_type": "markdown",
      "metadata": {
        "id": "-5sIr-LzKV5D"
      },
      "source": [
        "The outer loop goes over all indices from 1 to the length of the list. This is a case where a for loop is more explicit and feels more natural in Python."
      ]
    },
    {
      "cell_type": "code",
      "execution_count": 63,
      "metadata": {
        "id": "YLMYoLLZKZBM"
      },
      "outputs": [
        {
          "data": {
            "text/plain": [
              "[-3, 1, 2, 3]"
            ]
          },
          "execution_count": 63,
          "metadata": {},
          "output_type": "execute_result"
        }
      ],
      "source": [
        "# alternative: more Python-esque version\n",
        "def insertion_sort_alt(my_list):\n",
        "  for i in range(1, len(my_list)):\n",
        "    j = i\n",
        "    while j > 0 and my_list[j-1] > my_list[j]:\n",
        "      # swap my_list[j-1] and my_list[j]\n",
        "      x = my_list[j-1]\n",
        "      my_list[j-1] = my_list[j]\n",
        "      my_list[j] = x\n",
        "      # end of swap\n",
        "      j = j - 1  # or j -= 1\n",
        "    # end of while (inner loop)\n",
        "  # end of for (outer loop)\n",
        "  return my_list\n",
        "\n",
        "my_list = [1, -3, 3, 2]\n",
        "# Should return [-3, 1, 2, 3]\n",
        "insertion_sort_alt(my_list)"
      ]
    },
    {
      "cell_type": "markdown",
      "metadata": {
        "id": "mh3mU_wuKlPj"
      },
      "source": [
        "Insertion sort is a simple sorting algorithm. Other sorting algorithms operate differently, eg. [bubble sort](https://en.wikipedia.org/wiki/Bubble_sort) or [quicksort](https://en.wikipedia.org/wiki/Quicksort). Sorting algorithms arrive at the same result (a sorted list) by following different logics, which will perform differently in the best, average or worst case scenarios."
      ]
    },
    {
      "cell_type": "markdown",
      "metadata": {
        "id": "jKpuLMoGrYBN"
      },
      "source": [
        "### Going further\n",
        "\n",
        "We covered some essential of the Python programming language, but it has many more features.\n",
        "\n",
        "If or when you have time, you can check out these resources :\n",
        "\n",
        "* [Ultimate Python study guide](https://github.com/huangsam/ultimate-python)\n",
        "*   List of Python [tutorials](https://wiki.python.org/moin/BeginnersGuide/Programmers)\n",
        "* Four-hour [course](https://www.youtube.com/watch?v=rfscVS0vtbw) on Youtube (you can skip the parts on PyCharm, files etc. if you only work on Colaboratory)\n",
        "* [Automate the Boring Stuff with Python - Practical Programming for Total Beginners]((https://automatetheboringstuff.com/)) by Al Sweigart is Sylvain's (and many others') favorite. It is \"written for office workers, students, administrators, and anyone who uses a computer to learn how to code small, practical programs to automate tasks on their computer.\"\n",
        "The entire content of the book is available on its website, scroll down to the \"Table of contents\" and you will see links to each chapter.\n"
      ]
    }
  ],
  "metadata": {
    "colab": {
      "include_colab_link": true,
      "name": "1_python.ipynb",
      "provenance": []
    },
    "kernelspec": {
      "display_name": "Python 3",
      "name": "python3"
    },
    "language_info": {
      "codemirror_mode": {
        "name": "ipython",
        "version": 3
      },
      "file_extension": ".py",
      "mimetype": "text/x-python",
      "name": "python",
      "nbconvert_exporter": "python",
      "pygments_lexer": "ipython3",
      "version": "3.10.12"
    }
  },
  "nbformat": 4,
  "nbformat_minor": 0
}
