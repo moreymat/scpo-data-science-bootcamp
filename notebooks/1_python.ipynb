{
  "nbformat": 4,
  "nbformat_minor": 0,
  "metadata": {
    "colab": {
      "name": "1_python.ipynb",
      "provenance": [],
      "collapsed_sections": [],
      "toc_visible": true,
      "include_colab_link": true
    },
    "kernelspec": {
      "name": "python3",
      "display_name": "Python 3"
    },
    "language_info": {
      "name": "python"
    }
  },
  "cells": [
    {
      "cell_type": "markdown",
      "metadata": {
        "id": "view-in-github",
        "colab_type": "text"
      },
      "source": [
        "<a href=\"https://colab.research.google.com/github/datactivist/scpo-data-science-bootcamp/blob/main/1_python.ipynb\" target=\"_parent\"><img src=\"https://colab.research.google.com/assets/colab-badge.svg\" alt=\"Open In Colab\"/></a>"
      ]
    },
    {
      "cell_type": "markdown",
      "metadata": {
        "id": "u955d9VsrkqN"
      },
      "source": [
        "# Python basics\n",
        "\n",
        "Welcome to the \"Data science bootcamp\" in Python.\n",
        "\n",
        "In this notebook, the first in a series, you will see the basics of the Python programming language, a fundamental tool nowadays for data science, artificial intelligence and machine learning.\n",
        "\n",
        "This notebook is mostly (and heavily) derived from the notebook [Python basics](https://colab.research.google.com/github/data-psl/lectures2020/blob/master/notebooks/01_python_basics.ipynb#scrollTo=clWaFCzBMfkv), authored by Mathieu Blondel for the [preparatory week of the transverse program for data sciences at Université PSL (Paris Sciences & Lettres)](https://data-psl.github.io/preparatory-week/)."
      ]
    },
    {
      "cell_type": "markdown",
      "metadata": {
        "id": "KZweIah-s4uE"
      },
      "source": [
        "## Preamble : Colaboratory and notebooks\n",
        "\n",
        "We are working on a platform, [Google Colaboratory](https://colab.research.google.com), that enables users to edit and run [Jupyter notebooks](https://en.wikipedia.org/wiki/Project_Jupyter#Jupyter_Notebook) in the cloud for free, without any installation, and with access to GPUs.\n",
        "\n",
        "For a very short history and description of Colaboratory, see [on wikipedia](https://en.wikipedia.org/wiki/Project_Jupyter#Google_Colaboratory)."
      ]
    },
    {
      "cell_type": "markdown",
      "metadata": {
        "id": "visvlCK3HTVm"
      },
      "source": [
        "### Note on how to change the language on Google Colaboratory\n",
        "\n",
        "Google Colaboratory uses the default language settings from your web browser.\n",
        "If the menus are displayed in a different language, you can switch to English by going to (the (equivalent of) the \"Help\" menu, then clicking on (the translation of) the item \"Display in English\".\n",
        "\n",
        "<center>\n",
        "<img src=\"https://github.com/moreymat/scpo-data-science-bootcamp/raw/main/notebooks/img/colab-lang.png\" width=400>\n",
        "</center>\n",
        "\n",
        "Having the interface in English will ensure you can easily follow the instructions and advice in these notebooks."
      ]
    },
    {
      "cell_type": "markdown",
      "metadata": {
        "id": "o0nZDUm392DP"
      },
      "source": [
        "### Using a notebook\n",
        "\n",
        "All our work will happen inside a *notebook*, an interactive document where you can write a mix of :\n",
        "\n",
        "* text formatted in [Markdown](https://guides.github.com/features/mastering-markdown/) that is rendered, and\n",
        "* code in [Python](https://www.python.org/) that can be executed.\n",
        "\n",
        "More precisely, a notebook consists in a sequence of *cells*, where each cell contains either (Markdown) text or (Python) code.\n",
        "\n",
        "Notebooks are not limited to text and code, they can render math equations, images, plain HTML content and even interactive widgets !\n",
        "But in this series of notebooks, we will mostly write text and code."
      ]
    },
    {
      "cell_type": "markdown",
      "metadata": {
        "id": "jyKFnPoR-FgM"
      },
      "source": [
        "You can double click on any text cell to edit it.\n",
        "\n",
        "By default, Colab shows you the Markdown text on the left and a preview of its rendering on the right that is updated (almost) in real time as you type.\n",
        "\n",
        "When you are done, just press \"Shift+Enter\" and the cell will be rendered.\n"
      ]
    },
    {
      "cell_type": "markdown",
      "metadata": {
        "id": "BjXmnxRt-XWI"
      },
      "source": [
        "### Markdown basics\n",
        "\n",
        "Markdown relies on characters, in particular the star `*` (or multiply).\n",
        "\n",
        "*Text between stars is in italic*, **text between pairs of stars is in bold**. \n",
        "\n",
        "A sequence of lines that start with a star is rendered as a list with bullets :\n",
        "\n",
        "* first item\n",
        "  - subitem for the first item\n",
        "* second item\n",
        "* third item\n",
        "\n",
        "Lines that start with one or more hash `#` are headings :\n",
        "\n",
        "* 1 hash `#` for level-1 headings (document title), \n",
        "* 2 hashes `##` for level-2 headings (section title),\n",
        "* 3 hashes `###` for level-3 headings (subsection title).\n",
        "\n",
        "Links are defined by two elements : the text of the link between square brackets `[` and `]`, and the target of the link between parentheses.\n",
        "As an example, here is a link to the [Sciences-Po website](https://www.sciencespo.fr/en/home)."
      ]
    },
    {
      "cell_type": "markdown",
      "metadata": {
        "id": "uetf_YtbA6uy"
      },
      "source": [
        "If you want to add a text (or code) cell after the cell you are currently editing, you can either :\n",
        "* click on the menu item \"Insert\" > \"Text cell\" (or \"Code cell\"), or\n",
        "* hover your mouse 1-2 mm below the bottom of the cell and click on one of the two buttons \"+ Code\" and \"+ Text\" that appear.\n",
        "\n",
        "<center>\n",
        "<img src=\"https://github.com/moreymat/scpo-data-science-bootcamp/raw/main/notebooks/img/colab-add-cell.png\" width=400>\n",
        "</center>"
      ]
    },
    {
      "cell_type": "markdown",
      "metadata": {
        "id": "tUL379gkD6X0"
      },
      "source": [
        "If you forget the Markdown syntax for the most commonly used elements, the menu bar that appears at the top of a text cell (when you edit it) displays a familiar interface with clickable buttons.\n",
        "\n",
        "<center>\n",
        "<img src=\"https://github.com/moreymat/scpo-data-science-bootcamp/raw/main/notebooks/img/colab-markdown-buttons.png\" width=400>\n",
        "</center>"
      ]
    },
    {
      "cell_type": "markdown",
      "metadata": {
        "id": "FKaXIovZDbXz"
      },
      "source": [
        "A smaller bar appears on the upper right corner of the cell, with \"up\" and \"down\" arrows to move the cell up or down, a button to delete the cell, etc.\n",
        "\n",
        "<center>\n",
        "<img src=\"https://github.com/moreymat/scpo-data-science-bootcamp/raw/main/notebooks/img/colab-cell-upper-right.png\" width=200>\n",
        "</center>"
      ]
    },
    {
      "cell_type": "markdown",
      "metadata": {
        "id": "KwEQaaimBGXE"
      },
      "source": [
        "There are many resources online to learn more about the Markdown syntax, eg. the [Markdown page on Wikipedia](https://en.wikipedia.org/wiki/Markdown) or this [short tutorial by GitHub](https://guides.github.com/features/mastering-markdown/)."
      ]
    },
    {
      "cell_type": "markdown",
      "metadata": {
        "id": "iSTgG9pdBgeG"
      },
      "source": [
        "**Exercise.** Add a text cell below this one, and write a very short text with the following constraints :\n",
        "\n",
        "* the text consists of 3 sections,\n",
        "* each section consists of 2 subsections,\n",
        "* one subsection must contain a bullet list,\n",
        "* another subsection must contain a numbered list,\n",
        "* another subsection must contain a two-level bullet list, where two items have at least 3 sub-items each.\n",
        "\n",
        "Any text will do, so feel free to write nonsensical text if you feel uninspired, or reuse some common placeholder text such as [Lorem ipsum](https://en.wikipedia.org/wiki/Lorem_ipsum)."
      ]
    },
    {
      "cell_type": "markdown",
      "metadata": {
        "id": "dqr83aWBB3tt"
      },
      "source": [
        "### Python in the notebook\n",
        "\n",
        "Notebooks can contain code cells, that you can edit, like you do for text cells, but writing Python syntax instead of Markdown, and execute.\n",
        "\n",
        "A code cell contains one or more Python instructions.\n",
        "\n",
        "For example, here is a code cell that computes the number of seconds in a day (`24 * 60 * 60`), stores the result in a variable (`seconds_in_a_day`) and prints its value:"
      ]
    },
    {
      "cell_type": "code",
      "metadata": {
        "colab": {
          "base_uri": "https://localhost:8080/"
        },
        "id": "1sACWQYXCFrL",
        "outputId": "067f8fb6-2379-4c17-8555-dfe3ce414fde"
      },
      "source": [
        "seconds_in_a_day = 24 * 60 * 60\n",
        "seconds_in_a_day"
      ],
      "execution_count": null,
      "outputs": [
        {
          "output_type": "execute_result",
          "data": {
            "text/plain": [
              "86400"
            ]
          },
          "metadata": {},
          "execution_count": 2
        }
      ]
    },
    {
      "cell_type": "markdown",
      "metadata": {
        "id": "hzsD8dzzGPSa"
      },
      "source": [
        "Click on the \"play\" button on the left of the cell to execute it.\n",
        "You should be able to see the result. \n",
        "\n",
        "Alternatively, you can also execute the cell by pressing \"Ctrl+Enter\" if you are on Windows or Linux, \"Command+Enter\" if you are on a Mac."
      ]
    },
    {
      "cell_type": "markdown",
      "metadata": {
        "id": "E2sNvA4JGng6"
      },
      "source": [
        "Variables that you defined in one cell can later be used in other cells:"
      ]
    },
    {
      "cell_type": "code",
      "metadata": {
        "colab": {
          "base_uri": "https://localhost:8080/"
        },
        "id": "WcaBae83CS9y",
        "outputId": "d904fffb-1121-44d6-d282-fc66cd9b9930"
      },
      "source": [
        "seconds_in_a_week = 7 * seconds_in_a_day\n",
        "seconds_in_a_week"
      ],
      "execution_count": null,
      "outputs": [
        {
          "output_type": "execute_result",
          "data": {
            "text/plain": [
              "604800"
            ]
          },
          "metadata": {},
          "execution_count": 4
        }
      ]
    },
    {
      "cell_type": "markdown",
      "metadata": {
        "id": "83Uox5CeG0n0"
      },
      "source": [
        "Note that the order of execution is important.\n",
        "For instance, had we not run the cell that computes and stores `seconds_in_a_day` beforehand, executing the above cell would have raised an error, as it depends on this variable.\n",
        "\n",
        "To make sure that you run all the cells in the correct order, the easiest option is to click on \"Runtime\" in the top-level menu, then on the \"Run all\" item."
      ]
    },
    {
      "cell_type": "markdown",
      "metadata": {
        "id": "tPJIX0q4HiWW"
      },
      "source": [
        "**Exercise.** Add a Code cell below this cell. In the new cell, compute the number of seconds in a year by reusing the variable `seconds_in_a_day`. Run the new cell."
      ]
    },
    {
      "cell_type": "markdown",
      "metadata": {
        "id": "tuEOpTwoH2r5"
      },
      "source": [
        "## Python\n",
        "\n",
        "Let us start with basic notions of the Python programming language."
      ]
    },
    {
      "cell_type": "markdown",
      "metadata": {
        "id": "dFSTf8AGIYUa"
      },
      "source": [
        "### Numbers and arithmetic operations\n",
        "\n",
        "Python enables to manipulate numeric values of various types :\n",
        "* [integers](https://en.wikipedia.org/wiki/Integer_(computer_science)) (`int`),\n",
        "* [booleans](https://en.wikipedia.org/wiki/Boolean_data_type) (`bool`),\n",
        "* [real numbers](https://en.wikipedia.org/wiki/Floating-point_arithmetic) (`float`),\n",
        "* [complex numbers](https://en.wikipedia.org/wiki/Complex_data_type) (`complex`),\n",
        "\n",
        "On these numeric values, Python supports the usual arithmetic operators :\n",
        "\n",
        "* `+` (addition),\n",
        "* `*` (multiplication),\n",
        "* `/` (division),\n",
        "* `**` (power),\n",
        "* `//` (integer division)."
      ]
    },
    {
      "cell_type": "markdown",
      "metadata": {
        "id": "wtaPH3YwJwa3"
      },
      "source": [
        "In general, you do not need to explicitly state the type of a numeric value because Python guesses from the writing."
      ]
    },
    {
      "cell_type": "code",
      "metadata": {
        "colab": {
          "base_uri": "https://localhost:8080/"
        },
        "id": "QsbUErlAJnxv",
        "outputId": "c9e76847-c198-48c7-f07e-0f97a975e318"
      },
      "source": [
        "# (a line starting with a hash '#' in Python is a comment, it is not interpreted)\n",
        "# let us declare an integer\n",
        "x = 1\n",
        "# and display its value, just by calling its name\n",
        "x"
      ],
      "execution_count": null,
      "outputs": [
        {
          "output_type": "execute_result",
          "data": {
            "text/plain": [
              "1"
            ]
          },
          "metadata": {},
          "execution_count": 2
        }
      ]
    },
    {
      "cell_type": "code",
      "metadata": {
        "colab": {
          "base_uri": "https://localhost:8080/"
        },
        "id": "Wwnd2HI6KSfi",
        "outputId": "98b7ddc3-72ed-4187-d539-4550d64cc44e"
      },
      "source": [
        "# let us declare a float\n",
        "y = 3.2\n",
        "# and display its value\n",
        "y"
      ],
      "execution_count": null,
      "outputs": [
        {
          "output_type": "execute_result",
          "data": {
            "text/plain": [
              "3.2"
            ]
          },
          "metadata": {},
          "execution_count": 7
        }
      ]
    },
    {
      "cell_type": "markdown",
      "metadata": {
        "id": "t47fnAg9KnH_"
      },
      "source": [
        "If you sum an integer and a real number, Python will automatically convert the integer to a float before doing the computation."
      ]
    },
    {
      "cell_type": "code",
      "metadata": {
        "colab": {
          "base_uri": "https://localhost:8080/"
        },
        "id": "NcOFJeqCKWWH",
        "outputId": "e3ea750c-5152-4847-cdf0-ca9cd5e059c6"
      },
      "source": [
        "z = x + y\n",
        "z"
      ],
      "execution_count": null,
      "outputs": [
        {
          "output_type": "execute_result",
          "data": {
            "text/plain": [
              "4.2"
            ]
          },
          "metadata": {},
          "execution_count": 8
        }
      ]
    },
    {
      "cell_type": "markdown",
      "metadata": {
        "id": "5m2CdKl0Kvkr"
      },
      "source": [
        "**Exercise.** Add code cells and try out each of the remaining arithmetic operations, with various values."
      ]
    },
    {
      "cell_type": "markdown",
      "metadata": {
        "id": "zvVem1oNLHo1"
      },
      "source": [
        "Ill-defined operations will raise an error, such as a division by zero."
      ]
    },
    {
      "cell_type": "code",
      "metadata": {
        "colab": {
          "base_uri": "https://localhost:8080/",
          "height": 167
        },
        "id": "YyqkRHGWLP_o",
        "outputId": "7a66c8c4-2327-4dd6-eaf2-590782aed214"
      },
      "source": [
        "wrong_comp = 14 / 0"
      ],
      "execution_count": null,
      "outputs": [
        {
          "output_type": "error",
          "ename": "ZeroDivisionError",
          "evalue": "ignored",
          "traceback": [
            "\u001b[0;31m---------------------------------------------------------------------------\u001b[0m",
            "\u001b[0;31mZeroDivisionError\u001b[0m                         Traceback (most recent call last)",
            "\u001b[0;32m<ipython-input-11-7bfd40e03d1b>\u001b[0m in \u001b[0;36m<module>\u001b[0;34m()\u001b[0m\n\u001b[0;32m----> 1\u001b[0;31m \u001b[0mwrong_comp\u001b[0m \u001b[0;34m=\u001b[0m \u001b[0;36m14\u001b[0m \u001b[0;34m/\u001b[0m \u001b[0;36m0\u001b[0m\u001b[0;34m\u001b[0m\u001b[0;34m\u001b[0m\u001b[0m\n\u001b[0m",
            "\u001b[0;31mZeroDivisionError\u001b[0m: division by zero"
          ]
        }
      ]
    },
    {
      "cell_type": "markdown",
      "metadata": {
        "id": "PTjO9UK5La61"
      },
      "source": [
        "The \"stop signal\" on the left of the cell signals that the execution of this Python block has failed.\n",
        "\n",
        "The error message provides you with (hopefully) useful information to know what went wrong.\n",
        "If you do not know what the error means, or how to fix it, click on the \"Search stack overflow\" button and read from the suggested webpages. "
      ]
    },
    {
      "cell_type": "markdown",
      "metadata": {
        "id": "6bBmtid4nI31"
      },
      "source": [
        "### Functions\n",
        "\n",
        "To improve code readability, it is common to separate the code into different blocks, responsible for performing precise actions: **functions**.\n",
        "\n",
        "A function takes some **inputs** and processes them to return some **outputs**."
      ]
    },
    {
      "cell_type": "markdown",
      "metadata": {
        "id": "sLlmEsjRpkMs"
      },
      "source": [
        "For instance, let us define a function `square` that, for an input `x`, computes and returns as output `x ** 2`."
      ]
    },
    {
      "cell_type": "code",
      "metadata": {
        "id": "SjVa0kKolAa7"
      },
      "source": [
        "def square(x):\n",
        "  return x ** 2"
      ],
      "execution_count": null,
      "outputs": []
    },
    {
      "cell_type": "markdown",
      "metadata": {
        "id": "appD7EkRpvz9"
      },
      "source": [
        "The first line relies on three concepts :\n",
        "\n",
        "* The reserved keyword `def` signals a function definition ;\n",
        "* This function is named `square` ;\n",
        "* It expects one or more arguments listed between parentheses, here a unique argument that we name `x`, we will use this name `x` to refer to the argument value in the body of the function.\n",
        "\n",
        "This first line ends with a colon `:` that separates the signature of the function (function name and list of arguments) from the body of the function (the sequence of instructions that describe the computation that this function does)."
      ]
    },
    {
      "cell_type": "markdown",
      "metadata": {
        "id": "aNpCCUAOuBi5"
      },
      "source": [
        "Syntactically, the body of a function is defined as the sequence of lines that are **indented** at least one level (one <TAB>, or two regular whitespaces) further to the right.\n",
        "Here, the body of the function is a single line `return x ** 2`, but most functions perform more complex operations hence are longer than that."
      ]
    },
    {
      "cell_type": "markdown",
      "metadata": {
        "id": "GFOd4_X6uGrl"
      },
      "source": [
        "The second line uses two concepts :\n",
        "\n",
        "* The reserved keyword `return` signals that what comes next on this line will be the value output by the function ;\n",
        "* The returned (output) value is defined as the result of the arithmetic operation `x ** 2`.\n",
        "\n",
        "Any line in the body after `return` will not be executed, because `return` triggers an output and the exit of the function."
      ]
    },
    {
      "cell_type": "markdown",
      "metadata": {
        "id": "Yzv1JDMl275J"
      },
      "source": [
        "We can apply the `square` function to a number :"
      ]
    },
    {
      "cell_type": "code",
      "metadata": {
        "colab": {
          "base_uri": "https://localhost:8080/"
        },
        "id": "PXwS68kYnWmh",
        "outputId": "2ebaf738-e196-4549-ffa9-4d0a02628fee"
      },
      "source": [
        "square(4)"
      ],
      "execution_count": null,
      "outputs": [
        {
          "output_type": "execute_result",
          "data": {
            "text/plain": [
              "16"
            ]
          },
          "metadata": {},
          "execution_count": 35
        }
      ]
    },
    {
      "cell_type": "markdown",
      "metadata": {
        "id": "X4acFoUl4hyK"
      },
      "source": [
        "Functions can have more than one argument."
      ]
    },
    {
      "cell_type": "code",
      "metadata": {
        "id": "ISFXmuyanYSc",
        "colab": {
          "base_uri": "https://localhost:8080/"
        },
        "outputId": "9a014fe9-a942-4ec3-db17-a8d58cd0e217"
      },
      "source": [
        "def multiply(a, b):\n",
        "  return a * b\n",
        "\n",
        "multiply(3, 5)"
      ],
      "execution_count": null,
      "outputs": [
        {
          "output_type": "execute_result",
          "data": {
            "text/plain": [
              "15"
            ]
          },
          "metadata": {},
          "execution_count": 1
        }
      ]
    },
    {
      "cell_type": "markdown",
      "metadata": {
        "id": "2dOWm92B4qLn"
      },
      "source": [
        "In the cell above :\n",
        "\n",
        "* the function `multiply` is defined that expects two arguments named `a` and `b`, and returns the result of their multiplication ;\n",
        "* after the function is defined, we apply it to the pair of values `3` and `5`.\n",
        "\n",
        "But how does the Python interpreter know that the function body ends after `return a * b`, and does not include `multiply(3, 5)` ?\n",
        "\n",
        "If you edit the cell, remove the empty line and re-run the cell, you will see that the behavior is the same as before.\n",
        "You can try it and see for yourself."
      ]
    },
    {
      "cell_type": "markdown",
      "metadata": {
        "id": "BNktkpvw6PNN"
      },
      "source": [
        "This unchanged behavior with and without the empty line means that the empty line does not mark the end of a function body.\n",
        "\n",
        "Another possibility could be that `multiply(3, 5)` is not indented at the same level as the `return a * b` line, but rather is indented at the same level as the `def` keyword that starts the function definition.\n",
        "\n",
        "Indeed, the uninterrupted sequence of instructions whose start is indented further to the right than the `def` line, makes up the function body.\n",
        "\n",
        "Starting a line at the same indentation level as the `def` line marks the end of the function body.\n"
      ]
    },
    {
      "cell_type": "markdown",
      "metadata": {
        "id": "pMEn-FIQANV3"
      },
      "source": [
        "Functions can be composed : A function can be applied to the output of another function."
      ]
    },
    {
      "cell_type": "code",
      "metadata": {
        "colab": {
          "base_uri": "https://localhost:8080/"
        },
        "id": "9dq2yB0Qnci7",
        "outputId": "c804cbc7-05b5-41e0-bb4b-885892a7be54"
      },
      "source": [
        "# Functions can be composed.\n",
        "square(multiply(3, 2))"
      ],
      "execution_count": null,
      "outputs": [
        {
          "output_type": "execute_result",
          "data": {
            "text/plain": [
              "36"
            ]
          },
          "metadata": {},
          "execution_count": 38
        }
      ]
    },
    {
      "cell_type": "markdown",
      "metadata": {
        "id": "J-0k8SY_nh9V"
      },
      "source": [
        "To improve code readability, it is sometimes useful to explicitly name the arguments."
      ]
    },
    {
      "cell_type": "code",
      "metadata": {
        "colab": {
          "base_uri": "https://localhost:8080/"
        },
        "id": "EhmSN6lFnfGN",
        "outputId": "0ac07800-c872-4332-e2c7-c10ca3c06599"
      },
      "source": [
        "square(multiply(a=3, b=2))"
      ],
      "execution_count": null,
      "outputs": [
        {
          "output_type": "execute_result",
          "data": {
            "text/plain": [
              "36"
            ]
          },
          "metadata": {},
          "execution_count": 39
        }
      ]
    },
    {
      "cell_type": "markdown",
      "metadata": {
        "id": "vE1ZdsmdAa3g"
      },
      "source": [
        "Naming the arguments also provides flexibility, because you can use these names when you call the function and avoid having to remember the order in which the arguments were stated in the function definition."
      ]
    },
    {
      "cell_type": "markdown",
      "metadata": {
        "id": "SpgTIPyPnyuN"
      },
      "source": [
        "**Exercise.** Write a `divide(a, b)` function. Compare the results returned by `divide(15, 3)`, `divide(3, 15)`, `divide(a=15, b=3)`, `divide(b=3, a=15)`."
      ]
    },
    {
      "cell_type": "markdown",
      "metadata": {
        "id": "99u1-NYnMd8L"
      },
      "source": [
        "### Lists\n",
        "\n",
        "A fundamental capacity in programming is to operate not only on simple values, but also on collections of values (or more complex objects).\n",
        "\n",
        "Python provides several data structures to hold such collections, the simplest being the list.\n",
        "\n",
        "Lists are a container type for ordered sequences of elements.\n",
        "\n",
        "Lists can be initialized empty"
      ]
    },
    {
      "cell_type": "code",
      "metadata": {
        "id": "8SYTgs7mLXuy"
      },
      "source": [
        "my_list = []"
      ],
      "execution_count": null,
      "outputs": []
    },
    {
      "cell_type": "markdown",
      "metadata": {
        "id": "twRVfTWHS6CP"
      },
      "source": [
        "or with some initial elements"
      ]
    },
    {
      "cell_type": "code",
      "metadata": {
        "id": "_JvqxBN-S3R5"
      },
      "source": [
        "my_list = [1, 2, 3]"
      ],
      "execution_count": null,
      "outputs": []
    },
    {
      "cell_type": "markdown",
      "metadata": {
        "id": "BPAaRO-QUcgf"
      },
      "source": [
        "Lists have a dynamic size : elements can be added, *appended*, to them (at the end)."
      ]
    },
    {
      "cell_type": "code",
      "metadata": {
        "colab": {
          "base_uri": "https://localhost:8080/"
        },
        "id": "3eU3TGfSUb05",
        "outputId": "84ef28d4-7e83-4d0f-dede-2f3ce577bdb6"
      },
      "source": [
        "my_list.append(4)\n",
        "my_list"
      ],
      "execution_count": null,
      "outputs": [
        {
          "output_type": "execute_result",
          "data": {
            "text/plain": [
              "[1, 2, 3, 4]"
            ]
          },
          "metadata": {},
          "execution_count": 3
        }
      ]
    },
    {
      "cell_type": "markdown",
      "metadata": {
        "id": "7CzTUUu9sBuM"
      },
      "source": [
        "We just used a new syntax here, which is the *dot notation* : on the variable `my_list`, we applied an operation, [append](https://docs.python.org/3/tutorial/datastructures.html#more-on-lists), with the value `4` as its argument.\n",
        "\n",
        "`append` is a *method* of list objects, ie. a function that is attached to every list.\n",
        "\n",
        "Here, calling `.append(4)` on `my_list` had the effect of modifying `my_list` by adding a new element, 4, at its end."
      ]
    },
    {
      "cell_type": "markdown",
      "metadata": {
        "id": "z0kScBreU4aa"
      },
      "source": [
        "We can access individual elements of a list with their position or *index*.\n",
        "Note that in Python, **indexing starts from 0**."
      ]
    },
    {
      "cell_type": "code",
      "metadata": {
        "colab": {
          "base_uri": "https://localhost:8080/"
        },
        "id": "oEBpy0LrUqEE",
        "outputId": "8bee5fbe-4d75-4dfe-eabc-88d8cb1e9bc5"
      },
      "source": [
        "# access element at index 0 (hence the 1st value in the list)\n",
        "my_list[0]"
      ],
      "execution_count": null,
      "outputs": [
        {
          "output_type": "execute_result",
          "data": {
            "text/plain": [
              "1"
            ]
          },
          "metadata": {},
          "execution_count": 20
        }
      ]
    },
    {
      "cell_type": "code",
      "metadata": {
        "colab": {
          "base_uri": "https://localhost:8080/"
        },
        "id": "z8fctlFeU9mC",
        "outputId": "14ac83a4-7fa0-4a6e-d4c7-6600107de43d"
      },
      "source": [
        "# access element at index 3 (hence the 4th value in the list)\n",
        "my_list[3]"
      ],
      "execution_count": null,
      "outputs": [
        {
          "output_type": "execute_result",
          "data": {
            "text/plain": [
              "4"
            ]
          },
          "metadata": {},
          "execution_count": 21
        }
      ]
    },
    {
      "cell_type": "markdown",
      "metadata": {
        "id": "bWrFYoZfiKMx"
      },
      "source": [
        "We can access \"slices\" of a list using `my_list[i:j]` where `i` is the start of the slice (again, indexing starts from 0) and `j` the end of the slice.\n",
        "\n",
        "In the slice notation :\n",
        "\n",
        "* the start index is *included* ;\n",
        "* the end index is *excluded*.\n",
        "\n",
        "For instance, to get elements from position 1 (included) to 3 (excluded), ie. elements at positions 1 and 2 :"
      ]
    },
    {
      "cell_type": "code",
      "metadata": {
        "colab": {
          "base_uri": "https://localhost:8080/"
        },
        "id": "FyL9ddnXVmwQ",
        "outputId": "19000662-20fa-4607-a0ab-ae8af1e7eacc"
      },
      "source": [
        "my_list[1:3]"
      ],
      "execution_count": null,
      "outputs": [
        {
          "output_type": "execute_result",
          "data": {
            "text/plain": [
              "[2, 3]"
            ]
          },
          "metadata": {},
          "execution_count": 22
        }
      ]
    },
    {
      "cell_type": "markdown",
      "metadata": {
        "id": "GnuFUGvWiTkD"
      },
      "source": [
        "Omitting the second index means that the slice shoud run until the end of the list."
      ]
    },
    {
      "cell_type": "code",
      "metadata": {
        "colab": {
          "base_uri": "https://localhost:8080/"
        },
        "id": "CUma2_5oiQvw",
        "outputId": "d18dce19-9104-425e-913e-8b77927dda0e"
      },
      "source": [
        "my_list[1:]"
      ],
      "execution_count": null,
      "outputs": [
        {
          "output_type": "execute_result",
          "data": {
            "text/plain": [
              "[2, 3, 4]"
            ]
          },
          "metadata": {},
          "execution_count": 23
        }
      ]
    },
    {
      "cell_type": "markdown",
      "metadata": {
        "id": "nQgVbCQkiahd"
      },
      "source": [
        "We can check if an element is in the list using (the binary operator) `in`."
      ]
    },
    {
      "cell_type": "code",
      "metadata": {
        "colab": {
          "base_uri": "https://localhost:8080/"
        },
        "id": "LdbdGd1viZ6s",
        "outputId": "94fca1de-3392-4505-a047-5b34dac534bc"
      },
      "source": [
        "5 in my_list"
      ],
      "execution_count": null,
      "outputs": [
        {
          "output_type": "execute_result",
          "data": {
            "text/plain": [
              "False"
            ]
          },
          "metadata": {},
          "execution_count": 24
        }
      ]
    },
    {
      "cell_type": "markdown",
      "metadata": {
        "id": "sCDT-cSEiiPy"
      },
      "source": [
        "The length of a list can be obtained using the `len` function."
      ]
    },
    {
      "cell_type": "code",
      "metadata": {
        "colab": {
          "base_uri": "https://localhost:8080/"
        },
        "id": "TSxlgQGqigEX",
        "outputId": "e91ef96d-5b20-4221-9a3e-4b240705e4cf"
      },
      "source": [
        "len(my_list)"
      ],
      "execution_count": null,
      "outputs": [
        {
          "output_type": "execute_result",
          "data": {
            "text/plain": [
              "4"
            ]
          },
          "metadata": {},
          "execution_count": 25
        }
      ]
    },
    {
      "cell_type": "markdown",
      "metadata": {
        "id": "HCMKpUs-B13k"
      },
      "source": [
        "**Exercise.** Add a Code cell and define a list of strings 'a', 'b', 'c', 'd', 'e'. Select the slice from position 2 (included) to position 5 (excluded). Then select the slice from position 0 (included) to 3 (excluded)."
      ]
    },
    {
      "cell_type": "markdown",
      "metadata": {
        "id": "TRLoF2tciwV9"
      },
      "source": [
        "### Strings\n",
        "\n",
        "Computers can manipulate not only numeric values, but also text values.\n",
        "\n",
        "Text values are stored in *strings*.\n",
        "In Python, strings are enclosed in single quotes `'` or double quotes `\"`."
      ]
    },
    {
      "cell_type": "code",
      "metadata": {
        "id": "UNuzN2Qvik_u"
      },
      "source": [
        "string1 = \"some text\"\n",
        "string2 = 'some other text'"
      ],
      "execution_count": null,
      "outputs": []
    },
    {
      "cell_type": "markdown",
      "metadata": {
        "id": "eifx_jkNjMfp"
      },
      "source": [
        "Strings behave similarly to lists.\n",
        "As such we can access individual elements in exactly the same way, by specifiying their index."
      ]
    },
    {
      "cell_type": "code",
      "metadata": {
        "colab": {
          "base_uri": "https://localhost:8080/",
          "height": 35
        },
        "id": "-jIqZT90jTY0",
        "outputId": "a36cf9a1-e9dc-4b38-af24-725d4174a02a"
      },
      "source": [
        "string1[3]"
      ],
      "execution_count": null,
      "outputs": [
        {
          "output_type": "execute_result",
          "data": {
            "application/vnd.google.colaboratory.intrinsic+json": {
              "type": "string"
            },
            "text/plain": [
              "'e'"
            ]
          },
          "metadata": {},
          "execution_count": 27
        }
      ]
    },
    {
      "cell_type": "markdown",
      "metadata": {
        "id": "cUs486ccjWy9"
      },
      "source": [
        "and similarly, we can take a slice of a string"
      ]
    },
    {
      "cell_type": "code",
      "metadata": {
        "colab": {
          "base_uri": "https://localhost:8080/",
          "height": 35
        },
        "id": "djt8ZWn3jWB-",
        "outputId": "f4f92c76-3807-4665-c8b4-0833900d70c8"
      },
      "source": [
        "string2[5:]"
      ],
      "execution_count": null,
      "outputs": [
        {
          "output_type": "execute_result",
          "data": {
            "application/vnd.google.colaboratory.intrinsic+json": {
              "type": "string"
            },
            "text/plain": [
              "'other text'"
            ]
          },
          "metadata": {},
          "execution_count": 28
        }
      ]
    },
    {
      "cell_type": "markdown",
      "metadata": {
        "id": "J9oznmLjjkg0"
      },
      "source": [
        "String concatenation is performed using the `+` operator."
      ]
    },
    {
      "cell_type": "code",
      "metadata": {
        "colab": {
          "base_uri": "https://localhost:8080/",
          "height": 35
        },
        "id": "FgJ_IcFjjgsv",
        "outputId": "aaf12419-bc2b-4c82-f438-beba23199cc8"
      },
      "source": [
        "string1 + \" \" + string2"
      ],
      "execution_count": null,
      "outputs": [
        {
          "output_type": "execute_result",
          "data": {
            "application/vnd.google.colaboratory.intrinsic+json": {
              "type": "string"
            },
            "text/plain": [
              "'some text some other text'"
            ]
          },
          "metadata": {},
          "execution_count": 29
        }
      ]
    },
    {
      "cell_type": "markdown",
      "metadata": {
        "id": "W8MovOopjpzX"
      },
      "source": [
        "### Conditionals\n",
        "\n",
        "As their name indicates, conditionals are a way to execute code depending on whether a condition is `True` or `False`.\n",
        "\n",
        "As in other languages, Python supports `if` and `else` but `else if` is contracted into `elif`, as the example below demonstrates.\n",
        "\n",
        "We will use the `print()` function to print a message below the code cell at execution."
      ]
    },
    {
      "cell_type": "code",
      "metadata": {
        "colab": {
          "base_uri": "https://localhost:8080/"
        },
        "id": "UPMGuepKjpOg",
        "outputId": "d6f25998-a1e3-4856-a300-ee61733bd422"
      },
      "source": [
        "my_variable = 5\n",
        "if my_variable < 0:\n",
        "  print(\"negative\")\n",
        "elif my_variable == 0:\n",
        "  print(\"null\")\n",
        "else: # my_variable > 0\n",
        "  print(\"positive\")"
      ],
      "execution_count": null,
      "outputs": [
        {
          "output_type": "stream",
          "text": [
            "positive\n"
          ],
          "name": "stdout"
        }
      ]
    },
    {
      "cell_type": "markdown",
      "metadata": {
        "id": "ZDzE0b3Yj5Jx"
      },
      "source": [
        "Here `<` and `>` are the strict \"less than\" and \"greater than\" operators, while `==` is the equality operator (not to be confused with `=`, the variable assignment operator).\n",
        "\n",
        "The operators `<=` and `>=` can be used for \"less than or equal\" and \"greater than or equal\" comparisons."
      ]
    },
    {
      "cell_type": "markdown",
      "metadata": {
        "id": "B9bnnHOKkZ7t"
      },
      "source": [
        "Contrary to other languages, blocks of code are delimited using indentation.\n",
        "\n",
        "Here, we use 2-space indentation but many programmers also use 4-space indentation.\n",
        "Any one is fine as long as you are consistent throughout your code."
      ]
    },
    {
      "cell_type": "markdown",
      "metadata": {
        "id": "mfDYnJVGkhE3"
      },
      "source": [
        "### Loops\n",
        "\n",
        "Loops are a way to execute a block of code multiple times.\n",
        "There are two main types of loops: `for` loops and `while` loops."
      ]
    },
    {
      "cell_type": "markdown",
      "metadata": {
        "id": "ZuU_4z0fkrJn"
      },
      "source": [
        "#### For loops\n",
        "A `for` loop is executed once for each element in a sequence.\n",
        "\n",
        "A `for` loop is very convenient if your goal is simply to **iterate over each element in a list**, one after the other, and do something with it.\n",
        "\n",
        "For instance, if we want to print each element in `my_list`, from the first to the last :"
      ]
    },
    {
      "cell_type": "code",
      "metadata": {
        "colab": {
          "base_uri": "https://localhost:8080/"
        },
        "id": "uHHIFvOZk6To",
        "outputId": "d4567f38-c94a-407d-a7cd-0921704b67f9"
      },
      "source": [
        "for element in my_list:\n",
        "  print(element)"
      ],
      "execution_count": null,
      "outputs": [
        {
          "output_type": "stream",
          "name": "stdout",
          "text": [
            "1\n",
            "2\n",
            "3\n",
            "4\n"
          ]
        }
      ]
    },
    {
      "cell_type": "markdown",
      "metadata": {
        "id": "TIJ84AT5mbDp"
      },
      "source": [
        "Because a `for` loop can be used to iterate over any list, you can also use it to retrieve elements by their **indices**.\n",
        "For instance, if you want to print the elements at indices 0, 1 and 3 in `my_list`, you can write :"
      ]
    },
    {
      "cell_type": "code",
      "metadata": {
        "colab": {
          "base_uri": "https://localhost:8080/"
        },
        "id": "UZrCwuPWkILH",
        "outputId": "e90a5956-6a9a-4bce-b4e0-94c98c332293"
      },
      "source": [
        "for i in [0, 1, 3]:\n",
        "  print(my_list[i])"
      ],
      "execution_count": null,
      "outputs": [
        {
          "output_type": "stream",
          "name": "stdout",
          "text": [
            "1\n",
            "2\n",
            "4\n"
          ]
        }
      ]
    },
    {
      "cell_type": "markdown",
      "metadata": {
        "id": "geQmPsIbptVX"
      },
      "source": [
        "**Convention.** It helps to use variable names that clearly convey what is being manipulated. In the above cells, I used two variable names in my `for` loops:\n",
        "\n",
        "* `element` to iterate over the *elements* of a list,\n",
        "* `i` to iterate over the *indices* (positions) in a list.\n",
        "\n",
        "You can use different names in your own loops, but these names clearly indicate the possible uses of the iteration variable."
      ]
    },
    {
      "cell_type": "markdown",
      "metadata": {
        "id": "4AjfszOzoDnB"
      },
      "source": [
        "What if we want to iterate over a consecutive range of positions, let us say print the first 10 elements of a long list such as this one :"
      ]
    },
    {
      "cell_type": "code",
      "metadata": {
        "id": "KhGm3lO5oA30"
      },
      "source": [
        "my_big_list = ['a', 'b', 'c', 'd', 'e', 'f', 'g', 'h', 'i', 'j',\n",
        "               'k', 'l', 'm', 'n', 'o', 'p', 'q', 'r', 's', 't',\n",
        "               'u', 'v', 'w', 'x', 'y', 'z']"
      ],
      "execution_count": null,
      "outputs": []
    },
    {
      "cell_type": "markdown",
      "metadata": {
        "id": "AyHevzT_kInw"
      },
      "source": [
        "The long, tedious version would be : "
      ]
    },
    {
      "cell_type": "code",
      "metadata": {
        "colab": {
          "base_uri": "https://localhost:8080/"
        },
        "id": "19iWII4XlC4I",
        "outputId": "a37e1320-0f78-45d9-cf3c-7bf2d4c31ee6"
      },
      "source": [
        "for i in [0, 1, 2, 3, 4, 5, 6, 7, 8, 9]:\n",
        "  print(my_big_list[i])"
      ],
      "execution_count": null,
      "outputs": [
        {
          "output_type": "stream",
          "name": "stdout",
          "text": [
            "a\n",
            "b\n",
            "c\n",
            "d\n",
            "e\n",
            "f\n",
            "g\n",
            "h\n",
            "i\n",
            "j\n"
          ]
        }
      ]
    },
    {
      "cell_type": "markdown",
      "metadata": {
        "id": "YeThgLeQk_nz"
      },
      "source": [
        "A more concise way would be to generate the sequence of consecutive numbers from 0 (included) to 10 (excluded), corresponding to the first 10 indices (positions) of the elements in the list, with the [range](https://docs.python.org/3.7/tutorial/controlflow.html#the-range-function) function."
      ]
    },
    {
      "cell_type": "code",
      "metadata": {
        "colab": {
          "base_uri": "https://localhost:8080/"
        },
        "id": "oZANmocnly_o",
        "outputId": "800b4473-4031-4d0e-9702-7e163788007d"
      },
      "source": [
        "for i in range(0, 10):\n",
        "  print(my_big_list[i])"
      ],
      "execution_count": null,
      "outputs": [
        {
          "output_type": "stream",
          "name": "stdout",
          "text": [
            "a\n",
            "b\n",
            "c\n",
            "d\n",
            "e\n",
            "f\n",
            "g\n",
            "h\n",
            "i\n",
            "j\n"
          ]
        }
      ]
    },
    {
      "cell_type": "markdown",
      "metadata": {
        "id": "sFHnuDxHrBx1"
      },
      "source": [
        "Read the documentation for `range` in the above link if you want to know more about the various ways `range` can be called."
      ]
    },
    {
      "cell_type": "markdown",
      "metadata": {
        "id": "Z6HQg7fSpvyS"
      },
      "source": [
        "### Combining notions (optional)\n",
        "\n",
        "We saw earlier that the `len()` function returns the length of a list, which is an integer :"
      ]
    },
    {
      "cell_type": "code",
      "metadata": {
        "colab": {
          "base_uri": "https://localhost:8080/"
        },
        "id": "cgkEC7j6pxyB",
        "outputId": "97018aa5-6cc9-4fa5-f804-e310e2b26879"
      },
      "source": [
        "len(my_list)"
      ],
      "execution_count": null,
      "outputs": [
        {
          "output_type": "execute_result",
          "data": {
            "text/plain": [
              "4"
            ]
          },
          "metadata": {},
          "execution_count": 4
        }
      ]
    },
    {
      "cell_type": "markdown",
      "metadata": {
        "id": "AQgktjh5lzZx"
      },
      "source": [
        "An alternative way to iterate over a list, rather than iterating over elements directly, is to iterate over each position (*index*) `i` in the list from 0 (included) to the length of the list (excluded), retrieve the element at position `i` and print it :"
      ]
    },
    {
      "cell_type": "code",
      "metadata": {
        "colab": {
          "base_uri": "https://localhost:8080/"
        },
        "id": "M8doDusPkqHu",
        "outputId": "8ac78335-fa5b-494b-ba54-f499a2eebbef"
      },
      "source": [
        "for i in range(len(my_list)):\n",
        "  print(my_list[i])"
      ],
      "execution_count": null,
      "outputs": [
        {
          "output_type": "stream",
          "text": [
            "1\n",
            "2\n",
            "3\n",
            "4\n"
          ],
          "name": "stdout"
        }
      ]
    },
    {
      "cell_type": "markdown",
      "metadata": {
        "id": "MPLAn8AioAeG"
      },
      "source": [
        "**Exercise.** Write two equivalent `for` loops whose effect is to print each element in `my_big_list` using :\n",
        "(a) an iteration over elements,\n",
        "(b) an iteration over indices. "
      ]
    },
    {
      "cell_type": "markdown",
      "metadata": {
        "id": "A88vtUZiknVp"
      },
      "source": [
        "#### While loops\n",
        "\n",
        "A `while` loop goes on as long as its condition is True."
      ]
    },
    {
      "cell_type": "markdown",
      "metadata": {
        "id": "cf1HqNGArkbf"
      },
      "source": [
        "The condition of a `while` loop can be any expression that is either True or False.\n",
        "You need to make sure that this expression is initially True (otherwise the loop will never be executed), but eventually becomes False (otherwise the loop will never stop and it will run forever)."
      ]
    },
    {
      "cell_type": "markdown",
      "metadata": {
        "id": "JBGam_wbsvVJ"
      },
      "source": [
        "We can use a `while` loop to do the same thing we did earlier, that is iterating over each index in a list to retrieve the element at that index and print it.\n",
        "\n",
        "But we need to do more work ourselves :\n",
        "\n",
        "* before the `while` operator, we need to declare the `i` variable ourselves and set it to its initial value (0) ;\n",
        "* at the end of each iteration, we need to increase the value of `i` by 1 so that the next iteration will retrieve the next element."
      ]
    },
    {
      "cell_type": "code",
      "metadata": {
        "colab": {
          "base_uri": "https://localhost:8080/"
        },
        "id": "2l-EOFQMj4iY",
        "outputId": "d9027f6d-c64f-4e6f-9966-0d738bab12a4"
      },
      "source": [
        "i = 0\n",
        "while i < len(my_list):\n",
        "  print(my_list[i])\n",
        "  i += 1 # equivalent to i = i + 1"
      ],
      "execution_count": null,
      "outputs": [
        {
          "output_type": "stream",
          "text": [
            "1\n",
            "2\n",
            "3\n",
            "4\n"
          ],
          "name": "stdout"
        }
      ]
    },
    {
      "cell_type": "markdown",
      "metadata": {
        "id": "fNVFOwQQtya-"
      },
      "source": [
        "Before the loop, `i` is set to 0.\n",
        "\n",
        "Then as long as `i` is smaller than the length of the list, we print the element at position `i`, then increase `i` by 1.\n",
        "\n",
        "At the next iteration, if `i` is still smaller than the length of the list, the same thing happens, otherwise (if `i` is greater than or equal to the length of the list) the body of the loop is not executed."
      ]
    },
    {
      "cell_type": "markdown",
      "metadata": {
        "id": "zFKBekTEu8I1"
      },
      "source": [
        "### Dictionaries\n",
        "\n",
        "Dictionaries enable to store key - value pairs, or mappings."
      ]
    },
    {
      "cell_type": "markdown",
      "metadata": {
        "id": "QPN70YIMv8W7"
      },
      "source": [
        "For instance, we can map the numbers of the [Departments of France](https://en.wikipedia.org/wiki/Departments_of_France) to their names."
      ]
    },
    {
      "cell_type": "code",
      "metadata": {
        "colab": {
          "base_uri": "https://localhost:8080/"
        },
        "id": "hSL6n1QbvXzD",
        "outputId": "6975c847-9b34-44ea-fb5a-a7de61e52a0e"
      },
      "source": [
        "fr_deps = {\n",
        "    '13': 'Bouches-du-Rhône',\n",
        "    '75': 'Paris',\n",
        "}\n",
        "\n",
        "fr_deps"
      ],
      "execution_count": null,
      "outputs": [
        {
          "output_type": "execute_result",
          "data": {
            "text/plain": [
              "{'13': 'Bouches-du-Rhône', '75': 'Paris'}"
            ]
          },
          "metadata": {},
          "execution_count": 5
        }
      ]
    },
    {
      "cell_type": "markdown",
      "metadata": {
        "id": "nKZXb5THw7rg"
      },
      "source": [
        "A dictionary enables you to provide a key, between square brackets, and retrieve the value associated to this key.\n",
        "\n"
      ]
    },
    {
      "cell_type": "code",
      "metadata": {
        "colab": {
          "base_uri": "https://localhost:8080/",
          "height": 35
        },
        "id": "PvLT--ePrqxQ",
        "outputId": "1fe02618-17f5-4272-d30c-5b7d9ded39c7"
      },
      "source": [
        "fr_deps['13']"
      ],
      "execution_count": null,
      "outputs": [
        {
          "output_type": "execute_result",
          "data": {
            "application/vnd.google.colaboratory.intrinsic+json": {
              "type": "string"
            },
            "text/plain": [
              "'Bouches-du-Rhône'"
            ]
          },
          "metadata": {},
          "execution_count": 6
        }
      ]
    },
    {
      "cell_type": "markdown",
      "metadata": {
        "id": "HYfKdcHbsCgU"
      },
      "source": [
        "If you already have a dictionary, but want to add a new key - value pair, you can use an assignment similar to that for values but with the square brackets notation :"
      ]
    },
    {
      "cell_type": "code",
      "metadata": {
        "id": "qjdjlQ7KsMVJ"
      },
      "source": [
        "fr_deps['59'] = 'Nord'"
      ],
      "execution_count": null,
      "outputs": []
    },
    {
      "cell_type": "markdown",
      "metadata": {
        "id": "4Xj95LxnsWKM"
      },
      "source": [
        "If the key does not exist in the dictionary, the key - value pair is added ; If the key already exists in the dictionary, the associated value is replaced with the new one."
      ]
    },
    {
      "cell_type": "markdown",
      "metadata": {
        "id": "GhDdwrDcqBYl"
      },
      "source": [
        "### Exercises"
      ]
    },
    {
      "cell_type": "markdown",
      "metadata": {
        "id": "D8HjzLi_qBR3"
      },
      "source": [
        "**Exercise 1.** Write a function that, given a number `x`:\n",
        "- if `x` is greater than or equal to 0, returns `x`,\n",
        "- otherwise (ie. if `x` is negative) returns `0`."
      ]
    },
    {
      "cell_type": "markdown",
      "source": [
        "> **HINT** Use a conditional."
      ],
      "metadata": {
        "id": "W_fuhLq4l681"
      }
    },
    {
      "cell_type": "code",
      "metadata": {
        "id": "xZBKzxA4nwKS"
      },
      "source": [
        ""
      ],
      "execution_count": 4,
      "outputs": []
    },
    {
      "cell_type": "code",
      "source": [
        "relu(-3)  # should be 0"
      ],
      "metadata": {
        "colab": {
          "base_uri": "https://localhost:8080/"
        },
        "id": "TV8MK7asqhi3",
        "outputId": "80e74874-7b89-4c7f-804f-937f04635559"
      },
      "execution_count": 3,
      "outputs": [
        {
          "output_type": "execute_result",
          "data": {
            "text/plain": [
              "0"
            ]
          },
          "metadata": {},
          "execution_count": 3
        }
      ]
    },
    {
      "cell_type": "code",
      "source": [
        "relu(31)  # should be 31"
      ],
      "metadata": {
        "colab": {
          "base_uri": "https://localhost:8080/"
        },
        "id": "j6bSCu-Gqlez",
        "outputId": "6210c731-fbee-44f5-d7a9-aea50884799c"
      },
      "execution_count": 4,
      "outputs": [
        {
          "output_type": "execute_result",
          "data": {
            "text/plain": [
              "31"
            ]
          },
          "metadata": {},
          "execution_count": 4
        }
      ]
    },
    {
      "cell_type": "markdown",
      "source": [
        "This function could be used in a simplistic software to compute corporate tax: The taxable income of a company is its net profit, unless the company had losses in which case its taxable income amounts to 0."
      ],
      "metadata": {
        "id": "NKvEU9cRlp1B"
      }
    },
    {
      "cell_type": "markdown",
      "source": [
        "This function is widely used to model phenomena in various domains.\n",
        "You might encounter it later in the semester when you use neural networks to uncover biases in AI systems, under the name [Rectifier or Rectified Linear Unit (ReLU) activation function](https://en.wikipedia.org/wiki/Rectifier_(neural_networks)).\n",
        "\n",
        "Formally, it is defined by the following formula:\n",
        "\n",
        "$\\text{relu}(x) = \\left\\{\n",
        "   \\begin{array}{rl}\n",
        "     x, & \\text{if }  x \\ge 0 \\\\\n",
        "     0, & \\text{otherwise }.\n",
        "   \\end{array}\\right.$\n",
        "\n",
        "\n",
        "The notation might scare you at first, but you just programmed it yourself.\n",
        "\n",
        "Congratulations, you wrote a basic building block of neural networks !"
      ],
      "metadata": {
        "id": "Qwnv2ZbxohUr"
      }
    },
    {
      "cell_type": "markdown",
      "metadata": {
        "id": "qvHGJXBxqMiN"
      },
      "source": [
        "**Exercise 2.** Using a foor loop, write a function that computes the [average](https://en.wikipedia.org/wiki/Average) of a list of values."
      ]
    },
    {
      "cell_type": "code",
      "metadata": {
        "id": "FmA-xMVBqYip"
      },
      "source": [
        "def average(vector):\n",
        "  # write your function here\n",
        "  return\n",
        "\n",
        "my_vector = [12, 11, 9, 5, 7]\n",
        "# the result should be 8.8\n",
        "average(my_vector)\n"
      ],
      "execution_count": null,
      "outputs": []
    },
    {
      "cell_type": "markdown",
      "metadata": {
        "id": "gJx6MAkurIW0"
      },
      "source": [
        "**Exercise 3.** Using a for loop and a conditional, write a function that returns the maximum value in a vector."
      ]
    },
    {
      "cell_type": "code",
      "metadata": {
        "id": "kB1MZr9HrJ89"
      },
      "source": [
        "def vector_maximum(vector):\n",
        "  # Write your function here\n",
        "  return"
      ],
      "execution_count": null,
      "outputs": []
    },
    {
      "cell_type": "markdown",
      "metadata": {
        "id": "IQgSByBCrL_h"
      },
      "source": [
        "**Bonus exercise.** If you still have time, write a function that sorts a list in ascending order (from smaller to bigger) using the [bubble sort](https://en.wikipedia.org/wiki/Bubble_sort) algorithm."
      ]
    },
    {
      "cell_type": "code",
      "metadata": {
        "id": "aVz7isuHrUnU"
      },
      "source": [
        "def bubble_sort(my_list):\n",
        "  # Write your function here\n",
        "  return\n",
        "\n",
        "my_list = [1, -3, 3, 2]\n",
        "# Should return [-3, 1, 2, 3]\n",
        "bubble_sort(my_list)"
      ],
      "execution_count": null,
      "outputs": []
    },
    {
      "cell_type": "markdown",
      "metadata": {
        "id": "jKpuLMoGrYBN"
      },
      "source": [
        "### Going further\n",
        "\n",
        "We covered some essential of the Python programming language, but it has many more features.\n",
        "\n",
        "If or when you have time, you can check out these resources :\n",
        "\n",
        "* [Ultimate Python study guide](https://github.com/huangsam/ultimate-python)\n",
        "*   List of Python [tutorials](https://wiki.python.org/moin/BeginnersGuide/Programmers)\n",
        "* Four-hour [course](https://www.youtube.com/watch?v=rfscVS0vtbw) on Youtube (you can skip the parts on PyCharm, files etc. if you only work on Colaboratory)\n",
        "* [Automate the Boring Stuff with Python - Practical Programming for Total Beginners]((https://automatetheboringstuff.com/)) by Al Sweigart is Sylvain's (and many others') favorite. It is \"written for office workers, students, administrators, and anyone who uses a computer to learn how to code small, practical programs to automate tasks on their computer.\"\n",
        "The entire content of the book is available on its website, scroll down to the \"Table of contents\" and you will see links to each chapter.\n"
      ]
    },
    {
      "cell_type": "markdown",
      "metadata": {
        "id": "VrNzQLz6uuOH"
      },
      "source": [
        "## NumPy\n",
        "\n",
        "Computers are designed so that it is more efficient to apply an operation on an array of numbers at once, in bulk, rather than on each number in turn.\n",
        "Pure Python code, using only the Python standard library, do not enable you to do that.\n",
        "\n",
        "### Gaining functionalities with libraries\n",
        "\n",
        "This can be remedied by using an additional [software library](https://en.wikipedia.org/wiki/Library_(computing)), which is, roughly speaking, a collection of code that provides functionalities to perform operations on a given task or domain.\n",
        "You might have heard, or will hear about, libraries dedicated to machine learning such as [scikit-learn](https://en.wikipedia.org/wiki/Scikit-learn) or Google's [TensorFlow](https://en.wikipedia.org/wiki/TensorFlow) to build neural networks.\n",
        "\n",
        "The most widely used library in Python to store arrays of numbers and perform computations on them work is [NumPy](https://en.wikipedia.org/wiki/NumPy).\n",
        "NumPy is a library for scientific computing, providing optimized data structures and operations, mathematical functions, linear algebra routines, etc\n",
        "\n",
        "NumPy's optimized implementation in [C](https://en.wikipedia.org/wiki/C_(programming_language) enables you to benefit from this, which means your operations on numbers can run faster than in pure Python.\n"
      ]
    },
    {
      "cell_type": "markdown",
      "metadata": {
        "id": "91cGeX1HxMfR"
      },
      "source": [
        "To use NumPy in your notebook or program, you need to import it as follows"
      ]
    },
    {
      "cell_type": "code",
      "metadata": {
        "id": "aea6xP-8uto2"
      },
      "source": [
        "import numpy as np"
      ],
      "execution_count": null,
      "outputs": []
    },
    {
      "cell_type": "markdown",
      "metadata": {
        "id": "y4Uor0nixsBf"
      },
      "source": [
        "Here we imported the NumPy library, and gave it a shorter name `np` that we can use whenever we need to use one of its functionalities."
      ]
    },
    {
      "cell_type": "markdown",
      "metadata": {
        "id": "lhvWVP2QxgN7"
      },
      "source": [
        "### Array creation\n",
        "\n",
        "NumPy arrays can be created from Python lists"
      ]
    },
    {
      "cell_type": "code",
      "metadata": {
        "colab": {
          "base_uri": "https://localhost:8080/"
        },
        "id": "FkUYc4wzukrD",
        "outputId": "2789451f-7bfd-4c1f-c33f-d0e4d68b6ae6"
      },
      "source": [
        "my_array = np.array([1, 2, 3])\n",
        "my_array"
      ],
      "execution_count": null,
      "outputs": [
        {
          "output_type": "execute_result",
          "data": {
            "text/plain": [
              "array([1, 2, 3])"
            ]
          },
          "metadata": {},
          "execution_count": 43
        }
      ]
    },
    {
      "cell_type": "markdown",
      "metadata": {
        "id": "Z6nmVajfyH6F"
      },
      "source": [
        "NumPy supports arrays of arbitrary dimension. \n",
        "\n",
        "For example, we can create two-dimensional arrays (e.g. to store a matrix) as follows"
      ]
    },
    {
      "cell_type": "code",
      "metadata": {
        "colab": {
          "base_uri": "https://localhost:8080/"
        },
        "id": "qPGf92OIyFJj",
        "outputId": "b08f5d80-c113-46fd-8781-e7aeb168230e"
      },
      "source": [
        "my_2d_array = np.array([[1, 2, 3], [4, 5, 6]])\n",
        "my_2d_array"
      ],
      "execution_count": null,
      "outputs": [
        {
          "output_type": "execute_result",
          "data": {
            "text/plain": [
              "array([[1, 2, 3],\n",
              "       [4, 5, 6]])"
            ]
          },
          "metadata": {},
          "execution_count": 44
        }
      ]
    },
    {
      "cell_type": "markdown",
      "metadata": {
        "id": "Xm0gGU9UyPVu"
      },
      "source": [
        "We can access individual elements of a 2d-array using two indices"
      ]
    },
    {
      "cell_type": "code",
      "metadata": {
        "colab": {
          "base_uri": "https://localhost:8080/"
        },
        "id": "EulNdYkYyNsD",
        "outputId": "a018799a-37c8-4df8-91d2-77eac87c1166"
      },
      "source": [
        "my_2d_array[1, 2]"
      ],
      "execution_count": null,
      "outputs": [
        {
          "output_type": "execute_result",
          "data": {
            "text/plain": [
              "6"
            ]
          },
          "metadata": {},
          "execution_count": 45
        }
      ]
    },
    {
      "cell_type": "markdown",
      "metadata": {
        "id": "ZFjxGGt7yU13"
      },
      "source": [
        "We can also access rows"
      ]
    },
    {
      "cell_type": "code",
      "metadata": {
        "colab": {
          "base_uri": "https://localhost:8080/"
        },
        "id": "QRV0ETa2ySKL",
        "outputId": "12e59aa6-f8df-4b6c-c7a0-18597609cecc"
      },
      "source": [
        "my_2d_array[1]"
      ],
      "execution_count": null,
      "outputs": [
        {
          "output_type": "execute_result",
          "data": {
            "text/plain": [
              "array([4, 5, 6])"
            ]
          },
          "metadata": {},
          "execution_count": 46
        }
      ]
    },
    {
      "cell_type": "markdown",
      "metadata": {
        "id": "vcRP-TlryZq9"
      },
      "source": [
        "and columns"
      ]
    },
    {
      "cell_type": "code",
      "metadata": {
        "colab": {
          "base_uri": "https://localhost:8080/"
        },
        "id": "curWVP-OyWgN",
        "outputId": "a4db31ff-c320-4964-f19a-89d35f40f222"
      },
      "source": [
        "my_2d_array[:, 2]"
      ],
      "execution_count": null,
      "outputs": [
        {
          "output_type": "execute_result",
          "data": {
            "text/plain": [
              "array([3, 6])"
            ]
          },
          "metadata": {},
          "execution_count": 47
        }
      ]
    },
    {
      "cell_type": "markdown",
      "metadata": {
        "id": "5jS7CCgYyeqm"
      },
      "source": [
        "NumPy arrays have a `shape` attribute.\n",
        "\n",
        "An *attribute* is a variable that is attached to an object, the same way a method is attached to an object (cf. `list.append` earlier)."
      ]
    },
    {
      "cell_type": "code",
      "metadata": {
        "colab": {
          "base_uri": "https://localhost:8080/"
        },
        "id": "p_vY-QiCybfe",
        "outputId": "e743459d-311a-4ead-c616-4d7cb65f8741"
      },
      "source": [
        "print(my_array.shape)\n",
        "print(my_2d_array.shape)"
      ],
      "execution_count": null,
      "outputs": [
        {
          "output_type": "stream",
          "text": [
            "(3,)\n",
            "(2, 3)\n"
          ],
          "name": "stdout"
        }
      ]
    },
    {
      "cell_type": "markdown",
      "metadata": {
        "id": "ffzISXFNyi7W"
      },
      "source": [
        "Contrary to Python lists, NumPy arrays must have a type and all elements of the array must have the same type.\n",
        "Here, `dtype` is another attribute of the array."
      ]
    },
    {
      "cell_type": "code",
      "metadata": {
        "colab": {
          "base_uri": "https://localhost:8080/"
        },
        "id": "vna8w5XFygQW",
        "outputId": "55829017-c388-44a2-8a17-1b5fa32b4338"
      },
      "source": [
        "my_array.dtype"
      ],
      "execution_count": null,
      "outputs": [
        {
          "output_type": "execute_result",
          "data": {
            "text/plain": [
              "dtype('int64')"
            ]
          },
          "metadata": {},
          "execution_count": 49
        }
      ]
    },
    {
      "cell_type": "markdown",
      "metadata": {
        "id": "wUuwE5riyo21"
      },
      "source": [
        "The main types are `int32` (32-bit integers), `int64` (64-bit integers), `float32` (32-bit real values) and `float64` (64-bit real values)."
      ]
    },
    {
      "cell_type": "markdown",
      "metadata": {
        "id": "MfQAP3Opysl6"
      },
      "source": [
        "The `dtype` can be specified when creating the array"
      ]
    },
    {
      "cell_type": "code",
      "metadata": {
        "colab": {
          "base_uri": "https://localhost:8080/"
        },
        "id": "l6pzQKijyloA",
        "outputId": "054e3290-fe16-445c-a7e0-dbba659010e5"
      },
      "source": [
        "my_array = np.array([1, 2, 3], dtype=np.float64)\n",
        "my_array.dtype"
      ],
      "execution_count": null,
      "outputs": [
        {
          "output_type": "execute_result",
          "data": {
            "text/plain": [
              "dtype('float64')"
            ]
          },
          "metadata": {},
          "execution_count": 50
        }
      ]
    },
    {
      "cell_type": "markdown",
      "metadata": {
        "id": "7tnGWymvywIf"
      },
      "source": [
        "We can create arrays of all zeros using the numpy function `zeros`.\n",
        "\n",
        "Here we create a matrix, a 2-D array, with 2 rows and 3 columns."
      ]
    },
    {
      "cell_type": "code",
      "metadata": {
        "colab": {
          "base_uri": "https://localhost:8080/"
        },
        "id": "DNYSSP87yuM4",
        "outputId": "ceef657e-8904-41de-8832-e3851bbb3d05"
      },
      "source": [
        "zero_array = np.zeros((2, 3))\n",
        "zero_array"
      ],
      "execution_count": null,
      "outputs": [
        {
          "output_type": "execute_result",
          "data": {
            "text/plain": [
              "array([[0., 0., 0.],\n",
              "       [0., 0., 0.]])"
            ]
          },
          "metadata": {},
          "execution_count": 51
        }
      ]
    },
    {
      "cell_type": "markdown",
      "metadata": {
        "id": "VNfCaUKry06Y"
      },
      "source": [
        "Similarly, the function `ones` creates an array with 1 in each cell."
      ]
    },
    {
      "cell_type": "markdown",
      "metadata": {
        "id": "EUTN2VkZy40C"
      },
      "source": [
        "**Exercise.** Create an array of 5 lines and 4 columns, filled with ones."
      ]
    },
    {
      "cell_type": "markdown",
      "metadata": {
        "id": "Sde83NVQy-1U"
      },
      "source": [
        "Similar to the `range` function in the Python standard library, in numpy we can create a range of values using the [arange](https://numpy.org/doc/stable/reference/generated/numpy.arange.html) function."
      ]
    },
    {
      "cell_type": "code",
      "metadata": {
        "colab": {
          "base_uri": "https://localhost:8080/"
        },
        "id": "jtOXy2OXyyh-",
        "outputId": "716d5a18-d8e5-4b53-f65c-e323d8c54c69"
      },
      "source": [
        "np.arange(5)"
      ],
      "execution_count": null,
      "outputs": [
        {
          "output_type": "execute_result",
          "data": {
            "text/plain": [
              "array([0, 1, 2, 3, 4])"
            ]
          },
          "metadata": {},
          "execution_count": 52
        }
      ]
    },
    {
      "cell_type": "markdown",
      "metadata": {
        "id": "6vguhGUezCsU"
      },
      "source": [
        "If a unique argument is provided, the starting value is assumed to be 0, but you can specify the starting (included) and ending (excluded) values"
      ]
    },
    {
      "cell_type": "code",
      "metadata": {
        "colab": {
          "base_uri": "https://localhost:8080/"
        },
        "id": "luJP3mXQzA3f",
        "outputId": "b16f702b-63b2-40c9-ef08-127c8cf20659"
      },
      "source": [
        "np.arange(3, 5)"
      ],
      "execution_count": null,
      "outputs": [
        {
          "output_type": "execute_result",
          "data": {
            "text/plain": [
              "array([3, 4])"
            ]
          },
          "metadata": {},
          "execution_count": 53
        }
      ]
    },
    {
      "cell_type": "markdown",
      "metadata": {
        "id": "rFyzXtzUzgqK"
      },
      "source": [
        "Another useful routine is `linspace` for creating linearly spaced values in an interval. For instance, to create 10 values in `[0, 1]`, we can use"
      ]
    },
    {
      "cell_type": "code",
      "metadata": {
        "colab": {
          "base_uri": "https://localhost:8080/"
        },
        "id": "yOjpE0cwzFmS",
        "outputId": "c220431a-7827-4030-c163-27180bf5782e"
      },
      "source": [
        "np.linspace(0, 1, 10)"
      ],
      "execution_count": null,
      "outputs": [
        {
          "output_type": "execute_result",
          "data": {
            "text/plain": [
              "array([0.        , 0.11111111, 0.22222222, 0.33333333, 0.44444444,\n",
              "       0.55555556, 0.66666667, 0.77777778, 0.88888889, 1.        ])"
            ]
          },
          "metadata": {},
          "execution_count": 54
        }
      ]
    },
    {
      "cell_type": "markdown",
      "metadata": {
        "id": "k4E0hnzg4pwr"
      },
      "source": [
        "Another important operation on NumPy arrays is [reshape](https://numpy.org/doc/stable/user/quickstart.html?highlight=reshape#changing-the-shape-of-an-array), for changing the shape of an array"
      ]
    },
    {
      "cell_type": "code",
      "metadata": {
        "colab": {
          "base_uri": "https://localhost:8080/"
        },
        "id": "C66eCji7zi88",
        "outputId": "bf181ff5-ba91-420e-eb2b-b5b426b7ce75"
      },
      "source": [
        "# 1d array\n",
        "my_array = np.array([1, 2, 3, 4, 5, 6])\n",
        "my_array"
      ],
      "execution_count": null,
      "outputs": [
        {
          "output_type": "execute_result",
          "data": {
            "text/plain": [
              "array([1, 2, 3, 4, 5, 6])"
            ]
          },
          "metadata": {},
          "execution_count": 55
        }
      ]
    },
    {
      "cell_type": "code",
      "metadata": {
        "colab": {
          "base_uri": "https://localhost:8080/"
        },
        "id": "FRKqLCmCz-Z7",
        "outputId": "6ff59192-fe68-4208-9a70-4e20b3c3082b"
      },
      "source": [
        "# reshape into a 3 rows, 2 cols array\n",
        "# we call the reshape() method on the my_array object\n",
        "my_array.reshape(3, 2)"
      ],
      "execution_count": null,
      "outputs": [
        {
          "output_type": "execute_result",
          "data": {
            "text/plain": [
              "array([[1, 2],\n",
              "       [3, 4],\n",
              "       [5, 6]])"
            ]
          },
          "metadata": {},
          "execution_count": 56
        }
      ]
    },
    {
      "cell_type": "markdown",
      "metadata": {
        "id": "lpUFKLnZ0Egs"
      },
      "source": [
        "You can play with these operations and make sure you understand them well."
      ]
    },
    {
      "cell_type": "markdown",
      "metadata": {
        "id": "tzXt1kZa0M9G"
      },
      "source": [
        "### Basic operations\n",
        "\n",
        "In NumPy, we express computations directly over arrays. This makes the code much more succint."
      ]
    },
    {
      "cell_type": "markdown",
      "metadata": {
        "id": "yjetLSOB0Q8F"
      },
      "source": [
        "Arithmetic operations can be performed directly over arrays. For instance, assuming two arrays have a compatible shape, we can add them as follows"
      ]
    },
    {
      "cell_type": "code",
      "metadata": {
        "colab": {
          "base_uri": "https://localhost:8080/"
        },
        "id": "E-c9c3wZ0HMh",
        "outputId": "6b18b1bc-b913-44e0-88be-266b5e7fce28"
      },
      "source": [
        "array_a = np.array([1, 2, 3])\n",
        "array_b = np.array([4, 5, 6])\n",
        "array_a + array_b"
      ],
      "execution_count": null,
      "outputs": [
        {
          "output_type": "execute_result",
          "data": {
            "text/plain": [
              "array([5, 7, 9])"
            ]
          },
          "metadata": {},
          "execution_count": 57
        }
      ]
    },
    {
      "cell_type": "markdown",
      "metadata": {
        "id": "XeMxlL3E0XjL"
      },
      "source": [
        "Compare this with the equivalent computation using a for loop"
      ]
    },
    {
      "cell_type": "code",
      "metadata": {
        "colab": {
          "base_uri": "https://localhost:8080/"
        },
        "id": "YwSBIamQ0Um_",
        "outputId": "55b04613-b611-47cc-84af-6186cf719105"
      },
      "source": [
        "# create an array with the same shape as array_a, but filled with 0s\n",
        "array_out = np.zeros_like(array_a)\n",
        "# sum element-wise\n",
        "for i in range(len(array_a)):\n",
        "  array_out[i] = array_a[i] + array_b[i]\n",
        "array_out"
      ],
      "execution_count": null,
      "outputs": [
        {
          "output_type": "execute_result",
          "data": {
            "text/plain": [
              "array([5, 7, 9])"
            ]
          },
          "metadata": {},
          "execution_count": 59
        }
      ]
    },
    {
      "cell_type": "markdown",
      "metadata": {
        "id": "UNGMsGc-0kfm"
      },
      "source": [
        "Not only this code is more verbose, it will also run much more slowly."
      ]
    },
    {
      "cell_type": "markdown",
      "metadata": {
        "id": "411I6Yjs0nxo"
      },
      "source": [
        "In NumPy, functions that operates on arrays in an element-wise fashion are called [universal functions](https://numpy.org/doc/stable/reference/ufuncs.html). For instance, this is the case of `np.sin`"
      ]
    },
    {
      "cell_type": "code",
      "metadata": {
        "colab": {
          "base_uri": "https://localhost:8080/"
        },
        "id": "ueOPanLM0ZUf",
        "outputId": "35aeac72-1ac7-43c0-9310-1581de72c0d2"
      },
      "source": [
        "np.sin(array_a)"
      ],
      "execution_count": null,
      "outputs": [
        {
          "output_type": "execute_result",
          "data": {
            "text/plain": [
              "array([0.84147098, 0.90929743, 0.14112001])"
            ]
          },
          "metadata": {},
          "execution_count": 60
        }
      ]
    },
    {
      "cell_type": "markdown",
      "metadata": {
        "id": "NKxAYFDR0uk1"
      },
      "source": [
        "[Vector inner product](https://en.wikipedia.org/wiki/Dot_product) can be performed using `np.dot`"
      ]
    },
    {
      "cell_type": "code",
      "metadata": {
        "colab": {
          "base_uri": "https://localhost:8080/"
        },
        "id": "6bW6UAWq0qos",
        "outputId": "008c1fc2-f4c7-4d48-8ba8-21e9fd33f28b"
      },
      "source": [
        "np.dot(array_a, array_b)"
      ],
      "execution_count": null,
      "outputs": [
        {
          "output_type": "execute_result",
          "data": {
            "text/plain": [
              "32"
            ]
          },
          "metadata": {},
          "execution_count": 61
        }
      ]
    },
    {
      "cell_type": "markdown",
      "metadata": {
        "id": "RQu9d2nu1CZJ"
      },
      "source": [
        "#### Advanced notions (optional)\n",
        "When the two arguments to `np.dot` are both 2d arrays, `np.dot` becomes matrix multiplication"
      ]
    },
    {
      "cell_type": "code",
      "metadata": {
        "colab": {
          "base_uri": "https://localhost:8080/"
        },
        "id": "uz2wqrFN0wkO",
        "outputId": "a913a1ea-970a-4551-a96b-a42a4cd3f43e"
      },
      "source": [
        "array_A = np.random.rand(5, 3)\n",
        "array_B = np.random.randn(3, 4)\n",
        "np.dot(array_A, array_B)"
      ],
      "execution_count": null,
      "outputs": [
        {
          "output_type": "execute_result",
          "data": {
            "text/plain": [
              "array([[ 0.0869419 , -1.59793116,  0.79760988, -3.08597472],\n",
              "       [-0.06744098, -1.80575593,  0.87360006, -3.39354257],\n",
              "       [-0.07784893, -1.43986958,  0.74358606, -2.86826416],\n",
              "       [-0.4351405 , -1.98194074,  0.95437821, -3.71338019],\n",
              "       [-0.24484233, -1.33190555,  0.61521527, -2.40476818]])"
            ]
          },
          "metadata": {},
          "execution_count": 62
        }
      ]
    },
    {
      "cell_type": "markdown",
      "metadata": {
        "id": "xE41QRBe1IN0"
      },
      "source": [
        "Matrix transpose can be done using `.transpose()` or `.T` for short"
      ]
    },
    {
      "cell_type": "code",
      "metadata": {
        "colab": {
          "base_uri": "https://localhost:8080/"
        },
        "id": "iNes89KG1El6",
        "outputId": "0dfbe0c5-2f9b-4a27-eebb-bd5d3dd6ed8a"
      },
      "source": [
        "array_A.T"
      ],
      "execution_count": null,
      "outputs": [
        {
          "output_type": "execute_result",
          "data": {
            "text/plain": [
              "array([[0.84254571, 0.8729602 , 0.76196144, 0.87053858, 0.55601909],\n",
              "       [0.40069714, 0.48700109, 0.53893757, 0.76891072, 0.40953449],\n",
              "       [0.36015303, 0.53530548, 0.19596679, 0.59329035, 0.52866948]])"
            ]
          },
          "metadata": {},
          "execution_count": 63
        }
      ]
    },
    {
      "cell_type": "markdown",
      "metadata": {
        "id": "5o6Aw6R31Vut"
      },
      "source": [
        "### Slicing and masking\n",
        "\n",
        "Like Python lists, NumPy arrays support slicing."
      ]
    },
    {
      "cell_type": "code",
      "metadata": {
        "colab": {
          "base_uri": "https://localhost:8080/"
        },
        "id": "nSHgDOq91J4x",
        "outputId": "002bb1a5-1be0-4a82-95ea-9a7585592fba"
      },
      "source": [
        "np.arange(10)[5:]"
      ],
      "execution_count": null,
      "outputs": [
        {
          "output_type": "execute_result",
          "data": {
            "text/plain": [
              "array([5, 6, 7, 8, 9])"
            ]
          },
          "metadata": {},
          "execution_count": 64
        }
      ]
    },
    {
      "cell_type": "markdown",
      "metadata": {
        "id": "LXHXGQeA1ijV"
      },
      "source": [
        "We can also select only certain elements from the array, by filtering on a boolean mask that applies if a condition is True."
      ]
    },
    {
      "cell_type": "code",
      "metadata": {
        "colab": {
          "base_uri": "https://localhost:8080/"
        },
        "id": "y_cq2qN11f8C",
        "outputId": "e68b4066-8e98-4ac7-dd92-4b23426f395e"
      },
      "source": [
        "# create values from 0 to 10 (= up to 9 included)\n",
        "x = np.arange(10)\n",
        "# mask all values in x that are greather than 5\n",
        "mask = x >= 5\n",
        "# print the mask : False for values 0 to 4 included, True for 5 and up\n",
        "mask"
      ],
      "execution_count": null,
      "outputs": [
        {
          "output_type": "execute_result",
          "data": {
            "text/plain": [
              "array([False, False, False, False, False,  True,  True,  True,  True,\n",
              "        True])"
            ]
          },
          "metadata": {},
          "execution_count": 66
        }
      ]
    },
    {
      "cell_type": "code",
      "metadata": {
        "colab": {
          "base_uri": "https://localhost:8080/"
        },
        "id": "gbXLQD2l1ky3",
        "outputId": "92e21594-6cd9-4d56-ab25-5bf0dd994a17"
      },
      "source": [
        "# apply the mask to x itself\n",
        "x[mask]"
      ],
      "execution_count": null,
      "outputs": [
        {
          "output_type": "execute_result",
          "data": {
            "text/plain": [
              "array([5, 6, 7, 8, 9])"
            ]
          },
          "metadata": {},
          "execution_count": 67
        }
      ]
    },
    {
      "cell_type": "markdown",
      "metadata": {
        "id": "P91rEZZB2Xwy"
      },
      "source": [
        "### Exercices"
      ]
    },
    {
      "cell_type": "markdown",
      "metadata": {
        "id": "QHGPaxXa2aW0"
      },
      "source": [
        "**Exercise 1.** Create a 3d array of shape (2, 2, 2), containing 8 values. Access individual elements and slices."
      ]
    },
    {
      "cell_type": "code",
      "metadata": {
        "id": "lwOxYgol2d6o",
        "colab": {
          "base_uri": "https://localhost:8080/"
        },
        "outputId": "a38746a5-8080-4d39-ab63-36a83d9f310f"
      },
      "source": [
        "a = np.array([[[1, 2],\n",
        "               [3, 4]],\n",
        "              [[5, 6],\n",
        "               [7, 8]]])\n",
        "a"
      ],
      "execution_count": null,
      "outputs": [
        {
          "output_type": "execute_result",
          "data": {
            "text/plain": [
              "array([[[1, 2],\n",
              "        [3, 4]],\n",
              "\n",
              "       [[5, 6],\n",
              "        [7, 8]]])"
            ]
          },
          "metadata": {},
          "execution_count": 5
        }
      ]
    },
    {
      "cell_type": "code",
      "metadata": {
        "colab": {
          "base_uri": "https://localhost:8080/"
        },
        "id": "6xGJMcFhBQe9",
        "outputId": "dc96d210-2099-4376-9111-97a1564c086c"
      },
      "source": [
        "a.shape"
      ],
      "execution_count": null,
      "outputs": [
        {
          "output_type": "execute_result",
          "data": {
            "text/plain": [
              "(2, 2, 2)"
            ]
          },
          "metadata": {},
          "execution_count": 6
        }
      ]
    },
    {
      "cell_type": "code",
      "metadata": {
        "colab": {
          "base_uri": "https://localhost:8080/"
        },
        "id": "ESRkyl7ABUYr",
        "outputId": "8ba1d968-49ac-4020-bd2d-2dc9b3fbb54e"
      },
      "source": [
        ""
      ],
      "execution_count": null,
      "outputs": [
        {
          "output_type": "execute_result",
          "data": {
            "text/plain": [
              "array([1, 5])"
            ]
          },
          "metadata": {},
          "execution_count": 5
        }
      ]
    },
    {
      "cell_type": "markdown",
      "metadata": {
        "id": "TRCrAeRK2bhz"
      },
      "source": [
        "**Exercise 2.** Rewrite the relu function (see Python section) using [np.maximum](https://numpy.org/doc/stable/reference/generated/numpy.maximum.html). Check that it works on both a single value and on an array of values."
      ]
    },
    {
      "cell_type": "markdown",
      "source": [
        "> **HINT** `0` is greater than any negative integer, but smaller than any positive integer.\n",
        "\n"
      ],
      "metadata": {
        "id": "77ZySW7Dr2a3"
      }
    },
    {
      "cell_type": "code",
      "metadata": {
        "id": "Se9cypxC2Mr2"
      },
      "source": [
        "def relu_numpy(x):\n",
        "  # write your function here\n",
        "  return\n",
        "\n",
        "relu_numpy(np.array([1, -3, 2.5]))"
      ],
      "execution_count": null,
      "outputs": []
    },
    {
      "cell_type": "markdown",
      "metadata": {
        "id": "mRxQ1vNe25Kd"
      },
      "source": [
        "**Exercise 3.** Rewrite the average of a vector (1d array) using NumPy (without for loop), with [np.sum](https://numpy.org/doc/stable/reference/generated/numpy.sum.html) and the shape of the array."
      ]
    },
    {
      "cell_type": "code",
      "metadata": {
        "id": "DWEy5R1M24Vh"
      },
      "source": [
        "def average_numpy(vector):\n",
        "  # write your function here\n",
        "  return\n",
        "\n",
        "my_vector = np.array([12, 11, 9, 5, 7])\n",
        "# the result should be 8.8\n",
        "average(my_vector)"
      ],
      "execution_count": null,
      "outputs": []
    },
    {
      "cell_type": "markdown",
      "metadata": {
        "id": "gJTzW6nh2i3P"
      },
      "source": [
        "Compare with what you get with [np.mean](https://numpy.org/doc/stable/reference/generated/numpy.mean.html)"
      ]
    },
    {
      "cell_type": "code",
      "metadata": {
        "id": "iOECJPLU233Z"
      },
      "source": [
        ""
      ],
      "execution_count": null,
      "outputs": []
    },
    {
      "cell_type": "markdown",
      "metadata": {
        "id": "4MV0c2RM3Px9"
      },
      "source": [
        "### Going further\n",
        "\n",
        "* [Scientific Computing in Python: Introduction to NumPy and Matplotlib](https://sebastianraschka.com/blog/2020/numpy-intro.html)\n",
        "* [NumPy reference](https://numpy.org/doc/stable/reference/)\n",
        "* [SciPy lectures](https://scipy-lectures.org/)\n",
        "* One-hour [tutorial](https://www.youtube.com/watch?v=QUT1VHiLmmI) on Youtube"
      ]
    },
    {
      "cell_type": "code",
      "metadata": {
        "id": "nFmvnrfB3fc2"
      },
      "source": [
        ""
      ],
      "execution_count": null,
      "outputs": []
    }
  ]
}