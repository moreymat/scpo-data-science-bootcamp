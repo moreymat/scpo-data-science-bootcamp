{
  "nbformat": 4,
  "nbformat_minor": 0,
  "metadata": {
    "colab": {
      "provenance": [],
      "include_colab_link": true
    },
    "kernelspec": {
      "name": "python3",
      "display_name": "Python 3"
    },
    "language_info": {
      "name": "python"
    }
  },
  "cells": [
    {
      "cell_type": "markdown",
      "metadata": {
        "id": "view-in-github",
        "colab_type": "text"
      },
      "source": [
        "<a href=\"https://colab.research.google.com/github/moreymat/scpo-data-science-bootcamp/blob/main/notebooks/6_project.ipynb\" target=\"_parent\"><img src=\"https://colab.research.google.com/assets/colab-badge.svg\" alt=\"Open In Colab\"/></a>"
      ]
    },
    {
      "cell_type": "markdown",
      "source": [
        "# Project\n",
        "\n",
        "You now have the basics to conduct an analysis of the products in OpenFoodFacts on your own.\n",
        "\n",
        "This is fortunate, because **you are tasked with conducting an analysis of a product category or categories of your choice**.\n",
        "\n",
        "Your goal here should be to provide a global view of the dataset and exhibit salient features that could **inform a decision or be of interest** to an **analyst or stakeholder** in the sector concerned by your product category or categories.\n"
      ],
      "metadata": {
        "id": "zZNzG6hPYQ15"
      }
    },
    {
      "cell_type": "markdown",
      "source": [
        "## Scope and angle\n",
        "\n",
        "You first need to find a question or set of questions you really want to answer, either along one of the directions outlined below, or along a new direction you devise yourselves."
      ],
      "metadata": {
        "id": "l70-31R6Tq6x"
      }
    },
    {
      "cell_type": "markdown",
      "source": [
        "### Case study 1: the Danish Fat Tax\n",
        "\n",
        "Evaluate the impact of a fat tax similar to [the former Danish fat tax](https://en.wikipedia.org/wiki/Fat_tax#Denmark) (\"a fat tax on butter, milk, cheese, pizza, meat, oil and processed food if the item contains more than 2.3% saturated fat.\") ?\n",
        "\n",
        "We do not have information about prices, but you can come up with several questions, such as:\n",
        "1. What proportion of products in each category would be impacted?\n",
        "2. Which brands would have the highest proportion of their products impacted? (overall, and per category)\n",
        "3. Which countries would have the highest proportions of their products impacted?\n",
        "4. Which products would be taxed if their recipe remained unchanged, but might take minimal effort to modify so as to avoid taxation?\n",
        "5. What would be the impact of different threshold values for the quantity of saturated fat in processed food?\n",
        "\n",
        "etc."
      ],
      "metadata": {
        "id": "zMDRTYbDY7y8"
      }
    },
    {
      "cell_type": "markdown",
      "source": [
        "## Case study 2: Sugary drink taxes\n",
        "\n",
        "[Sugary drink taxes](https://en.wikipedia.org/wiki/Sugary_drink_tax#Legislation_by_country) have been implemented or discussed in various countries.\n",
        "\n",
        "Pick several countries where this tax has been or is still applied, for which you can find the exact categories of products that are taxed.\n",
        "\n",
        "1. How many products are taxed, depending on the country?\n",
        "2. How much do the included and exempted categories differ between countries?\n",
        "3. How much do these differences across countries affect different brands?\n",
        "\n",
        "etc."
      ],
      "metadata": {
        "id": "XrcLHrZkaDYR"
      }
    },
    {
      "cell_type": "markdown",
      "source": [
        "Feel free to propose your own case study, eg. on another tax that has been discussed or implemented in your country of origin, previous country of residence, or any other country of your interest.\n"
      ],
      "metadata": {
        "id": "WkwJvnJiZhPf"
      }
    },
    {
      "cell_type": "markdown",
      "source": [
        "### Case study 3: Ecolabels\n",
        "\n",
        "Another possible direction of investigation would be to examine the diversity and spread of certain labels in product families, such as the various ecolabels.\n",
        "\n",
        "1. Which ecolabels are the most common overall, or in various categories of products?\n",
        "2. How much do brands differ regarding the adoption of ecolabels, or the precise ecolabels they adopt?\n",
        "3. How much does the adoption of ecolabels differ between countries?\n",
        "\n",
        "etc."
      ],
      "metadata": {
        "id": "BxSmOKkYZvVH"
      }
    },
    {
      "cell_type": "markdown",
      "source": [
        "### Case study 4: Packaging and recycling\n",
        "\n",
        "1. How do product categories differ regarding packaging and recycling instructions?\n",
        "2. Are there differences between brands, regarding choices of packaging and recycling instructions?\n",
        "\n",
        "etc."
      ],
      "metadata": {
        "id": "EEbv8wkLbJOq"
      }
    },
    {
      "cell_type": "markdown",
      "source": [
        "### Case study 5: Additives\n",
        "\n",
        "1. What are the most frequent additives? Overall? By category? By brand?\n",
        "2. How much do brands differ regarding their use of certain additives?\n",
        "3. What would be the impact of a change in legislation banning some additives? (try to focus on additives that are discussed for their impact on health) What would be the most impacted categories and brands?\n",
        "\n",
        "etc."
      ],
      "metadata": {
        "id": "Ft4RakOlZ9f2"
      }
    },
    {
      "cell_type": "markdown",
      "source": [
        "### Case study 6: Allergens\n",
        "\n",
        "1. What are the most frequent allergens? Overall? By category? By brand?\n",
        "2. How much do brands differ regarding their use or avoidance of allergens?\n",
        "3. Which allergens are frequently associated?\n",
        "4. Which traces of allergens are frequently associated, either with other traces, or with allergens?\n",
        "\n",
        "etc."
      ],
      "metadata": {
        "id": "hc3JQJ9ScXEa"
      }
    },
    {
      "cell_type": "markdown",
      "source": [
        "### Case study 7: Palm oil\n",
        "\n",
        "1. Which categories have the highest proportion of products with palm oil?\n",
        "2. How much do brands differ regarding their use or avoidance of palm oil?\n",
        "3. Are there patterns in the use or avoidance of palm oil, and their association with ecolabels?\n",
        "\n",
        "etc."
      ],
      "metadata": {
        "id": "kj8WCANec88-"
      }
    },
    {
      "cell_type": "markdown",
      "source": [
        "### Your own case study ?\n",
        "\n",
        "If you feel like it, you can choose to address a different case study of your own, either:\n",
        "* on the Open Food Facts dataset or\n",
        "* on a totally different dataset.\n",
        "\n",
        "**In any case, you need to be highly confident you will be able to process the dataset and do the case study before the end of the course**\n",
        "\n",
        "**Please validate the dataset and case study with Sylvain or Mathieu ASAP !**"
      ],
      "metadata": {
        "id": "Owhsjg6hd6dP"
      }
    },
    {
      "cell_type": "markdown",
      "source": [
        "## Production\n",
        "\n",
        "You will need to :\n",
        "* define your subset of (rows or columns) of interest,\n",
        "* determine which dataviz (graphs) would support your investigation (eg. characteristics of certain product groups, or similarities and differences between the distribution of some nutritional values between for instance salty and sweet snacks).\n",
        "* build these dataviz.\n",
        "* interpret these dataviz and comment on each, in order to help answering your questions and making your case.\n"
      ],
      "metadata": {
        "id": "lnQzlQQCaIKr"
      }
    },
    {
      "cell_type": "markdown",
      "source": [
        "## Some advice\n",
        "\n",
        "Keep in mind that notebooks contain a mix of text and code, including the plots and figures that result from the execution of the code.\n",
        "\n",
        "Text cells enable you to describe the problem you address, detail your line of thought, present your hypotheses and assumptions, comment on the figures, and present observations or conclusions.\n",
        "\n",
        "A good notebook, or set of notebooks, should be readable on its own, but also be a good support for a lightning presentation in front of your peers.\n",
        "\n",
        "Think: readable, nicely formatted graphs that support impactful yet solid insights !"
      ],
      "metadata": {
        "id": "bwXwE5ApcNhL"
      }
    },
    {
      "cell_type": "markdown",
      "source": [
        "## Good luck !"
      ],
      "metadata": {
        "id": "3A1kujh1boC-"
      }
    }
  ]
}