{
  "cells": [
    {
      "cell_type": "markdown",
      "metadata": {
        "colab_type": "text",
        "id": "view-in-github"
      },
      "source": [
        "<a href=\"https://colab.research.google.com/github/moreymat/scpo-data-science-bootcamp/blob/main/notebooks/2_pandas.ipynb\" target=\"_parent\"><img src=\"https://colab.research.google.com/assets/colab-badge.svg\" alt=\"Open In Colab\"/></a>"
      ]
    },
    {
      "cell_type": "markdown",
      "metadata": {
        "id": "NStrSKxpMR3u"
      },
      "source": [
        "# Tabular data analysis 1 : Exploring Open Food Facts data with pandas\n",
        "\n",
        "In this series of notebooks, we are going to explore the data contained in the Open Food Facts database."
      ]
    },
    {
      "cell_type": "markdown",
      "metadata": {
        "id": "BVrQGK0XMj_q"
      },
      "source": [
        "## Open Food Facts\n",
        "\n",
        "Open Food Facts is an open, crowdsourced database on food products from around the world.\n",
        "\n",
        "It is produced and managed as a digital commons.\n",
        "\n",
        "Everyone can contribute data on packaged food products: pictures, ingredients, nutritional values etc.\n",
        "\n",
        "This database has served as the foundation for many mobile phone apps, especially scanning apps to help customers while grocery shopping."
      ]
    },
    {
      "cell_type": "markdown",
      "metadata": {
        "id": "Kt-j_RjLMsa5"
      },
      "source": [
        "### Notions\n",
        "\n",
        "* It is [*open*](https://en.wikipedia.org/wiki/Open_data): Anyone can freely use it, access it, modify it.\n",
        "* It is [*crowdsourced*](https://en.wikipedia.org/wiki/Crowdsourcing) : Anyone can add new food products to the database, complete or modify existing data.\n",
        "* It is a [knowledge commons](https://en.wikipedia.org/wiki/Knowledge_commons), a type of [digital commons](https://en.wikipedia.org/wiki/Digital_commons_(economics))."
      ]
    },
    {
      "cell_type": "markdown",
      "metadata": {
        "id": "OH4EPJM6MszD"
      },
      "source": [
        "### Browsing through the dataset\n",
        "\n",
        "The Open Food Facts database is [available online](https://world.openfoodfacts.org/).\n",
        "\n",
        "Take a few minutes to explore the database through its online interface.\n",
        "\n",
        "* How is each product described ?\n",
        "* What types of information are provided ?"
      ]
    },
    {
      "cell_type": "markdown",
      "metadata": {
        "id": "g1iMze3R8nXY"
      },
      "source": [
        "### Understanding the dataset\n",
        "\n",
        "To really understand a dataset, you need to read its documentation so that you are able to answer a set of common, basic questions that will help guide your analysis, such as :\n",
        "\n",
        "* Who created this dataset and for what purpose ?\n",
        "* How was the dataset created ?\n",
        "* What do the instances that comprise the dataset represent (eg. people, companies, events, photos...) ?\n",
        "* What data does each instance consist of ? Are they \"raw\" data or (computed) features ?\n",
        "* Are the instances related in some way ? If so, are there specific fields that enable cross-reference ?\n",
        "\n",
        "The documentation for a dataset is always written with some purpose, for an intended type of reader, in a certain context, hence it is very likely that you will not find all the answers in the documentation.\n",
        "\n",
        "Here, you can gather partial information on OFF from :\n",
        "\n",
        "* the [presentation of the project](https://world.openfoodfacts.org/discover)\n",
        "* various pages of the [wiki](https://wiki.openfoodfacts.org/Main_Page), mostly :\n",
        "  * [Data fields](https://wiki.openfoodfacts.org/Data_fields)\n",
        "  * [Ingredients](https://wiki.openfoodfacts.org/Ingredients)\n",
        "  * [Data Quality](https://wiki.openfoodfacts.org/Data_quality)\n",
        "\n",
        "#### To go further\n",
        "\n",
        "* [Datasheets for datasets](https://arxiv.org/pdf/1803.09010.pdf) are a standardized documentation process and format proposed by AI researchers to facilitate the proper (re-)use of datasets and avoid common pitfalls in designing AI components (and ensuing scandals when they exhibit problematic biases in deployment)"
      ]
    },
    {
      "cell_type": "markdown",
      "metadata": {
        "id": "pt6KIZgv7i4r"
      },
      "source": [
        "Equipped with this new knowledge about the Open Food Facts database, you can start the exploratory analysis of the data to gather the missing information to complete your answers, and ask questions of your own.\n"
      ]
    },
    {
      "cell_type": "markdown",
      "metadata": {
        "id": "Vl3hW0qeM3lh"
      },
      "source": [
        "### Open Food Facts as a tabular dataset\n",
        "\n",
        "The entire set of facts about all the products in the Open Food Facts database can be represented as a *tabular dataset*, that is a table of data where :\n",
        "\n",
        "* each row is a product,\n",
        "* each column is a field (eg. \"brand\", \"barcode\", \"energy for 100g\"...),\n",
        "* each cell contains the value of a field for a product."
      ]
    },
    {
      "cell_type": "markdown",
      "metadata": {
        "id": "jby4sV1YK43C"
      },
      "source": [
        "\n",
        "The simplest and most common format used for tabular datasets is the [CSV format](https://en.wikipedia.org/wiki/Comma-separated_values).\n",
        "CSV files can be opened in a spreadsheet software such as Microsoft Excel, Apple Numbers or LibreOffice Calc, or just any plain text editor."
      ]
    },
    {
      "cell_type": "markdown",
      "metadata": {
        "id": "0b0oSBi0K6qI"
      },
      "source": [
        "The Open Food Facts database is [available for download in various formats](https://world.openfoodfacts.org/data), including the CSV format.\n",
        "\n",
        "Because the whole dataset is too big (the CSV export, uncompressed, weighs 9 GB as of 2024-07-19), we will work on a filtered subset of the dataset where we only keep products with :\n",
        "\n",
        "* a non-ambiguous barcode in the [EAN-8](https://en.wikipedia.org/wiki/EAN-8) or [EAN-13](https://en.wikipedia.org/wiki/International_Article_Number) formats ;\n",
        "* a product name,\n",
        "* brands,\n",
        "* an image URL for the product ;\n",
        "* a category ;\n",
        "* basic nutritional values."
      ]
    },
    {
      "cell_type": "markdown",
      "metadata": {
        "id": "q0RtLLYZ8RQp"
      },
      "source": [
        "### Accessing the data\n",
        "\n"
      ]
    },
    {
      "cell_type": "markdown",
      "metadata": {
        "id": "aTUoJWrTLy1-"
      },
      "source": [
        "You need two files (csv and txt) that are on the Google Drive of my Sciences Po account :\n",
        "\n",
        "* [data file (csv)](https://drive.google.com/file/d/1vBIU1Mgnh9hiDFrmWV88w6lhY2WZ9_Vg/view?usp=sharing),\n",
        "* [metadata file (txt)](https://drive.google.com/file/d/1bAUsUzugSGOgkQGjHo1K9RlKO4SORQXW/view?usp=sharing) (column types, so that pandas does not have to guess them).\n",
        "\n",
        "For **each of these 2 files**:\n",
        "1. Open the link\n",
        "2. Click on the \"Add shortcut to Drive\" button\n",
        "<center>\n",
        "<img src=\"https://github.com/moreymat/scpo-data-science-bootcamp/raw/main/notebooks/img/drive-1.png\" width=400>\n",
        "</center>\n",
        "3. In the menu, click on \"My Drive\"\n",
        "<center>\n",
        "<img src=\"https://github.com/moreymat/scpo-data-science-bootcamp/raw/main/notebooks/img/drive-2.png\" width=400>\n",
        "</center>\n",
        "4. Click on \"Add shortcut here\"\n",
        "<center>\n",
        "<img src=\"https://github.com/moreymat/scpo-data-science-bootcamp/raw/main/notebooks/img/drive-3.png\" width=400>\n",
        "</center>\n",
        "\n",
        "This will add shortcuts, in your Sciences Po (Google) drive, to the files stored on Mathieu's Sciences Po (Google) Drive."
      ]
    },
    {
      "cell_type": "markdown",
      "metadata": {
        "id": "B6IXKt8ryo5z"
      },
      "source": [
        "Then you need to authorize Colab to access files (here shortcuts) on your Drive.\n",
        "\n",
        "Execute the following cell, a pop-up will appear asking you to select your Sciences Po (Google) account, then asking you to authorize access."
      ]
    },
    {
      "cell_type": "code",
      "execution_count": 1,
      "metadata": {
        "colab": {
          "base_uri": "https://localhost:8080/"
        },
        "id": "J1goK37ByN8f",
        "outputId": "c41cc079-fd82-4950-8c06-f39a386fbaa3"
      },
      "outputs": [],
      "source": [
        "# enable Colab to access files (here shortcuts) on your Drive\n",
        "# from google.colab import drive\n",
        "\n",
        "# drive.mount(\"/content/drive\")"
      ]
    },
    {
      "cell_type": "markdown",
      "metadata": {
        "id": "LgtndxVTzC8j"
      },
      "source": [
        "The files can now be accessed from the shortcuts on your drive."
      ]
    },
    {
      "cell_type": "markdown",
      "metadata": {
        "id": "_rM7v1UoOaEg"
      },
      "source": [
        "## The pandas library for tabular data analysis"
      ]
    },
    {
      "cell_type": "markdown",
      "metadata": {
        "id": "hTQA8jb-M6_r"
      },
      "source": [
        "### Gaining functionalities with libraries\n",
        "\n",
        "The Python standard library includes a module named [csv](https://docs.python.org/3/library/csv.html#module-csv) that provides very basic support to read and write CSV files.\n",
        "This module enables you to read and write values, but nothing more.\n",
        "\n",
        "It gives you no way to :\n",
        "\n",
        "* rename columns ;\n",
        "* filter columns, eg. keep only the columns for nutritional values ;\n",
        "* filter rows, eg. select all products that are categorized as \"Sweet spreads\" ;\n",
        "* compute summary statistics on columns across rows, eg. compute the min, max, mean and median of fiber content per 100g ;\n",
        "* compare columns, eg. test whether they contain the same values ;\n",
        "* etc.\n",
        "\n",
        "As we saw in the 1st and 2nd notebooks, this can be remedied by using an additional [software library](https://en.wikipedia.org/wiki/Library_(computing)), which is, roughly speaking, a collection of code that provides functionalities to perform operations on a given task or domain .\n",
        "\n",
        "The most widely used library in Python to work on tabular datasets is [pandas](https://pandas.pydata.org/)."
      ]
    },
    {
      "cell_type": "markdown",
      "metadata": {
        "id": "2_PiRu9Ch1c1"
      },
      "source": [
        "We need to import pandas and, for technical reasons, a specific pandas data type to load [categorical variables with ordered values](https://pandas.pydata.org/pandas-docs/stable/user_guide/categorical.html#controlling-behavior).\n",
        "\n",
        "We will use a custom utility function, `load_off`, to load the Open Food Facts dataset and convert a column.\n",
        "\n",
        "> **NOTE** You do not need to understand or even look at the code in the next cell. It uses a few Python functions and technical notions (file input and output, evaluation) that we cannot introduce properly in the time allocated to this course, and are beyond the objectives of this bootcamp.\n",
        "However, feel free to ask Mathieu questions if you are curious !"
      ]
    },
    {
      "cell_type": "code",
      "execution_count": 2,
      "metadata": {
        "id": "D6TRL3KEQtp2"
      },
      "outputs": [],
      "source": [
        "# (just execute this cell)\n",
        "\n",
        "# import pandas\n",
        "import csv\n",
        "import pandas as pd\n",
        "\n",
        "# we need this data type for ordered categoricals\n",
        "from pandas.api.types import CategoricalDtype\n",
        "\n",
        "# lift some limitations in column width, so more cell values are displayed in full\n",
        "pd.set_option(\"display.max_colwidth\", 110)\n",
        "\n",
        "# dataset and data type of the columns\n",
        "FOLDER = \"../data/processed\"  # \"drive/MyDrive\"\n",
        "OFF_FILE = f\"{FOLDER}/off_products_subset.csv\"\n",
        "DTYPE_FILE = f\"{FOLDER}/dtype.txt\"\n",
        "\n",
        "\n",
        "# custom function to load the Open Food Facts subset\n",
        "def load_off():\n",
        "    \"\"\"Load the filtered subset of Open Food Facts.\n",
        "\n",
        "    Returns\n",
        "    -------\n",
        "    df : pd.DataFrame\n",
        "      (A filtered subset of the) Open Food Facts tabular dataset.\n",
        "    \"\"\"\n",
        "    # load the data types for the columns\n",
        "    with open(DTYPE_FILE) as f:\n",
        "        dtype = eval(f.read())\n",
        "\n",
        "    # load the dataset\n",
        "    df = pd.read_csv(OFF_FILE, sep=\"\\t\", dtype=dtype, quoting=csv.QUOTE_NONE)\n",
        "    # convert columns with datetimes\n",
        "    for col_name in (\n",
        "        \"created_datetime\",\n",
        "        \"last_modified_datetime\",\n",
        "        \"last_updated_datetime\",\n",
        "        \"last_image_datetime\",\n",
        "    ):\n",
        "        # ISO 8601 dates\n",
        "        df[col_name] = pd.to_datetime(df[col_name])\n",
        "    #\n",
        "    return df\n",
        "\n",
        "\n",
        "# load the dataset (takes around 60 seconds)\n",
        "df = load_off()"
      ]
    },
    {
      "cell_type": "markdown",
      "metadata": {
        "id": "dF-a6-pGl-lK"
      },
      "source": [
        "If all went fine, you do not see anything.\n",
        "\n",
        "What have we read, really ?\n",
        "\n",
        "You remember that typing the name of a variable, as the only (or last) line of a notebook cell, prints its value."
      ]
    },
    {
      "cell_type": "markdown",
      "metadata": {
        "id": "f5l0iVFWCbEv"
      },
      "source": [
        "Type the name of the variable containing the dataset, to display the value (content) of that variable."
      ]
    },
    {
      "cell_type": "code",
      "execution_count": 3,
      "metadata": {
        "id": "QOutdFLOU49J"
      },
      "outputs": [
        {
          "data": {
            "text/html": [
              "<div>\n",
              "<style scoped>\n",
              "    .dataframe tbody tr th:only-of-type {\n",
              "        vertical-align: middle;\n",
              "    }\n",
              "\n",
              "    .dataframe tbody tr th {\n",
              "        vertical-align: top;\n",
              "    }\n",
              "\n",
              "    .dataframe thead th {\n",
              "        text-align: right;\n",
              "    }\n",
              "</style>\n",
              "<table border=\"1\" class=\"dataframe\">\n",
              "  <thead>\n",
              "    <tr style=\"text-align: right;\">\n",
              "      <th></th>\n",
              "      <th>code</th>\n",
              "      <th>url</th>\n",
              "      <th>creator</th>\n",
              "      <th>created_datetime</th>\n",
              "      <th>last_modified_datetime</th>\n",
              "      <th>last_modified_by</th>\n",
              "      <th>last_updated_datetime</th>\n",
              "      <th>product_name</th>\n",
              "      <th>generic_name</th>\n",
              "      <th>quantity</th>\n",
              "      <th>...</th>\n",
              "      <th>vitamin-a_100g</th>\n",
              "      <th>vitamin-d_100g</th>\n",
              "      <th>vitamin-c_100g</th>\n",
              "      <th>vitamin-b1_100g</th>\n",
              "      <th>vitamin-b2_100g</th>\n",
              "      <th>potassium_100g</th>\n",
              "      <th>calcium_100g</th>\n",
              "      <th>iron_100g</th>\n",
              "      <th>fruits-vegetables-nuts-estimate-from-ingredients_100g</th>\n",
              "      <th>nutrition-score-fr_100g</th>\n",
              "    </tr>\n",
              "  </thead>\n",
              "  <tbody>\n",
              "    <tr>\n",
              "      <th>0</th>\n",
              "      <td>0000101209159</td>\n",
              "      <td>http://world-en.openfoodfacts.org/product/0000101209159/veritable-pate-a-tartiner-noisettes-chocolat-noir-...</td>\n",
              "      <td>kiliweb</td>\n",
              "      <td>2018-02-22 10:56:57+00:00</td>\n",
              "      <td>2023-04-28 23:59:01+00:00</td>\n",
              "      <td>roboto-app</td>\n",
              "      <td>2024-02-09 14:48:49+00:00</td>\n",
              "      <td>Véritable pâte à tartiner noisettes chocolat noir</td>\n",
              "      <td>&lt;NA&gt;</td>\n",
              "      <td>350 g</td>\n",
              "      <td>...</td>\n",
              "      <td>NaN</td>\n",
              "      <td>NaN</td>\n",
              "      <td>NaN</td>\n",
              "      <td>NaN</td>\n",
              "      <td>NaN</td>\n",
              "      <td>NaN</td>\n",
              "      <td>NaN</td>\n",
              "      <td>NaN</td>\n",
              "      <td>NaN</td>\n",
              "      <td>23</td>\n",
              "    </tr>\n",
              "    <tr>\n",
              "      <th>1</th>\n",
              "      <td>0000131327786</td>\n",
              "      <td>http://world-en.openfoodfacts.org/product/0000131327786/lime-cordial-sainsbury-s</td>\n",
              "      <td>blakejones99</td>\n",
              "      <td>2024-06-01 20:48:44+00:00</td>\n",
              "      <td>2024-06-01 22:13:50+00:00</td>\n",
              "      <td>roboto-app</td>\n",
              "      <td>2024-06-01 22:13:50+00:00</td>\n",
              "      <td>Lime Cordial</td>\n",
              "      <td>&lt;NA&gt;</td>\n",
              "      <td>1l</td>\n",
              "      <td>...</td>\n",
              "      <td>NaN</td>\n",
              "      <td>NaN</td>\n",
              "      <td>NaN</td>\n",
              "      <td>NaN</td>\n",
              "      <td>NaN</td>\n",
              "      <td>NaN</td>\n",
              "      <td>NaN</td>\n",
              "      <td>NaN</td>\n",
              "      <td>30.000000</td>\n",
              "      <td>&lt;NA&gt;</td>\n",
              "    </tr>\n",
              "    <tr>\n",
              "      <th>2</th>\n",
              "      <td>0000155011159</td>\n",
              "      <td>http://world-en.openfoodfacts.org/product/0000155011159/mini-chaussons-a-la-compote-de-pomme-intermarche</td>\n",
              "      <td>kiliweb</td>\n",
              "      <td>2021-12-16 21:00:16+00:00</td>\n",
              "      <td>2021-12-17 08:10:31+00:00</td>\n",
              "      <td>ecoscore-impact-estimator</td>\n",
              "      <td>2024-02-12 13:34:36+00:00</td>\n",
              "      <td>Mini chaussons à la compote de pomme</td>\n",
              "      <td>&lt;NA&gt;</td>\n",
              "      <td>250 g</td>\n",
              "      <td>...</td>\n",
              "      <td>NaN</td>\n",
              "      <td>NaN</td>\n",
              "      <td>NaN</td>\n",
              "      <td>NaN</td>\n",
              "      <td>NaN</td>\n",
              "      <td>NaN</td>\n",
              "      <td>NaN</td>\n",
              "      <td>NaN</td>\n",
              "      <td>7.350000</td>\n",
              "      <td>15</td>\n",
              "    </tr>\n",
              "    <tr>\n",
              "      <th>3</th>\n",
              "      <td>0000159487776</td>\n",
              "      <td>http://world-en.openfoodfacts.org/product/0000159487776/milkyway-magic-stars-chocolates</td>\n",
              "      <td>usda-ndb-import</td>\n",
              "      <td>2017-03-09 16:01:56+00:00</td>\n",
              "      <td>2020-04-22 20:31:56+00:00</td>\n",
              "      <td>org-database-usda</td>\n",
              "      <td>2024-02-09 14:48:51+00:00</td>\n",
              "      <td>Milkyway, magic stars chocolates</td>\n",
              "      <td>&lt;NA&gt;</td>\n",
              "      <td>&lt;NA&gt;</td>\n",
              "      <td>...</td>\n",
              "      <td>NaN</td>\n",
              "      <td>NaN</td>\n",
              "      <td>NaN</td>\n",
              "      <td>NaN</td>\n",
              "      <td>NaN</td>\n",
              "      <td>NaN</td>\n",
              "      <td>NaN</td>\n",
              "      <td>NaN</td>\n",
              "      <td>0.000000</td>\n",
              "      <td>&lt;NA&gt;</td>\n",
              "    </tr>\n",
              "    <tr>\n",
              "      <th>4</th>\n",
              "      <td>0000182006180</td>\n",
              "      <td>http://world-en.openfoodfacts.org/product/0000182006180/knusper-musli-mango-gut-bio</td>\n",
              "      <td>tobiasseidel</td>\n",
              "      <td>2024-01-19 06:22:10+00:00</td>\n",
              "      <td>2024-01-19 06:32:48+00:00</td>\n",
              "      <td>tobiasseidel</td>\n",
              "      <td>2024-02-14 06:14:40+00:00</td>\n",
              "      <td>Knusper-Müsli Mango</td>\n",
              "      <td>&lt;NA&gt;</td>\n",
              "      <td>500g</td>\n",
              "      <td>...</td>\n",
              "      <td>NaN</td>\n",
              "      <td>NaN</td>\n",
              "      <td>NaN</td>\n",
              "      <td>NaN</td>\n",
              "      <td>NaN</td>\n",
              "      <td>NaN</td>\n",
              "      <td>NaN</td>\n",
              "      <td>NaN</td>\n",
              "      <td>10.500000</td>\n",
              "      <td>-3</td>\n",
              "    </tr>\n",
              "    <tr>\n",
              "      <th>...</th>\n",
              "      <td>...</td>\n",
              "      <td>...</td>\n",
              "      <td>...</td>\n",
              "      <td>...</td>\n",
              "      <td>...</td>\n",
              "      <td>...</td>\n",
              "      <td>...</td>\n",
              "      <td>...</td>\n",
              "      <td>...</td>\n",
              "      <td>...</td>\n",
              "      <td>...</td>\n",
              "      <td>...</td>\n",
              "      <td>...</td>\n",
              "      <td>...</td>\n",
              "      <td>...</td>\n",
              "      <td>...</td>\n",
              "      <td>...</td>\n",
              "      <td>...</td>\n",
              "      <td>...</td>\n",
              "      <td>...</td>\n",
              "      <td>...</td>\n",
              "    </tr>\n",
              "    <tr>\n",
              "      <th>778720</th>\n",
              "      <td>9999941860884</td>\n",
              "      <td>http://world-en.openfoodfacts.org/product/9999941860884/tofu-nature-taifun</td>\n",
              "      <td>kiliweb</td>\n",
              "      <td>2023-01-29 09:29:23+00:00</td>\n",
              "      <td>2023-03-28 11:24:20+00:00</td>\n",
              "      <td>itsjustruby</td>\n",
              "      <td>2024-02-14 01:54:10+00:00</td>\n",
              "      <td>Tofu nature</td>\n",
              "      <td>&lt;NA&gt;</td>\n",
              "      <td>200g</td>\n",
              "      <td>...</td>\n",
              "      <td>NaN</td>\n",
              "      <td>NaN</td>\n",
              "      <td>NaN</td>\n",
              "      <td>NaN</td>\n",
              "      <td>NaN</td>\n",
              "      <td>NaN</td>\n",
              "      <td>NaN</td>\n",
              "      <td>NaN</td>\n",
              "      <td>55.000000</td>\n",
              "      <td>-3</td>\n",
              "    </tr>\n",
              "    <tr>\n",
              "      <th>778721</th>\n",
              "      <td>9999991042704</td>\n",
              "      <td>http://world-en.openfoodfacts.org/product/9999991042704/yaourt-vanille-patapain</td>\n",
              "      <td>kiliweb</td>\n",
              "      <td>2018-05-09 10:46:24+00:00</td>\n",
              "      <td>2024-06-16 21:10:13+00:00</td>\n",
              "      <td>geodata</td>\n",
              "      <td>2024-06-16 21:10:13+00:00</td>\n",
              "      <td>Yaourt vanille</td>\n",
              "      <td>&lt;NA&gt;</td>\n",
              "      <td>120 g</td>\n",
              "      <td>...</td>\n",
              "      <td>NaN</td>\n",
              "      <td>NaN</td>\n",
              "      <td>NaN</td>\n",
              "      <td>NaN</td>\n",
              "      <td>NaN</td>\n",
              "      <td>NaN</td>\n",
              "      <td>NaN</td>\n",
              "      <td>NaN</td>\n",
              "      <td>0.000000</td>\n",
              "      <td>7</td>\n",
              "    </tr>\n",
              "    <tr>\n",
              "      <th>778722</th>\n",
              "      <td>9999991149090</td>\n",
              "      <td>http://world-en.openfoodfacts.org/product/9999991149090/riz-parfume-king-elephant</td>\n",
              "      <td>kiliweb</td>\n",
              "      <td>2018-02-20 17:07:29+00:00</td>\n",
              "      <td>2018-12-20 20:51:04+00:00</td>\n",
              "      <td>roboto-app</td>\n",
              "      <td>2024-02-10 21:06:07+00:00</td>\n",
              "      <td>Riz parfumé</td>\n",
              "      <td>&lt;NA&gt;</td>\n",
              "      <td>&lt;NA&gt;</td>\n",
              "      <td>...</td>\n",
              "      <td>NaN</td>\n",
              "      <td>NaN</td>\n",
              "      <td>NaN</td>\n",
              "      <td>NaN</td>\n",
              "      <td>NaN</td>\n",
              "      <td>NaN</td>\n",
              "      <td>NaN</td>\n",
              "      <td>NaN</td>\n",
              "      <td>NaN</td>\n",
              "      <td>0</td>\n",
              "    </tr>\n",
              "    <tr>\n",
              "      <th>778723</th>\n",
              "      <td>9999994666013</td>\n",
              "      <td>http://world-en.openfoodfacts.org/product/9999994666013/skimmed-milk-tesco</td>\n",
              "      <td>jrg2024</td>\n",
              "      <td>2024-06-10 07:11:28+00:00</td>\n",
              "      <td>2024-06-10 07:24:04+00:00</td>\n",
              "      <td>roboto-app</td>\n",
              "      <td>2024-06-10 07:24:04+00:00</td>\n",
              "      <td>Skimmed Milk</td>\n",
              "      <td>&lt;NA&gt;</td>\n",
              "      <td>&lt;NA&gt;</td>\n",
              "      <td>...</td>\n",
              "      <td>NaN</td>\n",
              "      <td>NaN</td>\n",
              "      <td>NaN</td>\n",
              "      <td>NaN</td>\n",
              "      <td>NaN</td>\n",
              "      <td>NaN</td>\n",
              "      <td>NaN</td>\n",
              "      <td>NaN</td>\n",
              "      <td>0.000000</td>\n",
              "      <td>-1</td>\n",
              "    </tr>\n",
              "    <tr>\n",
              "      <th>778724</th>\n",
              "      <td>9999999175305</td>\n",
              "      <td>http://world-en.openfoodfacts.org/product/9999999175305/erdbeerkuchen-1019g-tiefgefroren-coppenrath-wiese</td>\n",
              "      <td>sil</td>\n",
              "      <td>2019-12-22 08:13:01+00:00</td>\n",
              "      <td>2022-02-11 08:41:07+00:00</td>\n",
              "      <td>packbot</td>\n",
              "      <td>2024-02-11 08:10:01+00:00</td>\n",
              "      <td>Erdbeerkuchen 1019g tiefgefroren</td>\n",
              "      <td>&lt;NA&gt;</td>\n",
              "      <td>1,019 kg</td>\n",
              "      <td>...</td>\n",
              "      <td>NaN</td>\n",
              "      <td>NaN</td>\n",
              "      <td>NaN</td>\n",
              "      <td>NaN</td>\n",
              "      <td>NaN</td>\n",
              "      <td>NaN</td>\n",
              "      <td>NaN</td>\n",
              "      <td>NaN</td>\n",
              "      <td>12.014794</td>\n",
              "      <td>12</td>\n",
              "    </tr>\n",
              "  </tbody>\n",
              "</table>\n",
              "<p>778725 rows × 76 columns</p>\n",
              "</div>"
            ],
            "text/plain": [
              "                 code  \\\n",
              "0       0000101209159   \n",
              "1       0000131327786   \n",
              "2       0000155011159   \n",
              "3       0000159487776   \n",
              "4       0000182006180   \n",
              "...               ...   \n",
              "778720  9999941860884   \n",
              "778721  9999991042704   \n",
              "778722  9999991149090   \n",
              "778723  9999994666013   \n",
              "778724  9999999175305   \n",
              "\n",
              "                                                                                                                  url  \\\n",
              "0       http://world-en.openfoodfacts.org/product/0000101209159/veritable-pate-a-tartiner-noisettes-chocolat-noir-...   \n",
              "1                                    http://world-en.openfoodfacts.org/product/0000131327786/lime-cordial-sainsbury-s   \n",
              "2            http://world-en.openfoodfacts.org/product/0000155011159/mini-chaussons-a-la-compote-de-pomme-intermarche   \n",
              "3                             http://world-en.openfoodfacts.org/product/0000159487776/milkyway-magic-stars-chocolates   \n",
              "4                                 http://world-en.openfoodfacts.org/product/0000182006180/knusper-musli-mango-gut-bio   \n",
              "...                                                                                                               ...   \n",
              "778720                                     http://world-en.openfoodfacts.org/product/9999941860884/tofu-nature-taifun   \n",
              "778721                                http://world-en.openfoodfacts.org/product/9999991042704/yaourt-vanille-patapain   \n",
              "778722                              http://world-en.openfoodfacts.org/product/9999991149090/riz-parfume-king-elephant   \n",
              "778723                                     http://world-en.openfoodfacts.org/product/9999994666013/skimmed-milk-tesco   \n",
              "778724      http://world-en.openfoodfacts.org/product/9999999175305/erdbeerkuchen-1019g-tiefgefroren-coppenrath-wiese   \n",
              "\n",
              "                creator          created_datetime    last_modified_datetime  \\\n",
              "0               kiliweb 2018-02-22 10:56:57+00:00 2023-04-28 23:59:01+00:00   \n",
              "1          blakejones99 2024-06-01 20:48:44+00:00 2024-06-01 22:13:50+00:00   \n",
              "2               kiliweb 2021-12-16 21:00:16+00:00 2021-12-17 08:10:31+00:00   \n",
              "3       usda-ndb-import 2017-03-09 16:01:56+00:00 2020-04-22 20:31:56+00:00   \n",
              "4          tobiasseidel 2024-01-19 06:22:10+00:00 2024-01-19 06:32:48+00:00   \n",
              "...                 ...                       ...                       ...   \n",
              "778720          kiliweb 2023-01-29 09:29:23+00:00 2023-03-28 11:24:20+00:00   \n",
              "778721          kiliweb 2018-05-09 10:46:24+00:00 2024-06-16 21:10:13+00:00   \n",
              "778722          kiliweb 2018-02-20 17:07:29+00:00 2018-12-20 20:51:04+00:00   \n",
              "778723          jrg2024 2024-06-10 07:11:28+00:00 2024-06-10 07:24:04+00:00   \n",
              "778724              sil 2019-12-22 08:13:01+00:00 2022-02-11 08:41:07+00:00   \n",
              "\n",
              "                 last_modified_by     last_updated_datetime  \\\n",
              "0                      roboto-app 2024-02-09 14:48:49+00:00   \n",
              "1                      roboto-app 2024-06-01 22:13:50+00:00   \n",
              "2       ecoscore-impact-estimator 2024-02-12 13:34:36+00:00   \n",
              "3               org-database-usda 2024-02-09 14:48:51+00:00   \n",
              "4                    tobiasseidel 2024-02-14 06:14:40+00:00   \n",
              "...                           ...                       ...   \n",
              "778720                itsjustruby 2024-02-14 01:54:10+00:00   \n",
              "778721                    geodata 2024-06-16 21:10:13+00:00   \n",
              "778722                 roboto-app 2024-02-10 21:06:07+00:00   \n",
              "778723                 roboto-app 2024-06-10 07:24:04+00:00   \n",
              "778724                    packbot 2024-02-11 08:10:01+00:00   \n",
              "\n",
              "                                             product_name generic_name  \\\n",
              "0       Véritable pâte à tartiner noisettes chocolat noir         <NA>   \n",
              "1                                            Lime Cordial         <NA>   \n",
              "2                    Mini chaussons à la compote de pomme         <NA>   \n",
              "3                        Milkyway, magic stars chocolates         <NA>   \n",
              "4                                     Knusper-Müsli Mango         <NA>   \n",
              "...                                                   ...          ...   \n",
              "778720                                        Tofu nature         <NA>   \n",
              "778721                                     Yaourt vanille         <NA>   \n",
              "778722                                        Riz parfumé         <NA>   \n",
              "778723                                       Skimmed Milk         <NA>   \n",
              "778724                   Erdbeerkuchen 1019g tiefgefroren         <NA>   \n",
              "\n",
              "        quantity  ... vitamin-a_100g vitamin-d_100g vitamin-c_100g  \\\n",
              "0          350 g  ...            NaN            NaN            NaN   \n",
              "1             1l  ...            NaN            NaN            NaN   \n",
              "2          250 g  ...            NaN            NaN            NaN   \n",
              "3           <NA>  ...            NaN            NaN            NaN   \n",
              "4           500g  ...            NaN            NaN            NaN   \n",
              "...          ...  ...            ...            ...            ...   \n",
              "778720      200g  ...            NaN            NaN            NaN   \n",
              "778721     120 g  ...            NaN            NaN            NaN   \n",
              "778722      <NA>  ...            NaN            NaN            NaN   \n",
              "778723      <NA>  ...            NaN            NaN            NaN   \n",
              "778724  1,019 kg  ...            NaN            NaN            NaN   \n",
              "\n",
              "       vitamin-b1_100g vitamin-b2_100g potassium_100g calcium_100g iron_100g  \\\n",
              "0                  NaN             NaN            NaN          NaN       NaN   \n",
              "1                  NaN             NaN            NaN          NaN       NaN   \n",
              "2                  NaN             NaN            NaN          NaN       NaN   \n",
              "3                  NaN             NaN            NaN          NaN       NaN   \n",
              "4                  NaN             NaN            NaN          NaN       NaN   \n",
              "...                ...             ...            ...          ...       ...   \n",
              "778720             NaN             NaN            NaN          NaN       NaN   \n",
              "778721             NaN             NaN            NaN          NaN       NaN   \n",
              "778722             NaN             NaN            NaN          NaN       NaN   \n",
              "778723             NaN             NaN            NaN          NaN       NaN   \n",
              "778724             NaN             NaN            NaN          NaN       NaN   \n",
              "\n",
              "       fruits-vegetables-nuts-estimate-from-ingredients_100g  \\\n",
              "0                                                        NaN   \n",
              "1                                                  30.000000   \n",
              "2                                                   7.350000   \n",
              "3                                                   0.000000   \n",
              "4                                                  10.500000   \n",
              "...                                                      ...   \n",
              "778720                                             55.000000   \n",
              "778721                                              0.000000   \n",
              "778722                                                   NaN   \n",
              "778723                                              0.000000   \n",
              "778724                                             12.014794   \n",
              "\n",
              "       nutrition-score-fr_100g  \n",
              "0                           23  \n",
              "1                         <NA>  \n",
              "2                           15  \n",
              "3                         <NA>  \n",
              "4                           -3  \n",
              "...                        ...  \n",
              "778720                      -3  \n",
              "778721                       7  \n",
              "778722                       0  \n",
              "778723                      -1  \n",
              "778724                      12  \n",
              "\n",
              "[778725 rows x 76 columns]"
            ]
          },
          "execution_count": 3,
          "metadata": {},
          "output_type": "execute_result"
        }
      ],
      "source": [
        "df"
      ]
    },
    {
      "cell_type": "markdown",
      "metadata": {
        "id": "BJUlS9O3Ou2q"
      },
      "source": [
        "The dataset is loaded in a pandas DataFrame, a type of object described in the [pandas intro tutorial 01](https://pandas.pydata.org/docs/getting_started/intro_tutorials/01_table_oriented.html)."
      ]
    },
    {
      "cell_type": "markdown",
      "metadata": {
        "id": "zdU6oj0eoDEI"
      },
      "source": [
        "By default pandas displays the column headers, the first and last five rows with their row index, the total number of rows and columns."
      ]
    },
    {
      "cell_type": "markdown",
      "metadata": {
        "id": "XWrf7DeO1H9x"
      },
      "source": [
        "**Question** How many rows and columns does the table contain in total ?"
      ]
    },
    {
      "cell_type": "markdown",
      "metadata": {
        "id": "iBmyOOcqBKgy"
      },
      "source": [
        "### First glance at the dataset"
      ]
    },
    {
      "cell_type": "markdown",
      "metadata": {
        "id": "-dBvbb5J1Jed"
      },
      "source": [
        "You can display the first `n` entries of a Dataframe with the DataFrame method [head](https://pandas.pydata.org/docs/reference/api/pandas.DataFrame.head.html), and the last `n` entries with [tail](https://pandas.pydata.org/docs/reference/api/pandas.DataFrame.tail.html#pandas.DataFrame.tail).\n",
        "\n",
        "> **HINT**: Remember that methods are attached to an object, and are called with the dot notation."
      ]
    },
    {
      "cell_type": "markdown",
      "metadata": {
        "id": "wuLYyr8oBZre"
      },
      "source": [
        "You can call [head](https://pandas.pydata.org/docs/reference/api/pandas.DataFrame.head.html) with no parameter."
      ]
    },
    {
      "cell_type": "code",
      "execution_count": 4,
      "metadata": {
        "id": "H-QIrhlN1obK"
      },
      "outputs": [
        {
          "data": {
            "text/html": [
              "<div>\n",
              "<style scoped>\n",
              "    .dataframe tbody tr th:only-of-type {\n",
              "        vertical-align: middle;\n",
              "    }\n",
              "\n",
              "    .dataframe tbody tr th {\n",
              "        vertical-align: top;\n",
              "    }\n",
              "\n",
              "    .dataframe thead th {\n",
              "        text-align: right;\n",
              "    }\n",
              "</style>\n",
              "<table border=\"1\" class=\"dataframe\">\n",
              "  <thead>\n",
              "    <tr style=\"text-align: right;\">\n",
              "      <th></th>\n",
              "      <th>code</th>\n",
              "      <th>url</th>\n",
              "      <th>creator</th>\n",
              "      <th>created_datetime</th>\n",
              "      <th>last_modified_datetime</th>\n",
              "      <th>last_modified_by</th>\n",
              "      <th>last_updated_datetime</th>\n",
              "      <th>product_name</th>\n",
              "      <th>generic_name</th>\n",
              "      <th>quantity</th>\n",
              "      <th>...</th>\n",
              "      <th>vitamin-a_100g</th>\n",
              "      <th>vitamin-d_100g</th>\n",
              "      <th>vitamin-c_100g</th>\n",
              "      <th>vitamin-b1_100g</th>\n",
              "      <th>vitamin-b2_100g</th>\n",
              "      <th>potassium_100g</th>\n",
              "      <th>calcium_100g</th>\n",
              "      <th>iron_100g</th>\n",
              "      <th>fruits-vegetables-nuts-estimate-from-ingredients_100g</th>\n",
              "      <th>nutrition-score-fr_100g</th>\n",
              "    </tr>\n",
              "  </thead>\n",
              "  <tbody>\n",
              "    <tr>\n",
              "      <th>0</th>\n",
              "      <td>0000101209159</td>\n",
              "      <td>http://world-en.openfoodfacts.org/product/0000101209159/veritable-pate-a-tartiner-noisettes-chocolat-noir-...</td>\n",
              "      <td>kiliweb</td>\n",
              "      <td>2018-02-22 10:56:57+00:00</td>\n",
              "      <td>2023-04-28 23:59:01+00:00</td>\n",
              "      <td>roboto-app</td>\n",
              "      <td>2024-02-09 14:48:49+00:00</td>\n",
              "      <td>Véritable pâte à tartiner noisettes chocolat noir</td>\n",
              "      <td>&lt;NA&gt;</td>\n",
              "      <td>350 g</td>\n",
              "      <td>...</td>\n",
              "      <td>NaN</td>\n",
              "      <td>NaN</td>\n",
              "      <td>NaN</td>\n",
              "      <td>NaN</td>\n",
              "      <td>NaN</td>\n",
              "      <td>NaN</td>\n",
              "      <td>NaN</td>\n",
              "      <td>NaN</td>\n",
              "      <td>NaN</td>\n",
              "      <td>23</td>\n",
              "    </tr>\n",
              "    <tr>\n",
              "      <th>1</th>\n",
              "      <td>0000131327786</td>\n",
              "      <td>http://world-en.openfoodfacts.org/product/0000131327786/lime-cordial-sainsbury-s</td>\n",
              "      <td>blakejones99</td>\n",
              "      <td>2024-06-01 20:48:44+00:00</td>\n",
              "      <td>2024-06-01 22:13:50+00:00</td>\n",
              "      <td>roboto-app</td>\n",
              "      <td>2024-06-01 22:13:50+00:00</td>\n",
              "      <td>Lime Cordial</td>\n",
              "      <td>&lt;NA&gt;</td>\n",
              "      <td>1l</td>\n",
              "      <td>...</td>\n",
              "      <td>NaN</td>\n",
              "      <td>NaN</td>\n",
              "      <td>NaN</td>\n",
              "      <td>NaN</td>\n",
              "      <td>NaN</td>\n",
              "      <td>NaN</td>\n",
              "      <td>NaN</td>\n",
              "      <td>NaN</td>\n",
              "      <td>30.00</td>\n",
              "      <td>&lt;NA&gt;</td>\n",
              "    </tr>\n",
              "    <tr>\n",
              "      <th>2</th>\n",
              "      <td>0000155011159</td>\n",
              "      <td>http://world-en.openfoodfacts.org/product/0000155011159/mini-chaussons-a-la-compote-de-pomme-intermarche</td>\n",
              "      <td>kiliweb</td>\n",
              "      <td>2021-12-16 21:00:16+00:00</td>\n",
              "      <td>2021-12-17 08:10:31+00:00</td>\n",
              "      <td>ecoscore-impact-estimator</td>\n",
              "      <td>2024-02-12 13:34:36+00:00</td>\n",
              "      <td>Mini chaussons à la compote de pomme</td>\n",
              "      <td>&lt;NA&gt;</td>\n",
              "      <td>250 g</td>\n",
              "      <td>...</td>\n",
              "      <td>NaN</td>\n",
              "      <td>NaN</td>\n",
              "      <td>NaN</td>\n",
              "      <td>NaN</td>\n",
              "      <td>NaN</td>\n",
              "      <td>NaN</td>\n",
              "      <td>NaN</td>\n",
              "      <td>NaN</td>\n",
              "      <td>7.35</td>\n",
              "      <td>15</td>\n",
              "    </tr>\n",
              "    <tr>\n",
              "      <th>3</th>\n",
              "      <td>0000159487776</td>\n",
              "      <td>http://world-en.openfoodfacts.org/product/0000159487776/milkyway-magic-stars-chocolates</td>\n",
              "      <td>usda-ndb-import</td>\n",
              "      <td>2017-03-09 16:01:56+00:00</td>\n",
              "      <td>2020-04-22 20:31:56+00:00</td>\n",
              "      <td>org-database-usda</td>\n",
              "      <td>2024-02-09 14:48:51+00:00</td>\n",
              "      <td>Milkyway, magic stars chocolates</td>\n",
              "      <td>&lt;NA&gt;</td>\n",
              "      <td>&lt;NA&gt;</td>\n",
              "      <td>...</td>\n",
              "      <td>NaN</td>\n",
              "      <td>NaN</td>\n",
              "      <td>NaN</td>\n",
              "      <td>NaN</td>\n",
              "      <td>NaN</td>\n",
              "      <td>NaN</td>\n",
              "      <td>NaN</td>\n",
              "      <td>NaN</td>\n",
              "      <td>0.00</td>\n",
              "      <td>&lt;NA&gt;</td>\n",
              "    </tr>\n",
              "    <tr>\n",
              "      <th>4</th>\n",
              "      <td>0000182006180</td>\n",
              "      <td>http://world-en.openfoodfacts.org/product/0000182006180/knusper-musli-mango-gut-bio</td>\n",
              "      <td>tobiasseidel</td>\n",
              "      <td>2024-01-19 06:22:10+00:00</td>\n",
              "      <td>2024-01-19 06:32:48+00:00</td>\n",
              "      <td>tobiasseidel</td>\n",
              "      <td>2024-02-14 06:14:40+00:00</td>\n",
              "      <td>Knusper-Müsli Mango</td>\n",
              "      <td>&lt;NA&gt;</td>\n",
              "      <td>500g</td>\n",
              "      <td>...</td>\n",
              "      <td>NaN</td>\n",
              "      <td>NaN</td>\n",
              "      <td>NaN</td>\n",
              "      <td>NaN</td>\n",
              "      <td>NaN</td>\n",
              "      <td>NaN</td>\n",
              "      <td>NaN</td>\n",
              "      <td>NaN</td>\n",
              "      <td>10.50</td>\n",
              "      <td>-3</td>\n",
              "    </tr>\n",
              "  </tbody>\n",
              "</table>\n",
              "<p>5 rows × 76 columns</p>\n",
              "</div>"
            ],
            "text/plain": [
              "            code  \\\n",
              "0  0000101209159   \n",
              "1  0000131327786   \n",
              "2  0000155011159   \n",
              "3  0000159487776   \n",
              "4  0000182006180   \n",
              "\n",
              "                                                                                                             url  \\\n",
              "0  http://world-en.openfoodfacts.org/product/0000101209159/veritable-pate-a-tartiner-noisettes-chocolat-noir-...   \n",
              "1                               http://world-en.openfoodfacts.org/product/0000131327786/lime-cordial-sainsbury-s   \n",
              "2       http://world-en.openfoodfacts.org/product/0000155011159/mini-chaussons-a-la-compote-de-pomme-intermarche   \n",
              "3                        http://world-en.openfoodfacts.org/product/0000159487776/milkyway-magic-stars-chocolates   \n",
              "4                            http://world-en.openfoodfacts.org/product/0000182006180/knusper-musli-mango-gut-bio   \n",
              "\n",
              "           creator          created_datetime    last_modified_datetime  \\\n",
              "0          kiliweb 2018-02-22 10:56:57+00:00 2023-04-28 23:59:01+00:00   \n",
              "1     blakejones99 2024-06-01 20:48:44+00:00 2024-06-01 22:13:50+00:00   \n",
              "2          kiliweb 2021-12-16 21:00:16+00:00 2021-12-17 08:10:31+00:00   \n",
              "3  usda-ndb-import 2017-03-09 16:01:56+00:00 2020-04-22 20:31:56+00:00   \n",
              "4     tobiasseidel 2024-01-19 06:22:10+00:00 2024-01-19 06:32:48+00:00   \n",
              "\n",
              "            last_modified_by     last_updated_datetime  \\\n",
              "0                 roboto-app 2024-02-09 14:48:49+00:00   \n",
              "1                 roboto-app 2024-06-01 22:13:50+00:00   \n",
              "2  ecoscore-impact-estimator 2024-02-12 13:34:36+00:00   \n",
              "3          org-database-usda 2024-02-09 14:48:51+00:00   \n",
              "4               tobiasseidel 2024-02-14 06:14:40+00:00   \n",
              "\n",
              "                                        product_name generic_name quantity  \\\n",
              "0  Véritable pâte à tartiner noisettes chocolat noir         <NA>    350 g   \n",
              "1                                       Lime Cordial         <NA>       1l   \n",
              "2               Mini chaussons à la compote de pomme         <NA>    250 g   \n",
              "3                   Milkyway, magic stars chocolates         <NA>     <NA>   \n",
              "4                                Knusper-Müsli Mango         <NA>     500g   \n",
              "\n",
              "   ... vitamin-a_100g vitamin-d_100g vitamin-c_100g vitamin-b1_100g  \\\n",
              "0  ...            NaN            NaN            NaN             NaN   \n",
              "1  ...            NaN            NaN            NaN             NaN   \n",
              "2  ...            NaN            NaN            NaN             NaN   \n",
              "3  ...            NaN            NaN            NaN             NaN   \n",
              "4  ...            NaN            NaN            NaN             NaN   \n",
              "\n",
              "  vitamin-b2_100g potassium_100g calcium_100g iron_100g  \\\n",
              "0             NaN            NaN          NaN       NaN   \n",
              "1             NaN            NaN          NaN       NaN   \n",
              "2             NaN            NaN          NaN       NaN   \n",
              "3             NaN            NaN          NaN       NaN   \n",
              "4             NaN            NaN          NaN       NaN   \n",
              "\n",
              "  fruits-vegetables-nuts-estimate-from-ingredients_100g  \\\n",
              "0                                                   NaN   \n",
              "1                                                 30.00   \n",
              "2                                                  7.35   \n",
              "3                                                  0.00   \n",
              "4                                                 10.50   \n",
              "\n",
              "  nutrition-score-fr_100g  \n",
              "0                      23  \n",
              "1                    <NA>  \n",
              "2                      15  \n",
              "3                    <NA>  \n",
              "4                      -3  \n",
              "\n",
              "[5 rows x 76 columns]"
            ]
          },
          "execution_count": 4,
          "metadata": {},
          "output_type": "execute_result"
        }
      ],
      "source": [
        "# (just execute this cell)\n",
        "df.head()"
      ]
    },
    {
      "cell_type": "markdown",
      "metadata": {
        "id": "ZDNzibVG1c-m"
      },
      "source": [
        "You can call `head` with a parameter `n=7` (or just `7`) to display the first 7 entries."
      ]
    },
    {
      "cell_type": "code",
      "execution_count": 5,
      "metadata": {
        "id": "-u7BYnhC1f2N"
      },
      "outputs": [
        {
          "data": {
            "text/html": [
              "<div>\n",
              "<style scoped>\n",
              "    .dataframe tbody tr th:only-of-type {\n",
              "        vertical-align: middle;\n",
              "    }\n",
              "\n",
              "    .dataframe tbody tr th {\n",
              "        vertical-align: top;\n",
              "    }\n",
              "\n",
              "    .dataframe thead th {\n",
              "        text-align: right;\n",
              "    }\n",
              "</style>\n",
              "<table border=\"1\" class=\"dataframe\">\n",
              "  <thead>\n",
              "    <tr style=\"text-align: right;\">\n",
              "      <th></th>\n",
              "      <th>code</th>\n",
              "      <th>url</th>\n",
              "      <th>creator</th>\n",
              "      <th>created_datetime</th>\n",
              "      <th>last_modified_datetime</th>\n",
              "      <th>last_modified_by</th>\n",
              "      <th>last_updated_datetime</th>\n",
              "      <th>product_name</th>\n",
              "      <th>generic_name</th>\n",
              "      <th>quantity</th>\n",
              "      <th>...</th>\n",
              "      <th>vitamin-a_100g</th>\n",
              "      <th>vitamin-d_100g</th>\n",
              "      <th>vitamin-c_100g</th>\n",
              "      <th>vitamin-b1_100g</th>\n",
              "      <th>vitamin-b2_100g</th>\n",
              "      <th>potassium_100g</th>\n",
              "      <th>calcium_100g</th>\n",
              "      <th>iron_100g</th>\n",
              "      <th>fruits-vegetables-nuts-estimate-from-ingredients_100g</th>\n",
              "      <th>nutrition-score-fr_100g</th>\n",
              "    </tr>\n",
              "  </thead>\n",
              "  <tbody>\n",
              "    <tr>\n",
              "      <th>0</th>\n",
              "      <td>0000101209159</td>\n",
              "      <td>http://world-en.openfoodfacts.org/product/0000101209159/veritable-pate-a-tartiner-noisettes-chocolat-noir-...</td>\n",
              "      <td>kiliweb</td>\n",
              "      <td>2018-02-22 10:56:57+00:00</td>\n",
              "      <td>2023-04-28 23:59:01+00:00</td>\n",
              "      <td>roboto-app</td>\n",
              "      <td>2024-02-09 14:48:49+00:00</td>\n",
              "      <td>Véritable pâte à tartiner noisettes chocolat noir</td>\n",
              "      <td>&lt;NA&gt;</td>\n",
              "      <td>350 g</td>\n",
              "      <td>...</td>\n",
              "      <td>NaN</td>\n",
              "      <td>NaN</td>\n",
              "      <td>NaN</td>\n",
              "      <td>NaN</td>\n",
              "      <td>NaN</td>\n",
              "      <td>NaN</td>\n",
              "      <td>NaN</td>\n",
              "      <td>NaN</td>\n",
              "      <td>NaN</td>\n",
              "      <td>23</td>\n",
              "    </tr>\n",
              "    <tr>\n",
              "      <th>1</th>\n",
              "      <td>0000131327786</td>\n",
              "      <td>http://world-en.openfoodfacts.org/product/0000131327786/lime-cordial-sainsbury-s</td>\n",
              "      <td>blakejones99</td>\n",
              "      <td>2024-06-01 20:48:44+00:00</td>\n",
              "      <td>2024-06-01 22:13:50+00:00</td>\n",
              "      <td>roboto-app</td>\n",
              "      <td>2024-06-01 22:13:50+00:00</td>\n",
              "      <td>Lime Cordial</td>\n",
              "      <td>&lt;NA&gt;</td>\n",
              "      <td>1l</td>\n",
              "      <td>...</td>\n",
              "      <td>NaN</td>\n",
              "      <td>NaN</td>\n",
              "      <td>NaN</td>\n",
              "      <td>NaN</td>\n",
              "      <td>NaN</td>\n",
              "      <td>NaN</td>\n",
              "      <td>NaN</td>\n",
              "      <td>NaN</td>\n",
              "      <td>30.00</td>\n",
              "      <td>&lt;NA&gt;</td>\n",
              "    </tr>\n",
              "    <tr>\n",
              "      <th>2</th>\n",
              "      <td>0000155011159</td>\n",
              "      <td>http://world-en.openfoodfacts.org/product/0000155011159/mini-chaussons-a-la-compote-de-pomme-intermarche</td>\n",
              "      <td>kiliweb</td>\n",
              "      <td>2021-12-16 21:00:16+00:00</td>\n",
              "      <td>2021-12-17 08:10:31+00:00</td>\n",
              "      <td>ecoscore-impact-estimator</td>\n",
              "      <td>2024-02-12 13:34:36+00:00</td>\n",
              "      <td>Mini chaussons à la compote de pomme</td>\n",
              "      <td>&lt;NA&gt;</td>\n",
              "      <td>250 g</td>\n",
              "      <td>...</td>\n",
              "      <td>NaN</td>\n",
              "      <td>NaN</td>\n",
              "      <td>NaN</td>\n",
              "      <td>NaN</td>\n",
              "      <td>NaN</td>\n",
              "      <td>NaN</td>\n",
              "      <td>NaN</td>\n",
              "      <td>NaN</td>\n",
              "      <td>7.35</td>\n",
              "      <td>15</td>\n",
              "    </tr>\n",
              "    <tr>\n",
              "      <th>3</th>\n",
              "      <td>0000159487776</td>\n",
              "      <td>http://world-en.openfoodfacts.org/product/0000159487776/milkyway-magic-stars-chocolates</td>\n",
              "      <td>usda-ndb-import</td>\n",
              "      <td>2017-03-09 16:01:56+00:00</td>\n",
              "      <td>2020-04-22 20:31:56+00:00</td>\n",
              "      <td>org-database-usda</td>\n",
              "      <td>2024-02-09 14:48:51+00:00</td>\n",
              "      <td>Milkyway, magic stars chocolates</td>\n",
              "      <td>&lt;NA&gt;</td>\n",
              "      <td>&lt;NA&gt;</td>\n",
              "      <td>...</td>\n",
              "      <td>NaN</td>\n",
              "      <td>NaN</td>\n",
              "      <td>NaN</td>\n",
              "      <td>NaN</td>\n",
              "      <td>NaN</td>\n",
              "      <td>NaN</td>\n",
              "      <td>NaN</td>\n",
              "      <td>NaN</td>\n",
              "      <td>0.00</td>\n",
              "      <td>&lt;NA&gt;</td>\n",
              "    </tr>\n",
              "    <tr>\n",
              "      <th>4</th>\n",
              "      <td>0000182006180</td>\n",
              "      <td>http://world-en.openfoodfacts.org/product/0000182006180/knusper-musli-mango-gut-bio</td>\n",
              "      <td>tobiasseidel</td>\n",
              "      <td>2024-01-19 06:22:10+00:00</td>\n",
              "      <td>2024-01-19 06:32:48+00:00</td>\n",
              "      <td>tobiasseidel</td>\n",
              "      <td>2024-02-14 06:14:40+00:00</td>\n",
              "      <td>Knusper-Müsli Mango</td>\n",
              "      <td>&lt;NA&gt;</td>\n",
              "      <td>500g</td>\n",
              "      <td>...</td>\n",
              "      <td>NaN</td>\n",
              "      <td>NaN</td>\n",
              "      <td>NaN</td>\n",
              "      <td>NaN</td>\n",
              "      <td>NaN</td>\n",
              "      <td>NaN</td>\n",
              "      <td>NaN</td>\n",
              "      <td>NaN</td>\n",
              "      <td>10.50</td>\n",
              "      <td>-3</td>\n",
              "    </tr>\n",
              "    <tr>\n",
              "      <th>5</th>\n",
              "      <td>0000204286484</td>\n",
              "      <td>http://world-en.openfoodfacts.org/product/0000204286484/mehrkomponeneten-protein-90-c6-haselnuss-allfitnes...</td>\n",
              "      <td>allfitnessfactory-de</td>\n",
              "      <td>2016-12-30 12:12:46+00:00</td>\n",
              "      <td>2022-02-11 10:33:11+00:00</td>\n",
              "      <td>packbot</td>\n",
              "      <td>2024-02-09 14:48:51+00:00</td>\n",
              "      <td>Mehrkomponeneten Protein 90 C6 Haselnuß</td>\n",
              "      <td>Mehrkomponeneten Protein in Haselnuß Geschmack</td>\n",
              "      <td>2,5 kg</td>\n",
              "      <td>...</td>\n",
              "      <td>NaN</td>\n",
              "      <td>NaN</td>\n",
              "      <td>NaN</td>\n",
              "      <td>NaN</td>\n",
              "      <td>NaN</td>\n",
              "      <td>NaN</td>\n",
              "      <td>NaN</td>\n",
              "      <td>NaN</td>\n",
              "      <td>0.00</td>\n",
              "      <td>&lt;NA&gt;</td>\n",
              "    </tr>\n",
              "    <tr>\n",
              "      <th>6</th>\n",
              "      <td>0000209773750</td>\n",
              "      <td>http://world-en.openfoodfacts.org/product/0000209773750/tortitas-de-trigo-roti-wraps-lidl</td>\n",
              "      <td>kiliweb</td>\n",
              "      <td>2021-06-12 08:56:14+00:00</td>\n",
              "      <td>2023-12-04 19:29:11+00:00</td>\n",
              "      <td>mariacastiel</td>\n",
              "      <td>2024-02-13 15:27:29+00:00</td>\n",
              "      <td>Tortitas de trigo- Roti wraps</td>\n",
              "      <td>&lt;NA&gt;</td>\n",
              "      <td>&lt;NA&gt;</td>\n",
              "      <td>...</td>\n",
              "      <td>NaN</td>\n",
              "      <td>NaN</td>\n",
              "      <td>NaN</td>\n",
              "      <td>NaN</td>\n",
              "      <td>NaN</td>\n",
              "      <td>NaN</td>\n",
              "      <td>NaN</td>\n",
              "      <td>NaN</td>\n",
              "      <td>NaN</td>\n",
              "      <td>5</td>\n",
              "    </tr>\n",
              "  </tbody>\n",
              "</table>\n",
              "<p>7 rows × 76 columns</p>\n",
              "</div>"
            ],
            "text/plain": [
              "            code  \\\n",
              "0  0000101209159   \n",
              "1  0000131327786   \n",
              "2  0000155011159   \n",
              "3  0000159487776   \n",
              "4  0000182006180   \n",
              "5  0000204286484   \n",
              "6  0000209773750   \n",
              "\n",
              "                                                                                                             url  \\\n",
              "0  http://world-en.openfoodfacts.org/product/0000101209159/veritable-pate-a-tartiner-noisettes-chocolat-noir-...   \n",
              "1                               http://world-en.openfoodfacts.org/product/0000131327786/lime-cordial-sainsbury-s   \n",
              "2       http://world-en.openfoodfacts.org/product/0000155011159/mini-chaussons-a-la-compote-de-pomme-intermarche   \n",
              "3                        http://world-en.openfoodfacts.org/product/0000159487776/milkyway-magic-stars-chocolates   \n",
              "4                            http://world-en.openfoodfacts.org/product/0000182006180/knusper-musli-mango-gut-bio   \n",
              "5  http://world-en.openfoodfacts.org/product/0000204286484/mehrkomponeneten-protein-90-c6-haselnuss-allfitnes...   \n",
              "6                      http://world-en.openfoodfacts.org/product/0000209773750/tortitas-de-trigo-roti-wraps-lidl   \n",
              "\n",
              "                creator          created_datetime    last_modified_datetime  \\\n",
              "0               kiliweb 2018-02-22 10:56:57+00:00 2023-04-28 23:59:01+00:00   \n",
              "1          blakejones99 2024-06-01 20:48:44+00:00 2024-06-01 22:13:50+00:00   \n",
              "2               kiliweb 2021-12-16 21:00:16+00:00 2021-12-17 08:10:31+00:00   \n",
              "3       usda-ndb-import 2017-03-09 16:01:56+00:00 2020-04-22 20:31:56+00:00   \n",
              "4          tobiasseidel 2024-01-19 06:22:10+00:00 2024-01-19 06:32:48+00:00   \n",
              "5  allfitnessfactory-de 2016-12-30 12:12:46+00:00 2022-02-11 10:33:11+00:00   \n",
              "6               kiliweb 2021-06-12 08:56:14+00:00 2023-12-04 19:29:11+00:00   \n",
              "\n",
              "            last_modified_by     last_updated_datetime  \\\n",
              "0                 roboto-app 2024-02-09 14:48:49+00:00   \n",
              "1                 roboto-app 2024-06-01 22:13:50+00:00   \n",
              "2  ecoscore-impact-estimator 2024-02-12 13:34:36+00:00   \n",
              "3          org-database-usda 2024-02-09 14:48:51+00:00   \n",
              "4               tobiasseidel 2024-02-14 06:14:40+00:00   \n",
              "5                    packbot 2024-02-09 14:48:51+00:00   \n",
              "6               mariacastiel 2024-02-13 15:27:29+00:00   \n",
              "\n",
              "                                        product_name  \\\n",
              "0  Véritable pâte à tartiner noisettes chocolat noir   \n",
              "1                                       Lime Cordial   \n",
              "2               Mini chaussons à la compote de pomme   \n",
              "3                   Milkyway, magic stars chocolates   \n",
              "4                                Knusper-Müsli Mango   \n",
              "5            Mehrkomponeneten Protein 90 C6 Haselnuß   \n",
              "6                      Tortitas de trigo- Roti wraps   \n",
              "\n",
              "                                     generic_name quantity  ...  \\\n",
              "0                                            <NA>    350 g  ...   \n",
              "1                                            <NA>       1l  ...   \n",
              "2                                            <NA>    250 g  ...   \n",
              "3                                            <NA>     <NA>  ...   \n",
              "4                                            <NA>     500g  ...   \n",
              "5  Mehrkomponeneten Protein in Haselnuß Geschmack   2,5 kg  ...   \n",
              "6                                            <NA>     <NA>  ...   \n",
              "\n",
              "  vitamin-a_100g vitamin-d_100g vitamin-c_100g vitamin-b1_100g  \\\n",
              "0            NaN            NaN            NaN             NaN   \n",
              "1            NaN            NaN            NaN             NaN   \n",
              "2            NaN            NaN            NaN             NaN   \n",
              "3            NaN            NaN            NaN             NaN   \n",
              "4            NaN            NaN            NaN             NaN   \n",
              "5            NaN            NaN            NaN             NaN   \n",
              "6            NaN            NaN            NaN             NaN   \n",
              "\n",
              "  vitamin-b2_100g potassium_100g calcium_100g iron_100g  \\\n",
              "0             NaN            NaN          NaN       NaN   \n",
              "1             NaN            NaN          NaN       NaN   \n",
              "2             NaN            NaN          NaN       NaN   \n",
              "3             NaN            NaN          NaN       NaN   \n",
              "4             NaN            NaN          NaN       NaN   \n",
              "5             NaN            NaN          NaN       NaN   \n",
              "6             NaN            NaN          NaN       NaN   \n",
              "\n",
              "  fruits-vegetables-nuts-estimate-from-ingredients_100g  \\\n",
              "0                                                   NaN   \n",
              "1                                                 30.00   \n",
              "2                                                  7.35   \n",
              "3                                                  0.00   \n",
              "4                                                 10.50   \n",
              "5                                                  0.00   \n",
              "6                                                   NaN   \n",
              "\n",
              "  nutrition-score-fr_100g  \n",
              "0                      23  \n",
              "1                    <NA>  \n",
              "2                      15  \n",
              "3                    <NA>  \n",
              "4                      -3  \n",
              "5                    <NA>  \n",
              "6                       5  \n",
              "\n",
              "[7 rows x 76 columns]"
            ]
          },
          "execution_count": 5,
          "metadata": {},
          "output_type": "execute_result"
        }
      ],
      "source": [
        "df.head(n=7)  # or: df.head(7)"
      ]
    },
    {
      "cell_type": "markdown",
      "metadata": {
        "id": "w-hEqIhY1gSN"
      },
      "source": [
        "You can call [tail](https://pandas.pydata.org/docs/reference/api/pandas.DataFrame.tail.html#pandas.DataFrame.tail) with no parameter."
      ]
    },
    {
      "cell_type": "code",
      "execution_count": 6,
      "metadata": {
        "id": "m_y711og1irf"
      },
      "outputs": [
        {
          "data": {
            "text/html": [
              "<div>\n",
              "<style scoped>\n",
              "    .dataframe tbody tr th:only-of-type {\n",
              "        vertical-align: middle;\n",
              "    }\n",
              "\n",
              "    .dataframe tbody tr th {\n",
              "        vertical-align: top;\n",
              "    }\n",
              "\n",
              "    .dataframe thead th {\n",
              "        text-align: right;\n",
              "    }\n",
              "</style>\n",
              "<table border=\"1\" class=\"dataframe\">\n",
              "  <thead>\n",
              "    <tr style=\"text-align: right;\">\n",
              "      <th></th>\n",
              "      <th>code</th>\n",
              "      <th>url</th>\n",
              "      <th>creator</th>\n",
              "      <th>created_datetime</th>\n",
              "      <th>last_modified_datetime</th>\n",
              "      <th>last_modified_by</th>\n",
              "      <th>last_updated_datetime</th>\n",
              "      <th>product_name</th>\n",
              "      <th>generic_name</th>\n",
              "      <th>quantity</th>\n",
              "      <th>...</th>\n",
              "      <th>vitamin-a_100g</th>\n",
              "      <th>vitamin-d_100g</th>\n",
              "      <th>vitamin-c_100g</th>\n",
              "      <th>vitamin-b1_100g</th>\n",
              "      <th>vitamin-b2_100g</th>\n",
              "      <th>potassium_100g</th>\n",
              "      <th>calcium_100g</th>\n",
              "      <th>iron_100g</th>\n",
              "      <th>fruits-vegetables-nuts-estimate-from-ingredients_100g</th>\n",
              "      <th>nutrition-score-fr_100g</th>\n",
              "    </tr>\n",
              "  </thead>\n",
              "  <tbody>\n",
              "    <tr>\n",
              "      <th>778720</th>\n",
              "      <td>9999941860884</td>\n",
              "      <td>http://world-en.openfoodfacts.org/product/9999941860884/tofu-nature-taifun</td>\n",
              "      <td>kiliweb</td>\n",
              "      <td>2023-01-29 09:29:23+00:00</td>\n",
              "      <td>2023-03-28 11:24:20+00:00</td>\n",
              "      <td>itsjustruby</td>\n",
              "      <td>2024-02-14 01:54:10+00:00</td>\n",
              "      <td>Tofu nature</td>\n",
              "      <td>&lt;NA&gt;</td>\n",
              "      <td>200g</td>\n",
              "      <td>...</td>\n",
              "      <td>NaN</td>\n",
              "      <td>NaN</td>\n",
              "      <td>NaN</td>\n",
              "      <td>NaN</td>\n",
              "      <td>NaN</td>\n",
              "      <td>NaN</td>\n",
              "      <td>NaN</td>\n",
              "      <td>NaN</td>\n",
              "      <td>55.000000</td>\n",
              "      <td>-3</td>\n",
              "    </tr>\n",
              "    <tr>\n",
              "      <th>778721</th>\n",
              "      <td>9999991042704</td>\n",
              "      <td>http://world-en.openfoodfacts.org/product/9999991042704/yaourt-vanille-patapain</td>\n",
              "      <td>kiliweb</td>\n",
              "      <td>2018-05-09 10:46:24+00:00</td>\n",
              "      <td>2024-06-16 21:10:13+00:00</td>\n",
              "      <td>geodata</td>\n",
              "      <td>2024-06-16 21:10:13+00:00</td>\n",
              "      <td>Yaourt vanille</td>\n",
              "      <td>&lt;NA&gt;</td>\n",
              "      <td>120 g</td>\n",
              "      <td>...</td>\n",
              "      <td>NaN</td>\n",
              "      <td>NaN</td>\n",
              "      <td>NaN</td>\n",
              "      <td>NaN</td>\n",
              "      <td>NaN</td>\n",
              "      <td>NaN</td>\n",
              "      <td>NaN</td>\n",
              "      <td>NaN</td>\n",
              "      <td>0.000000</td>\n",
              "      <td>7</td>\n",
              "    </tr>\n",
              "    <tr>\n",
              "      <th>778722</th>\n",
              "      <td>9999991149090</td>\n",
              "      <td>http://world-en.openfoodfacts.org/product/9999991149090/riz-parfume-king-elephant</td>\n",
              "      <td>kiliweb</td>\n",
              "      <td>2018-02-20 17:07:29+00:00</td>\n",
              "      <td>2018-12-20 20:51:04+00:00</td>\n",
              "      <td>roboto-app</td>\n",
              "      <td>2024-02-10 21:06:07+00:00</td>\n",
              "      <td>Riz parfumé</td>\n",
              "      <td>&lt;NA&gt;</td>\n",
              "      <td>&lt;NA&gt;</td>\n",
              "      <td>...</td>\n",
              "      <td>NaN</td>\n",
              "      <td>NaN</td>\n",
              "      <td>NaN</td>\n",
              "      <td>NaN</td>\n",
              "      <td>NaN</td>\n",
              "      <td>NaN</td>\n",
              "      <td>NaN</td>\n",
              "      <td>NaN</td>\n",
              "      <td>NaN</td>\n",
              "      <td>0</td>\n",
              "    </tr>\n",
              "    <tr>\n",
              "      <th>778723</th>\n",
              "      <td>9999994666013</td>\n",
              "      <td>http://world-en.openfoodfacts.org/product/9999994666013/skimmed-milk-tesco</td>\n",
              "      <td>jrg2024</td>\n",
              "      <td>2024-06-10 07:11:28+00:00</td>\n",
              "      <td>2024-06-10 07:24:04+00:00</td>\n",
              "      <td>roboto-app</td>\n",
              "      <td>2024-06-10 07:24:04+00:00</td>\n",
              "      <td>Skimmed Milk</td>\n",
              "      <td>&lt;NA&gt;</td>\n",
              "      <td>&lt;NA&gt;</td>\n",
              "      <td>...</td>\n",
              "      <td>NaN</td>\n",
              "      <td>NaN</td>\n",
              "      <td>NaN</td>\n",
              "      <td>NaN</td>\n",
              "      <td>NaN</td>\n",
              "      <td>NaN</td>\n",
              "      <td>NaN</td>\n",
              "      <td>NaN</td>\n",
              "      <td>0.000000</td>\n",
              "      <td>-1</td>\n",
              "    </tr>\n",
              "    <tr>\n",
              "      <th>778724</th>\n",
              "      <td>9999999175305</td>\n",
              "      <td>http://world-en.openfoodfacts.org/product/9999999175305/erdbeerkuchen-1019g-tiefgefroren-coppenrath-wiese</td>\n",
              "      <td>sil</td>\n",
              "      <td>2019-12-22 08:13:01+00:00</td>\n",
              "      <td>2022-02-11 08:41:07+00:00</td>\n",
              "      <td>packbot</td>\n",
              "      <td>2024-02-11 08:10:01+00:00</td>\n",
              "      <td>Erdbeerkuchen 1019g tiefgefroren</td>\n",
              "      <td>&lt;NA&gt;</td>\n",
              "      <td>1,019 kg</td>\n",
              "      <td>...</td>\n",
              "      <td>NaN</td>\n",
              "      <td>NaN</td>\n",
              "      <td>NaN</td>\n",
              "      <td>NaN</td>\n",
              "      <td>NaN</td>\n",
              "      <td>NaN</td>\n",
              "      <td>NaN</td>\n",
              "      <td>NaN</td>\n",
              "      <td>12.014794</td>\n",
              "      <td>12</td>\n",
              "    </tr>\n",
              "  </tbody>\n",
              "</table>\n",
              "<p>5 rows × 76 columns</p>\n",
              "</div>"
            ],
            "text/plain": [
              "                 code  \\\n",
              "778720  9999941860884   \n",
              "778721  9999991042704   \n",
              "778722  9999991149090   \n",
              "778723  9999994666013   \n",
              "778724  9999999175305   \n",
              "\n",
              "                                                                                                              url  \\\n",
              "778720                                 http://world-en.openfoodfacts.org/product/9999941860884/tofu-nature-taifun   \n",
              "778721                            http://world-en.openfoodfacts.org/product/9999991042704/yaourt-vanille-patapain   \n",
              "778722                          http://world-en.openfoodfacts.org/product/9999991149090/riz-parfume-king-elephant   \n",
              "778723                                 http://world-en.openfoodfacts.org/product/9999994666013/skimmed-milk-tesco   \n",
              "778724  http://world-en.openfoodfacts.org/product/9999999175305/erdbeerkuchen-1019g-tiefgefroren-coppenrath-wiese   \n",
              "\n",
              "        creator          created_datetime    last_modified_datetime  \\\n",
              "778720  kiliweb 2023-01-29 09:29:23+00:00 2023-03-28 11:24:20+00:00   \n",
              "778721  kiliweb 2018-05-09 10:46:24+00:00 2024-06-16 21:10:13+00:00   \n",
              "778722  kiliweb 2018-02-20 17:07:29+00:00 2018-12-20 20:51:04+00:00   \n",
              "778723  jrg2024 2024-06-10 07:11:28+00:00 2024-06-10 07:24:04+00:00   \n",
              "778724      sil 2019-12-22 08:13:01+00:00 2022-02-11 08:41:07+00:00   \n",
              "\n",
              "       last_modified_by     last_updated_datetime  \\\n",
              "778720      itsjustruby 2024-02-14 01:54:10+00:00   \n",
              "778721          geodata 2024-06-16 21:10:13+00:00   \n",
              "778722       roboto-app 2024-02-10 21:06:07+00:00   \n",
              "778723       roboto-app 2024-06-10 07:24:04+00:00   \n",
              "778724          packbot 2024-02-11 08:10:01+00:00   \n",
              "\n",
              "                            product_name generic_name  quantity  ...  \\\n",
              "778720                       Tofu nature         <NA>      200g  ...   \n",
              "778721                    Yaourt vanille         <NA>     120 g  ...   \n",
              "778722                       Riz parfumé         <NA>      <NA>  ...   \n",
              "778723                      Skimmed Milk         <NA>      <NA>  ...   \n",
              "778724  Erdbeerkuchen 1019g tiefgefroren         <NA>  1,019 kg  ...   \n",
              "\n",
              "       vitamin-a_100g vitamin-d_100g vitamin-c_100g vitamin-b1_100g  \\\n",
              "778720            NaN            NaN            NaN             NaN   \n",
              "778721            NaN            NaN            NaN             NaN   \n",
              "778722            NaN            NaN            NaN             NaN   \n",
              "778723            NaN            NaN            NaN             NaN   \n",
              "778724            NaN            NaN            NaN             NaN   \n",
              "\n",
              "       vitamin-b2_100g potassium_100g calcium_100g iron_100g  \\\n",
              "778720             NaN            NaN          NaN       NaN   \n",
              "778721             NaN            NaN          NaN       NaN   \n",
              "778722             NaN            NaN          NaN       NaN   \n",
              "778723             NaN            NaN          NaN       NaN   \n",
              "778724             NaN            NaN          NaN       NaN   \n",
              "\n",
              "       fruits-vegetables-nuts-estimate-from-ingredients_100g  \\\n",
              "778720                                             55.000000   \n",
              "778721                                              0.000000   \n",
              "778722                                                   NaN   \n",
              "778723                                              0.000000   \n",
              "778724                                             12.014794   \n",
              "\n",
              "       nutrition-score-fr_100g  \n",
              "778720                      -3  \n",
              "778721                       7  \n",
              "778722                       0  \n",
              "778723                      -1  \n",
              "778724                      12  \n",
              "\n",
              "[5 rows x 76 columns]"
            ]
          },
          "execution_count": 6,
          "metadata": {},
          "output_type": "execute_result"
        }
      ],
      "source": [
        "df.tail()"
      ]
    },
    {
      "cell_type": "markdown",
      "metadata": {
        "id": "I44RSZLJB-uy"
      },
      "source": [
        "You can call `tail` with a parameter `3` to display the last 3 entries."
      ]
    },
    {
      "cell_type": "code",
      "execution_count": 7,
      "metadata": {
        "id": "INjpbTbACEGO"
      },
      "outputs": [
        {
          "data": {
            "text/html": [
              "<div>\n",
              "<style scoped>\n",
              "    .dataframe tbody tr th:only-of-type {\n",
              "        vertical-align: middle;\n",
              "    }\n",
              "\n",
              "    .dataframe tbody tr th {\n",
              "        vertical-align: top;\n",
              "    }\n",
              "\n",
              "    .dataframe thead th {\n",
              "        text-align: right;\n",
              "    }\n",
              "</style>\n",
              "<table border=\"1\" class=\"dataframe\">\n",
              "  <thead>\n",
              "    <tr style=\"text-align: right;\">\n",
              "      <th></th>\n",
              "      <th>code</th>\n",
              "      <th>url</th>\n",
              "      <th>creator</th>\n",
              "      <th>created_datetime</th>\n",
              "      <th>last_modified_datetime</th>\n",
              "      <th>last_modified_by</th>\n",
              "      <th>last_updated_datetime</th>\n",
              "      <th>product_name</th>\n",
              "      <th>generic_name</th>\n",
              "      <th>quantity</th>\n",
              "      <th>...</th>\n",
              "      <th>vitamin-a_100g</th>\n",
              "      <th>vitamin-d_100g</th>\n",
              "      <th>vitamin-c_100g</th>\n",
              "      <th>vitamin-b1_100g</th>\n",
              "      <th>vitamin-b2_100g</th>\n",
              "      <th>potassium_100g</th>\n",
              "      <th>calcium_100g</th>\n",
              "      <th>iron_100g</th>\n",
              "      <th>fruits-vegetables-nuts-estimate-from-ingredients_100g</th>\n",
              "      <th>nutrition-score-fr_100g</th>\n",
              "    </tr>\n",
              "  </thead>\n",
              "  <tbody>\n",
              "    <tr>\n",
              "      <th>778722</th>\n",
              "      <td>9999991149090</td>\n",
              "      <td>http://world-en.openfoodfacts.org/product/9999991149090/riz-parfume-king-elephant</td>\n",
              "      <td>kiliweb</td>\n",
              "      <td>2018-02-20 17:07:29+00:00</td>\n",
              "      <td>2018-12-20 20:51:04+00:00</td>\n",
              "      <td>roboto-app</td>\n",
              "      <td>2024-02-10 21:06:07+00:00</td>\n",
              "      <td>Riz parfumé</td>\n",
              "      <td>&lt;NA&gt;</td>\n",
              "      <td>&lt;NA&gt;</td>\n",
              "      <td>...</td>\n",
              "      <td>NaN</td>\n",
              "      <td>NaN</td>\n",
              "      <td>NaN</td>\n",
              "      <td>NaN</td>\n",
              "      <td>NaN</td>\n",
              "      <td>NaN</td>\n",
              "      <td>NaN</td>\n",
              "      <td>NaN</td>\n",
              "      <td>NaN</td>\n",
              "      <td>0</td>\n",
              "    </tr>\n",
              "    <tr>\n",
              "      <th>778723</th>\n",
              "      <td>9999994666013</td>\n",
              "      <td>http://world-en.openfoodfacts.org/product/9999994666013/skimmed-milk-tesco</td>\n",
              "      <td>jrg2024</td>\n",
              "      <td>2024-06-10 07:11:28+00:00</td>\n",
              "      <td>2024-06-10 07:24:04+00:00</td>\n",
              "      <td>roboto-app</td>\n",
              "      <td>2024-06-10 07:24:04+00:00</td>\n",
              "      <td>Skimmed Milk</td>\n",
              "      <td>&lt;NA&gt;</td>\n",
              "      <td>&lt;NA&gt;</td>\n",
              "      <td>...</td>\n",
              "      <td>NaN</td>\n",
              "      <td>NaN</td>\n",
              "      <td>NaN</td>\n",
              "      <td>NaN</td>\n",
              "      <td>NaN</td>\n",
              "      <td>NaN</td>\n",
              "      <td>NaN</td>\n",
              "      <td>NaN</td>\n",
              "      <td>0.000000</td>\n",
              "      <td>-1</td>\n",
              "    </tr>\n",
              "    <tr>\n",
              "      <th>778724</th>\n",
              "      <td>9999999175305</td>\n",
              "      <td>http://world-en.openfoodfacts.org/product/9999999175305/erdbeerkuchen-1019g-tiefgefroren-coppenrath-wiese</td>\n",
              "      <td>sil</td>\n",
              "      <td>2019-12-22 08:13:01+00:00</td>\n",
              "      <td>2022-02-11 08:41:07+00:00</td>\n",
              "      <td>packbot</td>\n",
              "      <td>2024-02-11 08:10:01+00:00</td>\n",
              "      <td>Erdbeerkuchen 1019g tiefgefroren</td>\n",
              "      <td>&lt;NA&gt;</td>\n",
              "      <td>1,019 kg</td>\n",
              "      <td>...</td>\n",
              "      <td>NaN</td>\n",
              "      <td>NaN</td>\n",
              "      <td>NaN</td>\n",
              "      <td>NaN</td>\n",
              "      <td>NaN</td>\n",
              "      <td>NaN</td>\n",
              "      <td>NaN</td>\n",
              "      <td>NaN</td>\n",
              "      <td>12.014794</td>\n",
              "      <td>12</td>\n",
              "    </tr>\n",
              "  </tbody>\n",
              "</table>\n",
              "<p>3 rows × 76 columns</p>\n",
              "</div>"
            ],
            "text/plain": [
              "                 code  \\\n",
              "778722  9999991149090   \n",
              "778723  9999994666013   \n",
              "778724  9999999175305   \n",
              "\n",
              "                                                                                                              url  \\\n",
              "778722                          http://world-en.openfoodfacts.org/product/9999991149090/riz-parfume-king-elephant   \n",
              "778723                                 http://world-en.openfoodfacts.org/product/9999994666013/skimmed-milk-tesco   \n",
              "778724  http://world-en.openfoodfacts.org/product/9999999175305/erdbeerkuchen-1019g-tiefgefroren-coppenrath-wiese   \n",
              "\n",
              "        creator          created_datetime    last_modified_datetime  \\\n",
              "778722  kiliweb 2018-02-20 17:07:29+00:00 2018-12-20 20:51:04+00:00   \n",
              "778723  jrg2024 2024-06-10 07:11:28+00:00 2024-06-10 07:24:04+00:00   \n",
              "778724      sil 2019-12-22 08:13:01+00:00 2022-02-11 08:41:07+00:00   \n",
              "\n",
              "       last_modified_by     last_updated_datetime  \\\n",
              "778722       roboto-app 2024-02-10 21:06:07+00:00   \n",
              "778723       roboto-app 2024-06-10 07:24:04+00:00   \n",
              "778724          packbot 2024-02-11 08:10:01+00:00   \n",
              "\n",
              "                            product_name generic_name  quantity  ...  \\\n",
              "778722                       Riz parfumé         <NA>      <NA>  ...   \n",
              "778723                      Skimmed Milk         <NA>      <NA>  ...   \n",
              "778724  Erdbeerkuchen 1019g tiefgefroren         <NA>  1,019 kg  ...   \n",
              "\n",
              "       vitamin-a_100g vitamin-d_100g vitamin-c_100g vitamin-b1_100g  \\\n",
              "778722            NaN            NaN            NaN             NaN   \n",
              "778723            NaN            NaN            NaN             NaN   \n",
              "778724            NaN            NaN            NaN             NaN   \n",
              "\n",
              "       vitamin-b2_100g potassium_100g calcium_100g iron_100g  \\\n",
              "778722             NaN            NaN          NaN       NaN   \n",
              "778723             NaN            NaN          NaN       NaN   \n",
              "778724             NaN            NaN          NaN       NaN   \n",
              "\n",
              "       fruits-vegetables-nuts-estimate-from-ingredients_100g  \\\n",
              "778722                                                   NaN   \n",
              "778723                                              0.000000   \n",
              "778724                                             12.014794   \n",
              "\n",
              "       nutrition-score-fr_100g  \n",
              "778722                       0  \n",
              "778723                      -1  \n",
              "778724                      12  \n",
              "\n",
              "[3 rows x 76 columns]"
            ]
          },
          "execution_count": 7,
          "metadata": {},
          "output_type": "execute_result"
        }
      ],
      "source": [
        "df.tail(n=3)"
      ]
    },
    {
      "cell_type": "markdown",
      "metadata": {
        "id": "uq0kv9lJ8GHn"
      },
      "source": [
        "**Hint** Some URLs are longer than the maximal displayed text length for a cell (by default 80 characters, that is explicitly raised at the beginning of this notebook to 110). This will make it harder for you to consult the product page on the OFF website.\n",
        "You can use the `values` attribute to get the complete array of values for a (subset of a) DataFrame, or of a column (Series)."
      ]
    },
    {
      "cell_type": "code",
      "execution_count": 8,
      "metadata": {
        "id": "G7dy_6Lf-DUE"
      },
      "outputs": [
        {
          "data": {
            "text/plain": [
              "array([['0000101209159',\n",
              "        'http://world-en.openfoodfacts.org/product/0000101209159/veritable-pate-a-tartiner-noisettes-chocolat-noir-bovetti',\n",
              "        'kiliweb', Timestamp('2018-02-22 10:56:57+0000', tz='UTC'),\n",
              "        Timestamp('2023-04-28 23:59:01+0000', tz='UTC'), 'roboto-app',\n",
              "        Timestamp('2024-02-09 14:48:49+0000', tz='UTC'),\n",
              "        'Véritable pâte à tartiner noisettes chocolat noir', <NA>,\n",
              "        '350 g', <NA>, <NA>, 'Bovetti',\n",
              "        'Breakfasts,Spreads,Sweet spreads,fr:Pâtes à tartiner,Hazelnut spreads,Chocolate spreads,Cocoa and hazelnuts spreads',\n",
              "        <NA>, <NA>, 'No gluten,No palm oil', <NA>, <NA>, <NA>, 'France',\n",
              "        <NA>, <NA>, <NA>, <NA>, <NA>, <NA>, nan, nan, <NA>, <NA>, 23,\n",
              "        'e', nan, 'Sugary snacks', 'Sweets', 'Sugary snacks,Sweets',\n",
              "        'To be completed,Nutrition facts completed,Ingredients to be completed,Expiration date completed,Packaging code to be completed,Characteristics to be completed,Origins to be completed,Categories completed,Brands completed,Packaging to be completed,Quantity completed,Product name completed,Photos to be validated,Packaging photo to be selected,Nutrition photo selected,Ingredients photo selected,Front photo selected,Photos uploaded',\n",
              "        <NA>, 30.0, 'd',\n",
              "        'en:fat-in-high-quantity,en:saturated-fat-in-high-quantity,en:sugars-in-high-quantity,en:salt-in-low-quantity',\n",
              "        350.0, <NA>, <NA>, <NA>, 0.6875,\n",
              "        Timestamp('2020-01-18 19:13:51+0000', tz='UTC'),\n",
              "        'Cocoa and hazelnuts spreads',\n",
              "        'https://images.openfoodfacts.org/images/products/000/010/120/9159/front_fr.4.200.jpg',\n",
              "        nan, 617.0, 2582.0, 48.0, 10.0, nan, nan, nan, nan, 36.0, 32.0,\n",
              "        nan, 8.0, 0.01, 0.004, nan, nan, nan, nan, nan, nan, nan, nan,\n",
              "        nan, nan, 23],\n",
              "       ['0000131327786',\n",
              "        'http://world-en.openfoodfacts.org/product/0000131327786/lime-cordial-sainsbury-s',\n",
              "        'blakejones99', Timestamp('2024-06-01 20:48:44+0000', tz='UTC'),\n",
              "        Timestamp('2024-06-01 22:13:50+0000', tz='UTC'), 'roboto-app',\n",
              "        Timestamp('2024-06-01 22:13:50+0000', tz='UTC'), 'Lime Cordial',\n",
              "        <NA>, '1l', <NA>, <NA>, \"Sainsbury's\", 'Lime-cordial', <NA>,\n",
              "        <NA>, 'Vegetarian,Vegan,No added sugar', <NA>, <NA>,\n",
              "        \"Sainsbury's\", 'United Kingdom',\n",
              "        'Water, Lime Juice from Concentrate (30%), Acid: Citric Acid; Preservatives: Potassium Sorbate, Sodium Metabisulphite (Sulphites); Flavourings, Antioxidant: Ascorbic Acid; Acidity Regulator: Sodium Citrate; Sweetener: Sucralose.',\n",
              "        'en:water,en:lime-juice-concentrate,en:fruit,en:citrus-fruit,en:juice,en:fruit-juice,en:lime,en:lime-juice,en:acid,en:preservative,en:e223,en:flavouring,en:antioxidant,en:acidity-regulator,en:sweetener,en:e330,en:e202,en:e300,en:sodium-citrate,en:minerals,en:sodium,en:e955',\n",
              "        'en:palm-oil-free,en:vegan,en:vegetarian',\n",
              "        'en:sulphur-dioxide-and-sulphites', <NA>, <NA>, nan, nan, 6,\n",
              "        'E202 - Potassium sorbate,E223 - Sodium metabisulphite,E300 - Ascorbic acid,E330 - Citric acid,E331 - Sodium citrates,E955 - Sucralose',\n",
              "        <NA>, nan, '4', 'unknown', 'unknown', nan,\n",
              "        'To be completed,Nutrition facts completed,Ingredients completed,Expiration date to be completed,Packaging code to be completed,Characteristics to be completed,Origins to be completed,Categories completed,Brands completed,Packaging to be completed,Quantity completed,Product name completed,Photos validated,Packaging photo selected,Nutrition photo selected,Ingredients photo selected,Front photo selected,Photos uploaded',\n",
              "        <NA>, nan, nan, <NA>, 1000.0, <NA>, <NA>, <NA>, 0.7,\n",
              "        Timestamp('2024-06-01 20:49:51+0000', tz='UTC'), 'Lime-cordial',\n",
              "        'https://images.openfoodfacts.org/images/products/000/013/132/7786/front_en.3.200.jpg',\n",
              "        nan, nan, nan, nan, nan, nan, nan, nan, nan, nan, nan, nan, nan,\n",
              "        nan, nan, nan, nan, nan, nan, nan, nan, nan, nan, nan, 30.0,\n",
              "        <NA>]], dtype=object)"
            ]
          },
          "execution_count": 8,
          "metadata": {},
          "output_type": "execute_result"
        }
      ],
      "source": [
        "# (just execute this cell)\n",
        "# display the arrays of values of all fields for the first 2 products\n",
        "# NB : each entry has 2 URLs : one for the product page, one for its (small-sized) image\n",
        "df.head(n=2).values"
      ]
    },
    {
      "cell_type": "markdown",
      "metadata": {
        "id": "lzDZ-aYHqedT"
      },
      "source": [
        "### About the data table\n",
        "\n",
        "We can display a summary of the DataFrame with `info`, including for each column its index, name, number of non-null values, and data type (`dtype`).\n",
        "For more information, you can read the [pandas intro tutorial 02](https://pandas.pydata.org/docs/getting_started/intro_tutorials/02_read_write.html)."
      ]
    },
    {
      "cell_type": "code",
      "execution_count": 9,
      "metadata": {
        "id": "tcde5MfC-W_r"
      },
      "outputs": [
        {
          "name": "stdout",
          "output_type": "stream",
          "text": [
            "<class 'pandas.core.frame.DataFrame'>\n",
            "RangeIndex: 778725 entries, 0 to 778724\n",
            "Data columns (total 76 columns):\n",
            " #   Column                                                 Non-Null Count   Dtype              \n",
            "---  ------                                                 --------------   -----              \n",
            " 0   code                                                   778725 non-null  string             \n",
            " 1   url                                                    778725 non-null  string             \n",
            " 2   creator                                                778724 non-null  category           \n",
            " 3   created_datetime                                       778725 non-null  datetime64[ns, UTC]\n",
            " 4   last_modified_datetime                                 778725 non-null  datetime64[ns, UTC]\n",
            " 5   last_modified_by                                       772572 non-null  category           \n",
            " 6   last_updated_datetime                                  766338 non-null  datetime64[ns, UTC]\n",
            " 7   product_name                                           778725 non-null  string             \n",
            " 8   generic_name                                           133394 non-null  string             \n",
            " 9   quantity                                               514927 non-null  string             \n",
            " 10  packaging_en                                           286776 non-null  string             \n",
            " 11  packaging_text                                         22995 non-null   string             \n",
            " 12  brands                                                 778725 non-null  string             \n",
            " 13  categories_en                                          778718 non-null  string             \n",
            " 14  origins_en                                             108132 non-null  string             \n",
            " 15  manufacturing_places                                   158754 non-null  string             \n",
            " 16  labels_en                                              411490 non-null  string             \n",
            " 17  emb_codes                                              118839 non-null  string             \n",
            " 18  purchase_places                                        168929 non-null  string             \n",
            " 19  stores                                                 283919 non-null  string             \n",
            " 20  countries_en                                           775353 non-null  string             \n",
            " 21  ingredients_text                                       486644 non-null  string             \n",
            " 22  ingredients_tags                                       485365 non-null  string             \n",
            " 23  ingredients_analysis_tags                              497319 non-null  string             \n",
            " 24  allergens                                              184775 non-null  string             \n",
            " 25  traces_en                                              138732 non-null  string             \n",
            " 26  serving_size                                           233972 non-null  string             \n",
            " 27  serving_quantity                                       228111 non-null  float64            \n",
            " 28  no_nutrition_data                                      30882 non-null   category           \n",
            " 29  additives_n                                            486647 non-null  UInt8              \n",
            " 30  additives_en                                           258433 non-null  string             \n",
            " 31  nutriscore_score                                       652630 non-null  Int8               \n",
            " 32  nutriscore_grade                                       652630 non-null  category           \n",
            " 33  nova_group                                             461602 non-null  category           \n",
            " 34  pnns_groups_1                                          778723 non-null  category           \n",
            " 35  pnns_groups_2                                          778725 non-null  category           \n",
            " 36  food_groups_en                                         659942 non-null  category           \n",
            " 37  states_en                                              778725 non-null  string             \n",
            " 38  brand_owner                                            38646 non-null   string             \n",
            " 39  ecoscore_score                                         499542 non-null  float64            \n",
            " 40  ecoscore_grade                                         499542 non-null  category           \n",
            " 41  nutrient_levels_tags                                   708860 non-null  string             \n",
            " 42  product_quantity                                       501910 non-null  float64            \n",
            " 43  data_quality_errors_tags                               28242 non-null   string             \n",
            " 44  unique_scans_n                                         515398 non-null  Int64              \n",
            " 45  popularity_tags                                        510976 non-null  string             \n",
            " 46  completeness                                           778725 non-null  float64            \n",
            " 47  last_image_datetime                                    778724 non-null  datetime64[ns, UTC]\n",
            " 48  main_category_en                                       778718 non-null  string             \n",
            " 49  image_small_url                                        778725 non-null  string             \n",
            " 50  energy-kj_100g                                         233932 non-null  float64            \n",
            " 51  energy-kcal_100g                                       688304 non-null  float64            \n",
            " 52  energy_100g                                            724951 non-null  float64            \n",
            " 53  fat_100g                                               722357 non-null  float64            \n",
            " 54  saturated-fat_100g                                     710026 non-null  float64            \n",
            " 55  monounsaturated-fat_100g                               15327 non-null   float64            \n",
            " 56  polyunsaturated-fat_100g                               15345 non-null   float64            \n",
            " 57  trans-fat_100g                                         41861 non-null   float64            \n",
            " 58  cholesterol_100g                                       42341 non-null   float64            \n",
            " 59  carbohydrates_100g                                     722492 non-null  float64            \n",
            " 60  sugars_100g                                            713746 non-null  float64            \n",
            " 61  fiber_100g                                             357598 non-null  float64            \n",
            " 62  proteins_100g                                          722272 non-null  float64            \n",
            " 63  salt_100g                                              685614 non-null  float64            \n",
            " 64  sodium_100g                                            685613 non-null  float64            \n",
            " 65  alcohol_100g                                           23116 non-null   float64            \n",
            " 66  vitamin-a_100g                                         27497 non-null   float64            \n",
            " 67  vitamin-d_100g                                         11431 non-null   float64            \n",
            " 68  vitamin-c_100g                                         29166 non-null   float64            \n",
            " 69  vitamin-b1_100g                                        8831 non-null    float64            \n",
            " 70  vitamin-b2_100g                                        8718 non-null    float64            \n",
            " 71  potassium_100g                                         26339 non-null   float64            \n",
            " 72  calcium_100g                                           53406 non-null   float64            \n",
            " 73  iron_100g                                              43830 non-null   float64            \n",
            " 74  fruits-vegetables-nuts-estimate-from-ingredients_100g  485376 non-null  float64            \n",
            " 75  nutrition-score-fr_100g                                652630 non-null  Int64              \n",
            "dtypes: Int64(2), Int8(1), UInt8(1), category(9), datetime64[ns, UTC](4), float64(29), string(30)\n",
            "memory usage: 400.1 MB\n"
          ]
        }
      ],
      "source": [
        "df.info()"
      ]
    },
    {
      "cell_type": "markdown",
      "metadata": {
        "id": "VnBCyh0LqirZ"
      },
      "source": [
        "`info` also displays the total memory usage of the DataFrame.\n",
        "\n",
        "However, by default, `info` roughly estimates the memory usage.\n",
        "\n",
        "Call `info` with the parameter `memory_usage=deep` (see the documentation for [DataFrame.info](https://pandas.pydata.org/pandas-docs/version/2.0/reference/api/pandas.DataFrame.info.html#pandas-dataframe-info) )."
      ]
    },
    {
      "cell_type": "code",
      "execution_count": 10,
      "metadata": {},
      "outputs": [
        {
          "name": "stdout",
          "output_type": "stream",
          "text": [
            "<class 'pandas.core.frame.DataFrame'>\n",
            "RangeIndex: 778725 entries, 0 to 778724\n",
            "Data columns (total 76 columns):\n",
            " #   Column                                                 Non-Null Count   Dtype              \n",
            "---  ------                                                 --------------   -----              \n",
            " 0   code                                                   778725 non-null  string             \n",
            " 1   url                                                    778725 non-null  string             \n",
            " 2   creator                                                778724 non-null  category           \n",
            " 3   created_datetime                                       778725 non-null  datetime64[ns, UTC]\n",
            " 4   last_modified_datetime                                 778725 non-null  datetime64[ns, UTC]\n",
            " 5   last_modified_by                                       772572 non-null  category           \n",
            " 6   last_updated_datetime                                  766338 non-null  datetime64[ns, UTC]\n",
            " 7   product_name                                           778725 non-null  string             \n",
            " 8   generic_name                                           133394 non-null  string             \n",
            " 9   quantity                                               514927 non-null  string             \n",
            " 10  packaging_en                                           286776 non-null  string             \n",
            " 11  packaging_text                                         22995 non-null   string             \n",
            " 12  brands                                                 778725 non-null  string             \n",
            " 13  categories_en                                          778718 non-null  string             \n",
            " 14  origins_en                                             108132 non-null  string             \n",
            " 15  manufacturing_places                                   158754 non-null  string             \n",
            " 16  labels_en                                              411490 non-null  string             \n",
            " 17  emb_codes                                              118839 non-null  string             \n",
            " 18  purchase_places                                        168929 non-null  string             \n",
            " 19  stores                                                 283919 non-null  string             \n",
            " 20  countries_en                                           775353 non-null  string             \n",
            " 21  ingredients_text                                       486644 non-null  string             \n",
            " 22  ingredients_tags                                       485365 non-null  string             \n",
            " 23  ingredients_analysis_tags                              497319 non-null  string             \n",
            " 24  allergens                                              184775 non-null  string             \n",
            " 25  traces_en                                              138732 non-null  string             \n",
            " 26  serving_size                                           233972 non-null  string             \n",
            " 27  serving_quantity                                       228111 non-null  float64            \n",
            " 28  no_nutrition_data                                      30882 non-null   category           \n",
            " 29  additives_n                                            486647 non-null  UInt8              \n",
            " 30  additives_en                                           258433 non-null  string             \n",
            " 31  nutriscore_score                                       652630 non-null  Int8               \n",
            " 32  nutriscore_grade                                       652630 non-null  category           \n",
            " 33  nova_group                                             461602 non-null  category           \n",
            " 34  pnns_groups_1                                          778723 non-null  category           \n",
            " 35  pnns_groups_2                                          778725 non-null  category           \n",
            " 36  food_groups_en                                         659942 non-null  category           \n",
            " 37  states_en                                              778725 non-null  string             \n",
            " 38  brand_owner                                            38646 non-null   string             \n",
            " 39  ecoscore_score                                         499542 non-null  float64            \n",
            " 40  ecoscore_grade                                         499542 non-null  category           \n",
            " 41  nutrient_levels_tags                                   708860 non-null  string             \n",
            " 42  product_quantity                                       501910 non-null  float64            \n",
            " 43  data_quality_errors_tags                               28242 non-null   string             \n",
            " 44  unique_scans_n                                         515398 non-null  Int64              \n",
            " 45  popularity_tags                                        510976 non-null  string             \n",
            " 46  completeness                                           778725 non-null  float64            \n",
            " 47  last_image_datetime                                    778724 non-null  datetime64[ns, UTC]\n",
            " 48  main_category_en                                       778718 non-null  string             \n",
            " 49  image_small_url                                        778725 non-null  string             \n",
            " 50  energy-kj_100g                                         233932 non-null  float64            \n",
            " 51  energy-kcal_100g                                       688304 non-null  float64            \n",
            " 52  energy_100g                                            724951 non-null  float64            \n",
            " 53  fat_100g                                               722357 non-null  float64            \n",
            " 54  saturated-fat_100g                                     710026 non-null  float64            \n",
            " 55  monounsaturated-fat_100g                               15327 non-null   float64            \n",
            " 56  polyunsaturated-fat_100g                               15345 non-null   float64            \n",
            " 57  trans-fat_100g                                         41861 non-null   float64            \n",
            " 58  cholesterol_100g                                       42341 non-null   float64            \n",
            " 59  carbohydrates_100g                                     722492 non-null  float64            \n",
            " 60  sugars_100g                                            713746 non-null  float64            \n",
            " 61  fiber_100g                                             357598 non-null  float64            \n",
            " 62  proteins_100g                                          722272 non-null  float64            \n",
            " 63  salt_100g                                              685614 non-null  float64            \n",
            " 64  sodium_100g                                            685613 non-null  float64            \n",
            " 65  alcohol_100g                                           23116 non-null   float64            \n",
            " 66  vitamin-a_100g                                         27497 non-null   float64            \n",
            " 67  vitamin-d_100g                                         11431 non-null   float64            \n",
            " 68  vitamin-c_100g                                         29166 non-null   float64            \n",
            " 69  vitamin-b1_100g                                        8831 non-null    float64            \n",
            " 70  vitamin-b2_100g                                        8718 non-null    float64            \n",
            " 71  potassium_100g                                         26339 non-null   float64            \n",
            " 72  calcium_100g                                           53406 non-null   float64            \n",
            " 73  iron_100g                                              43830 non-null   float64            \n",
            " 74  fruits-vegetables-nuts-estimate-from-ingredients_100g  485376 non-null  float64            \n",
            " 75  nutrition-score-fr_100g                                652630 non-null  Int64              \n",
            "dtypes: Int64(2), Int8(1), UInt8(1), category(9), datetime64[ns, UTC](4), float64(29), string(30)\n",
            "memory usage: 2.6 GB\n"
          ]
        }
      ],
      "source": [
        "df.info(memory_usage=\"deep\")"
      ]
    },
    {
      "cell_type": "markdown",
      "metadata": {},
      "source": [
        "**Question.** How much memory does the dataset occupy, when loaded?"
      ]
    },
    {
      "cell_type": "markdown",
      "metadata": {
        "id": "SunKeg2RitCS"
      },
      "source": [
        "### Examining a column\n",
        "\n",
        "How can we get a general idea of the content of a given column, for instance `nutriscore_grade` ?\n",
        "\n",
        "One way to do this is to select the column and ask for its distinct values, using the function [unique](https://pandas.pydata.org/pandas-docs/stable/reference/api/pandas.Series.unique.html#pandas.Series.unique):"
      ]
    },
    {
      "cell_type": "code",
      "execution_count": 11,
      "metadata": {
        "colab": {
          "base_uri": "https://localhost:8080/"
        },
        "id": "LnzPs9Msj-1Z",
        "outputId": "7bb22a44-dde5-4b16-c111-a99b961f3822"
      },
      "outputs": [
        {
          "data": {
            "text/plain": [
              "['e', NaN, 'd', 'a', 'c', 'b']\n",
              "Categories (5, object): ['a' < 'b' < 'c' < 'd' < 'e']"
            ]
          },
          "execution_count": 11,
          "metadata": {},
          "output_type": "execute_result"
        }
      ],
      "source": [
        "# (just execute this cell)\n",
        "df[\"nutriscore_grade\"].unique()"
      ]
    },
    {
      "cell_type": "markdown",
      "metadata": {
        "id": "kB8jmgElkG0R"
      },
      "source": [
        "We selected the column `df[\"nutriscore_grade\"]`, then called the `unique()` function on this column (with a dot operator: `.unique()`).\n"
      ]
    },
    {
      "cell_type": "markdown",
      "metadata": {
        "id": "ctQcUC8b_Ts0"
      },
      "source": [
        "\n",
        "The column `nutriscore_grade` contains values 'a', 'b', 'c', 'd', 'e' (listed in their order of appearance in the dataset), plus a special value `NaN` (\"Not a Number\") for missing values."
      ]
    },
    {
      "cell_type": "markdown",
      "metadata": {
        "id": "dqQ6rXF9kifH"
      },
      "source": [
        "To get a slightly better idea, we would want to know how many products are in each category, ie. how many times each category occurs in the column.\n",
        "\n",
        "We can select the column, as above, then call the function [value_counts](https://pandas.pydata.org/pandas-docs/stable/reference/api/pandas.Series.value_counts.html) instead of `unique`."
      ]
    },
    {
      "cell_type": "code",
      "execution_count": 12,
      "metadata": {
        "id": "5k20TFyPlGWG"
      },
      "outputs": [
        {
          "data": {
            "text/plain": [
              "nutriscore_grade\n",
              "d    189568\n",
              "c    141295\n",
              "e    115130\n",
              "a    111371\n",
              "b     95266\n",
              "Name: count, dtype: int64"
            ]
          },
          "execution_count": 12,
          "metadata": {},
          "output_type": "execute_result"
        }
      ],
      "source": [
        "df[\"nutriscore_grade\"].value_counts()"
      ]
    },
    {
      "cell_type": "markdown",
      "metadata": {
        "id": "QqpRo0lFlOoL"
      },
      "source": [
        "In order of decreasing frequency:\n",
        "- 189,568 products in our dataset have Nutriscore grade 'd',\n",
        "- 141,295 are 'c',\n",
        "- 115,130 are 'e',\n",
        "- 111,371 are 'a',\n",
        "- 95,266 are 'b'."
      ]
    },
    {
      "cell_type": "markdown",
      "metadata": {
        "id": "xzb3GrnElnHR"
      },
      "source": [
        "If we were working within a spreadsheet software, at this point we would probably feel the urge to plot these values.\n",
        "\n",
        "pandas enables to do that easily with the [plot function](https://pandas.pydata.org/pandas-docs/stable/reference/api/pandas.Series.plot.html)."
      ]
    },
    {
      "cell_type": "code",
      "execution_count": 13,
      "metadata": {
        "id": "GIbCSU0kmqc3"
      },
      "outputs": [
        {
          "data": {
            "text/plain": [
              "<Axes: xlabel='nutriscore_grade'>"
            ]
          },
          "execution_count": 13,
          "metadata": {},
          "output_type": "execute_result"
        },
        {
          "data": {
            "image/png": "[encoded data removed]",
            "text/plain": [
              "<Figure size 640x480 with 1 Axes>"
            ]
          },
          "metadata": {},
          "output_type": "display_data"
        }
      ],
      "source": [
        "# (just execute this cell)\n",
        "df[\"nutriscore_grade\"].value_counts().plot()"
      ]
    },
    {
      "cell_type": "markdown",
      "metadata": {
        "id": "OEiWC_R-mYqd"
      },
      "source": [
        "The resulting plot does display the data but is far from ideal:\n",
        "The number of occurrences of each value in a given column would be better visualized as a *bar plot*.\n",
        "\n",
        "We can change the type of graph by calling `plot()` with the parameter `kind=\"bar\"`."
      ]
    },
    {
      "cell_type": "code",
      "execution_count": 14,
      "metadata": {},
      "outputs": [
        {
          "data": {
            "text/plain": [
              "<Axes: xlabel='nutriscore_grade'>"
            ]
          },
          "execution_count": 14,
          "metadata": {},
          "output_type": "execute_result"
        },
        {
          "data": {
            "image/png": "[encoded data removed]",
            "text/plain": [
              "<Figure size 640x480 with 1 Axes>"
            ]
          },
          "metadata": {},
          "output_type": "display_data"
        }
      ],
      "source": [
        "# (just execute this cell)\n",
        "df[\"nutriscore_grade\"].value_counts().plot(kind=\"bar\")"
      ]
    },
    {
      "cell_type": "markdown",
      "metadata": {},
      "source": [
        "This plot could be improved in many ways: Axes could have more informative or better looking labels, grades could be displayed in their \"natural\" ordering, bars could have different colors...\n",
        "\n",
        "When we focus on data visualization in notebook 4, we will use a companion library named `seaborn` that provides easy access to the most common customization options, as well as advanced types of data visualizations.\n",
        "\n",
        "But for now, the basic plotting capability of pandas will do."
      ]
    },
    {
      "cell_type": "markdown",
      "metadata": {
        "id": "LLfWAzjf3JtS"
      },
      "source": [
        "What about columns containing numeric values, such as `fat_100g`? Are they easier to examine visually with pandas?"
      ]
    },
    {
      "cell_type": "markdown",
      "metadata": {
        "id": "tICv9NrdQFOz"
      },
      "source": [
        "Build a histogram of the column `fat_100g`.\n",
        "\n",
        "> **HINT** Use the function [plot](https://pandas.pydata.org/docs/reference/api/pandas.Series.plot.html), this time with the parameter `kind=\"hist\"`."
      ]
    },
    {
      "cell_type": "code",
      "execution_count": 15,
      "metadata": {
        "id": "PDaC5Gx73laD"
      },
      "outputs": [
        {
          "data": {
            "text/plain": [
              "<Axes: ylabel='Frequency'>"
            ]
          },
          "execution_count": 15,
          "metadata": {},
          "output_type": "execute_result"
        },
        {
          "data": {
            "image/png": "[encoded data removed]",
            "text/plain": [
              "<Figure size 640x480 with 1 Axes>"
            ]
          },
          "metadata": {},
          "output_type": "display_data"
        }
      ],
      "source": [
        "#\n",
        "df[\"fat_100g\"].plot(kind=\"hist\")"
      ]
    },
    {
      "cell_type": "markdown",
      "metadata": {
        "id": "qJ14pwau4Y6p"
      },
      "source": [
        "The plot highlights that, for more than 700,000 products in our dataset, the amount of fat per 100 g of product is between 0 and (approximately) 0.16 * 1e9 grams = 160,000,000 grams."
      ]
    },
    {
      "cell_type": "markdown",
      "metadata": {
        "id": "ZxYAmjKm9LTw"
      },
      "source": [
        "\n",
        "This is slightly concerning on two respects:\n",
        "1. we would expect this to hold true for all 778,725 products in our dataset, wouldn't we?\n",
        "2. is there any reason for the graph to have an x-axis go as high as 160,000,000 grams, and squeeze all (or almost all?) values in one bar on the left?\n",
        "\n",
        "We should probably have a better look at the values in this column, in particular look for:\n",
        "1. missing values and\n",
        "2. extreme values."
      ]
    },
    {
      "cell_type": "markdown",
      "metadata": {
        "id": "I7kxfdJU9-H8"
      },
      "source": [
        "The number of missing values in a column can be retrieved by selecting the column and calling [info](https://pandas.pydata.org/docs/reference/api/pandas.Series.info.html?highlight=info#pandas.Series.info)."
      ]
    },
    {
      "cell_type": "code",
      "execution_count": 16,
      "metadata": {
        "id": "W8l9BIVn79xc"
      },
      "outputs": [
        {
          "name": "stdout",
          "output_type": "stream",
          "text": [
            "<class 'pandas.core.series.Series'>\n",
            "RangeIndex: 778725 entries, 0 to 778724\n",
            "Series name: fat_100g\n",
            "Non-Null Count   Dtype  \n",
            "--------------   -----  \n",
            "722357 non-null  float64\n",
            "dtypes: float64(1)\n",
            "memory usage: 5.9 MB\n"
          ]
        }
      ],
      "source": [
        "# select the column, then call info()\n",
        "df[\"fat_100g\"].info()"
      ]
    },
    {
      "cell_type": "markdown",
      "metadata": {
        "id": "oOKQNn2y_eD4"
      },
      "source": [
        "The output of `info` states that the column contains 778,725 entries, of which 722,357 are non-null, ie. values that are not missing.\n",
        "\n",
        "This explains why the bar on the left of the plot culminates just above 700,000, but does not get close to 800,000 which would be the next tick on the y-axis."
      ]
    },
    {
      "cell_type": "markdown",
      "metadata": {
        "id": "cx0neXp4AyYT"
      },
      "source": [
        "But why does the x-axis go as high as 160,000,000?\n",
        "We certainly do not expect any product to contain 160,000,000 g of fat per 100 g of product, do we?"
      ]
    },
    {
      "cell_type": "markdown",
      "metadata": {
        "id": "Ws54ezKmCB9O"
      },
      "source": [
        "Let us examine the distribution of the values in the `fat_100g` column, with the function [describe](https://pandas.pydata.org/docs/reference/api/pandas.Series.describe.html#pandas.Series.describe):"
      ]
    },
    {
      "cell_type": "code",
      "execution_count": 17,
      "metadata": {
        "id": "WvM6Tz0HCNvA"
      },
      "outputs": [
        {
          "data": {
            "text/plain": [
              "count    7.223570e+05\n",
              "mean     2.229801e+03\n",
              "std      1.882539e+06\n",
              "min      0.000000e+00\n",
              "25%      1.000000e+00\n",
              "50%      6.700000e+00\n",
              "75%      2.100000e+01\n",
              "max      1.600000e+09\n",
              "Name: fat_100g, dtype: float64"
            ]
          },
          "execution_count": 17,
          "metadata": {},
          "output_type": "execute_result"
        }
      ],
      "source": [
        "# select the column, then call describe()\n",
        "df[\"fat_100g\"].describe()"
      ]
    },
    {
      "cell_type": "markdown",
      "metadata": {
        "id": "CkwPZsViCcut"
      },
      "source": [
        "- The mean value is `2,229`, ie. products contain more than 2,000 g of fat per 100g on average;\n",
        "- The minimum value is `0`, ie. some products do not contain any fat;\n",
        "- 25% of products contain less than 1.0 g of fat per 100 g;\n",
        "- 50% of products contain less than 6.7 g of fat per 100 g;\n",
        "- 75% of products contain less than 21 g of fat per 100g;\n",
        "- The maximum value is 160,000,000, ie. a product is described as containing 29,000 g of fat per 100 g.\n",
        "\n",
        "Each of these points is consistent with our common sense assumptions, except for the first and last one."
      ]
    },
    {
      "cell_type": "markdown",
      "metadata": {
        "id": "EuXUf4TrDWm8"
      },
      "source": [
        "At least one value in this column is extremely high, which implies that:\n",
        "- either we need to revise our assumptions, and accept that products can have a declared amount of fat per 100 g that is extremely high ;\n",
        "- or some entries are erroneous."
      ]
    },
    {
      "cell_type": "markdown",
      "metadata": {
        "id": "SrhrFhb8Erg4"
      },
      "source": [
        "If the former is true, then given the size of the dataset, we would expect other products to have a very high value in this column."
      ]
    },
    {
      "cell_type": "markdown",
      "metadata": {
        "id": "EvRZButSFOSQ"
      },
      "source": [
        "Let us sort the values in the column **in decreasing order**, using [sort_values](https://pandas.pydata.org/docs/reference/api/pandas.Series.sort_values.html) with argument `ascending=False`."
      ]
    },
    {
      "cell_type": "code",
      "execution_count": 18,
      "metadata": {
        "id": "ldT6nUdlFhyu"
      },
      "outputs": [
        {
          "data": {
            "text/plain": [
              "50040     1.600000e+09\n",
              "778056    6.784540e+05\n",
              "535968    3.631000e+03\n",
              "576754    2.308000e+03\n",
              "442191    1.972000e+03\n",
              "              ...     \n",
              "778691             NaN\n",
              "778699             NaN\n",
              "778702             NaN\n",
              "778707             NaN\n",
              "778715             NaN\n",
              "Name: fat_100g, Length: 778725, dtype: float64"
            ]
          },
          "execution_count": 18,
          "metadata": {},
          "output_type": "execute_result"
        }
      ],
      "source": [
        "# ...\n",
        "df[\"fat_100g\"].sort_values(ascending=False)"
      ]
    },
    {
      "cell_type": "markdown",
      "metadata": {
        "id": "MJIgMa0jGjcc"
      },
      "source": [
        "The 5 highest values are, in decreasing order: 160,000,000 ; 678,454 ; 3,631 ; 2,308 ; 1,972.\n"
      ]
    },
    {
      "cell_type": "markdown",
      "metadata": {
        "id": "umr4k1BIHUdc"
      },
      "source": [
        "\n",
        "Are there many more values that are unexpectedly high, or are they isolated outliers ?\n",
        "\n",
        "Let us use the `head` function, that we discovered earlier, on the sorted column to look at the 60 highest values in the column.\n",
        "\n",
        "You need to select the column, sort its values in decreasing order, and display the first 60 values."
      ]
    },
    {
      "cell_type": "code",
      "execution_count": 19,
      "metadata": {
        "id": "1Z58P5SYIQoG"
      },
      "outputs": [
        {
          "data": {
            "text/plain": [
              "50040     1.600000e+09\n",
              "778056    6.784540e+05\n",
              "535968    3.631000e+03\n",
              "576754    2.308000e+03\n",
              "442191    1.972000e+03\n",
              "55230     1.900000e+03\n",
              "529681    1.804000e+03\n",
              "6495      1.605263e+03\n",
              "1308      1.600000e+03\n",
              "760597    1.000000e+03\n",
              "79851     8.000000e+02\n",
              "73478     8.000000e+02\n",
              "62403     8.000000e+02\n",
              "536199    7.080000e+02\n",
              "25334     5.000000e+02\n",
              "17769     5.000000e+02\n",
              "513542    5.000000e+02\n",
              "751528    4.670000e+02\n",
              "27629     4.600000e+02\n",
              "351455    4.020000e+02\n",
              "53773     4.000000e+02\n",
              "83522     4.000000e+02\n",
              "16437     3.333333e+02\n",
              "472077    3.235294e+02\n",
              "9667      3.064286e+02\n",
              "674816    3.060000e+02\n",
              "65677     3.000000e+02\n",
              "516546    3.000000e+02\n",
              "71259     2.610000e+02\n",
              "758521    2.480000e+02\n",
              "775479    2.340000e+02\n",
              "69468     2.250000e+02\n",
              "456566    2.190000e+02\n",
              "739372    2.130000e+02\n",
              "76829     2.110000e+02\n",
              "725630    1.900000e+02\n",
              "199425    1.750000e+02\n",
              "27076     1.730000e+02\n",
              "76880     1.600000e+02\n",
              "571193    1.540000e+02\n",
              "536073    1.500000e+02\n",
              "88375     1.500000e+02\n",
              "769486    1.500000e+02\n",
              "41088     1.500000e+02\n",
              "116197    1.440000e+02\n",
              "528464    1.400000e+02\n",
              "394944    1.380000e+02\n",
              "18038     1.370000e+02\n",
              "373523    1.320000e+02\n",
              "422992    1.300000e+02\n",
              "10461     1.280000e+02\n",
              "72432     1.270000e+02\n",
              "760754    1.260000e+02\n",
              "17790     1.250000e+02\n",
              "472536    1.190000e+02\n",
              "379651    1.180000e+02\n",
              "55261     1.160000e+02\n",
              "325514    1.090000e+02\n",
              "16372     1.060000e+02\n",
              "443650    1.060000e+02\n",
              "Name: fat_100g, dtype: float64"
            ]
          },
          "execution_count": 19,
          "metadata": {},
          "output_type": "execute_result"
        }
      ],
      "source": [
        "# ...\n",
        "df[\"fat_100g\"].sort_values(ascending=False).head(n=60)"
      ]
    },
    {
      "cell_type": "markdown",
      "metadata": {
        "id": "n-34l2qMIoX1"
      },
      "source": [
        "The maximum is a clear outlier.\n",
        "The 60th highest value in the column is 106 which is higher than our assumptions would allow, but the values decrease quickly so we might just have a small proportion of erroneous values in our column."
      ]
    },
    {
      "cell_type": "markdown",
      "metadata": {
        "id": "lht0N7G-NCcG"
      },
      "source": [
        "We would need to continue our investigation to get a better overview of these high values:\n",
        "* How many are they?\n",
        "* Does a pattern emerge in the numerical values themselves?\n",
        "* Does a pattern emerge if we look at some of the other columns for these products?"
      ]
    },
    {
      "cell_type": "markdown",
      "metadata": {},
      "source": [
        "\n",
        "For the time being, let us plot the `fat_100g` column without these 60 highest values, and see what the huge majority of the values look like overall."
      ]
    },
    {
      "cell_type": "markdown",
      "metadata": {
        "id": "cuppqxIUOtbr"
      },
      "source": [
        "We will learn cleaner, and simpler, ways to do this, but for the time being, let us plot the `fat_100g` column without these 60 highest values and get a better picture of the huge majority of the values in that column."
      ]
    },
    {
      "cell_type": "markdown",
      "metadata": {},
      "source": [
        "\n",
        "A quick and dirty version, using the functions we have seen so far, could be:\n",
        "1. select the column,\n",
        "2. sort the values in decreasing order,\n",
        "3. keep all values except for the first 60,\n",
        "4. plot them.\n",
        "\n",
        ">**HINT** In our dataset of 778,725 entries, excluding the 60 highest values amounts to selecting the last 778,665 values, with the `tail` function."
      ]
    },
    {
      "cell_type": "code",
      "execution_count": 20,
      "metadata": {
        "id": "59okizDI4ri9"
      },
      "outputs": [
        {
          "data": {
            "text/plain": [
              "<Axes: ylabel='Frequency'>"
            ]
          },
          "execution_count": 20,
          "metadata": {},
          "output_type": "execute_result"
        },
        {
          "data": {
            "image/png": "[encoded data removed]",
            "text/plain": [
              "<Figure size 640x480 with 1 Axes>"
            ]
          },
          "metadata": {},
          "output_type": "display_data"
        }
      ],
      "source": [
        "# ...\n",
        "df[\"fat_100g\"].sort_values(ascending=False).tail(778665).plot(kind=\"hist\")"
      ]
    },
    {
      "cell_type": "markdown",
      "metadata": {},
      "source": [
        ">**HINT** Do not forget to specify the kind of plot you want."
      ]
    },
    {
      "cell_type": "markdown",
      "metadata": {
        "id": "vTUc9kxiR9a_"
      },
      "source": [
        "The x-axis is now limited to a range of 0 to (approximately) 104.\n",
        "\n",
        "Almost all values are below 100, and the distribution seems consistent with the summary statistics (min, 25%, 50%, 75%) we obtained earlier from the `describe()` function."
      ]
    },
    {
      "cell_type": "markdown",
      "metadata": {
        "id": "FvIm1Ntf2vLq"
      },
      "source": [
        "## Conclusion\n",
        "\n",
        "The plots we built up to this point are quite basic, as are the manipulations we performed on the Open Food Facts dataset.\n",
        "\n",
        "However, we have already made tangible the connection between:\n",
        "* manipulating data with pandas, and\n",
        "* visualizing data with different kinds of plots that enable to explore a dataset, get insights from data, and communicate these insights.\n",
        "\n",
        "But before we can build more informative (and maybe even *good-looking*) plots, we need to learn how to manipulate datasets in various ways."
      ]
    }
  ],
  "metadata": {
    "colab": {
      "include_colab_link": true,
      "name": "2_pandas.ipynb",
      "provenance": []
    },
    "kernelspec": {
      "display_name": "Python 3.7.12 ('scpo-bootcamp')",
      "language": "python",
      "name": "python3"
    },
    "language_info": {
      "codemirror_mode": {
        "name": "ipython",
        "version": 3
      },
      "file_extension": ".py",
      "mimetype": "text/x-python",
      "name": "python",
      "nbconvert_exporter": "python",
      "pygments_lexer": "ipython3",
      "version": "3.10.12"
    },
    "vscode": {
      "interpreter": {
        "hash": "f89fb83f4ee32985666da8c6eb03df4ccd6f19f9e27f306cd8874285b36303f1"
      }
    }
  },
  "nbformat": 4,
  "nbformat_minor": 0
}
