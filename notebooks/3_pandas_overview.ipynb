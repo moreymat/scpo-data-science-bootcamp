{
  "cells": [
    {
      "cell_type": "markdown",
      "metadata": {
        "id": "view-in-github",
        "colab_type": "text"
      },
      "source": [
        "<a href=\"https://colab.research.google.com/github/moreymat/scpo-data-science-bootcamp/blob/main/notebooks/3_pandas_overview.ipynb\" target=\"_parent\"><img src=\"https://colab.research.google.com/assets/colab-badge.svg\" alt=\"Open In Colab\"/></a>"
      ]
    },
    {
      "cell_type": "markdown",
      "metadata": {
        "id": "NStrSKxpMR3u"
      },
      "source": [
        "# Tabular data analysis 1 : Exploring Open Food Facts data with pandas\n",
        "\n",
        "In this series of notebooks, we are going to explore the data contained in the Open Food Facts database."
      ]
    },
    {
      "cell_type": "markdown",
      "metadata": {
        "id": "BVrQGK0XMj_q"
      },
      "source": [
        "## Open Food Facts\n",
        "\n",
        "Open Food Facts is an open, crowdsourced database on food products from around the world.\n",
        "\n",
        "It is produced and managed as a digital commons.\n",
        "\n",
        "Everyone can contribute data on packaged food products: pictures, ingredients, nutritional values etc.\n",
        "\n",
        "This database has served as the foundation for many mobile phone apps, especially scanning apps to help customers while grocery shopping."
      ]
    },
    {
      "cell_type": "markdown",
      "metadata": {
        "id": "Kt-j_RjLMsa5"
      },
      "source": [
        "### Notions\n",
        "\n",
        "* It is [*open*](https://en.wikipedia.org/wiki/Open_data): Anyone can freely use it, access it, modify it.\n",
        "* It is [*crowdsourced*](https://en.wikipedia.org/wiki/Crowdsourcing) : Anyone can add new food products to the database, complete or modify existing data.\n",
        "* It is a [knowledge commons](https://en.wikipedia.org/wiki/Knowledge_commons), a type of [digital commons](https://en.wikipedia.org/wiki/Digital_commons_(economics))."
      ]
    },
    {
      "cell_type": "markdown",
      "metadata": {
        "id": "OH4EPJM6MszD"
      },
      "source": [
        "### Browsing through the dataset\n",
        "\n",
        "The Open Food Facts database is [available online](https://world.openfoodfacts.org/).\n",
        "\n",
        "Take a few minutes to explore the database through its online interface.\n",
        "\n",
        "* How is each product described ?\n",
        "* What types of information are provided ?"
      ]
    },
    {
      "cell_type": "markdown",
      "metadata": {
        "id": "g1iMze3R8nXY"
      },
      "source": [
        "### Understanding the dataset\n",
        "\n",
        "To really understand a dataset, you need to read its documentation so that you are able to answer a set of common, basic questions that will help guide your analysis, such as :\n",
        "\n",
        "* Who created this dataset and for what purpose ?\n",
        "* How was the dataset created ?\n",
        "* What do the instances that comprise the dataset represent (eg. people, companies, events, photos...) ?\n",
        "* What data does each instance consist of ? Are they \"raw\" data or (computed) features ?\n",
        "* Are the instances related in some way ? If so, are there specific fields that enable cross-reference ?\n",
        "\n",
        "The documentation for a dataset is always written with some purpose, for an intended type of reader, in a certain context, hence it is very likely that you will not find all the answers in the documentation.\n",
        "\n",
        "Here, you can gather partial information on OFF from :\n",
        "\n",
        "* the [presentation of the project](https://world.openfoodfacts.org/discover)\n",
        "* various pages of the [wiki](https://wiki.openfoodfacts.org/Main_Page), mostly :\n",
        "  * [Data fields](https://wiki.openfoodfacts.org/Data_fields)\n",
        "  * [Ingredients](https://wiki.openfoodfacts.org/Ingredients)\n",
        "  * [Data Quality](https://wiki.openfoodfacts.org/Data_quality)\n",
        "\n",
        "#### To go further\n",
        "\n",
        "* [Datasheets for datasets](https://arxiv.org/pdf/1803.09010.pdf) are a standardized documentation process and format proposed by AI researchers to facilitate the proper (re-)use of datasets and avoid common pitfalls in designing AI components (and ensuing scandals when they exhibit problematic biases in deployment)"
      ]
    },
    {
      "cell_type": "markdown",
      "metadata": {
        "id": "pt6KIZgv7i4r"
      },
      "source": [
        "Equipped with this new knowledge about the Open Food Facts database, you can start the exploratory analysis of the data to gather the missing information to complete your answers, and ask questions of your own.\n"
      ]
    },
    {
      "cell_type": "markdown",
      "metadata": {
        "id": "Vl3hW0qeM3lh"
      },
      "source": [
        "### Open Food Facts as a tabular dataset\n",
        "\n",
        "The entire set of facts about all the products in the Open Food Facts database can be represented as a *tabular dataset*, that is a table of data where :\n",
        "\n",
        "* each row is a product,\n",
        "* each column is a field (eg. \"brand\", \"barcode\", \"energy for 100g\"...),\n",
        "* each cell contains the value of a field for a product."
      ]
    },
    {
      "cell_type": "markdown",
      "metadata": {
        "id": "jby4sV1YK43C"
      },
      "source": [
        "\n",
        "The simplest and most common format used for tabular datasets is the [CSV format](https://en.wikipedia.org/wiki/Comma-separated_values).\n",
        "CSV files can be opened in a spreadsheet software such as Microsoft Excel, Apple Numbers or LibreOffice Calc, or just any plain text editor."
      ]
    },
    {
      "cell_type": "markdown",
      "metadata": {
        "id": "0b0oSBi0K6qI"
      },
      "source": [
        "The Open Food Facts database is [available for download in various formats](https://world.openfoodfacts.org/data), including the CSV format.\n",
        "\n",
        "Because the whole dataset is too big (the CSV export, uncompressed, weighs 9 GB as of 2024-07-19), we will work on a filtered subset of the dataset where we only keep products with :\n",
        "\n",
        "* a non-ambiguous barcode in the [EAN-8](https://en.wikipedia.org/wiki/EAN-8) or [EAN-13](https://en.wikipedia.org/wiki/International_Article_Number) formats ;\n",
        "* a product name,\n",
        "* brands,\n",
        "* an image URL for the product ;\n",
        "* a category ;\n",
        "* basic nutritional values."
      ]
    },
    {
      "cell_type": "markdown",
      "metadata": {
        "id": "q0RtLLYZ8RQp"
      },
      "source": [
        "### Accessing the data\n",
        "\n"
      ]
    },
    {
      "cell_type": "markdown",
      "metadata": {
        "id": "aTUoJWrTLy1-"
      },
      "source": [
        "You need two files (csv and txt) that are on the Google Drive of my Sciences Po account :\n",
        "\n",
        "* [data file (csv)](https://drive.google.com/file/d/1vBIU1Mgnh9hiDFrmWV88w6lhY2WZ9_Vg/view?usp=sharing),\n",
        "* [metadata file (txt)](https://drive.google.com/file/d/1bAUsUzugSGOgkQGjHo1K9RlKO4SORQXW/view?usp=sharing) (column types, so that pandas does not have to guess them).\n",
        "\n",
        "For **each of these 2 files**:\n",
        "1. Open the link\n",
        "2. Click on the \"Add shortcut to Drive\" button\n",
        "<center>\n",
        "<img src=\"https://github.com/moreymat/scpo-data-science-bootcamp/raw/main/notebooks/img/drive-1.png\" width=400>\n",
        "</center>\n",
        "3. In the menu, click on \"My Drive\"\n",
        "<center>\n",
        "<img src=\"https://github.com/moreymat/scpo-data-science-bootcamp/raw/main/notebooks/img/drive-2.png\" width=400>\n",
        "</center>\n",
        "4. Click on \"Add shortcut here\"\n",
        "<center>\n",
        "<img src=\"https://github.com/moreymat/scpo-data-science-bootcamp/raw/main/notebooks/img/drive-3.png\" width=400>\n",
        "</center>\n",
        "\n",
        "This will add shortcuts, in your Sciences Po (Google) drive, to the files stored on Mathieu's Sciences Po (Google) Drive."
      ]
    },
    {
      "cell_type": "markdown",
      "metadata": {
        "id": "B6IXKt8ryo5z"
      },
      "source": [
        "Then you need to authorize Colab to access files (here shortcuts) on your Drive.\n",
        "\n",
        "Execute the following cell, a pop-up will appear asking you to select your Sciences Po (Google) account, then asking you to authorize access."
      ]
    },
    {
      "cell_type": "code",
      "execution_count": 1,
      "metadata": {
        "colab": {
          "base_uri": "https://localhost:8080/"
        },
        "id": "J1goK37ByN8f",
        "outputId": "8edfa469-a44b-45e1-cdfc-97377d4911a6"
      },
      "outputs": [
        {
          "output_type": "stream",
          "name": "stdout",
          "text": [
            "Mounted at /content/drive\n"
          ]
        }
      ],
      "source": [
        "# enable Colab to access files (here shortcuts) on your Drive\n",
        "from google.colab import drive\n",
        "\n",
        "drive.mount(\"/content/drive\")"
      ]
    },
    {
      "cell_type": "markdown",
      "metadata": {
        "id": "LgtndxVTzC8j"
      },
      "source": [
        "The files can now be accessed from the shortcuts on your drive."
      ]
    },
    {
      "cell_type": "markdown",
      "metadata": {
        "id": "_rM7v1UoOaEg"
      },
      "source": [
        "## The pandas library for tabular data analysis"
      ]
    },
    {
      "cell_type": "markdown",
      "metadata": {
        "id": "hTQA8jb-M6_r"
      },
      "source": [
        "### Gaining functionalities with libraries\n",
        "\n",
        "The Python standard library includes a module named [csv](https://docs.python.org/3/library/csv.html#module-csv) that provides very basic support to read and write CSV files.\n",
        "This module enables you to read and write values, but nothing more.\n",
        "\n",
        "It gives you no way to :\n",
        "\n",
        "* rename columns ;\n",
        "* filter columns, eg. keep only the columns for nutritional values ;\n",
        "* filter rows, eg. select all products that are categorized as \"Sweet spreads\" ;\n",
        "* compute summary statistics on columns across rows, eg. compute the min, max, mean and median of fiber content per 100g ;\n",
        "* compare columns, eg. test whether they contain the same values ;\n",
        "* etc.\n",
        "\n",
        "As we saw in the 1st and 2nd notebooks, this can be remedied by using an additional [software library](https://en.wikipedia.org/wiki/Library_(computing)), which is, roughly speaking, a collection of code that provides functionalities to perform operations on a given task or domain .\n",
        "\n",
        "The most widely used library in Python to work on tabular datasets is [pandas](https://pandas.pydata.org/)."
      ]
    },
    {
      "cell_type": "markdown",
      "metadata": {
        "id": "2_PiRu9Ch1c1"
      },
      "source": [
        "We need to import pandas and, for technical reasons, a specific pandas data type to load [categorical variables with ordered values](https://pandas.pydata.org/pandas-docs/stable/user_guide/categorical.html#controlling-behavior).\n",
        "\n",
        "We will use a custom utility function, `load_off`, to load the Open Food Facts dataset and convert a column.\n",
        "\n",
        "> **NOTE** You do not need to understand or even look at the code in the next cell. It uses a few Python functions and technical notions (file input and output, evaluation) that we cannot introduce properly in the time allocated to this course, and are beyond the objectives of this bootcamp.\n",
        "However, feel free to ask Mathieu questions if you are curious !"
      ]
    },
    {
      "cell_type": "code",
      "execution_count": 2,
      "metadata": {
        "id": "D6TRL3KEQtp2"
      },
      "outputs": [],
      "source": [
        "# (just execute this cell)\n",
        "\n",
        "# import pandas\n",
        "import csv\n",
        "import pandas as pd\n",
        "\n",
        "# we need this data type for ordered categoricals\n",
        "from pandas.api.types import CategoricalDtype\n",
        "\n",
        "# lift some limitations in column width, so more cell values are displayed in full\n",
        "pd.set_option(\"display.max_colwidth\", 110)\n",
        "\n",
        "# dataset and data type of the columns\n",
        "FOLDER = \"drive/MyDrive\"\n",
        "OFF_FILE = f\"{FOLDER}/off_products_subset.csv\"\n",
        "DTYPE_FILE = f\"{FOLDER}/dtype.txt\"\n",
        "\n",
        "\n",
        "# custom function to load the Open Food Facts subset\n",
        "def load_off():\n",
        "    \"\"\"Load the filtered subset of Open Food Facts.\n",
        "\n",
        "    Returns\n",
        "    -------\n",
        "    df : pd.DataFrame\n",
        "      (A filtered subset of the) Open Food Facts tabular dataset.\n",
        "    \"\"\"\n",
        "    # load the data types for the columns\n",
        "    with open(DTYPE_FILE) as f:\n",
        "        dtype = eval(f.read())\n",
        "\n",
        "    # load the dataset\n",
        "    df = pd.read_csv(OFF_FILE, sep=\"\\t\", dtype=dtype, quoting=csv.QUOTE_NONE)\n",
        "    # convert columns with datetimes\n",
        "    for col_name in (\n",
        "        \"created_datetime\",\n",
        "        \"last_modified_datetime\",\n",
        "        \"last_updated_datetime\",\n",
        "        \"last_image_datetime\",\n",
        "    ):\n",
        "        # ISO 8601 dates\n",
        "        df[col_name] = pd.to_datetime(df[col_name])\n",
        "    #\n",
        "    return df\n",
        "\n",
        "\n",
        "# load the dataset (takes around 60 seconds)\n",
        "df = load_off()"
      ]
    },
    {
      "cell_type": "markdown",
      "metadata": {
        "id": "dF-a6-pGl-lK"
      },
      "source": [
        "If all went fine, you do not see anything.\n",
        "\n",
        "What have we read, really ?\n",
        "\n",
        "You remember that typing the name of a variable, as the only (or last) line of a notebook cell, prints its value."
      ]
    },
    {
      "cell_type": "markdown",
      "metadata": {
        "id": "f5l0iVFWCbEv"
      },
      "source": [
        "Type the name of the variable containing the dataset, to display the value (content) of that variable."
      ]
    },
    {
      "cell_type": "code",
      "execution_count": null,
      "metadata": {
        "id": "QOutdFLOU49J"
      },
      "outputs": [],
      "source": [
        "# display the value\n"
      ]
    },
    {
      "cell_type": "markdown",
      "metadata": {
        "id": "BJUlS9O3Ou2q"
      },
      "source": [
        "The dataset is loaded in a pandas DataFrame, a type of object described in the [pandas intro tutorial 01](https://pandas.pydata.org/docs/getting_started/intro_tutorials/01_table_oriented.html)."
      ]
    },
    {
      "cell_type": "markdown",
      "metadata": {
        "id": "zdU6oj0eoDEI"
      },
      "source": [
        "By default pandas displays the column headers, the first and last five rows with their row index, the total number of rows and columns."
      ]
    },
    {
      "cell_type": "markdown",
      "metadata": {
        "id": "XWrf7DeO1H9x"
      },
      "source": [
        "**Question** How many rows and columns does the table contain in total ?"
      ]
    },
    {
      "cell_type": "markdown",
      "metadata": {
        "id": "iBmyOOcqBKgy"
      },
      "source": [
        "### First glance at the dataset"
      ]
    },
    {
      "cell_type": "markdown",
      "metadata": {
        "id": "-dBvbb5J1Jed"
      },
      "source": [
        "You can display the first `n` entries of a Dataframe with the DataFrame method [head](https://pandas.pydata.org/docs/reference/api/pandas.DataFrame.head.html), and the last `n` entries with [tail](https://pandas.pydata.org/docs/reference/api/pandas.DataFrame.tail.html#pandas.DataFrame.tail).\n",
        "\n",
        "> **HINT**: Remember that methods are attached to an object, and are called with the dot notation."
      ]
    },
    {
      "cell_type": "markdown",
      "metadata": {
        "id": "wuLYyr8oBZre"
      },
      "source": [
        "You can call [head](https://pandas.pydata.org/docs/reference/api/pandas.DataFrame.head.html) with no parameter."
      ]
    },
    {
      "cell_type": "code",
      "execution_count": null,
      "metadata": {
        "id": "H-QIrhlN1obK"
      },
      "outputs": [],
      "source": [
        "# (just execute this cell)\n",
        "df.head()"
      ]
    },
    {
      "cell_type": "markdown",
      "metadata": {
        "id": "ZDNzibVG1c-m"
      },
      "source": [
        "You can call `head` with a parameter `n=7` (or just `7`) to display the first 7 entries."
      ]
    },
    {
      "cell_type": "code",
      "execution_count": null,
      "metadata": {
        "id": "-u7BYnhC1f2N"
      },
      "outputs": [],
      "source": []
    },
    {
      "cell_type": "markdown",
      "metadata": {
        "id": "w-hEqIhY1gSN"
      },
      "source": [
        "You can call [tail](https://pandas.pydata.org/docs/reference/api/pandas.DataFrame.tail.html#pandas.DataFrame.tail) with no parameter."
      ]
    },
    {
      "cell_type": "code",
      "execution_count": null,
      "metadata": {
        "id": "m_y711og1irf"
      },
      "outputs": [],
      "source": []
    },
    {
      "cell_type": "markdown",
      "metadata": {
        "id": "I44RSZLJB-uy"
      },
      "source": [
        "You can call `tail` with a parameter `3` to display the last 3 entries."
      ]
    },
    {
      "cell_type": "code",
      "execution_count": null,
      "metadata": {
        "id": "INjpbTbACEGO"
      },
      "outputs": [],
      "source": []
    },
    {
      "cell_type": "markdown",
      "metadata": {
        "id": "uq0kv9lJ8GHn"
      },
      "source": [
        "**Hint** Some URLs are longer than the maximal displayed text length for a cell (by default 80 characters, that is explicitly raised at the beginning of this notebook to 110). This will make it harder for you to consult the product page on the OFF website.\n",
        "You can use the `values` attribute to get the complete array of values for a (subset of a) DataFrame, or of a column (Series)."
      ]
    },
    {
      "cell_type": "code",
      "execution_count": null,
      "metadata": {
        "id": "G7dy_6Lf-DUE"
      },
      "outputs": [],
      "source": [
        "# (just execute this cell)\n",
        "# display the arrays of values of all fields for the first 2 products\n",
        "# NB : each entry has 2 URLs : one for the product page, one for its (small-sized) image\n",
        "df.head(n=2).values"
      ]
    },
    {
      "cell_type": "markdown",
      "metadata": {
        "id": "lzDZ-aYHqedT"
      },
      "source": [
        "### About the data table\n",
        "\n",
        "We can display a summary of the DataFrame with `info`, including for each column its index, name, number of non-null values, and data type (`dtype`).\n",
        "For more information, you can read the [pandas intro tutorial 02](https://pandas.pydata.org/docs/getting_started/intro_tutorials/02_read_write.html)."
      ]
    },
    {
      "cell_type": "code",
      "execution_count": null,
      "metadata": {
        "id": "tcde5MfC-W_r"
      },
      "outputs": [],
      "source": []
    },
    {
      "cell_type": "markdown",
      "metadata": {
        "id": "VnBCyh0LqirZ"
      },
      "source": [
        "`info` also displays the total memory usage of the DataFrame.\n",
        "\n",
        "However, by default, `info` roughly estimates the memory usage.\n",
        "\n",
        "Call `info` with the parameter `memory_usage=deep` (see the documentation for [DataFrame.info](https://pandas.pydata.org/pandas-docs/version/2.0/reference/api/pandas.DataFrame.info.html#pandas-dataframe-info) )."
      ]
    },
    {
      "cell_type": "code",
      "execution_count": null,
      "metadata": {
        "id": "Drrk1JdXCyfA"
      },
      "outputs": [],
      "source": []
    },
    {
      "cell_type": "markdown",
      "metadata": {
        "id": "4g32UFxUCyfA"
      },
      "source": [
        "**Question.** How much memory does the dataset occupy, when loaded?"
      ]
    },
    {
      "cell_type": "markdown",
      "metadata": {
        "id": "SunKeg2RitCS"
      },
      "source": [
        "### Examining a column\n",
        "\n",
        "How can we get a general idea of the content of a given column, for instance `nutriscore_grade` ?\n",
        "\n",
        "One way to do this is to select the column and ask for its distinct values, using the function [unique](https://pandas.pydata.org/pandas-docs/stable/reference/api/pandas.Series.unique.html#pandas.Series.unique):"
      ]
    },
    {
      "cell_type": "code",
      "execution_count": null,
      "metadata": {
        "id": "LnzPs9Msj-1Z"
      },
      "outputs": [],
      "source": [
        "# (just execute this cell)\n",
        "df[\"nutriscore_grade\"].unique()"
      ]
    },
    {
      "cell_type": "markdown",
      "metadata": {
        "id": "kB8jmgElkG0R"
      },
      "source": [
        "We selected the column `df[\"nutriscore_grade\"]`, then called the `unique()` function on this column (with a dot operator: `.unique()`).\n"
      ]
    },
    {
      "cell_type": "markdown",
      "metadata": {
        "id": "ctQcUC8b_Ts0"
      },
      "source": [
        "\n",
        "The column `nutriscore_grade` contains values 'a', 'b', 'c', 'd', 'e' (listed in their order of appearance in the dataset), plus a special value `NaN` (\"Not a Number\") for missing values."
      ]
    },
    {
      "cell_type": "markdown",
      "metadata": {
        "id": "dqQ6rXF9kifH"
      },
      "source": [
        "To get a slightly better idea, we would want to know how many products are in each category, ie. how many times each category occurs in the column.\n",
        "\n",
        "We can select the column, as above, then call the function [value_counts](https://pandas.pydata.org/pandas-docs/stable/reference/api/pandas.Series.value_counts.html) instead of `unique`."
      ]
    },
    {
      "cell_type": "code",
      "execution_count": null,
      "metadata": {
        "id": "5k20TFyPlGWG"
      },
      "outputs": [],
      "source": []
    },
    {
      "cell_type": "markdown",
      "metadata": {
        "id": "QqpRo0lFlOoL"
      },
      "source": [
        "In order of decreasing frequency:\n",
        "- 189,568 products in our dataset have Nutriscore grade 'd',\n",
        "- 141,295 are 'c',\n",
        "- 115,130 are 'e',\n",
        "- 111,371 are 'a',\n",
        "- 95,266 are 'b'."
      ]
    },
    {
      "cell_type": "markdown",
      "metadata": {
        "id": "xzb3GrnElnHR"
      },
      "source": [
        "If we were working within a spreadsheet software, at this point we would probably feel the urge to plot these values.\n",
        "\n",
        "pandas enables to do that easily with the [plot function](https://pandas.pydata.org/pandas-docs/stable/reference/api/pandas.Series.plot.html)."
      ]
    },
    {
      "cell_type": "code",
      "execution_count": null,
      "metadata": {
        "id": "GIbCSU0kmqc3"
      },
      "outputs": [],
      "source": [
        "# (just execute this cell)\n",
        "df[\"nutriscore_grade\"].value_counts().plot()"
      ]
    },
    {
      "cell_type": "markdown",
      "metadata": {
        "id": "OEiWC_R-mYqd"
      },
      "source": [
        "The resulting plot does display the data but is far from ideal:\n",
        "The number of occurrences of each value in a given column would be better visualized as a *bar plot*.\n",
        "\n",
        "We can change the type of graph by calling `plot()` with the parameter `kind=\"bar\"`."
      ]
    },
    {
      "cell_type": "code",
      "execution_count": null,
      "metadata": {
        "id": "7eks1FRtCyfE"
      },
      "outputs": [],
      "source": [
        "# (just execute this cell)\n",
        "df[\"nutriscore_grade\"].value_counts().plot(kind=\"bar\")"
      ]
    },
    {
      "cell_type": "markdown",
      "metadata": {
        "id": "fw7qv_p_CyfE"
      },
      "source": [
        "This plot could be improved in many ways: Axes could have more informative or better looking labels, grades could be displayed in their \"natural\" ordering, bars could have different colors...\n",
        "\n",
        "When we focus on data visualization in notebook 4, we will use a companion library named `seaborn` that provides easy access to the most common customization options, as well as advanced types of data visualizations.\n",
        "\n",
        "But for now, the basic plotting capability of pandas will do."
      ]
    },
    {
      "cell_type": "markdown",
      "metadata": {
        "id": "LLfWAzjf3JtS"
      },
      "source": [
        "What about columns containing numeric values, such as `fat_100g`? Are they easier to examine visually with pandas?"
      ]
    },
    {
      "cell_type": "markdown",
      "metadata": {
        "id": "tICv9NrdQFOz"
      },
      "source": [
        "Build a histogram of the column `fat_100g`.\n",
        "\n",
        "> **HINT** Use the function [plot](https://pandas.pydata.org/docs/reference/api/pandas.Series.plot.html), this time with the parameter `kind=\"hist\"`."
      ]
    },
    {
      "cell_type": "code",
      "execution_count": null,
      "metadata": {
        "id": "PDaC5Gx73laD"
      },
      "outputs": [],
      "source": [
        "#\n"
      ]
    },
    {
      "cell_type": "markdown",
      "metadata": {
        "id": "qJ14pwau4Y6p"
      },
      "source": [
        "The plot highlights that, for more than 700,000 products in our dataset, the amount of fat per 100 g of product is between 0 and (approximately) 0.16 * 1e9 grams = 160,000,000 grams."
      ]
    },
    {
      "cell_type": "markdown",
      "metadata": {
        "id": "ZxYAmjKm9LTw"
      },
      "source": [
        "\n",
        "This is slightly concerning on two respects:\n",
        "1. we would expect this to hold true for all 778,725 products in our dataset, wouldn't we?\n",
        "2. is there any reason for the graph to have an x-axis go as high as 160,000,000 grams, and squeeze all (or almost all?) values in one bar on the left?\n",
        "\n",
        "We should probably have a better look at the values in this column, in particular look for:\n",
        "1. missing values and\n",
        "2. extreme values."
      ]
    },
    {
      "cell_type": "markdown",
      "metadata": {
        "id": "I7kxfdJU9-H8"
      },
      "source": [
        "The number of missing values in a column can be retrieved by selecting the column and calling [info](https://pandas.pydata.org/docs/reference/api/pandas.Series.info.html?highlight=info#pandas.Series.info)."
      ]
    },
    {
      "cell_type": "code",
      "execution_count": null,
      "metadata": {
        "id": "W8l9BIVn79xc"
      },
      "outputs": [],
      "source": [
        "# select the column, then call info()\n"
      ]
    },
    {
      "cell_type": "markdown",
      "metadata": {
        "id": "oOKQNn2y_eD4"
      },
      "source": [
        "The output of `info` states that the column contains 778,725 entries, of which 722,357 are non-null, ie. values that are not missing.\n",
        "\n",
        "This explains why the bar on the left of the plot culminates just above 700,000, but does not get close to 800,000 which would be the next tick on the y-axis."
      ]
    },
    {
      "cell_type": "markdown",
      "metadata": {
        "id": "cx0neXp4AyYT"
      },
      "source": [
        "But why does the x-axis go as high as 160,000,000?\n",
        "We certainly do not expect any product to contain 160,000,000 g of fat per 100 g of product, do we?"
      ]
    },
    {
      "cell_type": "markdown",
      "metadata": {
        "id": "Ws54ezKmCB9O"
      },
      "source": [
        "Let us examine the distribution of the values in the `fat_100g` column, with the function [describe](https://pandas.pydata.org/docs/reference/api/pandas.Series.describe.html#pandas.Series.describe):"
      ]
    },
    {
      "cell_type": "code",
      "execution_count": null,
      "metadata": {
        "id": "WvM6Tz0HCNvA"
      },
      "outputs": [],
      "source": [
        "# select the column, then call describe()\n"
      ]
    },
    {
      "cell_type": "markdown",
      "metadata": {
        "id": "CkwPZsViCcut"
      },
      "source": [
        "- The mean value is `2,229`, ie. products contain more than 2,000 g of fat per 100g on average;\n",
        "- The minimum value is `0`, ie. some products do not contain any fat;\n",
        "- 25% of products contain less than 1.0 g of fat per 100 g;\n",
        "- 50% of products contain less than 6.7 g of fat per 100 g;\n",
        "- 75% of products contain less than 21 g of fat per 100g;\n",
        "- The maximum value is 160,000,000, ie. a product is described as containing 29,000 g of fat per 100 g.\n",
        "\n",
        "Each of these points is consistent with our common sense assumptions, except for the first and last one."
      ]
    },
    {
      "cell_type": "markdown",
      "metadata": {
        "id": "EuXUf4TrDWm8"
      },
      "source": [
        "At least one value in this column is extremely high, which implies that:\n",
        "- either we need to revise our assumptions, and accept that products can have a declared amount of fat per 100 g that is extremely high ;\n",
        "- or some entries are erroneous."
      ]
    },
    {
      "cell_type": "markdown",
      "metadata": {
        "id": "SrhrFhb8Erg4"
      },
      "source": [
        "If the former is true, then given the size of the dataset, we would expect other products to have a very high value in this column."
      ]
    },
    {
      "cell_type": "markdown",
      "metadata": {
        "id": "EvRZButSFOSQ"
      },
      "source": [
        "Let us sort the values in the column **in decreasing order**, using [sort_values](https://pandas.pydata.org/docs/reference/api/pandas.Series.sort_values.html) with argument `ascending=False`."
      ]
    },
    {
      "cell_type": "code",
      "execution_count": null,
      "metadata": {
        "id": "ldT6nUdlFhyu"
      },
      "outputs": [],
      "source": [
        "# ...\n"
      ]
    },
    {
      "cell_type": "markdown",
      "metadata": {
        "id": "MJIgMa0jGjcc"
      },
      "source": [
        "The 5 highest values are, in decreasing order: 160,000,000 ; 678,454 ; 3,631 ; 2,308 ; 1,972.\n"
      ]
    },
    {
      "cell_type": "markdown",
      "metadata": {
        "id": "umr4k1BIHUdc"
      },
      "source": [
        "\n",
        "Are there many more values that are unexpectedly high, or are they isolated outliers ?\n",
        "\n",
        "Let us use the `head` function, that we discovered earlier, on the sorted column to look at the 60 highest values in the column.\n",
        "\n",
        "You need to select the column, sort its values in decreasing order, and display the first 60 values."
      ]
    },
    {
      "cell_type": "code",
      "execution_count": null,
      "metadata": {
        "id": "1Z58P5SYIQoG"
      },
      "outputs": [],
      "source": [
        "# ...\n"
      ]
    },
    {
      "cell_type": "markdown",
      "metadata": {
        "id": "n-34l2qMIoX1"
      },
      "source": [
        "The maximum is a clear outlier.\n",
        "The 60th highest value in the column is 106 which is higher than our assumptions would allow, but the values decrease quickly so we might just have a small proportion of erroneous values in our column."
      ]
    },
    {
      "cell_type": "markdown",
      "metadata": {
        "id": "lht0N7G-NCcG"
      },
      "source": [
        "We would need to continue our investigation to get a better overview of these high values:\n",
        "* How many are they?\n",
        "* Does a pattern emerge in the numerical values themselves?\n",
        "* Does a pattern emerge if we look at some of the other columns for these products?"
      ]
    },
    {
      "cell_type": "markdown",
      "metadata": {
        "id": "qqSNg_xGCyfI"
      },
      "source": [
        "\n",
        "For the time being, let us plot the `fat_100g` column without these 60 highest values, and see what the huge majority of the values look like overall."
      ]
    },
    {
      "cell_type": "markdown",
      "metadata": {
        "id": "cuppqxIUOtbr"
      },
      "source": [
        "We will learn cleaner, and simpler, ways to do this, but for the time being, let us plot the `fat_100g` column without these 60 highest values and get a better picture of the huge majority of the values in that column."
      ]
    },
    {
      "cell_type": "markdown",
      "metadata": {
        "id": "uGomfJd2CyfI"
      },
      "source": [
        "\n",
        "A quick and dirty version, using the functions we have seen so far, could be:\n",
        "1. select the column,\n",
        "2. sort the values in decreasing order,\n",
        "3. keep all values except for the first 60,\n",
        "4. plot them.\n",
        "\n",
        ">**HINT** In our dataset of 778,725 entries, excluding the 60 highest values amounts to selecting the last 778,665 values, with the `tail` function."
      ]
    },
    {
      "cell_type": "code",
      "execution_count": null,
      "metadata": {
        "id": "59okizDI4ri9"
      },
      "outputs": [],
      "source": [
        "# ...\n"
      ]
    },
    {
      "cell_type": "markdown",
      "metadata": {
        "id": "4cIlwyz6CyfJ"
      },
      "source": [
        ">**HINT** Do not forget to specify the kind of plot you want."
      ]
    },
    {
      "cell_type": "markdown",
      "metadata": {
        "id": "vTUc9kxiR9a_"
      },
      "source": [
        "The x-axis is now limited to a range of 0 to (approximately) 104.\n",
        "\n",
        "Almost all values are below 100, and the distribution seems consistent with the summary statistics (min, 25%, 50%, 75%) we obtained earlier from the `describe()` function."
      ]
    },
    {
      "cell_type": "markdown",
      "metadata": {
        "id": "FvIm1Ntf2vLq"
      },
      "source": [
        "## Conclusion\n",
        "\n",
        "The plots we built up to this point are quite basic, as are the manipulations we performed on the Open Food Facts dataset.\n",
        "\n",
        "However, we have already made tangible the connection between:\n",
        "* manipulating data with pandas, and\n",
        "* visualizing data with different kinds of plots that enable to explore a dataset, get insights from data, and communicate these insights.\n",
        "\n",
        "But before we can build more informative (and maybe even *good-looking*) plots, we need to learn how to manipulate datasets in various ways."
      ]
    }
  ],
  "metadata": {
    "colab": {
      "provenance": [],
      "include_colab_link": true
    },
    "kernelspec": {
      "display_name": "Python 3.7.12 ('scpo-bootcamp')",
      "language": "python",
      "name": "python3"
    },
    "language_info": {
      "codemirror_mode": {
        "name": "ipython",
        "version": 3
      },
      "file_extension": ".py",
      "mimetype": "text/x-python",
      "name": "python",
      "nbconvert_exporter": "python",
      "pygments_lexer": "ipython3",
      "version": "3.10.12"
    },
    "vscode": {
      "interpreter": {
        "hash": "f89fb83f4ee32985666da8c6eb03df4ccd6f19f9e27f306cd8874285b36303f1"
      }
    }
  },
  "nbformat": 4,
  "nbformat_minor": 0
}