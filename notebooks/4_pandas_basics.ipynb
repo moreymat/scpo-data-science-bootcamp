{
 "cells": [
  {
   "cell_type": "markdown",
   "metadata": {},
   "source": [
    "# Tabular Data Analysis 2: Basic operations in pandas\n",
    "\n",
    "The previous notebook gave an overview of how the pandas library enables to load, manipulate and visualize a dataset.\n",
    "\n",
    "This notebook introduces the basic operations for data manipulation in pandas, before we focus on data visualization in the next notebook."
   ]
  },
  {
   "cell_type": "markdown",
   "metadata": {},
   "source": [
    "## Preliminary: Access and load the data\n",
    "\n",
    "We need to execute the same code as in the previous notebook to load the pandas library and the Open Food Facts dataset."
   ]
  },
  {
   "cell_type": "code",
   "execution_count": null,
   "metadata": {},
   "outputs": [],
   "source": [
    "# (just execute this cell)\n",
    "\n",
    "# enable Colab to access files (here shortcuts) on your Drive\n",
    "# from google.colab import drive\n",
    "\n",
    "# drive.mount(\"/content/drive\")"
   ]
  },
  {
   "cell_type": "code",
   "execution_count": null,
   "metadata": {},
   "outputs": [],
   "source": [
    "# (just execute this cell)\n",
    "\n",
    "# import pandas\n",
    "import csv\n",
    "import pandas as pd\n",
    "\n",
    "# we need this data type for ordered categoricals\n",
    "from pandas.api.types import CategoricalDtype\n",
    "\n",
    "# lift some limitations in column width, so more cell values are displayed in full\n",
    "pd.set_option(\"display.max_colwidth\", 110)\n",
    "\n",
    "# dataset and data type of the columns\n",
    "FOLDER = \"../data/processed\"  # \"drive/MyDrive\"\n",
    "OFF_FILE = f\"{FOLDER}/off_products_subset.csv\"\n",
    "DTYPE_FILE = f\"{FOLDER}/dtype.txt\"\n",
    "\n",
    "\n",
    "# custom function to load the Open Food Facts subset\n",
    "def load_off():\n",
    "    \"\"\"Load the filtered subset of Open Food Facts.\n",
    "\n",
    "    Returns\n",
    "    -------\n",
    "    df : pd.DataFrame\n",
    "      (A filtered subset of the) Open Food Facts tabular dataset.\n",
    "    \"\"\"\n",
    "    # load the data types for the columns\n",
    "    with open(DTYPE_FILE) as f:\n",
    "        dtype = eval(f.read())\n",
    "\n",
    "    # load the dataset\n",
    "    df = pd.read_csv(OFF_FILE, sep=\"\\t\", dtype=dtype, quoting=csv.QUOTE_NONE)\n",
    "    # convert columns with datetimes\n",
    "    for col_name in (\n",
    "        \"created_datetime\",\n",
    "        \"last_modified_datetime\",\n",
    "        \"last_updated_datetime\",\n",
    "        \"last_image_datetime\",\n",
    "    ):\n",
    "        # ISO 8601 dates\n",
    "        df[col_name] = pd.to_datetime(df[col_name])\n",
    "    #\n",
    "    return df\n",
    "\n",
    "\n",
    "# load the dataset (takes around 50 seconds)\n",
    "df = load_off()"
   ]
  },
  {
   "cell_type": "markdown",
   "metadata": {},
   "source": [
    "### Making a selection into a proper DataFrame\n",
    "\n",
    "You can manipulate each of these selections as a DataFrame, but behind the scenes, they are *views* of the original DataFrame `df`.\n",
    "The *view* mechanism avoids unnecessary copies of the dataset, but it is problematic when we really want to extract a subset and perform some operations only on this subset."
   ]
  },
  {
   "cell_type": "markdown",
   "metadata": {},
   "source": [
    "For instance, let us select all products in `df` with sugars and fat per 100g greater than 0, and add a column with the sugars to fat ratio."
   ]
  },
  {
   "cell_type": "markdown",
   "metadata": {},
   "source": [
    "First, we need to define two filtering conditions and apply them jointly using the [boolean \"and\" `&`](https://pandas.pydata.org/pandas-docs/stable/user_guide/indexing.html#boolean-indexing). Store the result in a variable named `df_sugarsfat`."
   ]
  },
  {
   "cell_type": "code",
   "execution_count": null,
   "metadata": {},
   "outputs": [],
   "source": []
  },
  {
   "cell_type": "markdown",
   "metadata": {},
   "source": [
    "Now, let us try to add to `df_sugarsfat` a new column named `\"sugarsfat_ratio\"` with the sugars to fat ratio."
   ]
  },
  {
   "cell_type": "code",
   "execution_count": null,
   "metadata": {},
   "outputs": [],
   "source": []
  },
  {
   "cell_type": "markdown",
   "metadata": {},
   "source": [
    "The output seems fine, but it is preceded by a `SettingWithCopyWarning` that tells us we are working on a *view* when we should be working on an independent copy of the subset of the dataframe.\n",
    "\n",
    "To avoid this warning, we need to turn our selection into an independent dataframe, with the function `copy()`, and store the result in our variable named `df_sugarsfat`:"
   ]
  },
  {
   "cell_type": "code",
   "execution_count": null,
   "metadata": {},
   "outputs": [],
   "source": []
  },
  {
   "cell_type": "markdown",
   "metadata": {},
   "source": [
    "Then let us add to (our new) `df_sugarsfat` a column named `\"sugarsfat_ratio\"` with the sugars to fat ratio."
   ]
  },
  {
   "cell_type": "code",
   "execution_count": null,
   "metadata": {},
   "outputs": [],
   "source": []
  },
  {
   "cell_type": "markdown",
   "metadata": {},
   "source": [
    "The ratios are the same as before, except we got rid of the big warning, so we must be doing things the *right* way.\n",
    "\n",
    "We will not go further and we certainly do not expect you to master the [difference between a view and a copy](https://pandas.pydata.org/pandas-docs/stable/user_guide/indexing.html#returning-a-view-versus-a-copy), but at least now you know that if you encounter the big scary warning, you probably need to `copy()` your selection of rows."
   ]
  },
  {
   "cell_type": "markdown",
   "metadata": {},
   "source": [
    "### Selecting subsets\n",
    "\n",
    "One of the fundamental operations on DataFrames is to be able to filter the dataset on a certain condition, to keep only certain rows or columns.\n",
    "\n",
    "The basic operators for selection are square brackets `[]`, `loc` and `iloc`, and you can select rows or columns by their position or label, or with a conditional expression on values, see the [pandas intro tutorial 03](https://pandas.pydata.org/docs/getting_started/intro_tutorials/03_subset_data.html)."
   ]
  },
  {
   "cell_type": "markdown",
   "metadata": {},
   "source": [
    "Filter rows in `df` to keep only products with Nutri-Score 'a', and store the result in a variable called `df_nutri_a`.\n"
   ]
  },
  {
   "cell_type": "code",
   "execution_count": null,
   "metadata": {},
   "outputs": [],
   "source": [
    "# (just execute this cell)\n",
    "df_nutri_a = df[df[\"nutriscore_grade\"] == \"a\"]\n",
    "df_nutri_a"
   ]
  },
  {
   "cell_type": "markdown",
   "metadata": {},
   "source": [
    "You should have 56,260 entries."
   ]
  },
  {
   "cell_type": "markdown",
   "metadata": {},
   "source": [
    "Now filter rows in `df` to keep products whose quantity of sugars per 100g is higher than 20g, and store the result in a variable called `df_sugar_gt20`."
   ]
  },
  {
   "cell_type": "code",
   "execution_count": null,
   "metadata": {},
   "outputs": [],
   "source": []
  },
  {
   "cell_type": "markdown",
   "metadata": {},
   "source": [
    "You should obtain 83891 entries."
   ]
  },
  {
   "cell_type": "markdown",
   "metadata": {},
   "source": [
    "Filter the dataset `df` to keep only the columns corresponding to the :\n",
    "* barcode,\n",
    "* url,\n",
    "* date of creation,\n",
    "* product name,\n",
    "* brands,\n",
    "* categories,\n",
    "* ingredients text,\n",
    "* main category,\n",
    "* Nutri-Score grade,\n",
    "* Nutri-Score score,\n",
    "* Nova group.\n",
    "\n",
    "And store the result in a variable named `df_sel_cols`."
   ]
  },
  {
   "cell_type": "code",
   "execution_count": null,
   "metadata": {},
   "outputs": [],
   "source": []
  },
  {
   "cell_type": "markdown",
   "metadata": {},
   "source": [
    "### Renaming columns\n",
    "\n",
    "Column names are not always ideal, either because they are not transparent (it is hard for you or an external user to understand what they stand for) or because they would look bad if they were used directly to label the axes of a datavisualization.\n",
    "\n",
    "pandas provides means to rename columns, see the [pandas intro tutorial 05](https://pandas.pydata.org/docs/getting_started/intro_tutorials/05_add_columns.html)."
   ]
  },
  {
   "cell_type": "markdown",
   "metadata": {},
   "source": [
    "### Summary statistics\n",
    "\n",
    "You can compute various summary statistics that depend on the type of variable in each column, see the [pandas intro tutorial 06](https://pandas.pydata.org/docs/getting_started/intro_tutorials/06_calculate_statistics.html).\n",
    "\n",
    "Compute summary statistics for several columns from different types, and combinations of columns that could provide interesting insights.\n",
    "\n",
    "For instance, compute the means of the nutritional values in `df` for :\n",
    "* fat,\n",
    "* saturated fat,\n",
    "* sugars,\n",
    "* salt."
   ]
  },
  {
   "cell_type": "markdown",
   "metadata": {},
   "source": [
    "### Computing on columns\n",
    "\n",
    "You can manipulate columns in various ways, including with operations that apply element-wise as we saw for NumPy arrays in the first notebook.\n",
    "\n",
    "You can for instance subtract the mean value of a column to each value in the column."
   ]
  },
  {
   "cell_type": "markdown",
   "metadata": {},
   "source": [
    "### Sorting data\n",
    "\n",
    "The entries are sorted by barcode.\n",
    "We might find it easier to understand the dataset if we sort entries by another criterion."
   ]
  },
  {
   "cell_type": "markdown",
   "metadata": {},
   "source": [
    "### Working with dates\n",
    "\n",
    "pandas has a specific data type for dates. You can explicitly ask pandas to use this type for specific columns, either during `read_csv` or after (as I did in `load_off`), see the [pandas intro tutorial 09](https://pandas.pydata.org/docs/getting_started/intro_tutorials/09_timeseries.html).\n",
    "\n",
    "This specific data type makes it easy to filter entries by the month of their creation, to know what day of the week an entry was created, or to sort entries by their date of creation.\n",
    "\n",
    "Sort entries by their date of creation, and store the result in a variable named `df_sort_created`."
   ]
  },
  {
   "cell_type": "markdown",
   "metadata": {},
   "source": [
    "### Working with textual data\n",
    "\n",
    "pandas provides a number of functions to process text strings, see the [pandas intro tutorial 10](https://pandas.pydata.org/docs/getting_started/intro_tutorials/10_text_data.html).\n",
    "\n",
    "Use these functions to select all entries whose list of brands contains \"Casino\" (this operation is case-sensitive, so mind the initial capital letter!), and store the result in a variable named `df_casino`."
   ]
  },
  {
   "cell_type": "markdown",
   "metadata": {},
   "source": [
    "### Wrapping it all together\n",
    "\n",
    "Select all the products that are in the category for spreads and store this subset in a variable `df_spreads`."
   ]
  },
  {
   "cell_type": "markdown",
   "metadata": {},
   "source": [
    "## Bonus exercise : Traffic light labelling\n",
    "\n",
    "The [traffic light labelling system](https://www.nutrition.org.uk/healthyliving/helpingyoueatwell/324-labels.html?start=3) is used on the [Open Food Facts website (French)](https://fr.openfoodfacts.org/reperes-nutritionnels) to display colorful, easier to grasp information on 4 nutritional values with a color code :\n",
    "\n",
    "* fat,\n",
    "* saturated fat,\n",
    "* sugars,\n",
    "* salt."
   ]
  },
  {
   "cell_type": "markdown",
   "metadata": {},
   "source": [
    "## To go further\n",
    "\n",
    "### Python for data science\n",
    "\n",
    "* [Programming in Python for Data Science](https://prog-learn.mds.ubc.ca/en/)\n",
    "* [Python Data Science Handbook](https://jakevdp.github.io/PythonDataScienceHandbook/)"
   ]
  },
  {
   "cell_type": "markdown",
   "metadata": {},
   "source": [
    "The OpenFoodFacts dataset does not contain these indicators, but you can recompute them from the [reference table](https://www.nutrition.org.uk/media/er5n0c3s/capture.png)."
   ]
  },
  {
   "cell_type": "markdown",
   "metadata": {},
   "source": [
    "Add 4 columns to the dataset, one for each of the 4 relevant nutritional values, that will contain the  (low, medium, high) or color (green, yellow, red) of the traffic light."
   ]
  },
  {
   "cell_type": "markdown",
   "metadata": {},
   "source": [
    "> **HINT** You can simplify the exercise and express all conditions on the values per 100g (ignoring the rightmost column of the table where thresholds are expressed per portion)."
   ]
  },
  {
   "cell_type": "markdown",
   "metadata": {},
   "source": [
    "We can use [`loc`](https://pandas.pydata.org/docs/reference/api/pandas.DataFrame.loc.html?highlight=loc#pandas.DataFrame.loc), see \"Setting values\"."
   ]
  },
  {
   "cell_type": "code",
   "execution_count": null,
   "metadata": {},
   "outputs": [],
   "source": [
    "# (just execute this cell)\n",
    "# for fat_100g\n",
    "df[\"tl_fat\"] = \"unknown\"\n",
    "df.loc[df[\"fat_100g\"] <= 3, \"tl_fat\"] = \"green\"\n",
    "df.loc[(df[\"fat_100g\"] > 3) & (df[\"fat_100g\"] <= 17.5), \"tl_fat\"] = \"amber\"\n",
    "df.loc[(df[\"fat_100g\"] > 17.5), \"tl_fat\"] = \"red\""
   ]
  },
  {
   "cell_type": "markdown",
   "metadata": {},
   "source": [
    "Let us check that the traffic lights for fat are as wanted."
   ]
  },
  {
   "cell_type": "code",
   "execution_count": null,
   "metadata": {},
   "outputs": [],
   "source": [
    "# (just execute this cell)\n",
    "df[[\"fat_100g\", \"tl_fat\"]].head(10)"
   ]
  },
  {
   "cell_type": "markdown",
   "metadata": {},
   "source": [
    "Now you can define the traffic lights for the 3 remaining nutritional values, in columns `\"tl_saturated-fat\"`, `\"tl_sugars\"`, `\"tl_salt\"`."
   ]
  },
  {
   "cell_type": "code",
   "execution_count": null,
   "metadata": {},
   "outputs": [],
   "source": []
  },
  {
   "cell_type": "markdown",
   "metadata": {},
   "source": [
    "We can display the traffic lights for the first 10 products, and compare with what the Open Food Facts website displays (remember: you can retrieve URLs from the column `url`)."
   ]
  },
  {
   "cell_type": "code",
   "execution_count": null,
   "metadata": {},
   "outputs": [],
   "source": []
  },
  {
   "cell_type": "markdown",
   "metadata": {},
   "source": [
    "> **HINT** If you can't find the right pattern to look for, take a peak at the spelling of the categories: Print the content of the column and browse through the values until you find a suitable value."
   ]
  },
  {
   "cell_type": "code",
   "execution_count": null,
   "metadata": {},
   "outputs": [],
   "source": []
  },
  {
   "cell_type": "markdown",
   "metadata": {},
   "source": [
    "You should find 25565 spreads."
   ]
  },
  {
   "cell_type": "markdown",
   "metadata": {},
   "source": [
    "For these spreads, compute the means of the nutritional values for :\n",
    "* fat,\n",
    "* saturated fat,\n",
    "* sugars,\n",
    "* salt."
   ]
  },
  {
   "cell_type": "code",
   "execution_count": null,
   "metadata": {},
   "outputs": [],
   "source": []
  },
  {
   "cell_type": "markdown",
   "metadata": {},
   "source": [
    "You should find the mean values :\n",
    "\n",
    "* fat = 20.96 g,\n",
    "* saturated-fat = 7.97 g,\n",
    "* sugars = 29g,\n",
    "* salt = 0.77g.\n"
   ]
  },
  {
   "cell_type": "markdown",
   "metadata": {},
   "source": [
    "For each of these 4 nutritional values, compute the percentage of difference between each product and the average of its category, and store the computed values as new columns to `df_spreads` (eg. `diff-fat_100g`, `diff-sugars_100g` etc).\n",
    "\n",
    "Remember that you can find help in the [pandas intro tutorial 05](https://pandas.pydata.org/docs/getting_started/intro_tutorials/05_add_columns.html) and [pandas tutorial 06](https://pandas.pydata.org/pandas-docs/stable/getting_started/intro_tutorials/06_calculate_statistics.html#min-tut-06-stats)."
   ]
  },
  {
   "cell_type": "code",
   "execution_count": null,
   "metadata": {},
   "outputs": [],
   "source": []
  },
  {
   "cell_type": "code",
   "execution_count": null,
   "metadata": {},
   "outputs": [],
   "source": []
  },
  {
   "cell_type": "markdown",
   "metadata": {},
   "source": [
    "Note that these values differ from what the Open Food Facts website displays when you look at the nutritional values of a product from this category, eg. [Coconut Spread - premium Srikaya - Hey Boo - 227 g](https://world.openfoodfacts.org/product/0608938316165/coconut-spread-premium-srikaya-hey-boo)."
   ]
  },
  {
   "cell_type": "code",
   "execution_count": null,
   "metadata": {},
   "outputs": [],
   "source": [
    "# (uncomment this line and check the output)\n",
    "# df_spreads[df_spreads['code'] == '0608938316165']['diff-fat_100g']"
   ]
  },
  {
   "cell_type": "markdown",
   "metadata": {},
   "source": [
    "This product contains barely 0.2% more fat than the average spreads in our subset `df_spreads`, but 17% more than the average spreads in the entire Open Food Facts dataset (as displayed on the OFF website)."
   ]
  },
  {
   "cell_type": "markdown",
   "metadata": {},
   "source": [
    "\n",
    "This is because the Open Food Facts website uses its entire dataset, whereas we are working on a filtered subset of \"reasonably complete\" product entries prepared beforehand to keep only products with :\n",
    "\n",
    "* a non-ambiguous barcode in the EAN-8 or EAN-13 formats ;\n",
    "* a product name,\n",
    "* brands,\n",
    "* an image URL for the product ;\n",
    "* a category ;\n",
    "* basic nutritional values."
   ]
  },
  {
   "cell_type": "markdown",
   "metadata": {},
   "source": [
    "It seems that, in this \"resonably complete\" subset, spreads contain more fat on average than in the whole Open Food Facts dataset.\n",
    "\n",
    "Is the entire Open Food Facts dataset closer to the reality of what is on the shelves of supermarkets ?\n",
    "Is our subset more faithful globally ? Is it more faithful to the consumer market in certain countries, eg. France and Spain ?\n",
    "\n",
    "These questions raise the more general problem of [Selection bias](https://en.wikipedia.org/wiki/Selection_bias) that lies behind every data analysis and use of dataset for eg. artificial intelligence systems."
   ]
  },
  {
   "cell_type": "code",
   "execution_count": null,
   "metadata": {},
   "outputs": [],
   "source": []
  },
  {
   "cell_type": "markdown",
   "metadata": {},
   "source": [
    "You should get 4434 products whose brands contains \"Casino\"."
   ]
  },
  {
   "cell_type": "code",
   "execution_count": null,
   "metadata": {},
   "outputs": [],
   "source": []
  },
  {
   "cell_type": "markdown",
   "metadata": {},
   "source": [
    "Let us check that the first and last entries are as expected."
   ]
  },
  {
   "cell_type": "markdown",
   "metadata": {},
   "source": [
    "Display the first entries."
   ]
  },
  {
   "cell_type": "code",
   "execution_count": null,
   "metadata": {},
   "outputs": [],
   "source": []
  },
  {
   "cell_type": "markdown",
   "metadata": {},
   "source": [
    "The oldest entries in our dataset date from 2012."
   ]
  },
  {
   "cell_type": "markdown",
   "metadata": {},
   "source": [
    "Display the last entries."
   ]
  },
  {
   "cell_type": "code",
   "execution_count": null,
   "metadata": {},
   "outputs": [],
   "source": []
  },
  {
   "cell_type": "markdown",
   "metadata": {},
   "source": [
    "The newest entries in our dataset date from 2021-08-15 (when I downloaded the entire dataset)."
   ]
  },
  {
   "cell_type": "markdown",
   "metadata": {},
   "source": [
    "Sort entries by brand, following the [pandas intro tutorial 07](https://pandas.pydata.org/docs/getting_started/intro_tutorials/07_reshape_table_layout.html), and store the result in a variable named `df_sort_brands`."
   ]
  },
  {
   "cell_type": "code",
   "execution_count": null,
   "metadata": {},
   "outputs": [],
   "source": []
  },
  {
   "cell_type": "markdown",
   "metadata": {},
   "source": [
    "Let us look at the brands for the first entries, sorted by brands."
   ]
  },
  {
   "cell_type": "code",
   "execution_count": null,
   "metadata": {},
   "outputs": [],
   "source": []
  },
  {
   "cell_type": "markdown",
   "metadata": {},
   "source": [
    "Oddly, only the first few lines have brand names that start with a letter, then brand names start with a special character (`!` or `#`).\n",
    "This is unexpected, because special characters should appear first.\n",
    "\n",
    "What happened here ? Let us have a better look at the *values* in the `brands` column of our sorted dataframe `df_sort_brands`."
   ]
  },
  {
   "cell_type": "code",
   "execution_count": null,
   "metadata": {},
   "outputs": [],
   "source": [
    "# (just execute this cell)\n",
    "df_sort_brands[\"brands\"].head(20).values"
   ]
  },
  {
   "cell_type": "markdown",
   "metadata": {},
   "source": [
    "In the first entries, the `brands` value starts with a whitespace.\n",
    "This explains why they were sorted before the entries whose `brands` start with a special character.\n",
    "\n",
    "Brand names rarely (if ever) start with a whitespace, hence we can assume that whoever added these products made a typing error."
   ]
  },
  {
   "cell_type": "markdown",
   "metadata": {},
   "source": [
    "⚠ Datasets contain all sorts of errors and oddities. Datasets released by public agencies or big actors are usually cleaner than crowdsourced datasets, but you should always be cautious."
   ]
  },
  {
   "cell_type": "markdown",
   "metadata": {},
   "source": [
    "To confirm our hypothesis and check whether the entries are properly sorted, we can use `iloc` to retrieve entries at arbitary positions in the DataFrame.\n",
    "\n",
    "For instance, let us check the entries ranked 4881 to 4899 (or 4900 excluded)."
   ]
  },
  {
   "cell_type": "code",
   "execution_count": null,
   "metadata": {},
   "outputs": [],
   "source": [
    "# (just execute this cell)\n",
    "df_sort_brands[\"brands\"].iloc[4881:4900]"
   ]
  },
  {
   "cell_type": "markdown",
   "metadata": {},
   "source": [
    "The sorted brands are `Alba`, `Alba torri e sapori`, `Albacore` then `Albalact`, which is what we were expecting."
   ]
  },
  {
   "cell_type": "markdown",
   "metadata": {},
   "source": [
    "Sort entries by the Nutri-Score grade, and store the result in a variable named `df_sort_nsgrade`."
   ]
  },
  {
   "cell_type": "code",
   "execution_count": null,
   "metadata": {},
   "outputs": [],
   "source": []
  },
  {
   "cell_type": "markdown",
   "metadata": {},
   "source": [
    "Let us check the first 20 entries."
   ]
  },
  {
   "cell_type": "code",
   "execution_count": null,
   "metadata": {},
   "outputs": [],
   "source": []
  },
  {
   "cell_type": "markdown",
   "metadata": {},
   "source": [
    "The entries with nutriscore grade 'a' are ranked first, as expected."
   ]
  },
  {
   "cell_type": "markdown",
   "metadata": {},
   "source": [
    "Sort entries by the Nutri-Score grade and Nova group (together), and store the result in a variable named `df_sort_nsgrade_novagroup`."
   ]
  },
  {
   "cell_type": "code",
   "execution_count": null,
   "metadata": {},
   "outputs": [],
   "source": []
  },
  {
   "cell_type": "markdown",
   "metadata": {},
   "source": [
    "Let us check the first 20 entries."
   ]
  },
  {
   "cell_type": "code",
   "execution_count": null,
   "metadata": {},
   "outputs": [],
   "source": []
  },
  {
   "cell_type": "markdown",
   "metadata": {},
   "source": [
    "Products with nutriscore_grade 'a' and nova_group '1' appear first."
   ]
  },
  {
   "cell_type": "code",
   "execution_count": null,
   "metadata": {},
   "outputs": [],
   "source": []
  },
  {
   "cell_type": "code",
   "execution_count": null,
   "metadata": {},
   "outputs": [],
   "source": []
  },
  {
   "cell_type": "markdown",
   "metadata": {},
   "source": [
    "Let us rename each of the columns whose name ends with `_en`.\n",
    "\n",
    "First, we need to list such columns."
   ]
  },
  {
   "cell_type": "code",
   "execution_count": null,
   "metadata": {},
   "outputs": [
    {
     "data": {
      "text/plain": [
       "['categories_en',\n",
       " 'origins_en',\n",
       " 'labels_en',\n",
       " 'countries_en',\n",
       " 'traces_en',\n",
       " 'additives_en',\n",
       " 'states_en',\n",
       " 'main_category_en']"
      ]
     },
     "metadata": {},
     "output_type": "display_data"
    }
   ],
   "source": [
    "# (just execute this cell)\n",
    "# list the column names that end with _en\n",
    "cols_en = [x for x in df.columns if x.endswith(\"_en\")]\n",
    "cols_en"
   ]
  },
  {
   "cell_type": "markdown",
   "metadata": {},
   "source": [
    "Now we can `rename` each of the columns ending with `_en`, so as to drop this suffix.\n",
    "\n",
    "For instance, `main_category_en` should be renamed `main_category`.\n",
    "\n",
    "We can store the result in a variable named `df_ren_en`."
   ]
  },
  {
   "cell_type": "code",
   "execution_count": null,
   "metadata": {},
   "outputs": [],
   "source": []
  },
  {
   "cell_type": "markdown",
   "metadata": {},
   "source": [
    "To see if it worked, let us display the column names in `df_ren_en` and check that our `_en` columns, such as `main_category_en`, have been renamed as expected."
   ]
  },
  {
   "cell_type": "code",
   "execution_count": null,
   "metadata": {},
   "outputs": [],
   "source": []
  }
 ],
 "metadata": {
  "language_info": {
   "name": "python"
  }
 },
 "nbformat": 4,
 "nbformat_minor": 2
}
