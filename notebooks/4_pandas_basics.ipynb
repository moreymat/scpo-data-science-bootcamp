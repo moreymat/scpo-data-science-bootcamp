{
  "cells": [
    {
      "cell_type": "markdown",
      "metadata": {
        "id": "view-in-github",
        "colab_type": "text"
      },
      "source": [
        "<a href=\"https://colab.research.google.com/github/moreymat/scpo-data-science-bootcamp/blob/main/notebooks/4_pandas_basics.ipynb\" target=\"_parent\"><img src=\"https://colab.research.google.com/assets/colab-badge.svg\" alt=\"Open In Colab\"/></a>"
      ]
    },
    {
      "cell_type": "markdown",
      "metadata": {
        "id": "4QokVOYKH7m3"
      },
      "source": [
        "# Tabular Data Analysis 2: Basic operations in pandas\n",
        "\n",
        "The previous notebook gave an overview of how the pandas library enables to load, manipulate and visualize a dataset.\n",
        "\n",
        "This notebook introduces the basic operations for data manipulation in pandas, before we focus on data visualization in the next notebook."
      ]
    },
    {
      "cell_type": "markdown",
      "metadata": {
        "id": "FnSWBGhDH7m6"
      },
      "source": [
        "## Preliminary: Access and load the data\n",
        "\n",
        "We need to execute the same code as in the previous notebook to load the pandas library and the Open Food Facts dataset."
      ]
    },
    {
      "cell_type": "code",
      "execution_count": 1,
      "metadata": {
        "colab": {
          "base_uri": "https://localhost:8080/"
        },
        "id": "1Q3m2IvjH7m7",
        "outputId": "3631c3dc-6d66-4e6c-e7f6-360212ae5255"
      },
      "outputs": [
        {
          "output_type": "stream",
          "name": "stdout",
          "text": [
            "Mounted at /content/drive\n"
          ]
        }
      ],
      "source": [
        "# (just execute this cell)\n",
        "\n",
        "# enable Colab to access files (here shortcuts) on your Drive\n",
        "from google.colab import drive\n",
        "\n",
        "drive.mount(\"/content/drive\")"
      ]
    },
    {
      "cell_type": "code",
      "execution_count": 2,
      "metadata": {
        "id": "2XtcboixH7m8"
      },
      "outputs": [],
      "source": [
        "# (just execute this cell)\n",
        "\n",
        "# import pandas\n",
        "import csv\n",
        "import pandas as pd\n",
        "\n",
        "# we need this data type for ordered categoricals\n",
        "from pandas.api.types import CategoricalDtype\n",
        "\n",
        "# lift some limitations in column width, so more cell values are displayed in full\n",
        "pd.set_option(\"display.max_colwidth\", 110)\n",
        "\n",
        "# dataset and data type of the columns\n",
        "FOLDER = \"drive/MyDrive\"\n",
        "OFF_FILE = f\"{FOLDER}/off_products_subset.csv\"\n",
        "DTYPE_FILE = f\"{FOLDER}/dtype.txt\"\n",
        "\n",
        "\n",
        "# custom function to load the Open Food Facts subset\n",
        "def load_off():\n",
        "    \"\"\"Load the filtered subset of Open Food Facts.\n",
        "\n",
        "    Returns\n",
        "    -------\n",
        "    df : pd.DataFrame\n",
        "      (A filtered subset of the) Open Food Facts tabular dataset.\n",
        "    \"\"\"\n",
        "    # load the data types for the columns\n",
        "    with open(DTYPE_FILE) as f:\n",
        "        dtype = eval(f.read())\n",
        "\n",
        "    # load the dataset\n",
        "    df = pd.read_csv(OFF_FILE, sep=\"\\t\", dtype=dtype, quoting=csv.QUOTE_NONE)\n",
        "    # convert columns with datetimes\n",
        "    for col_name in (\n",
        "        \"created_datetime\",\n",
        "        \"last_modified_datetime\",\n",
        "        \"last_updated_datetime\",\n",
        "        \"last_image_datetime\",\n",
        "    ):\n",
        "        # ISO 8601 dates\n",
        "        df[col_name] = pd.to_datetime(df[col_name])\n",
        "    #\n",
        "    return df\n",
        "\n",
        "\n",
        "# load the dataset (takes around 60 seconds)\n",
        "df = load_off()"
      ]
    },
    {
      "cell_type": "markdown",
      "metadata": {
        "id": "YI7MAJ9WH7m-"
      },
      "source": [
        "## Selecting subsets\n",
        "\n",
        "One of the fundamental operations on DataFrames is to be able to filter the dataset on a certain condition, to keep only certain rows or columns.\n",
        "\n",
        "The basic operators for selection are:\n",
        "* square brackets `[]`,\n",
        "* `loc`,\n",
        "* `iloc`.\n",
        "\n",
        "You can select rows or columns by their position or label, or with a conditional expression on values, see the [pandas intro tutorial 03](https://pandas.pydata.org/docs/getting_started/intro_tutorials/03_subset_data.html)."
      ]
    },
    {
      "cell_type": "markdown",
      "metadata": {
        "id": "zOrKM9KeH7m_"
      },
      "source": [
        "Filter rows in `df` to keep only products with Nutri-Score 'a', and store the result in a variable called `df_nutri_a`.\n"
      ]
    },
    {
      "cell_type": "code",
      "execution_count": null,
      "metadata": {
        "id": "gvMIEZ8DH7nA"
      },
      "outputs": [],
      "source": [
        "# (just execute this cell)\n",
        "df_nutri_a = df[df[\"nutriscore_grade\"] == \"a\"]\n",
        "df_nutri_a"
      ]
    },
    {
      "cell_type": "markdown",
      "metadata": {
        "id": "n8eJ5c1MH7nB"
      },
      "source": [
        "You should have 111,371 entries."
      ]
    },
    {
      "cell_type": "markdown",
      "metadata": {
        "id": "xIVck3CfH7nB"
      },
      "source": [
        "Now, filter rows in `df` to keep products whose quantity of sugars per 100g is higher than 20g, and store the result in a variable called `df_sugar_gt20`."
      ]
    },
    {
      "cell_type": "code",
      "execution_count": null,
      "metadata": {
        "id": "ML2ECd9BH7nC"
      },
      "outputs": [],
      "source": []
    },
    {
      "cell_type": "markdown",
      "metadata": {
        "id": "jyhhlC8WH7nC"
      },
      "source": [
        "You should obtain 156,224 entries."
      ]
    },
    {
      "cell_type": "markdown",
      "metadata": {
        "id": "4Zn6QM_dH7nD"
      },
      "source": [
        "Filter the dataset `df` to keep only the columns corresponding to the :\n",
        "* barcode,\n",
        "* url,\n",
        "* date of creation,\n",
        "* product name,\n",
        "* brands,\n",
        "* categories,\n",
        "* ingredients text,\n",
        "* main category,\n",
        "* Nutri-Score grade,\n",
        "* Nutri-Score score,\n",
        "* Nova group.\n",
        "\n",
        "And store the result in a variable named `df_sel_cols`."
      ]
    },
    {
      "cell_type": "code",
      "execution_count": null,
      "metadata": {
        "id": "K3M45FuAH7nD"
      },
      "outputs": [],
      "source": []
    },
    {
      "cell_type": "markdown",
      "metadata": {
        "id": "lXyyrRtJH7nE"
      },
      "source": [
        "You should get a DataFrame of 778,725 rows (same as in the loaded dataset) and 11 columns (the ones we selected)."
      ]
    },
    {
      "cell_type": "markdown",
      "metadata": {
        "id": "KltzOZtjH7nF"
      },
      "source": [
        "## Making a selection into a proper DataFrame\n",
        "\n",
        "You can manipulate each of these selections as a DataFrame, but behind the scenes, they are *views* of the original DataFrame `df`.\n",
        "\n",
        "The *view* mechanism avoids unnecessary copies of the dataset, but it is problematic when we really want to extract a subset and perform some operations only on this subset."
      ]
    },
    {
      "cell_type": "markdown",
      "metadata": {
        "id": "ubhY59cuH7nF"
      },
      "source": [
        "For instance, let us select all products in `df` with sugars and fat per 100g greater than 0, and add a column with the sugars to fat ratio."
      ]
    },
    {
      "cell_type": "markdown",
      "metadata": {
        "id": "HFZr3Nn2H7nF"
      },
      "source": [
        "First, we need to define two filtering conditions and apply them jointly using the [boolean \"and\" `&`](https://pandas.pydata.org/pandas-docs/stable/user_guide/indexing.html#boolean-indexing). Store the result in a variable named `df_sugarsfat`."
      ]
    },
    {
      "cell_type": "code",
      "execution_count": null,
      "metadata": {
        "id": "10DBnkzjH7nG"
      },
      "outputs": [],
      "source": []
    },
    {
      "cell_type": "markdown",
      "metadata": {
        "id": "af9_N6NLH7nG"
      },
      "source": [
        "The selected subset contains 560323 rows (and 76 columns, same as `df`)."
      ]
    },
    {
      "cell_type": "markdown",
      "metadata": {
        "id": "UaA98rmGH7nH"
      },
      "source": [
        "Now, let us assign to `df_sugarsfat` a new column named `\"sugarsfat_ratio\"` with the sugars to fat ratio.\n",
        "\n",
        "This is done with the [assign](https://pandas.pydata.org/pandas-docs/version/2.0/reference/api/pandas.DataFrame.assign.html#pandas-dataframe-assign) function that expects *keyword arguments* (`key=value`), where the key is the name of the assigned column, and the value a Series (or an expression that evaluates to a Series):"
      ]
    },
    {
      "cell_type": "code",
      "execution_count": null,
      "metadata": {
        "id": "H6EWgpCPH7nH"
      },
      "outputs": [],
      "source": [
        "# (execute this cell)\n",
        "df_sugarsfat = df_sugarsfat.assign(\n",
        "    sugarsfat_ratio=df_sugarsfat[\"sugars_100g\"] / df_sugarsfat[\"fat_100g\"]\n",
        ")\n",
        "df_sugarsfat"
      ]
    },
    {
      "cell_type": "markdown",
      "metadata": {
        "id": "0JnKP7O8H7nI"
      },
      "source": [
        "`df_sugarsfat` now contains one more column (77 in total)."
      ]
    },
    {
      "cell_type": "markdown",
      "metadata": {
        "id": "fLYLg7XuH7nI"
      },
      "source": [
        "Display the new column to get a first impression of its content."
      ]
    },
    {
      "cell_type": "code",
      "execution_count": null,
      "metadata": {
        "id": "plF4W8CuH7nI"
      },
      "outputs": [],
      "source": []
    },
    {
      "cell_type": "markdown",
      "metadata": {
        "id": "u4LmTbSTH7nJ"
      },
      "source": [
        "Several columns can be assigned simultaneously (ie. within a single call to `assign()`), using as many *keyword arguments*.\n",
        "\n",
        "Assign, in one call, two new columns:\n",
        "- `satfat_ratio`: the ratio between saturated fat and fat,\n",
        "- `satsugars_ratio`: the ratio between saturated fat and sugars."
      ]
    },
    {
      "cell_type": "code",
      "execution_count": 42,
      "metadata": {
        "id": "TGGeKT_nH7nJ"
      },
      "outputs": [],
      "source": []
    },
    {
      "cell_type": "markdown",
      "metadata": {
        "id": "3dFyMlQ4H7nK"
      },
      "source": [
        "Display the new `satfat_ratio` column:"
      ]
    },
    {
      "cell_type": "code",
      "execution_count": null,
      "metadata": {
        "id": "cuegYIpiH7nK"
      },
      "outputs": [],
      "source": []
    },
    {
      "cell_type": "markdown",
      "metadata": {
        "id": "jWilc9x8H7nK"
      },
      "source": [
        "Display the new `satsugars_ratio` column:"
      ]
    },
    {
      "cell_type": "code",
      "execution_count": null,
      "metadata": {
        "id": "gqAhMnP3H7nK"
      },
      "outputs": [],
      "source": []
    },
    {
      "cell_type": "markdown",
      "metadata": {
        "id": "tYcxDpy5H7nL"
      },
      "source": [
        "## Renaming columns\n",
        "\n",
        "Column names are not always ideal, either because they are not transparent (it is hard for you or an external user to understand what they stand for) or because they would look bad if they were used directly to label the axes of a data visualization.\n",
        "\n",
        "pandas provides means to rename columns, see the [pandas intro tutorial 05](https://pandas.pydata.org/docs/getting_started/intro_tutorials/05_add_columns.html)."
      ]
    },
    {
      "cell_type": "markdown",
      "metadata": {
        "id": "_bDwMn8RH7nL"
      },
      "source": [
        "Let us rename each of the columns whose name ends with `_en`.\n",
        "\n",
        "First, we need to list such columns."
      ]
    },
    {
      "cell_type": "code",
      "execution_count": null,
      "metadata": {
        "id": "RwxwzovCH7nM"
      },
      "outputs": [],
      "source": [
        "# (just execute this cell)\n",
        "# list the column names that end with _en\n",
        "cols_en = [x for x in df.columns if x.endswith(\"_en\")]\n",
        "cols_en"
      ]
    },
    {
      "cell_type": "markdown",
      "metadata": {
        "id": "FdmZ9CgkH7nM"
      },
      "source": [
        "Now we can `rename` each of the columns ending with `_en`, so as to drop this suffix.\n",
        "For instance, `main_category_en` should be renamed `main_category`.\n",
        "Store the result in a variable named `df_ren_en`."
      ]
    },
    {
      "cell_type": "code",
      "execution_count": 13,
      "metadata": {
        "id": "EWBrXFvwH7nM"
      },
      "outputs": [],
      "source": []
    },
    {
      "cell_type": "markdown",
      "metadata": {
        "id": "Bwc_p-kZH7nN"
      },
      "source": [
        "To see if it worked, let us display the column names in `df_ren_en` and check that our `_en` columns, such as `main_category_en`, have been renamed as expected."
      ]
    },
    {
      "cell_type": "code",
      "execution_count": null,
      "metadata": {
        "id": "x35whEGAH7nN"
      },
      "outputs": [],
      "source": []
    },
    {
      "cell_type": "markdown",
      "metadata": {
        "id": "Xq0MMyikH7nN"
      },
      "source": [
        "### (Advanced) Substituting in a more progammatic way\n",
        "\n",
        "If you already learned and practiced Python before this course, there is a more concise and generic way to rename all columns whose name ends with \"_en\" by dropping the ending, without having to enumerate them:"
      ]
    },
    {
      "cell_type": "code",
      "execution_count": null,
      "metadata": {
        "id": "rshywm2bH7nN"
      },
      "outputs": [],
      "source": [
        "# alternative, shorter but more advanced\n",
        "df_ren_en_bis = df.rename(columns={x: x[:-3] for x in df.columns if x.endswith(\"_en\")})\n",
        "df_ren_en_bis.columns"
      ]
    },
    {
      "cell_type": "markdown",
      "metadata": {
        "id": "7RKt67SFH7nN"
      },
      "source": [
        "This uses the advanced syntax of *dict comprehensions*, similar to [list comprehensions](https://docs.python.org/3/tutorial/datastructures.html#list-comprehensions).\n",
        "Comprehensions are pervasive in advanced Python code."
      ]
    },
    {
      "cell_type": "markdown",
      "metadata": {
        "id": "IB1F2SCQH7nO"
      },
      "source": [
        "## Summary statistics\n",
        "\n",
        "You can compute various summary statistics that depend on the type of variable in each column, see the [pandas intro tutorial 06](https://pandas.pydata.org/docs/getting_started/intro_tutorials/06_calculate_statistics.html).\n",
        "\n",
        "Compute summary statistics for several columns from different types, and combinations of columns that could provide interesting insights.\n",
        "\n",
        "For instance, compute the [means](https://pandas.pydata.org/docs/reference/api/pandas.DataFrame.mean.html#pandas-dataframe-mean) of the nutritional values in `df` for :\n",
        "* fat,\n",
        "* saturated fat,\n",
        "* sugars,\n",
        "* salt."
      ]
    },
    {
      "cell_type": "code",
      "execution_count": null,
      "metadata": {
        "id": "ahlWQ8JJH7nO"
      },
      "outputs": [],
      "source": []
    },
    {
      "cell_type": "markdown",
      "metadata": {
        "id": "QbczEwXcH7nO"
      },
      "source": [
        "The means for \"fat_100g\" and \"saturated-fat_100g\" are outside of the expected range: How could there be more than 100g of fats per 100g of product?"
      ]
    },
    {
      "cell_type": "markdown",
      "metadata": {
        "id": "VLYmYdO1H7nO"
      },
      "source": [
        "Select all products that contain more than 100g of fat per 100g of product, and display only their barcode, URL and \"fat_100g\"."
      ]
    },
    {
      "cell_type": "code",
      "execution_count": null,
      "metadata": {
        "id": "2rfvyYElH7nP"
      },
      "outputs": [],
      "source": []
    },
    {
      "cell_type": "markdown",
      "metadata": {
        "id": "StAox5ynH7nP"
      },
      "source": [
        "A product in this list is <https://world.openfoodfacts.org/product/0040600436755/tiramisu-sainsbury>.\n",
        "It has `fat_100g`=`106.0`.\n",
        "\n",
        "On the product page, look for the picture that contains the nutritional values.\n",
        "\n",
        "**Question.** What is the most likely explanation for this unexpected value?"
      ]
    },
    {
      "cell_type": "markdown",
      "metadata": {
        "id": "69JfBwaMH7nP"
      },
      "source": [
        "Another product is <http://world-en.openfoodfacts.org/product/0011110136619/egg-bites-simple-truth>.\n",
        "It has `fat_100g`=`1600.0`.\n",
        "\n",
        "On the product page, look for the picture that contains the nutritional values.\n",
        "\n",
        "**Question.** What is the most likely explanation for this unexpected value?"
      ]
    },
    {
      "cell_type": "markdown",
      "metadata": {
        "id": "YsubelEhH7nQ"
      },
      "source": [
        "Extreme values can be input by mistake, or come from faulty sensors or computations.\n",
        "They constitute outliers that heavily influence summary statistics, which in turn means that summary statistics are informative indicators of the presence of outliers."
      ]
    },
    {
      "cell_type": "markdown",
      "metadata": {
        "id": "Rwr0QDe8H7nQ"
      },
      "source": [
        "Let us drop all products for which `fat_100g`, `saturated-fat_100g`, `sugars_100g` or `salt_100g` are higher than `100`:"
      ]
    },
    {
      "cell_type": "code",
      "execution_count": 18,
      "metadata": {
        "id": "lFIUEsE2H7nR"
      },
      "outputs": [],
      "source": [
        "# (just execute this cell)\n",
        "df = df.drop(\n",
        "    index=df[\n",
        "        (df[\"fat_100g\"] > 100)\n",
        "        | (df[\"saturated-fat_100g\"] > 100)\n",
        "        | (df[\"sugars_100g\"] > 100)\n",
        "        | (df[\"salt_100g\"] > 100)\n",
        "    ].index\n",
        ")"
      ]
    },
    {
      "cell_type": "markdown",
      "metadata": {
        "id": "kpzb0XFNH7nS"
      },
      "source": [
        "Now that we dropped from `df` all products that had an obvious outlier in any of these 4 columns, let us re-compute their summary statistics."
      ]
    },
    {
      "cell_type": "code",
      "execution_count": null,
      "metadata": {
        "id": "5kuNet4PH7nS"
      },
      "outputs": [],
      "source": [
        "# (just execute this cell)\n",
        "df[[\"fat_100g\", \"saturated-fat_100g\", \"sugars_100g\", \"salt_100g\"]].mean()"
      ]
    },
    {
      "cell_type": "markdown",
      "metadata": {
        "id": "iP6IXfu1H7nS"
      },
      "source": [
        "Now the mean values seem much more likely:\n",
        "- `fat_100g`: approx. 14g,\n",
        "- `saturated-fat_100g`: approx. 5g,\n",
        "- `sugars_100g`: approx. 12 g,\n",
        "- `salt_100g`: approx. 1.17 g."
      ]
    },
    {
      "cell_type": "markdown",
      "metadata": {
        "id": "5E5OTctPH7nT"
      },
      "source": [
        "All datasets, even those from big companies or public institutions, can contain erroneous data.\n",
        "\n",
        "Working on a dataset is an iterative process, in which it is recommended to:\n",
        "- Devise assumptions about the nature and range of values in columns, and implement these assumptions as assertions or filters,\n",
        "- Compute summary statistics,\n",
        "- Generate various plots (data visualizations) that support a visual detection of outliers or unexpected trends,\n",
        "- Implement reproducible procedures to remove outliers,\n",
        "- (Repeat)"
      ]
    },
    {
      "cell_type": "markdown",
      "metadata": {
        "id": "QlbSCWChH7nT"
      },
      "source": [
        "## Computing on columns\n",
        "\n",
        "You can manipulate columns in various ways, including with operations that apply element-wise as we saw for NumPy arrays in the first notebook."
      ]
    },
    {
      "cell_type": "markdown",
      "metadata": {
        "id": "FcK1vFsaH7nT"
      },
      "source": [
        "Substract the mean value of the column \"sugars_100g\" from each value in that column.\n",
        "\n",
        ">**HINT** You only need `mean()` and the substraction operator (`-`)."
      ]
    },
    {
      "cell_type": "code",
      "execution_count": null,
      "metadata": {
        "id": "4Uch6D7QH7nT"
      },
      "outputs": [],
      "source": []
    },
    {
      "cell_type": "markdown",
      "metadata": {
        "id": "jo3puiJMH7nT"
      },
      "source": [
        "## Sorting data\n",
        "\n",
        "The entries are sorted by barcode.\n",
        "We might find it easier to understand the dataset if we sort entries by another criterion."
      ]
    },
    {
      "cell_type": "markdown",
      "metadata": {
        "id": "BlnLjcmpH7nU"
      },
      "source": [
        "Sort entries by brand, following the [pandas intro tutorial 07](https://pandas.pydata.org/docs/getting_started/intro_tutorials/07_reshape_table_layout.html), and store the result in a variable named `df_sort_brands`."
      ]
    },
    {
      "cell_type": "code",
      "source": [],
      "metadata": {
        "id": "n-gVri1SMNJL"
      },
      "execution_count": null,
      "outputs": []
    },
    {
      "cell_type": "markdown",
      "metadata": {
        "id": "ve1NirTNH7nU"
      },
      "source": [
        "Let us look at the brands for the first entries, sorted by brands."
      ]
    },
    {
      "cell_type": "code",
      "execution_count": null,
      "metadata": {
        "id": "FxzmHBBGH7nU"
      },
      "outputs": [],
      "source": []
    },
    {
      "cell_type": "markdown",
      "metadata": {
        "id": "i68FEihNH7nV"
      },
      "source": [
        "Oddly, only the first few lines have brand names that start with a letter, then brand names start with a special character (`!` or `#`).\n",
        "This is unexpected, because special characters should appear first.\n",
        "\n",
        "What happened here ? Let us have a better look at the *values* in the `brands` column of our sorted dataframe `df_sort_brands`."
      ]
    },
    {
      "cell_type": "code",
      "execution_count": null,
      "metadata": {
        "id": "V0W6lMAOH7nV"
      },
      "outputs": [],
      "source": [
        "# (just execute this cell)\n",
        "df_sort_brands[\"brands\"].head(20).values"
      ]
    },
    {
      "cell_type": "markdown",
      "metadata": {
        "id": "PIZ8EWa3H7nV"
      },
      "source": [
        "In the first entries, the `brands` value starts with a whitespace.\n",
        "This explains why they were sorted before the entries whose `brands` start with a special character.\n",
        "\n",
        "Brand names rarely (if ever) start with a whitespace, hence we can assume that whoever added these products made a typing error."
      ]
    },
    {
      "cell_type": "markdown",
      "metadata": {
        "id": "fSDgLMgdH7nW"
      },
      "source": [
        "⚠ Datasets contain all sorts of errors and oddities. Datasets released by public agencies or big actors are usually cleaner than crowdsourced datasets, but you should always be cautious."
      ]
    },
    {
      "cell_type": "markdown",
      "metadata": {
        "id": "JgF0pAi_H7nW"
      },
      "source": [
        "To confirm our hypothesis and check whether the entries are properly sorted, we can use `iloc` to retrieve entries at arbitary positions in the DataFrame.\n",
        "\n",
        "For instance, let us check the entries ranked 5851 to 5869 (or 5870 excluded)."
      ]
    },
    {
      "cell_type": "code",
      "execution_count": null,
      "metadata": {
        "id": "uBMRDLzOH7nW"
      },
      "outputs": [],
      "source": [
        "# (just execute this cell)\n",
        "df_sort_brands[\"brands\"].iloc[5851:5870]"
      ]
    },
    {
      "cell_type": "markdown",
      "metadata": {
        "id": "DcL4JTQ-H7nW"
      },
      "source": [
        "The sorted brands are `Acqua Dolomia`, `Acqua Minerale San Benedetto`, `Acqua Minerale San Benedetto S.p.A.` then `Acqua Panna`, and so on, which corresponds to an ordering and a density what we would expect in a dataset of food products of this size."
      ]
    },
    {
      "cell_type": "markdown",
      "metadata": {
        "id": "g3feZlOiH7nW"
      },
      "source": [
        "Sort entries by the Nutri-Score grade, and store the result in a variable named `df_sort_nsgrade`."
      ]
    },
    {
      "cell_type": "code",
      "execution_count": null,
      "metadata": {
        "id": "OUV2A86BH7nW"
      },
      "outputs": [],
      "source": []
    },
    {
      "cell_type": "markdown",
      "metadata": {
        "id": "5aoU03v-H7nX"
      },
      "source": [
        "Let us check the first 20 entries."
      ]
    },
    {
      "cell_type": "code",
      "execution_count": null,
      "metadata": {
        "id": "zIZQB7djH7nX"
      },
      "outputs": [],
      "source": []
    },
    {
      "cell_type": "markdown",
      "metadata": {
        "id": "YBYCVQ5OH7nX"
      },
      "source": [
        "The entries with nutriscore grade 'a' are ranked first, as expected."
      ]
    },
    {
      "cell_type": "markdown",
      "metadata": {
        "id": "BXRb-9myH7nX"
      },
      "source": [
        "Sort entries by the Nutri-Score grade and Nova group (together), and store the result in a variable named `df_sort_nsgrade_novagroup`."
      ]
    },
    {
      "cell_type": "code",
      "execution_count": null,
      "metadata": {
        "id": "j9UnqZGkH7nX"
      },
      "outputs": [],
      "source": []
    },
    {
      "cell_type": "markdown",
      "metadata": {
        "id": "VuurNiyYH7nY"
      },
      "source": [
        "Let us check the first 20 entries."
      ]
    },
    {
      "cell_type": "code",
      "execution_count": null,
      "metadata": {
        "id": "FN_x2oXCH7nY"
      },
      "outputs": [],
      "source": []
    },
    {
      "cell_type": "markdown",
      "metadata": {
        "id": "uRo48Y3EH7nY"
      },
      "source": [
        "Products with nutriscore_grade 'a' and nova_group '1' appear first."
      ]
    },
    {
      "cell_type": "markdown",
      "metadata": {
        "id": "2O97S2QZH7nY"
      },
      "source": [
        "## Working with dates\n",
        "\n",
        "pandas has a specific data type for dates. You can explicitly ask pandas to use this type for specific columns, either during `read_csv` or after (as I did in `load_off`), see the [pandas intro tutorial 09](https://pandas.pydata.org/docs/getting_started/intro_tutorials/09_timeseries.html).\n",
        "\n",
        "This specific data type makes it easy to filter entries by the month of their creation, to know what day of the week an entry was created, or to sort entries by their date of creation.\n",
        "\n",
        "Sort entries by their date of creation, and store the result in a variable named `df_sort_created`."
      ]
    },
    {
      "cell_type": "code",
      "execution_count": null,
      "metadata": {
        "id": "bLJ4lxLwH7nY"
      },
      "outputs": [],
      "source": []
    },
    {
      "cell_type": "markdown",
      "metadata": {
        "id": "Xt80tqzGH7nZ"
      },
      "source": [
        "Let us check that the first and last entries are as expected."
      ]
    },
    {
      "cell_type": "markdown",
      "metadata": {
        "id": "IEy7r3uKH7nZ"
      },
      "source": [
        "Display the first entries."
      ]
    },
    {
      "cell_type": "code",
      "execution_count": null,
      "metadata": {
        "id": "rKJOybKXH7nZ"
      },
      "outputs": [],
      "source": []
    },
    {
      "cell_type": "markdown",
      "metadata": {
        "id": "Ihk1kPueH7nZ"
      },
      "source": [
        "The oldest entries in our dataset date from 2012."
      ]
    },
    {
      "cell_type": "markdown",
      "metadata": {
        "id": "MMdodMW9H7nZ"
      },
      "source": [
        "Display the last entries."
      ]
    },
    {
      "cell_type": "code",
      "execution_count": null,
      "metadata": {
        "id": "Kb0BGxIeH7na"
      },
      "outputs": [],
      "source": []
    },
    {
      "cell_type": "markdown",
      "metadata": {
        "id": "rQ1vinlkH7na"
      },
      "source": [
        "The latest entries in our dataset date from 2024-07-19 (when I downloaded the entire dataset)."
      ]
    },
    {
      "cell_type": "markdown",
      "metadata": {
        "id": "hC7yHzjkH7na"
      },
      "source": [
        "## Working with textual data\n",
        "\n",
        "pandas provides a number of functions to process text strings, see the [pandas intro tutorial 10](https://pandas.pydata.org/docs/getting_started/intro_tutorials/10_text_data.html).\n",
        "\n",
        "Use these functions to select all entries whose list of brands contains \"Casino\" (this operation is case-sensitive, so mind the initial capital letter!), and store the result in a variable named `df_casino`."
      ]
    },
    {
      "cell_type": "code",
      "execution_count": null,
      "metadata": {
        "id": "9AS9mwkFH7na"
      },
      "outputs": [],
      "source": []
    },
    {
      "cell_type": "markdown",
      "metadata": {
        "id": "VF4EgptKH7nb"
      },
      "source": [
        "You should get 5495 products whose brands contains \"Casino\"."
      ]
    },
    {
      "cell_type": "markdown",
      "metadata": {
        "id": "ewaRmz2zH7nb"
      },
      "source": [
        "## Wrapping it all together\n",
        "\n",
        "Select all the products that are in the category for spreads and store this subset in a variable `df_spreads`."
      ]
    },
    {
      "cell_type": "markdown",
      "metadata": {
        "id": "DxrgUKm_H7nb"
      },
      "source": [
        "> **HINT** If you can't find the right pattern to look for, take a peak at the spelling of the categories: Print the content of the column and browse through the values until you find a suitable value."
      ]
    },
    {
      "cell_type": "code",
      "execution_count": null,
      "metadata": {
        "id": "LzGtf0mMH7nb"
      },
      "outputs": [],
      "source": []
    },
    {
      "cell_type": "markdown",
      "metadata": {
        "id": "p07DF_FoH7nc"
      },
      "source": [
        "You should find 44120 spreads."
      ]
    },
    {
      "cell_type": "markdown",
      "metadata": {
        "id": "cKYm-OKSH7nc"
      },
      "source": [
        "For these spreads, compute the means of the nutritional values for :\n",
        "* fat,\n",
        "* saturated fat,\n",
        "* sugars,\n",
        "* salt."
      ]
    },
    {
      "cell_type": "code",
      "execution_count": null,
      "metadata": {
        "id": "pgLg7JitH7nc"
      },
      "outputs": [],
      "source": []
    },
    {
      "cell_type": "markdown",
      "metadata": {
        "id": "u35qsLHYH7nd"
      },
      "source": [
        "You should find mean values of approximately (rounded to the closest decimal) :\n",
        "\n",
        "* fat = 22.5 g,\n",
        "* saturated-fat = 8.0 g,\n",
        "* sugars = 26.4g,\n",
        "* salt = 0.7g.\n"
      ]
    },
    {
      "cell_type": "markdown",
      "metadata": {
        "id": "RNgqh6vSH7nd"
      },
      "source": [
        "For each of these 4 nutritional values, compute the percentage of difference between each product and the average of its category, and store the computed values as new columns to `df_spreads`, named `diff_fat`, `diff_saturatedfat`, `diff_sugars`, `diff_salt`.\n",
        "\n",
        "Remember that you can find help in the [pandas intro tutorial 05](https://pandas.pydata.org/docs/getting_started/intro_tutorials/05_add_columns.html) and [pandas tutorial 06](https://pandas.pydata.org/pandas-docs/stable/getting_started/intro_tutorials/06_calculate_statistics.html#min-tut-06-stats)."
      ]
    },
    {
      "cell_type": "code",
      "execution_count": 35,
      "metadata": {
        "id": "XnstiFTJH7ne"
      },
      "outputs": [],
      "source": []
    },
    {
      "cell_type": "code",
      "execution_count": null,
      "metadata": {
        "id": "sfoHVndoH7nf"
      },
      "outputs": [],
      "source": []
    },
    {
      "cell_type": "markdown",
      "metadata": {
        "id": "gzXl89DEH7nf"
      },
      "source": [
        "Note that these values differ from what the Open Food Facts website displays when you look at the nutritional values of a product from this category, eg. [Coconut Spread - premium Srikaya - Hey Boo - 227 g](https://world.openfoodfacts.org/product/0608938316165/coconut-spread-premium-srikaya-hey-boo)."
      ]
    },
    {
      "cell_type": "code",
      "execution_count": null,
      "metadata": {
        "id": "ocFfabxzH7nf"
      },
      "outputs": [],
      "source": [
        "# (uncomment this line and check the output)\n",
        "# df_spreads[df_spreads['code'] == '0608938316165']['diff_fat']"
      ]
    },
    {
      "cell_type": "markdown",
      "metadata": {
        "id": "Qv0SK7eAH7nf"
      },
      "source": [
        "This product contains less fat (-6.7 %) than the average spreads in our subset `df_spreads`, but more fat (+ 9 %) than the average spreads in the entire Open Food Facts dataset (as displayed on the OFF website)."
      ]
    },
    {
      "cell_type": "markdown",
      "metadata": {
        "id": "H1JqqmtJH7nf"
      },
      "source": [
        "\n",
        "This is because the Open Food Facts website uses its entire dataset, whereas we are working on a filtered subset of \"reasonably complete\" product entries prepared beforehand to keep only products with :\n",
        "\n",
        "* a non-ambiguous barcode in the EAN-8 or EAN-13 formats ;\n",
        "* a product name,\n",
        "* brands,\n",
        "* an image URL for the product ;\n",
        "* a category ;\n",
        "* basic nutritional values."
      ]
    },
    {
      "cell_type": "markdown",
      "metadata": {
        "id": "dTgK_y1fH7ng"
      },
      "source": [
        "It seems that, in this \"resonably complete\" subset, spreads contain more fat on average than in the whole Open Food Facts dataset.\n",
        "\n",
        "Is the entire Open Food Facts dataset closer to the reality of what is on the shelves of supermarkets ?\n",
        "Is our subset more faithful globally ? Is it more faithful to the consumer market in certain countries, eg. France and Spain ?\n",
        "\n",
        "These questions raise the more general problem of [Selection bias](https://en.wikipedia.org/wiki/Selection_bias) that lies behind every data analysis and use of dataset for eg. artificial intelligence systems."
      ]
    },
    {
      "cell_type": "markdown",
      "metadata": {
        "id": "HPeg_2FEH7ng"
      },
      "source": [
        "## Bonus exercise : Traffic light labelling\n",
        "\n",
        "The [traffic light labelling system](https://www.nutrition.org.uk/healthyliving/helpingyoueatwell/324-labels.html?start=3) is used on the [Open Food Facts website (French)](https://fr.openfoodfacts.org/reperes-nutritionnels) to display colorful, easier to grasp information on 4 nutritional values with a color code :\n",
        "\n",
        "* fat,\n",
        "* saturated fat,\n",
        "* sugars,\n",
        "* salt."
      ]
    },
    {
      "cell_type": "markdown",
      "metadata": {
        "id": "BxkPtrh9H7ng"
      },
      "source": [
        "The OpenFoodFacts dataset does not contain these indicators, but you can recompute them from the [reference table](https://www.nutrition.org.uk/media/er5n0c3s/capture.png)."
      ]
    },
    {
      "cell_type": "markdown",
      "metadata": {
        "id": "h11rdmGSH7ng"
      },
      "source": [
        "Add 4 columns to the dataset, one for each of the 4 relevant nutritional values, that will contain the  (low, medium, high) or color (green, yellow, red) of the traffic light."
      ]
    },
    {
      "cell_type": "markdown",
      "metadata": {
        "id": "S-hwaD90H7ng"
      },
      "source": [
        "> **HINT** We can simplify the exercise and express all conditions on the values per 100g (ignoring the rightmost column of the reference table where thresholds are expressed per portion)."
      ]
    },
    {
      "cell_type": "markdown",
      "metadata": {
        "id": "cuxnNtZYH7ng"
      },
      "source": [
        "We can use [`loc`](https://pandas.pydata.org/docs/reference/api/pandas.DataFrame.loc.html?highlight=loc#pandas.DataFrame.loc), see \"Setting values\"."
      ]
    },
    {
      "cell_type": "code",
      "execution_count": 38,
      "metadata": {
        "id": "IEy0sTtsH7nh"
      },
      "outputs": [],
      "source": [
        "# (just execute this cell)\n",
        "# for fat_100g\n",
        "df[\"tl_fat\"] = \"unknown\"\n",
        "df.loc[df[\"fat_100g\"] <= 3, \"tl_fat\"] = \"green\"\n",
        "df.loc[(df[\"fat_100g\"] > 3) & (df[\"fat_100g\"] <= 17.5), \"tl_fat\"] = \"amber\"\n",
        "df.loc[(df[\"fat_100g\"] > 17.5), \"tl_fat\"] = \"red\""
      ]
    },
    {
      "cell_type": "markdown",
      "metadata": {
        "id": "j0QUbRyeH7nh"
      },
      "source": [
        "Let us check that the traffic lights for fat are as wanted."
      ]
    },
    {
      "cell_type": "code",
      "execution_count": null,
      "metadata": {
        "id": "TRiaKQk9H7nh"
      },
      "outputs": [],
      "source": [
        "# (just execute this cell)\n",
        "df[[\"fat_100g\", \"tl_fat\"]].head(10)"
      ]
    },
    {
      "cell_type": "markdown",
      "metadata": {
        "id": "0LnxMyFIH7nh"
      },
      "source": [
        "Now we can define the traffic lights for the 3 remaining nutritional values, in columns `\"tl_sat\"`, `\"tl_sugars\"`, `\"tl_salt\"`."
      ]
    },
    {
      "cell_type": "code",
      "execution_count": 40,
      "metadata": {
        "id": "CDRFGxoDH7nh"
      },
      "outputs": [],
      "source": []
    },
    {
      "cell_type": "markdown",
      "metadata": {
        "id": "c0MogRGvH7nh"
      },
      "source": [
        "We can display the traffic lights for the first 10 products, and compare with what the Open Food Facts website displays.\n",
        "\n",
        ">**HINT** We can retrieve URLs from the column `url`."
      ]
    },
    {
      "cell_type": "code",
      "execution_count": null,
      "metadata": {
        "id": "TzwG9ZHgH7nh"
      },
      "outputs": [],
      "source": []
    },
    {
      "cell_type": "markdown",
      "metadata": {
        "id": "4_nikGIPH7nh"
      },
      "source": [
        "Open the webpages for a few products.\n",
        "\n",
        "**Question.** Do your results match what is displayed on the page? If there are differences, are they systematic?"
      ]
    },
    {
      "cell_type": "markdown",
      "metadata": {
        "id": "uGvZAhyBH7ni"
      },
      "source": [
        "## To go further\n",
        "\n",
        "### Python for data science\n",
        "\n",
        "* [Programming in Python for Data Science](https://prog-learn.mds.ubc.ca/en/)\n",
        "* [Python Data Science Handbook](https://jakevdp.github.io/PythonDataScienceHandbook/)"
      ]
    }
  ],
  "metadata": {
    "kernelspec": {
      "display_name": "scpo-bootcamp",
      "language": "python",
      "name": "python3"
    },
    "language_info": {
      "codemirror_mode": {
        "name": "ipython",
        "version": 3
      },
      "file_extension": ".py",
      "mimetype": "text/x-python",
      "name": "python",
      "nbconvert_exporter": "python",
      "pygments_lexer": "ipython3",
      "version": "3.10.12"
    },
    "colab": {
      "provenance": [],
      "include_colab_link": true
    }
  },
  "nbformat": 4,
  "nbformat_minor": 0
}